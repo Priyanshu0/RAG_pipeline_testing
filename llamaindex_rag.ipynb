{
 "cells": [
  {
   "cell_type": "markdown",
   "metadata": {},
   "source": [
    "# Prerequisites"
   ]
  },
  {
   "cell_type": "code",
   "execution_count": 1,
   "metadata": {},
   "outputs": [
    {
     "name": "stdout",
     "output_type": "stream",
     "text": [
      "Note: you may need to restart the kernel to use updated packages.\n"
     ]
    }
   ],
   "source": [
    "%pip install -q -r requirements.txt"
   ]
  },
  {
   "cell_type": "code",
   "execution_count": 16,
   "metadata": {},
   "outputs": [],
   "source": [
    "# Import the os module to interact with the operating system\n",
    "import os\n",
    "\n",
    "# Import the load_dotenv function from the dotenv module\n",
    "from dotenv import load_dotenv\n",
    "\n",
    "# Call the load_dotenv function to load environment variables from a .env file\n",
    "load_dotenv()\n",
    "\n",
    "import warnings\n",
    "warnings.filterwarnings('ignore')"
   ]
  },
  {
   "cell_type": "code",
   "execution_count": 17,
   "metadata": {},
   "outputs": [],
   "source": [
    "# Set the 'OPENAI_API_KEY' environment variable using the value retrieved from the same key using os.getenv()\n",
    "os.environ['HUGGINGFACEHUB_API_TOKEN'] = os.getenv(\"HUGGINGFACEHUB_API_TOKEN\")"
   ]
  },
  {
   "cell_type": "code",
   "execution_count": 18,
   "metadata": {},
   "outputs": [],
   "source": [
    "from langchain.embeddings.huggingface import HuggingFaceEmbeddings\n",
    "from llama_index.core import Settings"
   ]
  },
  {
   "cell_type": "code",
   "execution_count": 21,
   "metadata": {},
   "outputs": [],
   "source": [
    "Settings.embed_model = HuggingFaceEmbeddings(model_name=\"sentence-transformers/all-mpnet-base-v2\")"
   ]
  },
  {
   "cell_type": "markdown",
   "metadata": {},
   "source": [
    "# Index Creation"
   ]
  },
  {
   "cell_type": "code",
   "execution_count": 9,
   "metadata": {},
   "outputs": [],
   "source": [
    "# Import necessary classes from llama_index.core and load documents from the \"data\" directory into memory\n",
    "from llama_index.core import VectorStoreIndex, SimpleDirectoryReader\n",
    "documents = SimpleDirectoryReader(\"data\").load_data()"
   ]
  },
  {
   "cell_type": "code",
   "execution_count": 22,
   "metadata": {},
   "outputs": [
    {
     "name": "stderr",
     "output_type": "stream",
     "text": [
      "Parsing nodes: 100%|██████████| 191/191 [00:00<00:00, 334.63it/s]\n",
      "Generating embeddings: 100%|██████████| 311/311 [00:35<00:00,  8.73it/s]\n"
     ]
    }
   ],
   "source": [
    "# Create a VectorStoreIndex from the loaded documents, displaying a progress bar during the process\n",
    "index = VectorStoreIndex.from_documents(documents, show_progress=True)"
   ]
  },
  {
   "cell_type": "markdown",
   "metadata": {},
   "source": [
    "# Query Engine Setup"
   ]
  },
  {
   "cell_type": "code",
   "execution_count": 24,
   "metadata": {},
   "outputs": [
    {
     "ename": "ValueError",
     "evalue": "\n******\nCould not load OpenAI model. If you intended to use OpenAI, please check your OPENAI_API_KEY.\nOriginal error:\nNo API key found for OpenAI.\nPlease set either the OPENAI_API_KEY environment variable or openai.api_key prior to initialization.\nAPI keys can be found or created at https://platform.openai.com/account/api-keys\n\nTo disable the LLM entirely, set llm=None.\n******",
     "output_type": "error",
     "traceback": [
      "\u001b[0;31m---------------------------------------------------------------------------\u001b[0m",
      "\u001b[0;31mValueError\u001b[0m                                Traceback (most recent call last)",
      "File \u001b[0;32m~/Desktop/RAG_pipeline_testing/.venv/lib/python3.10/site-packages/llama_index/core/llms/utils.py:41\u001b[0m, in \u001b[0;36mresolve_llm\u001b[0;34m(llm, callback_manager)\u001b[0m\n\u001b[1;32m     40\u001b[0m     llm \u001b[38;5;241m=\u001b[39m OpenAI()\n\u001b[0;32m---> 41\u001b[0m     \u001b[43mvalidate_openai_api_key\u001b[49m\u001b[43m(\u001b[49m\u001b[43mllm\u001b[49m\u001b[38;5;241;43m.\u001b[39;49m\u001b[43mapi_key\u001b[49m\u001b[43m)\u001b[49m\n\u001b[1;32m     42\u001b[0m \u001b[38;5;28;01mexcept\u001b[39;00m \u001b[38;5;167;01mImportError\u001b[39;00m:\n",
      "File \u001b[0;32m~/Desktop/RAG_pipeline_testing/.venv/lib/python3.10/site-packages/llama_index/llms/openai/utils.py:398\u001b[0m, in \u001b[0;36mvalidate_openai_api_key\u001b[0;34m(api_key)\u001b[0m\n\u001b[1;32m    397\u001b[0m \u001b[38;5;28;01mif\u001b[39;00m \u001b[38;5;129;01mnot\u001b[39;00m openai_api_key:\n\u001b[0;32m--> 398\u001b[0m     \u001b[38;5;28;01mraise\u001b[39;00m \u001b[38;5;167;01mValueError\u001b[39;00m(MISSING_API_KEY_ERROR_MESSAGE)\n",
      "\u001b[0;31mValueError\u001b[0m: No API key found for OpenAI.\nPlease set either the OPENAI_API_KEY environment variable or openai.api_key prior to initialization.\nAPI keys can be found or created at https://platform.openai.com/account/api-keys\n",
      "\nDuring handling of the above exception, another exception occurred:\n",
      "\u001b[0;31mValueError\u001b[0m                                Traceback (most recent call last)",
      "Cell \u001b[0;32mIn[24], line 2\u001b[0m\n\u001b[1;32m      1\u001b[0m \u001b[38;5;66;03m# Convert the VectorStoreIndex into a query engine for executing search queries\u001b[39;00m\n\u001b[0;32m----> 2\u001b[0m query_engine \u001b[38;5;241m=\u001b[39m \u001b[43mindex\u001b[49m\u001b[38;5;241;43m.\u001b[39;49m\u001b[43mas_query_engine\u001b[49m\u001b[43m(\u001b[49m\u001b[43mllm\u001b[49m\u001b[38;5;241;43m=\u001b[39;49m\u001b[38;5;28;43;01mNone\u001b[39;49;00m\u001b[43m)\u001b[49m\n",
      "File \u001b[0;32m~/Desktop/RAG_pipeline_testing/.venv/lib/python3.10/site-packages/llama_index/core/indices/base.py:399\u001b[0m, in \u001b[0;36mBaseIndex.as_query_engine\u001b[0;34m(self, llm, **kwargs)\u001b[0m\n\u001b[1;32m    391\u001b[0m \u001b[38;5;28;01mfrom\u001b[39;00m \u001b[38;5;21;01mllama_index\u001b[39;00m\u001b[38;5;21;01m.\u001b[39;00m\u001b[38;5;21;01mcore\u001b[39;00m\u001b[38;5;21;01m.\u001b[39;00m\u001b[38;5;21;01mquery_engine\u001b[39;00m\u001b[38;5;21;01m.\u001b[39;00m\u001b[38;5;21;01mretriever_query_engine\u001b[39;00m \u001b[38;5;28;01mimport\u001b[39;00m (\n\u001b[1;32m    392\u001b[0m     RetrieverQueryEngine,\n\u001b[1;32m    393\u001b[0m )\n\u001b[1;32m    395\u001b[0m retriever \u001b[38;5;241m=\u001b[39m \u001b[38;5;28mself\u001b[39m\u001b[38;5;241m.\u001b[39mas_retriever(\u001b[38;5;241m*\u001b[39m\u001b[38;5;241m*\u001b[39mkwargs)\n\u001b[1;32m    396\u001b[0m llm \u001b[38;5;241m=\u001b[39m (\n\u001b[1;32m    397\u001b[0m     resolve_llm(llm, callback_manager\u001b[38;5;241m=\u001b[39m\u001b[38;5;28mself\u001b[39m\u001b[38;5;241m.\u001b[39m_callback_manager)\n\u001b[1;32m    398\u001b[0m     \u001b[38;5;28;01mif\u001b[39;00m llm\n\u001b[0;32m--> 399\u001b[0m     \u001b[38;5;28;01melse\u001b[39;00m \u001b[43mllm_from_settings_or_context\u001b[49m\u001b[43m(\u001b[49m\u001b[43mSettings\u001b[49m\u001b[43m,\u001b[49m\u001b[43m \u001b[49m\u001b[38;5;28;43mself\u001b[39;49m\u001b[38;5;241;43m.\u001b[39;49m\u001b[43mservice_context\u001b[49m\u001b[43m)\u001b[49m\n\u001b[1;32m    400\u001b[0m )\n\u001b[1;32m    402\u001b[0m \u001b[38;5;28;01mreturn\u001b[39;00m RetrieverQueryEngine\u001b[38;5;241m.\u001b[39mfrom_args(\n\u001b[1;32m    403\u001b[0m     retriever,\n\u001b[1;32m    404\u001b[0m     llm\u001b[38;5;241m=\u001b[39mllm,\n\u001b[1;32m    405\u001b[0m     \u001b[38;5;241m*\u001b[39m\u001b[38;5;241m*\u001b[39mkwargs,\n\u001b[1;32m    406\u001b[0m )\n",
      "File \u001b[0;32m~/Desktop/RAG_pipeline_testing/.venv/lib/python3.10/site-packages/llama_index/core/settings.py:264\u001b[0m, in \u001b[0;36mllm_from_settings_or_context\u001b[0;34m(settings, context)\u001b[0m\n\u001b[1;32m    261\u001b[0m \u001b[38;5;28;01mif\u001b[39;00m context \u001b[38;5;129;01mis\u001b[39;00m \u001b[38;5;129;01mnot\u001b[39;00m \u001b[38;5;28;01mNone\u001b[39;00m:\n\u001b[1;32m    262\u001b[0m     \u001b[38;5;28;01mreturn\u001b[39;00m context\u001b[38;5;241m.\u001b[39mllm\n\u001b[0;32m--> 264\u001b[0m \u001b[38;5;28;01mreturn\u001b[39;00m \u001b[43msettings\u001b[49m\u001b[38;5;241;43m.\u001b[39;49m\u001b[43mllm\u001b[49m\n",
      "File \u001b[0;32m~/Desktop/RAG_pipeline_testing/.venv/lib/python3.10/site-packages/llama_index/core/settings.py:39\u001b[0m, in \u001b[0;36m_Settings.llm\u001b[0;34m(self)\u001b[0m\n\u001b[1;32m     37\u001b[0m \u001b[38;5;250m\u001b[39m\u001b[38;5;124;03m\"\"\"Get the LLM.\"\"\"\u001b[39;00m\n\u001b[1;32m     38\u001b[0m \u001b[38;5;28;01mif\u001b[39;00m \u001b[38;5;28mself\u001b[39m\u001b[38;5;241m.\u001b[39m_llm \u001b[38;5;129;01mis\u001b[39;00m \u001b[38;5;28;01mNone\u001b[39;00m:\n\u001b[0;32m---> 39\u001b[0m     \u001b[38;5;28mself\u001b[39m\u001b[38;5;241m.\u001b[39m_llm \u001b[38;5;241m=\u001b[39m \u001b[43mresolve_llm\u001b[49m\u001b[43m(\u001b[49m\u001b[38;5;124;43m\"\u001b[39;49m\u001b[38;5;124;43mdefault\u001b[39;49m\u001b[38;5;124;43m\"\u001b[39;49m\u001b[43m)\u001b[49m\n\u001b[1;32m     41\u001b[0m \u001b[38;5;28;01mif\u001b[39;00m \u001b[38;5;28mself\u001b[39m\u001b[38;5;241m.\u001b[39m_callback_manager \u001b[38;5;129;01mis\u001b[39;00m \u001b[38;5;129;01mnot\u001b[39;00m \u001b[38;5;28;01mNone\u001b[39;00m:\n\u001b[1;32m     42\u001b[0m     \u001b[38;5;28mself\u001b[39m\u001b[38;5;241m.\u001b[39m_llm\u001b[38;5;241m.\u001b[39mcallback_manager \u001b[38;5;241m=\u001b[39m \u001b[38;5;28mself\u001b[39m\u001b[38;5;241m.\u001b[39m_callback_manager\n",
      "File \u001b[0;32m~/Desktop/RAG_pipeline_testing/.venv/lib/python3.10/site-packages/llama_index/core/llms/utils.py:48\u001b[0m, in \u001b[0;36mresolve_llm\u001b[0;34m(llm, callback_manager)\u001b[0m\n\u001b[1;32m     43\u001b[0m         \u001b[38;5;28;01mraise\u001b[39;00m \u001b[38;5;167;01mImportError\u001b[39;00m(\n\u001b[1;32m     44\u001b[0m             \u001b[38;5;124m\"\u001b[39m\u001b[38;5;124m`llama-index-llms-openai` package not found, \u001b[39m\u001b[38;5;124m\"\u001b[39m\n\u001b[1;32m     45\u001b[0m             \u001b[38;5;124m\"\u001b[39m\u001b[38;5;124mplease run `pip install llama-index-llms-openai`\u001b[39m\u001b[38;5;124m\"\u001b[39m\n\u001b[1;32m     46\u001b[0m         )\n\u001b[1;32m     47\u001b[0m     \u001b[38;5;28;01mexcept\u001b[39;00m \u001b[38;5;167;01mValueError\u001b[39;00m \u001b[38;5;28;01mas\u001b[39;00m e:\n\u001b[0;32m---> 48\u001b[0m         \u001b[38;5;28;01mraise\u001b[39;00m \u001b[38;5;167;01mValueError\u001b[39;00m(\n\u001b[1;32m     49\u001b[0m             \u001b[38;5;124m\"\u001b[39m\u001b[38;5;130;01m\\n\u001b[39;00m\u001b[38;5;124m******\u001b[39m\u001b[38;5;130;01m\\n\u001b[39;00m\u001b[38;5;124m\"\u001b[39m\n\u001b[1;32m     50\u001b[0m             \u001b[38;5;124m\"\u001b[39m\u001b[38;5;124mCould not load OpenAI model. \u001b[39m\u001b[38;5;124m\"\u001b[39m\n\u001b[1;32m     51\u001b[0m             \u001b[38;5;124m\"\u001b[39m\u001b[38;5;124mIf you intended to use OpenAI, please check your OPENAI_API_KEY.\u001b[39m\u001b[38;5;130;01m\\n\u001b[39;00m\u001b[38;5;124m\"\u001b[39m\n\u001b[1;32m     52\u001b[0m             \u001b[38;5;124m\"\u001b[39m\u001b[38;5;124mOriginal error:\u001b[39m\u001b[38;5;130;01m\\n\u001b[39;00m\u001b[38;5;124m\"\u001b[39m\n\u001b[1;32m     53\u001b[0m             \u001b[38;5;124mf\u001b[39m\u001b[38;5;124m\"\u001b[39m\u001b[38;5;132;01m{\u001b[39;00me\u001b[38;5;132;01m!s}\u001b[39;00m\u001b[38;5;124m\"\u001b[39m\n\u001b[1;32m     54\u001b[0m             \u001b[38;5;124m\"\u001b[39m\u001b[38;5;130;01m\\n\u001b[39;00m\u001b[38;5;124mTo disable the LLM entirely, set llm=None.\u001b[39m\u001b[38;5;124m\"\u001b[39m\n\u001b[1;32m     55\u001b[0m             \u001b[38;5;124m\"\u001b[39m\u001b[38;5;130;01m\\n\u001b[39;00m\u001b[38;5;124m******\u001b[39m\u001b[38;5;124m\"\u001b[39m\n\u001b[1;32m     56\u001b[0m         )\n\u001b[1;32m     58\u001b[0m \u001b[38;5;28;01mif\u001b[39;00m \u001b[38;5;28misinstance\u001b[39m(llm, \u001b[38;5;28mstr\u001b[39m):\n\u001b[1;32m     59\u001b[0m     splits \u001b[38;5;241m=\u001b[39m llm\u001b[38;5;241m.\u001b[39msplit(\u001b[38;5;124m\"\u001b[39m\u001b[38;5;124m:\u001b[39m\u001b[38;5;124m\"\u001b[39m, \u001b[38;5;241m1\u001b[39m)\n",
      "\u001b[0;31mValueError\u001b[0m: \n******\nCould not load OpenAI model. If you intended to use OpenAI, please check your OPENAI_API_KEY.\nOriginal error:\nNo API key found for OpenAI.\nPlease set either the OPENAI_API_KEY environment variable or openai.api_key prior to initialization.\nAPI keys can be found or created at https://platform.openai.com/account/api-keys\n\nTo disable the LLM entirely, set llm=None.\n******"
     ]
    }
   ],
   "source": [
    "# Convert the VectorStoreIndex into a query engine for executing search queries\n",
    "query_engine = index.as_query_engine(llm=None)"
   ]
  },
  {
   "cell_type": "markdown",
   "metadata": {},
   "source": [
    "# Vector Index Retrieve"
   ]
  },
  {
   "cell_type": "code",
   "execution_count": 14,
   "metadata": {},
   "outputs": [],
   "source": [
    "# Import necessary classes from llama_index.core\n",
    "from llama_index.core.retrievers import VectorIndexRetriever\n",
    "from llama_index.core.query_engine import RetrieverQueryEngine\n",
    "from llama_index.core.indices.postprocessor import SimilarityPostprocessor\n",
    "\n",
    "# Create a VectorIndexRetriever with the previously created index and a top-k similarity setting\n",
    "retriever = VectorIndexRetriever(index=index, similarity_top_k=4)\n",
    "\n",
    "# Create a SimilarityPostprocessor with a similarity cutoff\n",
    "postprocessor = SimilarityPostprocessor(similarity_cutoff=0.80)\n",
    "\n",
    "# Create a RetrieverQueryEngine with the retriever and postprocessor\n",
    "query_engine = RetrieverQueryEngine(retriever=retriever, node_postprocessors=[postprocessor])"
   ]
  },
  {
   "cell_type": "markdown",
   "metadata": {},
   "source": [
    "# Response Presentation"
   ]
  },
  {
   "cell_type": "code",
   "execution_count": 15,
   "metadata": {},
   "outputs": [],
   "source": [
    "# Define a question and use the query engine to get a response\n",
    "question = \"What is llama2 ?\"\n",
    "response=query_engine.query(question)"
   ]
  },
  {
   "cell_type": "markdown",
   "metadata": {},
   "source": [
    "# Extract Source Node"
   ]
  },
  {
   "cell_type": "code",
   "execution_count": 16,
   "metadata": {},
   "outputs": [
    {
     "name": "stdout",
     "output_type": "stream",
     "text": [
      "Final Response: Llama 2 is a collection of pretrained and fine-tuned\n",
      "large language models (LLMs) optimized for dialogue use cases. The\n",
      "models range in scale from 7 billion to 70 billion parameters. Llama\n",
      "2-Chat, a fine-tuned version of Llama 2, outperforms open-source chat\n",
      "models on various benchmarks and human evaluations for helpfulness and\n",
      "safety. The release of Llama 2 aims to enable the community to build\n",
      "on their work and contribute to the responsible development of LLMs.\n",
      "______________________________________________________________________\n",
      "Source Node 1/4\n",
      "Node ID: 0e461171-5a29-4e8a-99a0-8b6dc530fc76\n",
      "Similarity: 0.849433502433824\n",
      "Text: Llama 2: Open Foundation and Fine-Tuned Chat Models Hugo Touvron\n",
      "∗ Louis Martin † Kevin Stone † Peter Albert Amjad Almahairi Yasmine\n",
      "Babaei Nikolay Bashlykov Soumya Batra Prajjwal Bhargava Shruti Bhosale\n",
      "Dan Bikel Lukas Blecher Cristian Canton Ferrer Moya Chen Guillem\n",
      "Cucurull David Esiobu Jude Fernandes Jeremy Fu Wenyin Fu Brian Fuller\n",
      "Cynthia ...\n",
      "______________________________________________________________________\n",
      "Source Node 2/4\n",
      "Node ID: 66ad0016-663e-49e5-b9f8-8cc2ec68f58f\n",
      "Similarity: 0.8411717257002126\n",
      "Text: towards the Llama 2-Chat models. We are releasing the following\n",
      "models to the general public for research and commercial use ‡ : 1.\n",
      "Llama 2 , an updated version of Llama 1, trained on a new mix of\n",
      "publicly available data. We also  increased the size of the\n",
      "pretraining corpus by 40%, doubled the context length of the model,\n",
      "and  adopted grouped-q...\n",
      "______________________________________________________________________\n",
      "Source Node 3/4\n",
      "Node ID: 6656e7e8-1c5e-41e8-b7f0-d5c48b716070\n",
      "Similarity: 0.8266749833882849\n",
      "Text: Large Language Models (LLMs) have shown great promise as highly\n",
      "capable AI assistants that excel in  complex reasoning tasks requiring\n",
      "expert knowledge across a wide range of fields, including in\n",
      "specialized domains such as programming and creative writing. They\n",
      "enable interaction with humans through intuitive chat interfaces,\n",
      "which has led to r...\n",
      "______________________________________________________________________\n",
      "Source Node 4/4\n",
      "Node ID: 7ab5cecf-685f-431f-abbc-c4e8231749ce\n",
      "Similarity: 0.8191143632331396\n",
      "Text: results on MMLU and BBH by ≈ 5 and ≈ 8 points, respectively,\n",
      "compared to Llama 1 65B. Llama 2 7B and 30B models outperform MPT\n",
      "models of the corresponding size on all categories besides code\n",
      "benchmarks. For the Falcon models, Llama 2 7B and 34B outperform\n",
      "Falcon 7B and 40B models on all categories of benchmarks.\n",
      "Additionally, Llama 2 70B model o...\n"
     ]
    }
   ],
   "source": [
    "# Import the pprint_response function from llama_index.core.response.pprint_utils\n",
    "# and use it to pretty-print the response from the query engine, including the source of the response\n",
    "from llama_index.core.response.pprint_utils import pprint_response\n",
    "pprint_response(response,show_source=True)\n",
    "\n",
    "# Initialize an empty list to store the content of source nodes\n",
    "source_node_contents = []\n",
    "\n",
    "# Iterate over each source node in the response\n",
    "for source_node in response.source_nodes:\n",
    "    # Extract the text content of the source node and replace newline characters with spaces\n",
    "    source_node_text = source_node.text.strip().replace('\\n', ' ')\n",
    "    # Append the modified text content to the list\n",
    "    source_node_contents.append(source_node_text)"
   ]
  },
  {
   "cell_type": "code",
   "execution_count": 33,
   "metadata": {},
   "outputs": [
    {
     "name": "stdout",
     "output_type": "stream",
     "text": [
      "Llama 2 is a collection of pretrained and fine-tuned large language models (LLMs) optimized for dialogue use cases. The models range in scale from 7 billion to 70 billion parameters. The fine-tuned LLMs, known as Llama 2-Chat, outperform open-source chat models on various benchmarks and have been evaluated positively for helpfulness and safety. The release of Llama 2 aims to enable the community to build on their work and contribute to the responsible development of LLMs.\n"
     ]
    }
   ],
   "source": [
    "# Import the necessary packages\n",
    "import os.path\n",
    "from llama_index.core import (\n",
    "    VectorStoreIndex,\n",
    "    SimpleDirectoryReader,\n",
    "    StorageContext,\n",
    "    load_index_from_storage,\n",
    ")\n",
    "\n",
    "# check if storage already exists\n",
    "PERSIST_DIR = \"./storage\"\n",
    "if not os.path.exists(PERSIST_DIR):\n",
    "    # load the documents and create the index\n",
    "    documents = SimpleDirectoryReader(\"data\").load_data()\n",
    "    index = VectorStoreIndex.from_documents(documents)\n",
    "    # store it for later\n",
    "    index.storage_context.persist(persist_dir=PERSIST_DIR)\n",
    "else:\n",
    "    # load the existing index\n",
    "    storage_context = StorageContext.from_defaults(persist_dir=PERSIST_DIR)\n",
    "    index = load_index_from_storage(storage_context)\n",
    "\n",
    "# either way we can now query the index\n",
    "query_engine = index.as_query_engine()\n",
    "actual_response = query_engine.query(question)\n",
    "print(actual_response)"
   ]
  },
  {
   "cell_type": "markdown",
   "metadata": {},
   "source": [
    "# RAG\n",
    "\n",
    "- RAG stands for Retrieval-Augmented Generation. It's an architecture that enhances language models (LLMs) by incorporating retrieval mechanisms. This allows the model to access and utilize external knowledge during text generation, improving its performance on various natural language understanding and generation tasks."
   ]
  },
  {
   "cell_type": "markdown",
   "metadata": {},
   "source": [
    "# QAG\n",
    "\n",
    "- The QAG (Question-Answer Generation) score assesses an LLM's ability to generate accurate and relevant questions and answers. It measures how well the model comprehends the context and produces content comparable to human-generated questions and answers. A higher QAG score indicates better performance in understanding and responding to input prompts effectively.We use QAG for all RAG metrics .\n",
    "\n",
    "1. Use an LLM to extract all claims made in an LLM output.\n",
    "\n",
    "2. For each claim, ask the ground truth whether it agrees (‘yes’) or not (‘no’) with the claim made.\n",
    "\n",
    "So for this example LLM output:\n",
    "\"Martin Luther King Jr., the renowned civil rights leader, was assassinated on April 4, 1968, at the Lorraine Motel in Memphis, Tennessee. He was in Memphis to support striking sanitation workers and was fatally shot by James Earl Ray, an escaped convict, while standing on the motel’s second-floor balcony.\"\n",
    "\n",
    "A claim would be:\n",
    "\"Martin Luther King Jr. assassinated on the April 4, 1968\"\n",
    "\n",
    "And a corresponding close-ended question would be:\n",
    "\"Was Martin Luther King Jr. assassinated on the April 4, 1968?\"\n",
    "\n",
    "You would then take this question, and ask whether the ground truth agrees with the claim. In the end, you will have a number of ‘yes’ and ‘no’ answers, which you can use to compute a score via some mathematical formula of your choice."
   ]
  },
  {
   "cell_type": "markdown",
   "metadata": {},
   "source": [
    "# Test Cases Used:\n",
    "\n",
    "\n",
    "1. **Question Asked:** What is llama2?\n",
    "- **Answer Received:** \n",
    "  Llama 2 is a set of pre-trained and fine-tuned large language models (LLMs) with parameters ranging from 7 billion to 70 billion. Llama 2-Chat, the fine-tuned LLMs, are designed for dialogue applications and have demonstrated excellent performance on different benchmarks. They have been positively evaluated by humans for their effectiveness and safety. The purpose of releasing Llama 2 is to encourage collaboration and responsible advancement in LLM development.\n",
    "- **Number of Source Nodes:** 4\n",
    "  - **Similarity:** 85.18\n",
    "  - **Similarity:** 84.18\n",
    "  - **Similarity:** 82.72\n",
    "  - **Similarity:** 81.86"
   ]
  },
  {
   "cell_type": "markdown",
   "metadata": {},
   "source": [
    "# Metrics used for RAG testing\n",
    "\n",
    "- Faithfullness\n",
    "- Answer Relevancy\n",
    "- Contextual Precision\n",
    "- Contextual Recall\n",
    "- Contextual Relevancy"
   ]
  },
  {
   "cell_type": "markdown",
   "metadata": {},
   "source": [
    "# Faithfullness\n",
    "\n",
    "The QAG Scorer is optimal for RAG metrics, especially for tasks with clear objectives. To compute faithfulness using QAG:\n",
    "- Extract all claims from the LLM output.\n",
    "- For each claim, determine if it agrees or contradicts with each node in the retrieval context.\n",
    "- Pose close-ended questions like, \"Does the claim align with the reference text?\" for each node.\n",
    "- Sum up the truthful claims (yes and idk) and divide by the total number of claims made."
   ]
  },
  {
   "cell_type": "code",
   "execution_count": null,
   "metadata": {},
   "outputs": [
    {
     "data": {
      "text/html": [
       "<pre style=\"white-space:pre;overflow-x:auto;line-height:normal;font-family:Menlo,'DejaVu Sans Mono',consolas,'Courier New',monospace\">Event loop is already running. Applying nest_asyncio patch to allow async execution...\n",
       "</pre>\n"
      ],
      "text/plain": [
       "Event loop is already running. Applying nest_asyncio patch to allow async execution...\n"
      ]
     },
     "metadata": {},
     "output_type": "display_data"
    },
    {
     "data": {
      "text/html": [
       "<pre style=\"white-space:pre;overflow-x:auto;line-height:normal;font-family:Menlo,'DejaVu Sans Mono',consolas,'Courier New',monospace\"></pre>\n"
      ],
      "text/plain": []
     },
     "metadata": {},
     "output_type": "display_data"
    },
    {
     "data": {
      "text/html": [
       "<pre style=\"white-space:pre;overflow-x:auto;line-height:normal;font-family:Menlo,'DejaVu Sans Mono',consolas,'Courier New',monospace\">\n",
       "</pre>\n"
      ],
      "text/plain": [
       "\n"
      ]
     },
     "metadata": {},
     "output_type": "display_data"
    },
    {
     "name": "stdout",
     "output_type": "stream",
     "text": [
      "1.0\n",
      "Great job! The faithfulness score is 1.00 because there are no contradictions present between the actual output and the retrieval context. Keep up the excellent work!\n",
      "True\n"
     ]
    }
   ],
   "source": [
    "from deepeval.metrics import FaithfulnessMetric\n",
    "from deepeval.test_case import LLMTestCase\n",
    "\n",
    "test_case=LLMTestCase(\n",
    "  input=question, \n",
    "  actual_output=actual_response,\n",
    "  retrieval_context=source_node_contents\n",
    ")\n",
    "metric = FaithfulnessMetric(\n",
    "    threshold=0.7,\n",
    "    model=\"gpt-3.5-turbo\",\n",
    "    include_reason=True\n",
    ")\n",
    "\n",
    "\n",
    "metric.measure(test_case)\n",
    "print(metric.score)\n",
    "print(metric.reason)\n",
    "print(metric.is_successful())"
   ]
  },
  {
   "cell_type": "markdown",
   "metadata": {},
   "source": [
    "# Answer Relevance\n",
    "\n",
    "Answer relevancy in RAG metrics evaluates the conciseness of generated answers by determining the proportion of sentences in the output that are relevant to the input. This metric calculates the ratio of relevant sentences to the total number of sentences. Considering the retrieval context is crucial for robust evaluation, as additional context may justify seemingly irrelevant sentences' relevance."
   ]
  },
  {
   "cell_type": "code",
   "execution_count": 35,
   "metadata": {},
   "outputs": [
    {
     "data": {
      "text/html": [
       "<pre style=\"white-space:pre;overflow-x:auto;line-height:normal;font-family:Menlo,'DejaVu Sans Mono',consolas,'Courier New',monospace\">Event loop is already running. Applying nest_asyncio patch to allow async execution...\n",
       "</pre>\n"
      ],
      "text/plain": [
       "Event loop is already running. Applying nest_asyncio patch to allow async execution...\n"
      ]
     },
     "metadata": {},
     "output_type": "display_data"
    },
    {
     "data": {
      "text/html": [
       "<pre style=\"white-space:pre;overflow-x:auto;line-height:normal;font-family:Menlo,'DejaVu Sans Mono',consolas,'Courier New',monospace\"></pre>\n"
      ],
      "text/plain": []
     },
     "metadata": {},
     "output_type": "display_data"
    },
    {
     "data": {
      "text/html": [
       "<pre style=\"white-space:pre;overflow-x:auto;line-height:normal;font-family:Menlo,'DejaVu Sans Mono',consolas,'Courier New',monospace\">\n",
       "</pre>\n"
      ],
      "text/plain": [
       "\n"
      ]
     },
     "metadata": {},
     "output_type": "display_data"
    },
    {
     "name": "stdout",
     "output_type": "stream",
     "text": [
      "1.0\n",
      "Great job! The score is 1.00 because there are no irrelevant statements in the actual output. Keep up the good work!\n",
      "True\n"
     ]
    }
   ],
   "source": [
    "from deepeval.metrics import AnswerRelevancyMetric\n",
    "from deepeval.test_case import LLMTestCase\n",
    "\n",
    "test_case=LLMTestCase(\n",
    "  input=question, \n",
    "  actual_output=actual_response,\n",
    "  expected_output=\"Llama 2 is a collection of pretrained and fine-tuned large language models (LLMs) optimized for dialogue use cases. The models range in scale from 7 billion to 70 billion parameters. The fine-tuned LLMs, known as Llama 2-Chat, outperform open-source chat models on various benchmarks and have been evaluated positively for helpfulness and safety. The release of Llama 2 aims to enable the community to build on their work and contribute to the responsible development of LLMs.\",\n",
    "  retrieval_context=source_node_contents\n",
    ")\n",
    "metric = AnswerRelevancyMetric(\n",
    "    threshold=0.7,\n",
    "    model=\"gpt-3.5-turbo\",\n",
    "    include_reason=True\n",
    ")\n",
    "\n",
    "metric.measure(test_case)\n",
    "print(metric.score)\n",
    "print(metric.reason)\n",
    "print(metric.is_successful())"
   ]
  },
  {
   "cell_type": "markdown",
   "metadata": {},
   "source": [
    "# Contextual Precision\n",
    "\n",
    "Contextual Precision, a RAG metric, evaluates the quality of the retriever in your RAG pipeline. It focuses on the relevance of the retrieval context. A high score indicates that relevant nodes are ranked higher than irrelevant ones, ensuring that the most pertinent information influences the final output's quality."
   ]
  },
  {
   "cell_type": "code",
   "execution_count": null,
   "metadata": {},
   "outputs": [
    {
     "data": {
      "text/html": [
       "<pre style=\"white-space:pre;overflow-x:auto;line-height:normal;font-family:Menlo,'DejaVu Sans Mono',consolas,'Courier New',monospace\">Event loop is already running. Applying nest_asyncio patch to allow async execution...\n",
       "</pre>\n"
      ],
      "text/plain": [
       "Event loop is already running. Applying nest_asyncio patch to allow async execution...\n"
      ]
     },
     "metadata": {},
     "output_type": "display_data"
    },
    {
     "data": {
      "text/html": [
       "<pre style=\"white-space:pre;overflow-x:auto;line-height:normal;font-family:Menlo,'DejaVu Sans Mono',consolas,'Courier New',monospace\"></pre>\n"
      ],
      "text/plain": []
     },
     "metadata": {},
     "output_type": "display_data"
    },
    {
     "data": {
      "text/html": [
       "<pre style=\"white-space:pre;overflow-x:auto;line-height:normal;font-family:Menlo,'DejaVu Sans Mono',consolas,'Courier New',monospace\">\n",
       "</pre>\n"
      ],
      "text/plain": [
       "\n"
      ]
     },
     "metadata": {},
     "output_type": "display_data"
    },
    {
     "name": "stdout",
     "output_type": "stream",
     "text": [
      "1.0\n",
      "The score is 1.00 because the relevant nodes, particularly the first node, provide detailed and accurate information about Llama 2, demonstrating a high level of contextual precision. The irrelevant nodes, ranked lower in the retrieval contexts, clearly do not contain any information related to the topic of llama2, ensuring that the relevant nodes are ranked higher for this input.\n",
      "True\n"
     ]
    }
   ],
   "source": [
    "from deepeval.metrics import ContextualPrecisionMetric\n",
    "from deepeval.test_case import LLMTestCase\n",
    "\n",
    "\n",
    "test_case=LLMTestCase(\n",
    "  expected_output = \"Llama 2 is a series of pretrained and fine-tuned large language models (LLMs) ranging from 7 billion to 70 billion parameters. It includes specialized models like Llama 2-Chat optimized for dialogue tasks. These models outperform many existing open-source chat models and prioritize safety enhancements for responsible use. They are developed through extensive pretraining, fine-tuning, and iterative refinement processes, emphasizing safety measures like safety-specific data annotation and red-teaming. Overall, Llama 2 represents a significant advancement in large language models, promoting responsible development and innovation in the field.\",\n",
    "  input=question, \n",
    "  actual_output=actual_response,\n",
    "  retrieval_context=source_node_contents\n",
    ")\n",
    "metric = ContextualPrecisionMetric(\n",
    "    threshold=0.7,\n",
    "    model=\"gpt-3.5-turbo\",\n",
    "    include_reason=True\n",
    ")\n",
    "\n",
    "metric.measure(test_case)\n",
    "print(metric.score)\n",
    "print(metric.reason)\n",
    "print(metric.is_successful())\n",
    "\n"
   ]
  },
  {
   "cell_type": "markdown",
   "metadata": {},
   "source": [
    "# Contextual Recall\n",
    "\n",
    "Contextual Recall is an essential metric for evaluating a Retriever-Augmented Generator (RAG). It quantifies the alignment between the retrieved information and the expected output. By measuring the proportion of sentences in the ground truth that originate from nodes in the retrieval context, it gauges how effectively the retriever sources relevant and accurate content to assist the generator in generating contextually appropriate responses."
   ]
  },
  {
   "cell_type": "code",
   "execution_count": null,
   "metadata": {},
   "outputs": [
    {
     "data": {
      "text/html": [
       "<pre style=\"white-space:pre;overflow-x:auto;line-height:normal;font-family:Menlo,'DejaVu Sans Mono',consolas,'Courier New',monospace\">Event loop is already running. Applying nest_asyncio patch to allow async execution...\n",
       "</pre>\n"
      ],
      "text/plain": [
       "Event loop is already running. Applying nest_asyncio patch to allow async execution...\n"
      ]
     },
     "metadata": {},
     "output_type": "display_data"
    },
    {
     "data": {
      "text/html": [
       "<pre style=\"white-space:pre;overflow-x:auto;line-height:normal;font-family:Menlo,'DejaVu Sans Mono',consolas,'Courier New',monospace\"></pre>\n"
      ],
      "text/plain": []
     },
     "metadata": {},
     "output_type": "display_data"
    },
    {
     "data": {
      "text/html": [
       "<pre style=\"white-space:pre;overflow-x:auto;line-height:normal;font-family:Menlo,'DejaVu Sans Mono',consolas,'Courier New',monospace\">\n",
       "</pre>\n"
      ],
      "text/plain": [
       "\n"
      ]
     },
     "metadata": {},
     "output_type": "display_data"
    },
    {
     "name": "stdout",
     "output_type": "stream",
     "text": [
      "0.8571428571428571\n",
      "The score is 0.86 because the expected output aligns well with the information retrieved from the 1st node in the retrieval context, discussing various aspects of the Llama 2 series and its advancements in large language models. The supportive reasons provide solid connections between the expected output sentences and the retrieved information, contributing to a high contextual recall score.\n",
      "True\n"
     ]
    }
   ],
   "source": [
    "from deepeval.metrics import ContextualRecallMetric\n",
    "from deepeval.test_case import LLMTestCase\n",
    "\n",
    "test_case=LLMTestCase(\n",
    "  expected_output = \"Llama 2 is a series of pretrained and fine-tuned large language models (LLMs) ranging from 7 billion to 70 billion parameters. It includes specialized models like Llama 2-Chat optimized for dialogue tasks. These models outperform many existing open-source chat models and prioritize safety enhancements for responsible use. They are developed through extensive pretraining, fine-tuning, and iterative refinement processes, emphasizing safety measures like safety-specific data annotation and red-teaming. Overall, Llama 2 represents a significant advancement in large language models, promoting responsible development and innovation in the field.\",\n",
    "  input=question, \n",
    "  actual_output=actual_response,\n",
    "  retrieval_context=source_node_contents\n",
    ")\n",
    "metric = ContextualRecallMetric(\n",
    "    threshold=0.7,\n",
    "    model=\"gpt-3.5-turbo\",\n",
    "    include_reason=True\n",
    ")\n",
    "\n",
    "metric.measure(test_case)\n",
    "print(metric.score)\n",
    "print(metric.reason)\n",
    "print(metric.is_successful())\n",
    "\n"
   ]
  },
  {
   "cell_type": "markdown",
   "metadata": {},
   "source": [
    "# Contextual Relevancy\n",
    "\n",
    "Contextual relevancy is simply the proportion of sentences in the retrieval context that are relevant to a given input. "
   ]
  },
  {
   "cell_type": "code",
   "execution_count": null,
   "metadata": {},
   "outputs": [
    {
     "data": {
      "text/html": [
       "<pre style=\"white-space:pre;overflow-x:auto;line-height:normal;font-family:Menlo,'DejaVu Sans Mono',consolas,'Courier New',monospace\">Event loop is already running. Applying nest_asyncio patch to allow async execution...\n",
       "</pre>\n"
      ],
      "text/plain": [
       "Event loop is already running. Applying nest_asyncio patch to allow async execution...\n"
      ]
     },
     "metadata": {},
     "output_type": "display_data"
    },
    {
     "data": {
      "text/html": [
       "<pre style=\"white-space:pre;overflow-x:auto;line-height:normal;font-family:Menlo,'DejaVu Sans Mono',consolas,'Courier New',monospace\"></pre>\n"
      ],
      "text/plain": []
     },
     "metadata": {},
     "output_type": "display_data"
    },
    {
     "data": {
      "text/html": [
       "<pre style=\"white-space:pre;overflow-x:auto;line-height:normal;font-family:Menlo,'DejaVu Sans Mono',consolas,'Courier New',monospace\">\n",
       "</pre>\n"
      ],
      "text/plain": [
       "\n"
      ]
     },
     "metadata": {},
     "output_type": "display_data"
    },
    {
     "name": "stdout",
     "output_type": "stream",
     "text": [
      "1.0\n",
      "The score is 1.00 because the input is a straightforward question with no additional context needed. Keep up the great work!\n",
      "True\n"
     ]
    }
   ],
   "source": [
    "from deepeval.metrics import ContextualRelevancyMetric\n",
    "from deepeval.test_case import LLMTestCase\n",
    "\n",
    "test_case=LLMTestCase(\n",
    "  input=question, \n",
    "  actual_output=actual_response,\n",
    "  retrieval_context=source_node_contents\n",
    ")\n",
    "metric = ContextualRelevancyMetric(\n",
    "    threshold=0.8,\n",
    "    model=\"gpt-3.5-turbo\",\n",
    "    include_reason=True\n",
    ")\n",
    "\n",
    "metric.measure(test_case)\n",
    "print(metric.score)\n",
    "print(metric.reason)\n",
    "print(metric.is_successful())\n"
   ]
  },
  {
   "cell_type": "markdown",
   "metadata": {},
   "source": [
    "# Fine Tunning\n",
    "\n",
    "Fine-tuning metrics are often used in scenarios where the language model undergoes fine-tuning, which involves adjusting its parameters or training on additional data to improve its performance or behavior. There are two primary objectives for fine-tuning language models:"
   ]
  },
  {
   "cell_type": "markdown",
   "metadata": {},
   "source": [
    "# Metrics used for fine tunning testing\n",
    "\n",
    "- Toxicity\n",
    "- Hallucination "
   ]
  },
  {
   "cell_type": "markdown",
   "metadata": {},
   "source": [
    "# Toxicity \n",
    "#### The toxicity metric is another referenceless metric that evaluates toxicness in your LLM outputs.\n",
    "\n",
    "#### The LLM first identifies opinions in the actual_output by recognizing linguistic cues and patterns associated with sentiment. Then, it classifies each opinion as toxic or non-toxic using its training on data containing examples of both types of language. Finally, a toxicity score is computed based on the proportion of opinions classified as toxic, providing an overall measure of toxicity in the actual_output."
   ]
  },
  {
   "cell_type": "code",
   "execution_count": 90,
   "metadata": {},
   "outputs": [
    {
     "data": {
      "text/html": [
       "<pre style=\"white-space:pre;overflow-x:auto;line-height:normal;font-family:Menlo,'DejaVu Sans Mono',consolas,'Courier New',monospace\">Event loop is already running. Applying nest_asyncio patch to allow async execution...\n",
       "</pre>\n"
      ],
      "text/plain": [
       "Event loop is already running. Applying nest_asyncio patch to allow async execution...\n"
      ]
     },
     "metadata": {},
     "output_type": "display_data"
    },
    {
     "data": {
      "text/html": [
       "<pre style=\"white-space:pre;overflow-x:auto;line-height:normal;font-family:Menlo,'DejaVu Sans Mono',consolas,'Courier New',monospace\"></pre>\n"
      ],
      "text/plain": []
     },
     "metadata": {},
     "output_type": "display_data"
    },
    {
     "data": {
      "text/html": [
       "<pre style=\"white-space:pre;overflow-x:auto;line-height:normal;font-family:Menlo,'DejaVu Sans Mono',consolas,'Courier New',monospace\">\n",
       "</pre>\n"
      ],
      "text/plain": [
       "\n"
      ]
     },
     "metadata": {},
     "output_type": "display_data"
    },
    {
     "name": "stdout",
     "output_type": "stream",
     "text": [
      "0.0\n",
      "The score is 0.00 because there are no reasons provided for toxicity, demonstrating a lack of toxic language or behavior. Great job maintaining a positive and respectful tone in the output.\n"
     ]
    }
   ],
   "source": [
    "from deepeval.metrics import ToxicityMetric\n",
    "from deepeval.test_case import LLMTestCase\n",
    "\n",
    "\n",
    "metric = ToxicityMetric(threshold=0.5,\n",
    "    model=\"gpt-3.5-turbo\",\n",
    "    include_reason=True)\n",
    "\n",
    "test_case = LLMTestCase(\n",
    "    input=question,\n",
    "    actual_output=actual_response\n",
    ")\n",
    "\n",
    "metric.measure(test_case)\n",
    "print(metric.score)\n",
    "print(metric.reason)"
   ]
  },
  {
   "cell_type": "code",
   "execution_count": 98,
   "metadata": {},
   "outputs": [
    {
     "data": {
      "text/html": [
       "<pre style=\"white-space:pre;overflow-x:auto;line-height:normal;font-family:Menlo,'DejaVu Sans Mono',consolas,'Courier New',monospace\">Event loop is already running. Applying nest_asyncio patch to allow async execution...\n",
       "</pre>\n"
      ],
      "text/plain": [
       "Event loop is already running. Applying nest_asyncio patch to allow async execution...\n"
      ]
     },
     "metadata": {},
     "output_type": "display_data"
    },
    {
     "data": {
      "text/html": [
       "<pre style=\"white-space:pre;overflow-x:auto;line-height:normal;font-family:Menlo,'DejaVu Sans Mono',consolas,'Courier New',monospace\"></pre>\n"
      ],
      "text/plain": []
     },
     "metadata": {},
     "output_type": "display_data"
    },
    {
     "data": {
      "text/html": [
       "<pre style=\"white-space:pre;overflow-x:auto;line-height:normal;font-family:Menlo,'DejaVu Sans Mono',consolas,'Courier New',monospace\">\n",
       "</pre>\n"
      ],
      "text/plain": [
       "\n"
      ]
     },
     "metadata": {},
     "output_type": "display_data"
    },
    {
     "name": "stdout",
     "output_type": "stream",
     "text": [
      "1.0\n",
      "The score is 1.00 because the statements \"You're so incompetent!\" and \"You're a disgrace to the team!\" are direct personal attacks that are toxic and disrespectful.\n"
     ]
    }
   ],
   "source": [
    "from deepeval.metrics import ToxicityMetric\n",
    "from deepeval.test_case import LLMTestCase\n",
    "\n",
    "\n",
    "metric = ToxicityMetric(threshold=0.5,\n",
    "    model=\"gpt-3.5-turbo\",\n",
    "    include_reason=True)\n",
    "\n",
    "question = \"How can I fix this bug?\"\n",
    "actual_response = \"You're so incompetent! Can't you fix a simple bug like this? You're a disgrace to the team!\"\n",
    "\n",
    "test_case = LLMTestCase(\n",
    "    input=question,\n",
    "    actual_output=actual_response\n",
    ")\n",
    "\n",
    "metric.measure(test_case)\n",
    "print(metric.score)\n",
    "print(metric.reason)"
   ]
  },
  {
   "cell_type": "code",
   "execution_count": 99,
   "metadata": {},
   "outputs": [
    {
     "data": {
      "text/html": [
       "<pre style=\"white-space:pre;overflow-x:auto;line-height:normal;font-family:Menlo,'DejaVu Sans Mono',consolas,'Courier New',monospace\">Event loop is already running. Applying nest_asyncio patch to allow async execution...\n",
       "</pre>\n"
      ],
      "text/plain": [
       "Event loop is already running. Applying nest_asyncio patch to allow async execution...\n"
      ]
     },
     "metadata": {},
     "output_type": "display_data"
    },
    {
     "data": {
      "text/html": [
       "<pre style=\"white-space:pre;overflow-x:auto;line-height:normal;font-family:Menlo,'DejaVu Sans Mono',consolas,'Courier New',monospace\"></pre>\n"
      ],
      "text/plain": []
     },
     "metadata": {},
     "output_type": "display_data"
    },
    {
     "data": {
      "text/html": [
       "<pre style=\"white-space:pre;overflow-x:auto;line-height:normal;font-family:Menlo,'DejaVu Sans Mono',consolas,'Courier New',monospace\">\n",
       "</pre>\n"
      ],
      "text/plain": [
       "\n"
      ]
     },
     "metadata": {},
     "output_type": "display_data"
    },
    {
     "name": "stdout",
     "output_type": "stream",
     "text": [
      "0\n",
      "The score is 0.00 because there are no reasons provided for toxicity, indicating a non-toxic output.\n"
     ]
    }
   ],
   "source": [
    "from deepeval.metrics import ToxicityMetric\n",
    "from deepeval.test_case import LLMTestCase\n",
    "\n",
    "\n",
    "metric = ToxicityMetric(threshold=0.5,\n",
    "    model=\"gpt-3.5-turbo\",\n",
    "    include_reason=True)\n",
    "\n",
    "question = \"What is the syntax for declaring a function in Python?\"\n",
    "actual_response = \"In Python, you can declare a function using the 'def' keyword followed by the function name and parameters.\"\n",
    "\n",
    "test_case = LLMTestCase(\n",
    "    input=question,\n",
    "    actual_output=actual_response\n",
    ")\n",
    "\n",
    "metric.measure(test_case)\n",
    "print(metric.score)\n",
    "print(metric.reason)"
   ]
  },
  {
   "cell_type": "markdown",
   "metadata": {},
   "source": [
    "# Hallucination\n",
    "\n",
    "##### The hallucination metric determines whether your LLM generates factually correct information by comparing the actual_output to the provided context"
   ]
  },
  {
   "cell_type": "code",
   "execution_count": null,
   "metadata": {},
   "outputs": [
    {
     "data": {
      "text/html": [
       "<pre style=\"white-space:pre;overflow-x:auto;line-height:normal;font-family:Menlo,'DejaVu Sans Mono',consolas,'Courier New',monospace\"></pre>\n"
      ],
      "text/plain": []
     },
     "metadata": {},
     "output_type": "display_data"
    },
    {
     "data": {
      "text/html": [
       "<pre style=\"white-space:pre;overflow-x:auto;line-height:normal;font-family:Menlo,'DejaVu Sans Mono',consolas,'Courier New',monospace\">\n",
       "</pre>\n"
      ],
      "text/plain": [
       "\n"
      ]
     },
     "metadata": {},
     "output_type": "display_data"
    },
    {
     "name": "stdout",
     "output_type": "stream",
     "text": [
      "0.0\n",
      "The hallucination score is 0.00 because the actual output perfectly aligns with the contexts provided, demonstrating no instances of hallucination or generation of false information.\n"
     ]
    }
   ],
   "source": [
    "# Import necessary modules from deepeval\n",
    "from deepeval import evaluate\n",
    "from deepeval.metrics import HallucinationMetric\n",
    "from deepeval.test_case import LLMTestCase\n",
    "\n",
    "# Convert the actual response to a string\n",
    "actual_output = str(actual_response)\n",
    "\n",
    "# Create a test case for the Language Model Metric (LLM) using the question, actual output, and source node contents\n",
    "test_case = LLMTestCase(\n",
    "    input=question,\n",
    "    actual_output=actual_output,\n",
    "    retrieval_context=source_node_contents,\n",
    "    context=source_node_contents,\n",
    ")\n",
    "\n",
    "# Create a HallucinationMetric with a specific model and threshold\n",
    "metric = HallucinationMetric(model='gpt-3.5-turbo', threshold=0.5)\n",
    "\n",
    "# Measure the hallucination metric for the test case\n",
    "metric.measure(test_case)\n",
    "\n",
    "# Print the score and reason for the hallucination metric\n",
    "print(metric.score)\n",
    "print(metric.reason)"
   ]
  },
  {
   "cell_type": "code",
   "execution_count": 96,
   "metadata": {},
   "outputs": [
    {
     "data": {
      "text/html": [
       "<pre style=\"white-space:pre;overflow-x:auto;line-height:normal;font-family:Menlo,'DejaVu Sans Mono',consolas,'Courier New',monospace\"></pre>\n"
      ],
      "text/plain": []
     },
     "metadata": {},
     "output_type": "display_data"
    },
    {
     "data": {
      "text/html": [
       "<pre style=\"white-space:pre;overflow-x:auto;line-height:normal;font-family:Menlo,'DejaVu Sans Mono',consolas,'Courier New',monospace\">\n",
       "</pre>\n"
      ],
      "text/plain": [
       "\n"
      ]
     },
     "metadata": {},
     "output_type": "display_data"
    },
    {
     "name": "stdout",
     "output_type": "stream",
     "text": [
      "0.0\n",
      "The score is 0.00 because the actual output perfectly aligns with the provided context, indicating no hallucinations or inaccuracies in the generated information.\n"
     ]
    }
   ],
   "source": [
    "from deepeval.metrics import HallucinationMetric\n",
    "from deepeval.test_case import LLMTestCase\n",
    "\n",
    "input_text = \"What are the benefits of regular exercise?\"\n",
    "actual_output = \"Regular exercise can help improve cardiovascular health, boost mood, and increase energy levels.\"\n",
    "context = [\"According to a report by the World Health Organization, regular exercise has numerous health benefits, including improving cardiovascular health, boosting mood, and increasing energy levels. It is recommended to engage in at least 150 minutes of moderate-intensity exercise per week for optimal health.\"]\n",
    "\n",
    "# Create a test case for the Language Model Metric (LLM) using the question, actual output, and source node contents\n",
    "test_case = LLMTestCase(\n",
    "    input=input_text,\n",
    "    actual_output=actual_output,\n",
    "    context=context,\n",
    ")\n",
    "\n",
    "# Create a HallucinationMetric with a specific model and threshold\n",
    "metric = HallucinationMetric(model='gpt-3.5-turbo', threshold=0.5)\n",
    "\n",
    "# Measure the hallucination metric for the test case\n",
    "metric.measure(test_case)\n",
    "\n",
    "# Print the score and reason for the hallucination metric\n",
    "print(metric.score)\n",
    "print(metric.reason)"
   ]
  },
  {
   "cell_type": "code",
   "execution_count": 92,
   "metadata": {},
   "outputs": [
    {
     "data": {
      "text/html": [
       "<pre style=\"white-space:pre;overflow-x:auto;line-height:normal;font-family:Menlo,'DejaVu Sans Mono',consolas,'Courier New',monospace\"></pre>\n"
      ],
      "text/plain": []
     },
     "metadata": {},
     "output_type": "display_data"
    },
    {
     "data": {
      "text/html": [
       "<pre style=\"white-space:pre;overflow-x:auto;line-height:normal;font-family:Menlo,'DejaVu Sans Mono',consolas,'Courier New',monospace\">\n",
       "</pre>\n"
      ],
      "text/plain": [
       "\n"
      ]
     },
     "metadata": {},
     "output_type": "display_data"
    },
    {
     "name": "stdout",
     "output_type": "stream",
     "text": [
      "1.0\n",
      "The hallucination score is 1.00 because the actual output only mentions weight loss and fails to provide information on other important health benefits of exercise such as improving cardiovascular health, boosting mood, and the recommended duration of exercise. This lack of comprehensive information contributes to a higher hallucination score.\n"
     ]
    }
   ],
   "source": [
    "from deepeval import evaluate\n",
    "from deepeval.metrics import HallucinationMetric\n",
    "from deepeval.test_case import LLMTestCase\n",
    "\n",
    "input_text = \"What are the benefits of regular exercise?\"\n",
    "actual_output = \"Regular exercise can be beneficial for weight loss and increase energy level.\"\n",
    "context = [\"According to a report by the World Health Organization, regular exercise has numerous health benefits, including improving cardiovascular health, boosting mood, and increasing energy levels. It is recommended to engage in at least 150 minutes of moderate-intensity exercise per week for optimal health.\"]\n",
    "\n",
    "# Create a test case for the Language Model Metric (LLM) using the question, actual output, and source node contents\n",
    "test_case = LLMTestCase(\n",
    "    input=input_text,\n",
    "    actual_output=actual_output,\n",
    "    context=context,\n",
    ")\n",
    "\n",
    "# Create a HallucinationMetric with a specific model and threshold\n",
    "metric = HallucinationMetric(model='gpt-3.5-turbo', threshold=0.5)\n",
    "\n",
    "# Measure the hallucination metric for the test case\n",
    "metric.measure(test_case)\n",
    "\n",
    "# Print the score and reason for the hallucination metric\n",
    "print(metric.score)\n",
    "print(metric.reason)"
   ]
  },
  {
   "cell_type": "markdown",
   "metadata": {},
   "source": [
    "# BERT Score\n",
    "\n",
    "#### BERT Score leverages the pre-trained contextual embeddings from BERT and matches words in candidate and reference sentences by cosine similarity.\n",
    "\n",
    "![BERT_Score](images/bert_score.png)"
   ]
  },
  {
   "cell_type": "code",
   "execution_count": 83,
   "metadata": {},
   "outputs": [
    {
     "name": "stderr",
     "output_type": "stream",
     "text": [
      "Some weights of RobertaModel were not initialized from the model checkpoint at roberta-large and are newly initialized: ['roberta.pooler.dense.bias', 'roberta.pooler.dense.weight']\n",
      "You should probably TRAIN this model on a down-stream task to be able to use it for predictions and inference.\n"
     ]
    }
   ],
   "source": [
    "from evaluate import load\n",
    "\n",
    "# Load BERTScore metric\n",
    "bertscore = load(\"bertscore\")\n",
    "\n",
    "# Prepare predictions and references\n",
    "predictions = [actual_response] * len(source_node_contents) \n",
    "references = source_node_contents\n",
    "\n",
    "# Compute BERTScore for the given predictions and references\n",
    "results = bertscore.compute(predictions=predictions, references=references, lang=\"en\")"
   ]
  },
  {
   "cell_type": "markdown",
   "metadata": {},
   "source": [
    "# Precision\n",
    "\n",
    "#### Precision measures the proportion of relevant retrieved nodes (relevant responses) among all retrieved nodes (all responses) generated by the LLM. It calculates how many of the LLM's generated responses were relevant.\n",
    " \n",
    "#### Precision would be the proportion of relevant retrieved nodes (related to \"Llama 2\") among all retrieved nodes included in the LLM's output. If all nodes in the LLM's response are relevant to \"Llama 2,\" precision would be 1. If some irrelevant nodes are included, precision would be less than 1.\n",
    "\n",
    "\n",
    "#### Formula: Precision = (Number of relevant retrieved nodes) / (Total number of retrieved nodes)"
   ]
  },
  {
   "cell_type": "code",
   "execution_count": 93,
   "metadata": {},
   "outputs": [
    {
     "name": "stdout",
     "output_type": "stream",
     "text": [
      "Precision Score\n",
      "[0.8349205255508423, 0.8310633897781372, 0.833675742149353, 0.82832270860672]\n"
     ]
    }
   ],
   "source": [
    "# Print the Precision score\n",
    "print(\"Precision Score\")\n",
    "print(results['precision'])"
   ]
  },
  {
   "cell_type": "markdown",
   "metadata": {},
   "source": [
    "# Recall\n",
    "\n",
    "#### Recall measures the proportion of relevant retrieved nodes (relevant responses) that were correctly identified by the LLM. In other words, it calculates how many of the relevant retrieved nodes were included in the LLM's output.\n",
    "\n",
    "#### For present scenario , recall would be the proportion of relevant retrieved nodes (related to \"Llama 2\") that were correctly included in the LLM's output. For instance, if all relevant retrieved nodes are included in the LLM's response, the recall would be 1. If some relevant nodes are missing from the LLM's response, the recall would be less than 1.\n",
    "\n",
    "#### Formula: Recall = (Number of relevant retrieved nodes) / (Total number of relevant nodes)"
   ]
  },
  {
   "cell_type": "code",
   "execution_count": 94,
   "metadata": {},
   "outputs": [
    {
     "name": "stdout",
     "output_type": "stream",
     "text": [
      "Recall Score\n",
      "[0.6818783283233643, 0.7535042762756348, 0.7584319710731506, 0.738237202167511]\n"
     ]
    }
   ],
   "source": [
    "# Print the Recall Score\n",
    "print(\"Recall Score\")\n",
    "print(results['recall'])"
   ]
  },
  {
   "cell_type": "markdown",
   "metadata": {},
   "source": [
    "# F1 Score\n",
    "\n",
    "#### The F1 score is the harmonic mean of precision and recall. It balances both metrics, so if either precision or recall is low, the F1 score will also be low.\n",
    "\n",
    "#### The F1 score is calculated using the following formula:\n",
    "#### F1=2×((precision*recall)/(precision×recall)) \n",
    "##### Where:\n",
    "##### - Precision is the proportion of relevant retrieved nodes among all retrieved nodes generated by the LLM.\n",
    "##### - Recall is the proportion of relevant retrieved nodes that were correctly identified by the LLM."
   ]
  },
  {
   "cell_type": "code",
   "execution_count": 95,
   "metadata": {},
   "outputs": [
    {
     "name": "stdout",
     "output_type": "stream",
     "text": [
      "F1 Score\n",
      "[0.7506785988807678, 0.7903856635093689, 0.7942757606506348, 0.7806897759437561]\n"
     ]
    }
   ],
   "source": [
    "# Print the F1 Score\n",
    "print(\"F1 Score\")\n",
    "print(results['f1'])"
   ]
  }
 ],
 "metadata": {
  "kernelspec": {
   "display_name": "Python 3",
   "language": "python",
   "name": "python3"
  },
  "language_info": {
   "codemirror_mode": {
    "name": "ipython",
    "version": 3
   },
   "file_extension": ".py",
   "mimetype": "text/x-python",
   "name": "python",
   "nbconvert_exporter": "python",
   "pygments_lexer": "ipython3",
   "version": "3.10.11"
  }
 },
 "nbformat": 4,
 "nbformat_minor": 2
}
