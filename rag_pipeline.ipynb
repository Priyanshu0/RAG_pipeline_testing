{
 "cells": [
  {
   "cell_type": "code",
   "execution_count": 1,
   "metadata": {},
   "outputs": [],
   "source": [
    "!pip install -q torch transformers transformers langchain sentence-transformers tqdm openpyxl openai pandas datasets"
   ]
  },
  {
   "cell_type": "code",
   "execution_count": 1,
   "metadata": {},
   "outputs": [],
   "source": [
    "!pip install -q ipywidgets"
   ]
  },
  {
   "cell_type": "code",
   "execution_count": 7,
   "metadata": {},
   "outputs": [],
   "source": [
    "!pip install -q pypdf"
   ]
  },
  {
   "cell_type": "code",
   "execution_count": 1,
   "metadata": {},
   "outputs": [],
   "source": [
    "from tqdm.auto import tqdm\n",
    "import pandas as pd\n",
    "from typing import Optional, List, Tuple\n",
    "import json\n",
    "import datasets\n",
    "\n",
    "pd.set_option(\"display.max_colwidth\", None)"
   ]
  },
  {
   "cell_type": "code",
   "execution_count": 3,
   "metadata": {},
   "outputs": [],
   "source": [
    "# from huggingface_hub import notebook_login\n",
    "\n",
    "# notebook_login()"
   ]
  },
  {
   "cell_type": "code",
   "execution_count": 5,
   "metadata": {},
   "outputs": [],
   "source": [
    "import os"
   ]
  },
  {
   "cell_type": "code",
   "execution_count": 6,
   "metadata": {},
   "outputs": [],
   "source": [
    "# Import the load_dotenv function from the dotenv module\n",
    "from dotenv import load_dotenv\n",
    "\n",
    "# Call the load_dotenv function to load environment variables from a .env file\n",
    "load_dotenv()\n",
    "\n",
    "os.environ['HUGGINGFACEHUB_API_TOKEN'] = os.getenv(\"HUGGINGFACEHUB_API_TOKEN\")"
   ]
  },
  {
   "cell_type": "code",
   "execution_count": 26,
   "metadata": {},
   "outputs": [],
   "source": [
    "# ds = datasets.load_dataset(\"m-ric/huggingface_doc\", split=\"train\")"
   ]
  },
  {
   "cell_type": "code",
   "execution_count": 7,
   "metadata": {},
   "outputs": [],
   "source": [
    "from langchain_community.document_loaders import PyPDFLoader"
   ]
  },
  {
   "cell_type": "code",
   "execution_count": 54,
   "metadata": {},
   "outputs": [],
   "source": [
    "import glob"
   ]
  },
  {
   "cell_type": "code",
   "execution_count": 62,
   "metadata": {},
   "outputs": [
    {
     "name": "stdout",
     "output_type": "stream",
     "text": [
      "/Users/priyanshutuli/Desktop/RAG_pipeline_testing/data/exhibit-13.pdf\n",
      "/Users/priyanshutuli/Desktop/RAG_pipeline_testing/data/third-quarter-10q.pdf\n",
      "/Users/priyanshutuli/Desktop/RAG_pipeline_testing/data/second-quarter-10q.pdf\n"
     ]
    }
   ],
   "source": [
    "pdfs = []\n",
    "for file in glob.glob(\"/Users/priyanshutuli/Desktop/RAG_pipeline_testing/data\" + \"/*.pdf\"):\n",
    "    print(file)\n",
    "    loader = PyPDFLoader(file)\n",
    "    pages = loader.load_and_split()\n",
    "    pdfs.extend(pages)"
   ]
  },
  {
   "cell_type": "code",
   "execution_count": 16,
   "metadata": {},
   "outputs": [
    {
     "data": {
      "text/plain": [
       "Document(page_content='Exhibit 13 \\nFinancial Review \\n4 Overview 110 4 Equity Securities \\n9 Earnings Performance 112 5 Loans and Related Allowance for Credit Losses \\n27 Balance Sheet Analysis 127 6 Mortgage Banking Activities \\n29 Off-Balance Sheet Arrangements 129 7 Intangible Assets and Other Assets \\n30 Risk Management 130 8 Leasing Activity \\n52 Capital Management 132 9 Deposits \\n58 Regulatory Matters 133 10 Long-Term Debt \\n61 Critical Accounting Policies 135 11 Preferred Stock \\n65 Current Accounting Developments 136 12 Common Stock and Stock Plans \\n66 Forward-Looking Statements 138 13 Legal Actions \\n68 Risk Factors 140 14 Derivatives \\nControls and Procedures 146 15 Fair Values of Assets and Liabilities \\n82 Disclosure Controls and Procedures 157 16 Securitizations and Variable Interest Entities \\n82 Internal Control Over Financial Reporting 162 17 Guarantees and Other Commitments \\n82 Management’s Report on Internal Control over \\nFinancial Reporting 165 18 Securities and Other Collateralized Financing Activities \\n83 Report of Independent Registered Public \\nAccounting Firm (KPMG LLP, Charlotte, NC, \\nAuditor Firm ID: 185) 167 19 Pledged Assets and Collateral \\n168 20 Operating Segments \\nFinancial Statements 170 21 Revenue and Expenses \\n84 Consolidated Statement of Income 173 22 Employee Benefits \\n85 Consolidated Statement of Comprehensive \\nIncome 178 23 Income Taxes \\n86 Consolidated Balance Sheet 181 24 Earnings and Dividends Per Common Share \\n87 Consolidated Statement of Changes in Equity 182 25 Other Comprehensive Income \\n89 Consolidated Statement of Cash Flows 184 26 Regulatory Capital Requirements and Other Restrictions \\n186 27 Parent-Only Financial Statements \\nNotes to Financial Statements \\n90 1 Summary of Significant Accounting Policies 188 Report of Independent Registered Public \\nAccounting Firm \\n103 2 Trading Activities 192 Quarterly Financial Data \\n104 3 Available-for-Sale and Held-to-Maturity Debt Securities 193 Glossary of Acronyms \\nWells Fargo & Company 3', metadata={'source': 'data/exhibit-13.pdf', 'page': 0})"
      ]
     },
     "execution_count": 16,
     "metadata": {},
     "output_type": "execute_result"
    }
   ],
   "source": [
    "pdfs[0]"
   ]
  },
  {
   "cell_type": "code",
   "execution_count": 17,
   "metadata": {},
   "outputs": [
    {
     "data": {
      "text/plain": [
       "{'source': 'data/exhibit-13.pdf', 'page': 0}"
      ]
     },
     "execution_count": 17,
     "metadata": {},
     "output_type": "execute_result"
    }
   ],
   "source": [
    "pdfs[0].metadata"
   ]
  },
  {
   "cell_type": "code",
   "execution_count": 13,
   "metadata": {},
   "outputs": [],
   "source": [
    "from langchain.text_splitter import RecursiveCharacterTextSplitter\n",
    "from transformers import AutoTokenizer\n",
    "from langchain.docstore.document import Document as LangchainDocument"
   ]
  },
  {
   "cell_type": "code",
   "execution_count": 49,
   "metadata": {},
   "outputs": [
    {
     "data": {
      "application/vnd.jupyter.widget-view+json": {
       "model_id": "c8216c5765e84ccc8be387acc594bd69",
       "version_major": 2,
       "version_minor": 0
      },
      "text/plain": [
       "  0%|          | 0/903 [00:00<?, ?it/s]"
      ]
     },
     "metadata": {},
     "output_type": "display_data"
    }
   ],
   "source": [
    "RAW_KNOWLEDGE_BASE = [LangchainDocument(page_content=page.page_content, metadata=page.metadata) for page in tqdm(pdfs)]"
   ]
  },
  {
   "cell_type": "code",
   "execution_count": 18,
   "metadata": {},
   "outputs": [
    {
     "data": {
      "application/vnd.jupyter.widget-view+json": {
       "model_id": "1f0a75b1f12b42b0a0657a4bde727b5a",
       "version_major": 2,
       "version_minor": 0
      },
      "text/plain": [
       "  0%|          | 0/903 [00:00<?, ?it/s]"
      ]
     },
     "metadata": {},
     "output_type": "display_data"
    }
   ],
   "source": [
    "from langchain.text_splitter import RecursiveCharacterTextSplitter\n",
    "from langchain.docstore.document import Document as LangchainDocument\n",
    "\n",
    "langchain_docs = [LangchainDocument(page_content=page.page_content, metadata=page.metadata) for page in tqdm(pdfs)]\n",
    "\n",
    "\n",
    "text_splitter = RecursiveCharacterTextSplitter(\n",
    "    chunk_size=2000,\n",
    "    chunk_overlap=200,\n",
    "    add_start_index=True,\n",
    "    separators=[\"\\n\\n\", \"\\n\", \".\", \" \", \"\"],\n",
    ")\n",
    "\n",
    "docs_processed = []\n",
    "for doc in langchain_docs:\n",
    "    docs_processed += text_splitter.split_documents([doc])\n"
   ]
  },
  {
   "cell_type": "code",
   "execution_count": 19,
   "metadata": {},
   "outputs": [
    {
     "data": {
      "text/plain": [
       "'This is a test context for the `@mui/material` library.\\n\\n## Installation\\n\\n```sh\\nnpm install @mui/material\\n```\\n\\n## Usage\\n\\n```jsx\\nimport React from \\'react\\';\\nimport { Button } from \\'@mui/material\\';\\n\\nfunction App() {\\n  return (\\n    <div className=\"App\">\\n      <Button variant=\"contained\" color=\"primary\">\\n        Hello World\\n      </Button>\\n    </div>\\n  );\\n}\\n\\nexport default App;\\n```\\n\\n## Documentation\\n\\n- [Material-UI](https://material-ui.com/)\\n- [Material Design](https://material.io/)'"
      ]
     },
     "execution_count": 19,
     "metadata": {},
     "output_type": "execute_result"
    }
   ],
   "source": [
    "from huggingface_hub import InferenceClient\n",
    "\n",
    "\n",
    "repo_id = \"mistralai/Mixtral-8x7B-Instruct-v0.1\"\n",
    "\n",
    "llm_client = InferenceClient(\n",
    "    model=repo_id,\n",
    "    timeout=120,\n",
    ")\n",
    "\n",
    "\n",
    "def call_llm(inference_client: InferenceClient, prompt: str):\n",
    "    response = inference_client.post(\n",
    "        json={\n",
    "            \"inputs\": prompt,\n",
    "            \"parameters\": {\"max_new_tokens\": 1000},\n",
    "            \"task\": \"text-generation\",\n",
    "        },\n",
    "    )\n",
    "    return json.loads(response.decode())[0][\"generated_text\"]\n",
    "\n",
    "\n",
    "call_llm(llm_client, \"This is a test context\")"
   ]
  },
  {
   "cell_type": "code",
   "execution_count": 20,
   "metadata": {},
   "outputs": [],
   "source": [
    "QA_generation_prompt = \"\"\"\n",
    "Your task is to write a factoid question and an answer given a context.\n",
    "Your factoid question should be answerable with a specific, concise piece of factual information from the context.\n",
    "Your factoid question should be formulated in the same style as questions users could ask in a search engine.\n",
    "This means that your factoid question MUST NOT mention something like \"according to the passage\" or \"context\".\n",
    "\n",
    "Provide your answer as follows:\n",
    "\n",
    "Output:::\n",
    "Factoid question: (your factoid question)\n",
    "Answer: (your answer to the factoid question)\n",
    "\n",
    "Now here is the context.\n",
    "\n",
    "Context: {context}\\n\n",
    "Output:::\"\"\""
   ]
  },
  {
   "cell_type": "code",
   "execution_count": 30,
   "metadata": {},
   "outputs": [
    {
     "name": "stdout",
     "output_type": "stream",
     "text": [
      "Generating 20 QA couples...\n"
     ]
    },
    {
     "data": {
      "application/vnd.jupyter.widget-view+json": {
       "model_id": "3e4a6c48892640b58ce96d2a8d56af8f",
       "version_major": 2,
       "version_minor": 0
      },
      "text/plain": [
       "  0%|          | 0/20 [00:00<?, ?it/s]"
      ]
     },
     "metadata": {},
     "output_type": "display_data"
    }
   ],
   "source": [
    "import random\n",
    "\n",
    "N_GENERATIONS = 20  # We intentionally generate only 10 QA couples here for cost and time considerations\n",
    "\n",
    "print(f\"Generating {N_GENERATIONS} QA couples...\")\n",
    "\n",
    "outputs = []\n",
    "for sampled_context in tqdm(random.sample(docs_processed, N_GENERATIONS)):\n",
    "    # Generate QA couple\n",
    "    output_QA_couple = call_llm(llm_client, QA_generation_prompt.format(context=sampled_context.page_content))\n",
    "    try:\n",
    "        question = output_QA_couple.split(\"Factoid question: \")[-1].split(\"Answer: \")[0]\n",
    "        answer = output_QA_couple.split(\"Answer: \")[-1]\n",
    "        assert len(answer) < 300, \"Answer is too long\"\n",
    "        outputs.append(\n",
    "            {\n",
    "                \"context\": sampled_context.page_content,\n",
    "                \"question\": question,\n",
    "                \"answer\": answer,\n",
    "                \"source_doc\": sampled_context.metadata[\"source\"],\n",
    "            }\n",
    "        )\n",
    "    except:\n",
    "        continue"
   ]
  },
  {
   "cell_type": "code",
   "execution_count": 31,
   "metadata": {},
   "outputs": [
    {
     "data": {
      "text/html": [
       "<div>\n",
       "<style scoped>\n",
       "    .dataframe tbody tr th:only-of-type {\n",
       "        vertical-align: middle;\n",
       "    }\n",
       "\n",
       "    .dataframe tbody tr th {\n",
       "        vertical-align: top;\n",
       "    }\n",
       "\n",
       "    .dataframe thead th {\n",
       "        text-align: right;\n",
       "    }\n",
       "</style>\n",
       "<table border=\"1\" class=\"dataframe\">\n",
       "  <thead>\n",
       "    <tr style=\"text-align: right;\">\n",
       "      <th></th>\n",
       "      <th>context</th>\n",
       "      <th>question</th>\n",
       "      <th>answer</th>\n",
       "      <th>source_doc</th>\n",
       "    </tr>\n",
       "  </thead>\n",
       "  <tbody>\n",
       "    <tr>\n",
       "      <th>10</th>\n",
       "      <td>impact of the Update to our income tax disclosures. Upon adoption, those disclosures may change as \\nfollows: \\n• For the tabular effective income tax  rate reconciliation, alignment to specific categories (where \\napplicable) and further disaggregation of certain categories (where applicable) by nature and/or \\njurisdiction if the reconciling item is 5% or more of the statutory tax expense. \\n• Description of states and loca l jurisdictions that contribute the majority of the effect of the state \\nand local income tax category of the effective income tax rate reconciliation. \\n• Disaggregate the amount of income ta xes paid (net of refunds) by federal, state, and non-U.S. taxes \\nand further disaggregate by individual jurisdictions where income taxes paid (net of refunds) is 5% \\nor more of total income taxes paid (net of refunds). \\n• Disaggregate net income (or loss) before income ta x expense (or benefit) between domestic and \\nnon-U.S. \\nOther Accounting Developments \\nThe following Updates are applicable to us but are not expected \\nto have a material impact on our consolidated financial \\nstatements: \\n• ASU 2022-03 – Fair Value Measurement (Topic 820): Fair \\nValue Measurement of Equity Securities Subject to Contractual \\nSale Restrictions \\n• ASU 2023-08 - Intangibles - Goodwill and Other - Crypto \\nAssets (Subtopic 350-60): Accounting for and Disclosure of \\nCrypto Assets \\nWells Fargo &amp; Company 65</td>\n",
       "      <td>What is the name of the ASU that is not expected to have a material impact on the consolidated financial statements?\\n</td>\n",
       "      <td>ASU 2022-03 – Fair Value Measurement (Topic 820): Fair Value Measurement of Equity Securities Subject to Contractual Sale Restrictions and ASU 2023-08 - Intangibles - Goodwill and Other - Crypto Assets (Subtopic 350-60): Accounting for and Disclosure of Crypto Assets</td>\n",
       "      <td>data/exhibit-13.pdf</td>\n",
       "    </tr>\n",
       "    <tr>\n",
       "      <th>11</th>\n",
       "      <td>caution should be exercised when relying on this data. Changes in \\nvalue based on variations in assumptions generally cannot be \\nextrapolated because the relationship of the change in the \\nassumption to the change in value may not be linear. Also, the \\neffect of a variation in a particular assumption on the value of the other interests held is calculated independently without changing \\nany other assumptions. In reality, changes in one factor may</td>\n",
       "      <td>How are changes in assumptions calculated in relation to the value of other interests held?\\n</td>\n",
       "      <td>Changes in assumptions are calculated independently without changing any other assumptions.</td>\n",
       "      <td>data/exhibit-13.pdf</td>\n",
       "    </tr>\n",
       "    <tr>\n",
       "      <th>12</th>\n",
       "      <td>Table 9f:   Corporate and Investment Banking – Balance Sheet \\nYear ended December 31, \\n($ in millions) 2023 2022 $ Change \\n2023/ \\n2022 % Change \\n2023/ \\n2022 2021 $ Change \\n2022/ \\n2021 % Change \\n2022/ \\n2021 \\nSelected Balance Sheet Data (average) \\nLoans: \\nCommercial and industrial $ 191,602 198,424 (6,822) (3)% $ 170,713 27,711 16 % \\nCommercial real estate 100,373 98,560 1,813 2 86,323 12,237 14 \\nTotal loans $ 291,975 296,984 (5,009) (2) $ 257,036 39,948 16 \\nLoans by Line of Business: \\nBanking $ 95,783 106,440 (10,657) (10) $ 93,766 12,674 14 \\nCommercial Real Estate 135,702 133,719 1,983 1 110,978 22,741 20 \\nMarkets 60,490 56,825 3,665 6 52,292 4,533 9 \\nTotal loans $ 291,975 296,984 (5,009) (2) $ 257,036 39,948 16 \\nTrading-related assets: \\nTrading account securities $ 118,130 112,213 5,917 5 $ 110,386 1,827 2 \\nReverse repurchase agreements/securities borrowed 61,510 50,491 11,019 22 59,044 (8,553) (14) \\nDerivative assets 18,636 27,421 (8,785) (32) 25,315 2,106 8 \\nTotal trading-related assets $ 198,276 190,125 8,151 4 $ 194,745 (4,620) (2) \\nTotal assets 553,722 557,396 (3,674) (1) 523,344 34,052 7 \\nTotal deposits 162,062 161,720 342 — 189,176 (27,456) (15) \\nAllocated capital 44,000 36,000 8,000 22 34,000 2,000 6 \\nSelected Balance Sheet Data (period-end) \\nLoans: \\nCommercial and industrial $ 189,379 196,529 (7,150) (4) $ 191,391 5,138 3 \\nCommercial real estate 98,053 101,848 (3,795) (4) 92,983 8,865 10 \\nTotal loans $ 287,432 298,377 (10,945) (4) $ 284,374 14,003 5 \\nLoans by Line of Business: \\nBanking $ 93,987 101,183 (7,196) (7) $ 101,926 (743) (1) \\nCommercial Real Estate 131,968 137,495 (5,527) (4) 125,926 11,569 9 \\nMarkets 61,477 59,699 1,778 3 56,522 3,177 6 \\nTotal loans $ 287,432 298,377 (10,945) (4) $ 284,374 14,003 5 \\nTrading-related assets: \\nTrading account securities $ 115,562 111,801 3,761 3 $ 108,697 3,104 3 \\nReverse repurchase agreements/securities borrowed 63,614 55,407 8,207 15 55,973 (566) (1) \\nDerivative assets 18,023 22,218 (4,195) (19) 21,398 820 4</td>\n",
       "      <td>What was the total amount of loans in 2023?\\n</td>\n",
       "      <td>The total amount of loans in 2023 was $291,975 million.</td>\n",
       "      <td>data/exhibit-13.pdf</td>\n",
       "    </tr>\n",
       "    <tr>\n",
       "      <th>13</th>\n",
       "      <td>We also use artificial intelligence to help further inform or \\nautomate certain business decisions, operations, and risk \\nmanagement practices, as well as to improve our customer \\nservice, but there is no assurance that artificial intelligence will \\nappropriately or sufficiently replicate certain outcomes or human \\nassessment or accurately predict future events or exposures. For \\nexample, the algorithms or datasets underlying our artificial \\nintelligence may be inaccurate or include other weaknesses that \\ncould result in deficient or biased data outputs or other \\nunintended consequences. Accordingly, even though we may \\nhave controls, our use of artificial intelligence could result in \\nineffective business decisions, operations, risk management \\npractices, or customer service, legal or regulatory proceedings, \\nreputational harm, or other adverse effects on our business or \\nfinancial results. \\nPrevious financial and credit crises and resulting regulatory \\nreforms highlighted both the importance and some of the \\nlimitations of managing unanticipated risks, and our regulators \\nremain focused on ensuring that financial institutions, and Wells \\nFargo in particular, maintain risk management policies and \\npractices. If our risk management framework proves ineffective, \\nwe could suffer unexpected losses which could materially \\nadversely affect our results of operations or financial condition. \\nWe may be exposed to additional legal or regulatory \\nproceedings, costs, and other adverse consequences related to \\ninstances where customers may have experienced financial \\nharm. We have identified and may in the future identify areas or \\ninstances where customers may have experienced financial harm, \\nincluding as a result of our continuing efforts to strengthen our \\nrisk and control infrastructure. For example, we identified certain \\nissues related to past practices involving certain automobile \\ncollateral protection insurance policies and certain issues related</td>\n",
       "      <td>What is an example of a risk associated with the use of artificial intelligence at Wells Fargo?\\n</td>\n",
       "      <td>An example of a risk associated with the use of artificial intelligence at Wells Fargo is that the algorithms or datasets underlying the artificial intelligence may be inaccurate or include other weaknesses that could result in deficient or biased data outputs or other unintended consequences.</td>\n",
       "      <td>data/exhibit-13.pdf</td>\n",
       "    </tr>\n",
       "    <tr>\n",
       "      <th>14</th>\n",
       "      <td>three scheduled loan payments are past due. When we have the \\nunilateral option to repurchase a loan, we recognize the loan and \\na corresponding liability on our balance sheet regardless of our \\nintent to repurchase the loan, and the loans remain pledged to \\nthe securitization. At December 31, 2023 and 2022, we recorded</td>\n",
       "      <td>How many scheduled loan payments were past due at the end of 2023?\\n</td>\n",
       "      <td>three</td>\n",
       "      <td>data/exhibit-13.pdf</td>\n",
       "    </tr>\n",
       "    <tr>\n",
       "      <th>15</th>\n",
       "      <td>in lease income within noninterest income. Operating lease assets are presented in other assets, net of \\naccumulated depreciation. Periodic depreciation expense is \\nrecorded on a straight-line basis over the estimated useful life of \\nthe leased asset and are included in other noninterest expense. \\nOperating lease assets are reviewed periodically for impairment</td>\n",
       "      <td>What is the method used to depreciate operating lease assets?\\n</td>\n",
       "      <td>Operating lease assets are depreciated on a straight-line basis over the estimated useful life of the leased asset.</td>\n",
       "      <td>data/exhibit-13.pdf</td>\n",
       "    </tr>\n",
       "    <tr>\n",
       "      <th>16</th>\n",
       "      <td>Treasury Management and Payments 3,036 2,369 667 28 1,468 901 61 \\nInvestment Banking 1,404 1,206 198 16 1,654 (448) (27) \\nTotal Banking 7,312 5,797 1,515 26 5,070 727 14 \\nCommercial Real Estate 5,311 4,534 777 17 3,963 571 14 \\nMarkets: \\nFixed Income, Currencies, and Commodities (FICC) 4,688 3,660 1,028 28 3,710 (50) (1) \\nEquities 1,809 1,115 694 62 897 218 24 \\nCredit Adjustment (CVA/DVA) and Other 65 20 45 225 91 (71) (78) \\nTotal Markets 6,562 4,795 1,767 37 4,698 97 2 \\nOther 6 116 (110) (95) 108 8 7 \\nTotal revenue $ 19,191 15,242 3,949 26 $ 13,839 1,403 10 \\nSelected Metrics \\nReturn on allocated capital 13.8 % 15.3 16.9 % \\nEfficiency ratio 45 50 52 \\nNM – Not meaningful \\nFull year 2023 vs. full year 2022 \\nRevenue increased driven by: \\n• higher net gains from trading activities driven by improved \\ntrading results across all asset classes; \\n• higher net interest income reflecting higher interest rates; \\nand \\n• higher investment banking fees due to increased activity \\nacross all products, as well as a write-down on unfunded \\nleveraged finance commitments in 2022. Provision for credit losses increased reflecting a $1.6 billion \\nincrease in the allowance for credit losses driven by commercial \\nreal estate office loans. \\nNoninterest expense increased driven by higher operating costs \\nand personnel expense, including severance expense, partially \\noffset by the impact of efficiency initiatives. \\nWells Fargo &amp; Company 21</td>\n",
       "      <td>What is the percentage increase in revenue from 2022 to 2023?\\n</td>\n",
       "      <td>Revenue increased by 26% from 2022 to 2023.</td>\n",
       "      <td>data/exhibit-13.pdf</td>\n",
       "    </tr>\n",
       "    <tr>\n",
       "      <th>17</th>\n",
       "      <td>securities portfolio can be used to meet funding needs that arise \\nin the normal course of business or due to market stress. \\nChanges in our interest rate risk profile may occur due to changes \\nin overall economic or market conditions, which could influence \\nloan origination demand, prepayment rates, or deposit balances \\nand mix. In response, the AFS debt securities portfolio can be \\nrebalanced to meet the Company’s interest rate risk \\nmanagement objectives. In addition to meeting liquidity and \\ninterest rate risk management objectives, the AFS and HTM debt \\nsecurities portfolios may provide yield enhancement over other \\nshort-term assets. See the “Risk Management – Asset/Liability \\nManagement” section in this Report for additional information \\non liquidity and interest rate risk. \\nThe AFS debt securities portfolio predominantly consists of \\nliquid, high-quality U.S. Treasury and federal agency debt, and \\nagency mortgage-backed securities (MBS). The portfolio also \\nincludes securities issued by U.S. states and political subdivisions \\nand highly rated collateralized loan obligations (CLOs). \\nThe HTM debt securities portfolio predominantly consists of \\nliquid, high-quality U.S. Treasury and federal agency debt, and \\nagency MBS. The portfolio also includes securities issued by U.S. \\nstates and political subdivisions and highly rated CLOs. Debt \\nsecurities are classified as HTM at the time of purchase or when \\ntransferred from the AFS debt securities portfolio. Our intent is \\nto hold these securities to maturity and collect the contractual \\ncash flows. In first quarter 2023, we changed our intent with \\nrespect to certain HTM debt securities and reclassified them to \\nAFS debt securities in connection with the adoption of ASU \\n2022-01, Derivatives and Hedging (Topic 815): Fair Value \\nHedging – Portfolio Layer Method. For additional information on \\nour adoption of ASU 2022-01, see Note 1 (Summary of \\nSignificant Accounting Policies) to Financial Statements in this</td>\n",
       "      <td>What does AFS stand for in the context?\\n</td>\n",
       "      <td>AFS stands for Available-for-Sale.</td>\n",
       "      <td>data/exhibit-13.pdf</td>\n",
       "    </tr>\n",
       "    <tr>\n",
       "      <th>18</th>\n",
       "      <td>Table 2:   Ratios and Per Common Share Data (1) \\nYear ended December 31, \\n2023 2022 2021 \\nPerformance ratios \\nReturn on average assets (ROA) (2) 1.02% 0.72 1.14 \\nReturn on average equity (ROE) (3) 11.0 7.8 12.3 \\nReturn on average tangible common equity (ROTCE) (4) 13.1 9.3 14.8 \\nEfficiency ratio (5) 67 77 68 \\nCapital and other metrics (6) \\nWells Fargo common stockholders’ equity to assets 8.61 8.56 8.63 \\nTotal equity to assets 9.70 9.69 9.75 \\nRisk-based capital ratios and components: \\nStandardized Approach: \\nCommon Equity Tier 1 (CET1) 11.43 10.60 11.35 \\nTier 1 capital 12.98 12.11 12.89 \\nTotal capital 15.67 14.82 15.84 \\nRisk-weighted assets (RWAs) (in billions) $ 1,231.7 1,259.9 1,239.0 \\nAdvanced Approach: \\nCommon Equity Tier 1 (CET1) 12.63% 12.00 12.60 \\nTier 1 capital 14.34 13.72 14.31 \\nTotal capital 16.40 15.94 16.72 \\nRisk-weighted assets (RWAs) (in billions) $ 1,114.3 1,112.3 1,116.1 \\nTier 1 leverage ratio 8.50% 8.26 8.34 \\nSupplementary Leverage Ratio (SLR) 7.09 6.86 6.89 \\nTotal Loss Absorbing Capacity (TLAC) Ratio (7) 25.05 23.27 23.03 \\nLiquidity Coverage Ratio (LCR) (8) 125 122 118 \\nAverage balances: \\nAverage Wells Fargo common stockholders’ equity to average assets 8.67 8.53 8.69 \\nAverage total equity to average assets 9.80 9.67 9.81 \\nPer common share data \\nDividend payout ratio (9) 26.9 33.6 11.8 \\nBook value (10) $ 46.25 41.98 43.26 \\n(1) In first quarter 2023, we adopted Financial Accounting Standards Board (FASB) Accounting Standards Update (ASU) 2018-12 – Financial Services – Insurance (Topic 944): Targeted Improvements to \\nthe Accounting for Long-Duration Contracts . We adopted ASU 2018-12 with retrospective application, which required revision of prior period financial statements. Prior period risk-based capital and \\ncertain other regulatory related metrics were not revised. For additional information, including the financial statement line items impacted by the adoption of ASU 2018-12, see Note 1 (Summary of</td>\n",
       "      <td>What is the Return on average assets (ROA) for the year ended December 31, 2023?\\n</td>\n",
       "      <td>The Return on average assets (ROA) for the year ended December 31, 2023 is 1.02%.</td>\n",
       "      <td>data/exhibit-13.pdf</td>\n",
       "    </tr>\n",
       "    <tr>\n",
       "      <th>19</th>\n",
       "      <td>regulatory requirements under the Federal Reserve Board’s \\ncapital plan rule, and other factors deemed relevant by the \\nCompany, and may be subject to regulatory approval or \\nconditions. \\nFor additional information about factors that could cause \\nactual results to differ materially from our expectations, refer to \\nour reports filed with the Securities and Exchange Commission, \\nincluding the discussion under “Risk Factors” in this Report, as \\nfiled with the Securities and Exchange Commission and available \\non its website at www.sec.gov.1 \\nAny forward-looking statement made by us speaks only as \\nof the date on which it is made. Factors or events that could \\ncause our actual results to differ may emerge from time to time, \\nand it is not possible for us to predict all of them. We undertake \\nno obligation to publicly update any forward-looking statement, \\nwhether as a result of new information, future developments or \\notherwise, except as may be required by law. \\n1 We do not control this website. Wells Fargo has provided this link for \\nyour convenience, but does not endorse and is not responsible for the \\ncontent, links, privacy policy, or security policy of this website. Forward-looking Non-GAAP Financial Measures . From time to \\ntime management may discuss forward-looking non-GAAP \\nfinancial measures, such as forward-looking estimates or targets \\nfor return on average tangible common equity. We are unable to \\nprovide a reconciliation of forward-looking non-GAAP financial \\nmeasures to their most directly comparable GAAP financial \\nmeasures because we are unable to provide, without \\nunreasonable effort, a meaningful or accurate calculation or \\nestimation of amounts that would be necessary for the \\nreconciliation due to the complexity and inherent difficulty in \\nforecasting and quantifying future amounts or when they may \\noccur. Such unavailable information could be significant to future \\nresults. \\nWells Fargo &amp; Company 67</td>\n",
       "      <td>What is the website where Wells Fargo's reports are available?\\n</td>\n",
       "      <td>The website where Wells Fargo's reports are available is www.sec.gov.</td>\n",
       "      <td>data/exhibit-13.pdf</td>\n",
       "    </tr>\n",
       "  </tbody>\n",
       "</table>\n",
       "</div>"
      ],
      "text/plain": [
       "                                                                                                                                                                                                                                                                                                                                                                                                                                                                                                                                                                                                                                                                                                                                                                                                                                                                                                                                                                                                                                                                                                                                                                                                                                                                                                                                                                                                                                                                                                                                                                                                                                                                                                                                                                                                                                                                                                                                                                                                                                                                                                                 context  \\\n",
       "10                                                                                                                                                                                                                                                                                                                                                                                                                                                                                                                                                                                                                               impact of the Update to our income tax disclosures. Upon adoption, those disclosures may change as \\nfollows: \\n• For the tabular effective income tax  rate reconciliation, alignment to specific categories (where \\napplicable) and further disaggregation of certain categories (where applicable) by nature and/or \\njurisdiction if the reconciling item is 5% or more of the statutory tax expense. \\n• Description of states and loca l jurisdictions that contribute the majority of the effect of the state \\nand local income tax category of the effective income tax rate reconciliation. \\n• Disaggregate the amount of income ta xes paid (net of refunds) by federal, state, and non-U.S. taxes \\nand further disaggregate by individual jurisdictions where income taxes paid (net of refunds) is 5% \\nor more of total income taxes paid (net of refunds). \\n• Disaggregate net income (or loss) before income ta x expense (or benefit) between domestic and \\nnon-U.S. \\nOther Accounting Developments \\nThe following Updates are applicable to us but are not expected \\nto have a material impact on our consolidated financial \\nstatements: \\n• ASU 2022-03 – Fair Value Measurement (Topic 820): Fair \\nValue Measurement of Equity Securities Subject to Contractual \\nSale Restrictions \\n• ASU 2023-08 - Intangibles - Goodwill and Other - Crypto \\nAssets (Subtopic 350-60): Accounting for and Disclosure of \\nCrypto Assets \\nWells Fargo & Company 65   \n",
       "11                                                                                                                                                                                                                                                                                                                                                                                                                                                                                                                                                                                                                                                                                                                                                                                                                                                                                                                                                                                                                                                                                                                                                                                                                                                                                                                                                                                                                                                                                                                                                                                                                                                caution should be exercised when relying on this data. Changes in \\nvalue based on variations in assumptions generally cannot be \\nextrapolated because the relationship of the change in the \\nassumption to the change in value may not be linear. Also, the \\neffect of a variation in a particular assumption on the value of the other interests held is calculated independently without changing \\nany other assumptions. In reality, changes in one factor may   \n",
       "12  Table 9f:   Corporate and Investment Banking – Balance Sheet \\nYear ended December 31, \\n($ in millions) 2023 2022 $ Change \\n2023/ \\n2022 % Change \\n2023/ \\n2022 2021 $ Change \\n2022/ \\n2021 % Change \\n2022/ \\n2021 \\nSelected Balance Sheet Data (average) \\nLoans: \\nCommercial and industrial $ 191,602 198,424 (6,822) (3)% $ 170,713 27,711 16 % \\nCommercial real estate 100,373 98,560 1,813 2 86,323 12,237 14 \\nTotal loans $ 291,975 296,984 (5,009) (2) $ 257,036 39,948 16 \\nLoans by Line of Business: \\nBanking $ 95,783 106,440 (10,657) (10) $ 93,766 12,674 14 \\nCommercial Real Estate 135,702 133,719 1,983 1 110,978 22,741 20 \\nMarkets 60,490 56,825 3,665 6 52,292 4,533 9 \\nTotal loans $ 291,975 296,984 (5,009) (2) $ 257,036 39,948 16 \\nTrading-related assets: \\nTrading account securities $ 118,130 112,213 5,917 5 $ 110,386 1,827 2 \\nReverse repurchase agreements/securities borrowed 61,510 50,491 11,019 22 59,044 (8,553) (14) \\nDerivative assets 18,636 27,421 (8,785) (32) 25,315 2,106 8 \\nTotal trading-related assets $ 198,276 190,125 8,151 4 $ 194,745 (4,620) (2) \\nTotal assets 553,722 557,396 (3,674) (1) 523,344 34,052 7 \\nTotal deposits 162,062 161,720 342 — 189,176 (27,456) (15) \\nAllocated capital 44,000 36,000 8,000 22 34,000 2,000 6 \\nSelected Balance Sheet Data (period-end) \\nLoans: \\nCommercial and industrial $ 189,379 196,529 (7,150) (4) $ 191,391 5,138 3 \\nCommercial real estate 98,053 101,848 (3,795) (4) 92,983 8,865 10 \\nTotal loans $ 287,432 298,377 (10,945) (4) $ 284,374 14,003 5 \\nLoans by Line of Business: \\nBanking $ 93,987 101,183 (7,196) (7) $ 101,926 (743) (1) \\nCommercial Real Estate 131,968 137,495 (5,527) (4) 125,926 11,569 9 \\nMarkets 61,477 59,699 1,778 3 56,522 3,177 6 \\nTotal loans $ 287,432 298,377 (10,945) (4) $ 284,374 14,003 5 \\nTrading-related assets: \\nTrading account securities $ 115,562 111,801 3,761 3 $ 108,697 3,104 3 \\nReverse repurchase agreements/securities borrowed 63,614 55,407 8,207 15 55,973 (566) (1) \\nDerivative assets 18,023 22,218 (4,195) (19) 21,398 820 4   \n",
       "13                            We also use artificial intelligence to help further inform or \\nautomate certain business decisions, operations, and risk \\nmanagement practices, as well as to improve our customer \\nservice, but there is no assurance that artificial intelligence will \\nappropriately or sufficiently replicate certain outcomes or human \\nassessment or accurately predict future events or exposures. For \\nexample, the algorithms or datasets underlying our artificial \\nintelligence may be inaccurate or include other weaknesses that \\ncould result in deficient or biased data outputs or other \\nunintended consequences. Accordingly, even though we may \\nhave controls, our use of artificial intelligence could result in \\nineffective business decisions, operations, risk management \\npractices, or customer service, legal or regulatory proceedings, \\nreputational harm, or other adverse effects on our business or \\nfinancial results. \\nPrevious financial and credit crises and resulting regulatory \\nreforms highlighted both the importance and some of the \\nlimitations of managing unanticipated risks, and our regulators \\nremain focused on ensuring that financial institutions, and Wells \\nFargo in particular, maintain risk management policies and \\npractices. If our risk management framework proves ineffective, \\nwe could suffer unexpected losses which could materially \\nadversely affect our results of operations or financial condition. \\nWe may be exposed to additional legal or regulatory \\nproceedings, costs, and other adverse consequences related to \\ninstances where customers may have experienced financial \\nharm. We have identified and may in the future identify areas or \\ninstances where customers may have experienced financial harm, \\nincluding as a result of our continuing efforts to strengthen our \\nrisk and control infrastructure. For example, we identified certain \\nissues related to past practices involving certain automobile \\ncollateral protection insurance policies and certain issues related   \n",
       "14                                                                                                                                                                                                                                                                                                                                                                                                                                                                                                                                                                                                                                                                                                                                                                                                                                                                                                                                                                                                                                                                                                                                                                                                                                                                                                                                                                                                                                                                                                                                                                                                                                                                                                                                                                                 three scheduled loan payments are past due. When we have the \\nunilateral option to repurchase a loan, we recognize the loan and \\na corresponding liability on our balance sheet regardless of our \\nintent to repurchase the loan, and the loans remain pledged to \\nthe securitization. At December 31, 2023 and 2022, we recorded   \n",
       "15                                                                                                                                                                                                                                                                                                                                                                                                                                                                                                                                                                                                                                                                                                                                                                                                                                                                                                                                                                                                                                                                                                                                                                                                                                                                                                                                                                                                                                                                                                                                                                                                                                                                                                                                        in lease income within noninterest income. Operating lease assets are presented in other assets, net of \\naccumulated depreciation. Periodic depreciation expense is \\nrecorded on a straight-line basis over the estimated useful life of \\nthe leased asset and are included in other noninterest expense. \\nOperating lease assets are reviewed periodically for impairment   \n",
       "16                                                                                                                                                                                                                                                                                                                                                                                                                                                                                                                                                                                               Treasury Management and Payments 3,036 2,369 667 28 1,468 901 61 \\nInvestment Banking 1,404 1,206 198 16 1,654 (448) (27) \\nTotal Banking 7,312 5,797 1,515 26 5,070 727 14 \\nCommercial Real Estate 5,311 4,534 777 17 3,963 571 14 \\nMarkets: \\nFixed Income, Currencies, and Commodities (FICC) 4,688 3,660 1,028 28 3,710 (50) (1) \\nEquities 1,809 1,115 694 62 897 218 24 \\nCredit Adjustment (CVA/DVA) and Other 65 20 45 225 91 (71) (78) \\nTotal Markets 6,562 4,795 1,767 37 4,698 97 2 \\nOther 6 116 (110) (95) 108 8 7 \\nTotal revenue $ 19,191 15,242 3,949 26 $ 13,839 1,403 10 \\nSelected Metrics \\nReturn on allocated capital 13.8 % 15.3 16.9 % \\nEfficiency ratio 45 50 52 \\nNM – Not meaningful \\nFull year 2023 vs. full year 2022 \\nRevenue increased driven by: \\n• higher net gains from trading activities driven by improved \\ntrading results across all asset classes; \\n• higher net interest income reflecting higher interest rates; \\nand \\n• higher investment banking fees due to increased activity \\nacross all products, as well as a write-down on unfunded \\nleveraged finance commitments in 2022. Provision for credit losses increased reflecting a $1.6 billion \\nincrease in the allowance for credit losses driven by commercial \\nreal estate office loans. \\nNoninterest expense increased driven by higher operating costs \\nand personnel expense, including severance expense, partially \\noffset by the impact of efficiency initiatives. \\nWells Fargo & Company 21   \n",
       "17                securities portfolio can be used to meet funding needs that arise \\nin the normal course of business or due to market stress. \\nChanges in our interest rate risk profile may occur due to changes \\nin overall economic or market conditions, which could influence \\nloan origination demand, prepayment rates, or deposit balances \\nand mix. In response, the AFS debt securities portfolio can be \\nrebalanced to meet the Company’s interest rate risk \\nmanagement objectives. In addition to meeting liquidity and \\ninterest rate risk management objectives, the AFS and HTM debt \\nsecurities portfolios may provide yield enhancement over other \\nshort-term assets. See the “Risk Management – Asset/Liability \\nManagement” section in this Report for additional information \\non liquidity and interest rate risk. \\nThe AFS debt securities portfolio predominantly consists of \\nliquid, high-quality U.S. Treasury and federal agency debt, and \\nagency mortgage-backed securities (MBS). The portfolio also \\nincludes securities issued by U.S. states and political subdivisions \\nand highly rated collateralized loan obligations (CLOs). \\nThe HTM debt securities portfolio predominantly consists of \\nliquid, high-quality U.S. Treasury and federal agency debt, and \\nagency MBS. The portfolio also includes securities issued by U.S. \\nstates and political subdivisions and highly rated CLOs. Debt \\nsecurities are classified as HTM at the time of purchase or when \\ntransferred from the AFS debt securities portfolio. Our intent is \\nto hold these securities to maturity and collect the contractual \\ncash flows. In first quarter 2023, we changed our intent with \\nrespect to certain HTM debt securities and reclassified them to \\nAFS debt securities in connection with the adoption of ASU \\n2022-01, Derivatives and Hedging (Topic 815): Fair Value \\nHedging – Portfolio Layer Method. For additional information on \\nour adoption of ASU 2022-01, see Note 1 (Summary of \\nSignificant Accounting Policies) to Financial Statements in this   \n",
       "18                                                   Table 2:   Ratios and Per Common Share Data (1) \\nYear ended December 31, \\n2023 2022 2021 \\nPerformance ratios \\nReturn on average assets (ROA) (2) 1.02% 0.72 1.14 \\nReturn on average equity (ROE) (3) 11.0 7.8 12.3 \\nReturn on average tangible common equity (ROTCE) (4) 13.1 9.3 14.8 \\nEfficiency ratio (5) 67 77 68 \\nCapital and other metrics (6) \\nWells Fargo common stockholders’ equity to assets 8.61 8.56 8.63 \\nTotal equity to assets 9.70 9.69 9.75 \\nRisk-based capital ratios and components: \\nStandardized Approach: \\nCommon Equity Tier 1 (CET1) 11.43 10.60 11.35 \\nTier 1 capital 12.98 12.11 12.89 \\nTotal capital 15.67 14.82 15.84 \\nRisk-weighted assets (RWAs) (in billions) $ 1,231.7 1,259.9 1,239.0 \\nAdvanced Approach: \\nCommon Equity Tier 1 (CET1) 12.63% 12.00 12.60 \\nTier 1 capital 14.34 13.72 14.31 \\nTotal capital 16.40 15.94 16.72 \\nRisk-weighted assets (RWAs) (in billions) $ 1,114.3 1,112.3 1,116.1 \\nTier 1 leverage ratio 8.50% 8.26 8.34 \\nSupplementary Leverage Ratio (SLR) 7.09 6.86 6.89 \\nTotal Loss Absorbing Capacity (TLAC) Ratio (7) 25.05 23.27 23.03 \\nLiquidity Coverage Ratio (LCR) (8) 125 122 118 \\nAverage balances: \\nAverage Wells Fargo common stockholders’ equity to average assets 8.67 8.53 8.69 \\nAverage total equity to average assets 9.80 9.67 9.81 \\nPer common share data \\nDividend payout ratio (9) 26.9 33.6 11.8 \\nBook value (10) $ 46.25 41.98 43.26 \\n(1) In first quarter 2023, we adopted Financial Accounting Standards Board (FASB) Accounting Standards Update (ASU) 2018-12 – Financial Services – Insurance (Topic 944): Targeted Improvements to \\nthe Accounting for Long-Duration Contracts . We adopted ASU 2018-12 with retrospective application, which required revision of prior period financial statements. Prior period risk-based capital and \\ncertain other regulatory related metrics were not revised. For additional information, including the financial statement line items impacted by the adoption of ASU 2018-12, see Note 1 (Summary of   \n",
       "19                                                        regulatory requirements under the Federal Reserve Board’s \\ncapital plan rule, and other factors deemed relevant by the \\nCompany, and may be subject to regulatory approval or \\nconditions. \\nFor additional information about factors that could cause \\nactual results to differ materially from our expectations, refer to \\nour reports filed with the Securities and Exchange Commission, \\nincluding the discussion under “Risk Factors” in this Report, as \\nfiled with the Securities and Exchange Commission and available \\non its website at www.sec.gov.1 \\nAny forward-looking statement made by us speaks only as \\nof the date on which it is made. Factors or events that could \\ncause our actual results to differ may emerge from time to time, \\nand it is not possible for us to predict all of them. We undertake \\nno obligation to publicly update any forward-looking statement, \\nwhether as a result of new information, future developments or \\notherwise, except as may be required by law. \\n1 We do not control this website. Wells Fargo has provided this link for \\nyour convenience, but does not endorse and is not responsible for the \\ncontent, links, privacy policy, or security policy of this website. Forward-looking Non-GAAP Financial Measures . From time to \\ntime management may discuss forward-looking non-GAAP \\nfinancial measures, such as forward-looking estimates or targets \\nfor return on average tangible common equity. We are unable to \\nprovide a reconciliation of forward-looking non-GAAP financial \\nmeasures to their most directly comparable GAAP financial \\nmeasures because we are unable to provide, without \\nunreasonable effort, a meaningful or accurate calculation or \\nestimation of amounts that would be necessary for the \\nreconciliation due to the complexity and inherent difficulty in \\nforecasting and quantifying future amounts or when they may \\noccur. Such unavailable information could be significant to future \\nresults. \\nWells Fargo & Company 67   \n",
       "\n",
       "                                                                                                                  question  \\\n",
       "10  What is the name of the ASU that is not expected to have a material impact on the consolidated financial statements?\\n   \n",
       "11                           How are changes in assumptions calculated in relation to the value of other interests held?\\n   \n",
       "12                                                                           What was the total amount of loans in 2023?\\n   \n",
       "13                       What is an example of a risk associated with the use of artificial intelligence at Wells Fargo?\\n   \n",
       "14                                                    How many scheduled loan payments were past due at the end of 2023?\\n   \n",
       "15                                                         What is the method used to depreciate operating lease assets?\\n   \n",
       "16                                                         What is the percentage increase in revenue from 2022 to 2023?\\n   \n",
       "17                                                                               What does AFS stand for in the context?\\n   \n",
       "18                                      What is the Return on average assets (ROA) for the year ended December 31, 2023?\\n   \n",
       "19                                                        What is the website where Wells Fargo's reports are available?\\n   \n",
       "\n",
       "                                                                                                                                                                                                                                                                                                    answer  \\\n",
       "10                             ASU 2022-03 – Fair Value Measurement (Topic 820): Fair Value Measurement of Equity Securities Subject to Contractual Sale Restrictions and ASU 2023-08 - Intangibles - Goodwill and Other - Crypto Assets (Subtopic 350-60): Accounting for and Disclosure of Crypto Assets   \n",
       "11                                                                                                                                                                                                             Changes in assumptions are calculated independently without changing any other assumptions.   \n",
       "12                                                                                                                                                                                                                                                 The total amount of loans in 2023 was $291,975 million.   \n",
       "13  An example of a risk associated with the use of artificial intelligence at Wells Fargo is that the algorithms or datasets underlying the artificial intelligence may be inaccurate or include other weaknesses that could result in deficient or biased data outputs or other unintended consequences.   \n",
       "14                                                                                                                                                                                                                                                                                                   three   \n",
       "15                                                                                                                                                                                     Operating lease assets are depreciated on a straight-line basis over the estimated useful life of the leased asset.   \n",
       "16                                                                                                                                                                                                                                                             Revenue increased by 26% from 2022 to 2023.   \n",
       "17                                                                                                                                                                                                                                                                      AFS stands for Available-for-Sale.   \n",
       "18                                                                                                                                                                                                                       The Return on average assets (ROA) for the year ended December 31, 2023 is 1.02%.   \n",
       "19                                                                                                                                                                                                                                   The website where Wells Fargo's reports are available is www.sec.gov.   \n",
       "\n",
       "             source_doc  \n",
       "10  data/exhibit-13.pdf  \n",
       "11  data/exhibit-13.pdf  \n",
       "12  data/exhibit-13.pdf  \n",
       "13  data/exhibit-13.pdf  \n",
       "14  data/exhibit-13.pdf  \n",
       "15  data/exhibit-13.pdf  \n",
       "16  data/exhibit-13.pdf  \n",
       "17  data/exhibit-13.pdf  \n",
       "18  data/exhibit-13.pdf  \n",
       "19  data/exhibit-13.pdf  "
      ]
     },
     "metadata": {},
     "output_type": "display_data"
    }
   ],
   "source": [
    "display(pd.DataFrame(outputs).tail(10))"
   ]
  },
  {
   "cell_type": "code",
   "execution_count": 27,
   "metadata": {},
   "outputs": [],
   "source": [
    "question_groundedness_critique_prompt = \"\"\"\n",
    "You will be given a context and a question.\n",
    "Your task is to provide a 'total rating' scoring how well one can answer the given question unambiguously with the given context.\n",
    "Give your answer on a scale of 1 to 5, where 1 means that the question is not answerable at all given the context, and 5 means that the question is clearly and unambiguously answerable with the context.\n",
    "\n",
    "Provide your answer as follows:\n",
    "\n",
    "Answer:::\n",
    "Evaluation: (your rationale for the rating, as a text)\n",
    "Total rating: (your rating, as a number between 1 and 5)\n",
    "\n",
    "You MUST provide values for 'Evaluation:' and 'Total rating:' in your answer.\n",
    "\n",
    "Now here are the question and context.\n",
    "\n",
    "Question: {question}\\n\n",
    "Context: {context}\\n\n",
    "Answer::: \"\"\"\n",
    "\n",
    "question_relevance_critique_prompt = \"\"\"\n",
    "You will be given a question.\n",
    "Your task is to provide a 'total rating' representing how useful this question can be to machine learning developers building NLP applications with the Hugging Face ecosystem.\n",
    "Give your answer on a scale of 1 to 5, where 1 means that the question is not useful at all, and 5 means that the question is extremely useful.\n",
    "\n",
    "Provide your answer as follows:\n",
    "\n",
    "Answer:::\n",
    "Evaluation: (your rationale for the rating, as a text)\n",
    "Total rating: (your rating, as a number between 1 and 5)\n",
    "\n",
    "You MUST provide values for 'Evaluation:' and 'Total rating:' in your answer.\n",
    "\n",
    "Now here is the question.\n",
    "\n",
    "Question: {question}\\n\n",
    "Answer::: \"\"\"\n",
    "\n",
    "question_standalone_critique_prompt = \"\"\"\n",
    "You will be given a question.\n",
    "Your task is to provide a 'total rating' representing how context-independant this question is.\n",
    "Give your answer on a scale of 1 to 5, where 1 means that the question depends on additional information to be understood, and 5 means that the question makes sense by itself.\n",
    "For instance, if the question refers to a particular setting, like 'in the context' or 'in the document', the rating must be 1.\n",
    "The questions can contain obscure technical nouns or acronyms like Gradio, Hub, Hugging Face or Space and still be a 5: it must simply be clear to an operator with access to documentation what the question is about.\n",
    "\n",
    "For instance, \"What is the name of the checkpoint from which the ViT model is imported?\" should receive a 1, since there is an implicit mention of a context, thus the question is not independant from the context.\n",
    "\n",
    "Provide your answer as follows:\n",
    "\n",
    "Answer:::\n",
    "Evaluation: (your rationale for the rating, as a text)\n",
    "Total rating: (your rating, as a number between 1 and 5)\n",
    "\n",
    "You MUST provide values for 'Evaluation:' and 'Total rating:' in your answer.\n",
    "\n",
    "Now here is the question.\n",
    "\n",
    "Question: {question}\\n\n",
    "Answer::: \"\"\""
   ]
  },
  {
   "cell_type": "code",
   "execution_count": 32,
   "metadata": {},
   "outputs": [
    {
     "name": "stdout",
     "output_type": "stream",
     "text": [
      "Generating critique for each QA couple...\n"
     ]
    },
    {
     "data": {
      "application/vnd.jupyter.widget-view+json": {
       "model_id": "9cefabfe53a74b0d99602239a5129ce4",
       "version_major": 2,
       "version_minor": 0
      },
      "text/plain": [
       "  0%|          | 0/20 [00:00<?, ?it/s]"
      ]
     },
     "metadata": {},
     "output_type": "display_data"
    }
   ],
   "source": [
    "print(\"Generating critique for each QA couple...\")\n",
    "for output in tqdm(outputs):\n",
    "    evaluations = {\n",
    "        \"groundedness\": call_llm(\n",
    "            llm_client,\n",
    "            question_groundedness_critique_prompt.format(context=output[\"context\"], question=output[\"question\"]),\n",
    "        ),\n",
    "        \"relevance\": call_llm(\n",
    "            llm_client,\n",
    "            question_relevance_critique_prompt.format(question=output[\"question\"]),\n",
    "        ),\n",
    "        \"standalone\": call_llm(\n",
    "            llm_client,\n",
    "            question_standalone_critique_prompt.format(question=output[\"question\"]),\n",
    "        ),\n",
    "    }\n",
    "    try:\n",
    "        for criterion, evaluation in evaluations.items():\n",
    "            score, eval = (\n",
    "                int(evaluation.split(\"Total rating: \")[-1].strip()),\n",
    "                evaluation.split(\"Total rating: \")[-2].split(\"Evaluation: \")[1],\n",
    "            )\n",
    "            output.update(\n",
    "                {\n",
    "                    f\"{criterion}_score\": score,\n",
    "                    f\"{criterion}_eval\": eval,\n",
    "                }\n",
    "            )\n",
    "    except Exception as e:\n",
    "        continue"
   ]
  },
  {
   "cell_type": "code",
   "execution_count": 33,
   "metadata": {},
   "outputs": [],
   "source": [
    "generated_questions = pd.DataFrame.from_dict(outputs)"
   ]
  },
  {
   "cell_type": "code",
   "execution_count": 34,
   "metadata": {},
   "outputs": [
    {
     "name": "stdout",
     "output_type": "stream",
     "text": [
      "Evaluation dataset before filtering:\n"
     ]
    },
    {
     "data": {
      "text/html": [
       "<div>\n",
       "<style scoped>\n",
       "    .dataframe tbody tr th:only-of-type {\n",
       "        vertical-align: middle;\n",
       "    }\n",
       "\n",
       "    .dataframe tbody tr th {\n",
       "        vertical-align: top;\n",
       "    }\n",
       "\n",
       "    .dataframe thead th {\n",
       "        text-align: right;\n",
       "    }\n",
       "</style>\n",
       "<table border=\"1\" class=\"dataframe\">\n",
       "  <thead>\n",
       "    <tr style=\"text-align: right;\">\n",
       "      <th></th>\n",
       "      <th>question</th>\n",
       "      <th>answer</th>\n",
       "      <th>groundedness_score</th>\n",
       "      <th>relevance_score</th>\n",
       "      <th>standalone_score</th>\n",
       "    </tr>\n",
       "  </thead>\n",
       "  <tbody>\n",
       "    <tr>\n",
       "      <th>0</th>\n",
       "      <td>What was the impact on noninterest income as a result of the adoption of ASU 2018-12?\\n</td>\n",
       "      <td>The impact on noninterest income as a result of the adoption of ASU 2018-12 was an increase of $583 million.</td>\n",
       "      <td>5</td>\n",
       "      <td>1</td>\n",
       "      <td>4</td>\n",
       "    </tr>\n",
       "    <tr>\n",
       "      <th>1</th>\n",
       "      <td>How many millions of dollars are in total loans not government insured/guaranteed that are 90 days or more past due and still accruing as of December 31, 2023?\\n</td>\n",
       "      <td>1,105 million dollars</td>\n",
       "      <td>5</td>\n",
       "      <td>1</td>\n",
       "      <td>5</td>\n",
       "    </tr>\n",
       "    <tr>\n",
       "      <th>2</th>\n",
       "      <td>What did the FRB do to address high inflation?\\n</td>\n",
       "      <td>The FRB significantly raised its target range for the federal funds rate over the last two years to address high inflation.</td>\n",
       "      <td>5</td>\n",
       "      <td>2</td>\n",
       "      <td>4</td>\n",
       "    </tr>\n",
       "    <tr>\n",
       "      <th>3</th>\n",
       "      <td>What is the total equity of the company at the end of 2023?\\n</td>\n",
       "      <td>The total equity of the company at the end of 2023 is $187,443 million.</td>\n",
       "      <td>1</td>\n",
       "      <td>1</td>\n",
       "      <td>5</td>\n",
       "    </tr>\n",
       "    <tr>\n",
       "      <th>4</th>\n",
       "      <td>What is the discount rate for interest rate contracts: derivative loan commitments in the context?\\n</td>\n",
       "      <td>The discount rate for interest rate contracts: derivative loan commitments in the context is 4.2%.</td>\n",
       "      <td>1</td>\n",
       "      <td>1</td>\n",
       "      <td>1</td>\n",
       "    </tr>\n",
       "    <tr>\n",
       "      <th>5</th>\n",
       "      <td>What is the G-SIB capital surcharge for 2024?\\n</td>\n",
       "      <td>The G-SIB capital surcharge will continue to be 1.50% in 2024.</td>\n",
       "      <td>1</td>\n",
       "      <td>1</td>\n",
       "      <td>4</td>\n",
       "    </tr>\n",
       "    <tr>\n",
       "      <th>6</th>\n",
       "      <td>What is the minimum amount of TLAC required for a U.S. G-SIB?\\n</td>\n",
       "      <td>The minimum amount of TLAC required for a U.S. G-SIB is the greater of 18.00% of RWAs or 7.50% of total leverage exposure plus a TLAC buffer and an external TLAC leverage buffer.</td>\n",
       "      <td>5</td>\n",
       "      <td>1</td>\n",
       "      <td>5</td>\n",
       "    </tr>\n",
       "    <tr>\n",
       "      <th>7</th>\n",
       "      <td>What is CVA estimated based on?\\n</td>\n",
       "      <td>CVA is estimated based on observed credit spreads in the credit default swap market and indices indicative of the credit quality of the counterparties to our derivatives.</td>\n",
       "      <td>5</td>\n",
       "      <td>4</td>\n",
       "      <td>5</td>\n",
       "    </tr>\n",
       "    <tr>\n",
       "      <th>8</th>\n",
       "      <td>What could impact the quality or effectiveness of the data used by the company?\\n</td>\n",
       "      <td>Issues with the quality or effectiveness of the data could be due to problems with the aggregation, management, and validation procedures.</td>\n",
       "      <td>5</td>\n",
       "      <td>5</td>\n",
       "      <td>5</td>\n",
       "    </tr>\n",
       "    <tr>\n",
       "      <th>9</th>\n",
       "      <td>What is the G-SIB surcharge for the Company?\\n</td>\n",
       "      <td>The G-SIB surcharge for the Company is 1.50%.</td>\n",
       "      <td>1</td>\n",
       "      <td>1</td>\n",
       "      <td>2</td>\n",
       "    </tr>\n",
       "    <tr>\n",
       "      <th>10</th>\n",
       "      <td>What is the name of the ASU that is not expected to have a material impact on the consolidated financial statements?\\n</td>\n",
       "      <td>ASU 2022-03 – Fair Value Measurement (Topic 820): Fair Value Measurement of Equity Securities Subject to Contractual Sale Restrictions and ASU 2023-08 - Intangibles - Goodwill and Other - Crypto Assets (Subtopic 350-60): Accounting for and Disclosure of Crypto Assets</td>\n",
       "      <td>1</td>\n",
       "      <td>1</td>\n",
       "      <td>5</td>\n",
       "    </tr>\n",
       "    <tr>\n",
       "      <th>11</th>\n",
       "      <td>How are changes in assumptions calculated in relation to the value of other interests held?\\n</td>\n",
       "      <td>Changes in assumptions are calculated independently without changing any other assumptions.</td>\n",
       "      <td>2</td>\n",
       "      <td>1</td>\n",
       "      <td>5</td>\n",
       "    </tr>\n",
       "    <tr>\n",
       "      <th>12</th>\n",
       "      <td>What was the total amount of loans in 2023?\\n</td>\n",
       "      <td>The total amount of loans in 2023 was $291,975 million.</td>\n",
       "      <td>1</td>\n",
       "      <td>1</td>\n",
       "      <td>5</td>\n",
       "    </tr>\n",
       "    <tr>\n",
       "      <th>13</th>\n",
       "      <td>What is an example of a risk associated with the use of artificial intelligence at Wells Fargo?\\n</td>\n",
       "      <td>An example of a risk associated with the use of artificial intelligence at Wells Fargo is that the algorithms or datasets underlying the artificial intelligence may be inaccurate or include other weaknesses that could result in deficient or biased data outputs or other unintended consequences.</td>\n",
       "      <td>5</td>\n",
       "      <td>2</td>\n",
       "      <td>4</td>\n",
       "    </tr>\n",
       "    <tr>\n",
       "      <th>14</th>\n",
       "      <td>How many scheduled loan payments were past due at the end of 2023?\\n</td>\n",
       "      <td>three</td>\n",
       "      <td>1</td>\n",
       "      <td>1</td>\n",
       "      <td>5</td>\n",
       "    </tr>\n",
       "    <tr>\n",
       "      <th>15</th>\n",
       "      <td>What is the method used to depreciate operating lease assets?\\n</td>\n",
       "      <td>Operating lease assets are depreciated on a straight-line basis over the estimated useful life of the leased asset.</td>\n",
       "      <td>5</td>\n",
       "      <td>1</td>\n",
       "      <td>5</td>\n",
       "    </tr>\n",
       "    <tr>\n",
       "      <th>16</th>\n",
       "      <td>What is the percentage increase in revenue from 2022 to 2023?\\n</td>\n",
       "      <td>Revenue increased by 26% from 2022 to 2023.</td>\n",
       "      <td>4</td>\n",
       "      <td>1</td>\n",
       "      <td>5</td>\n",
       "    </tr>\n",
       "    <tr>\n",
       "      <th>17</th>\n",
       "      <td>What does AFS stand for in the context?\\n</td>\n",
       "      <td>AFS stands for Available-for-Sale.</td>\n",
       "      <td>1</td>\n",
       "      <td>2</td>\n",
       "      <td>1</td>\n",
       "    </tr>\n",
       "    <tr>\n",
       "      <th>18</th>\n",
       "      <td>What is the Return on average assets (ROA) for the year ended December 31, 2023?\\n</td>\n",
       "      <td>The Return on average assets (ROA) for the year ended December 31, 2023 is 1.02%.</td>\n",
       "      <td>5</td>\n",
       "      <td>1</td>\n",
       "      <td>5</td>\n",
       "    </tr>\n",
       "    <tr>\n",
       "      <th>19</th>\n",
       "      <td>What is the website where Wells Fargo's reports are available?\\n</td>\n",
       "      <td>The website where Wells Fargo's reports are available is www.sec.gov.</td>\n",
       "      <td>1</td>\n",
       "      <td>1</td>\n",
       "      <td>5</td>\n",
       "    </tr>\n",
       "  </tbody>\n",
       "</table>\n",
       "</div>"
      ],
      "text/plain": [
       "                                                                                                                                                             question  \\\n",
       "0                                                                             What was the impact on noninterest income as a result of the adoption of ASU 2018-12?\\n   \n",
       "1   How many millions of dollars are in total loans not government insured/guaranteed that are 90 days or more past due and still accruing as of December 31, 2023?\\n   \n",
       "2                                                                                                                    What did the FRB do to address high inflation?\\n   \n",
       "3                                                                                                       What is the total equity of the company at the end of 2023?\\n   \n",
       "4                                                                What is the discount rate for interest rate contracts: derivative loan commitments in the context?\\n   \n",
       "5                                                                                                                     What is the G-SIB capital surcharge for 2024?\\n   \n",
       "6                                                                                                     What is the minimum amount of TLAC required for a U.S. G-SIB?\\n   \n",
       "7                                                                                                                                   What is CVA estimated based on?\\n   \n",
       "8                                                                                   What could impact the quality or effectiveness of the data used by the company?\\n   \n",
       "9                                                                                                                      What is the G-SIB surcharge for the Company?\\n   \n",
       "10                                             What is the name of the ASU that is not expected to have a material impact on the consolidated financial statements?\\n   \n",
       "11                                                                      How are changes in assumptions calculated in relation to the value of other interests held?\\n   \n",
       "12                                                                                                                      What was the total amount of loans in 2023?\\n   \n",
       "13                                                                  What is an example of a risk associated with the use of artificial intelligence at Wells Fargo?\\n   \n",
       "14                                                                                               How many scheduled loan payments were past due at the end of 2023?\\n   \n",
       "15                                                                                                    What is the method used to depreciate operating lease assets?\\n   \n",
       "16                                                                                                    What is the percentage increase in revenue from 2022 to 2023?\\n   \n",
       "17                                                                                                                          What does AFS stand for in the context?\\n   \n",
       "18                                                                                 What is the Return on average assets (ROA) for the year ended December 31, 2023?\\n   \n",
       "19                                                                                                   What is the website where Wells Fargo's reports are available?\\n   \n",
       "\n",
       "                                                                                                                                                                                                                                                                                                    answer  \\\n",
       "0                                                                                                                                                                                             The impact on noninterest income as a result of the adoption of ASU 2018-12 was an increase of $583 million.   \n",
       "1                                                                                                                                                                                                                                                                                    1,105 million dollars   \n",
       "2                                                                                                                                                                              The FRB significantly raised its target range for the federal funds rate over the last two years to address high inflation.   \n",
       "3                                                                                                                                                                                                                                  The total equity of the company at the end of 2023 is $187,443 million.   \n",
       "4                                                                                                                                                                                                       The discount rate for interest rate contracts: derivative loan commitments in the context is 4.2%.   \n",
       "5                                                                                                                                                                                                                                           The G-SIB capital surcharge will continue to be 1.50% in 2024.   \n",
       "6                                                                                                                       The minimum amount of TLAC required for a U.S. G-SIB is the greater of 18.00% of RWAs or 7.50% of total leverage exposure plus a TLAC buffer and an external TLAC leverage buffer.   \n",
       "7                                                                                                                               CVA is estimated based on observed credit spreads in the credit default swap market and indices indicative of the credit quality of the counterparties to our derivatives.   \n",
       "8                                                                                                                                                               Issues with the quality or effectiveness of the data could be due to problems with the aggregation, management, and validation procedures.   \n",
       "9                                                                                                                                                                                                                                                            The G-SIB surcharge for the Company is 1.50%.   \n",
       "10                             ASU 2022-03 – Fair Value Measurement (Topic 820): Fair Value Measurement of Equity Securities Subject to Contractual Sale Restrictions and ASU 2023-08 - Intangibles - Goodwill and Other - Crypto Assets (Subtopic 350-60): Accounting for and Disclosure of Crypto Assets   \n",
       "11                                                                                                                                                                                                             Changes in assumptions are calculated independently without changing any other assumptions.   \n",
       "12                                                                                                                                                                                                                                                 The total amount of loans in 2023 was $291,975 million.   \n",
       "13  An example of a risk associated with the use of artificial intelligence at Wells Fargo is that the algorithms or datasets underlying the artificial intelligence may be inaccurate or include other weaknesses that could result in deficient or biased data outputs or other unintended consequences.   \n",
       "14                                                                                                                                                                                                                                                                                                   three   \n",
       "15                                                                                                                                                                                     Operating lease assets are depreciated on a straight-line basis over the estimated useful life of the leased asset.   \n",
       "16                                                                                                                                                                                                                                                             Revenue increased by 26% from 2022 to 2023.   \n",
       "17                                                                                                                                                                                                                                                                      AFS stands for Available-for-Sale.   \n",
       "18                                                                                                                                                                                                                       The Return on average assets (ROA) for the year ended December 31, 2023 is 1.02%.   \n",
       "19                                                                                                                                                                                                                                   The website where Wells Fargo's reports are available is www.sec.gov.   \n",
       "\n",
       "    groundedness_score  relevance_score  standalone_score  \n",
       "0                    5                1                 4  \n",
       "1                    5                1                 5  \n",
       "2                    5                2                 4  \n",
       "3                    1                1                 5  \n",
       "4                    1                1                 1  \n",
       "5                    1                1                 4  \n",
       "6                    5                1                 5  \n",
       "7                    5                4                 5  \n",
       "8                    5                5                 5  \n",
       "9                    1                1                 2  \n",
       "10                   1                1                 5  \n",
       "11                   2                1                 5  \n",
       "12                   1                1                 5  \n",
       "13                   5                2                 4  \n",
       "14                   1                1                 5  \n",
       "15                   5                1                 5  \n",
       "16                   4                1                 5  \n",
       "17                   1                2                 1  \n",
       "18                   5                1                 5  \n",
       "19                   1                1                 5  "
      ]
     },
     "metadata": {},
     "output_type": "display_data"
    }
   ],
   "source": [
    "print(\"Evaluation dataset before filtering:\")\n",
    "display(\n",
    "    generated_questions[\n",
    "        [\n",
    "            \"question\",\n",
    "            \"answer\",\n",
    "            \"groundedness_score\",\n",
    "            \"relevance_score\",\n",
    "            \"standalone_score\",\n",
    "        ]\n",
    "    ]\n",
    ")"
   ]
  },
  {
   "cell_type": "code",
   "execution_count": 36,
   "metadata": {},
   "outputs": [],
   "source": [
    "generated_questions = generated_questions.loc[\n",
    "    (generated_questions[\"groundedness_score\"] >= 4)\n",
    "    & (generated_questions[\"relevance_score\"] >= 4)\n",
    "    & (generated_questions[\"standalone_score\"] >= 4)\n",
    "]"
   ]
  },
  {
   "cell_type": "code",
   "execution_count": 37,
   "metadata": {},
   "outputs": [
    {
     "name": "stdout",
     "output_type": "stream",
     "text": [
      "Final evaluation dataset:\n"
     ]
    },
    {
     "data": {
      "text/html": [
       "<div>\n",
       "<style scoped>\n",
       "    .dataframe tbody tr th:only-of-type {\n",
       "        vertical-align: middle;\n",
       "    }\n",
       "\n",
       "    .dataframe tbody tr th {\n",
       "        vertical-align: top;\n",
       "    }\n",
       "\n",
       "    .dataframe thead th {\n",
       "        text-align: right;\n",
       "    }\n",
       "</style>\n",
       "<table border=\"1\" class=\"dataframe\">\n",
       "  <thead>\n",
       "    <tr style=\"text-align: right;\">\n",
       "      <th></th>\n",
       "      <th>question</th>\n",
       "      <th>answer</th>\n",
       "      <th>groundedness_score</th>\n",
       "      <th>relevance_score</th>\n",
       "      <th>standalone_score</th>\n",
       "    </tr>\n",
       "  </thead>\n",
       "  <tbody>\n",
       "    <tr>\n",
       "      <th>7</th>\n",
       "      <td>What is CVA estimated based on?\\n</td>\n",
       "      <td>CVA is estimated based on observed credit spreads in the credit default swap market and indices indicative of the credit quality of the counterparties to our derivatives.</td>\n",
       "      <td>5</td>\n",
       "      <td>4</td>\n",
       "      <td>5</td>\n",
       "    </tr>\n",
       "    <tr>\n",
       "      <th>8</th>\n",
       "      <td>What could impact the quality or effectiveness of the data used by the company?\\n</td>\n",
       "      <td>Issues with the quality or effectiveness of the data could be due to problems with the aggregation, management, and validation procedures.</td>\n",
       "      <td>5</td>\n",
       "      <td>5</td>\n",
       "      <td>5</td>\n",
       "    </tr>\n",
       "  </tbody>\n",
       "</table>\n",
       "</div>"
      ],
      "text/plain": [
       "                                                                            question  \\\n",
       "7                                                  What is CVA estimated based on?\\n   \n",
       "8  What could impact the quality or effectiveness of the data used by the company?\\n   \n",
       "\n",
       "                                                                                                                                                                       answer  \\\n",
       "7  CVA is estimated based on observed credit spreads in the credit default swap market and indices indicative of the credit quality of the counterparties to our derivatives.   \n",
       "8                                  Issues with the quality or effectiveness of the data could be due to problems with the aggregation, management, and validation procedures.   \n",
       "\n",
       "   groundedness_score  relevance_score  standalone_score  \n",
       "7                   5                4                 5  \n",
       "8                   5                5                 5  "
      ]
     },
     "metadata": {},
     "output_type": "display_data"
    }
   ],
   "source": [
    "print(\"Final evaluation dataset:\")\n",
    "display(\n",
    "    generated_questions[\n",
    "        [\n",
    "            \"question\",\n",
    "            \"answer\",\n",
    "            \"groundedness_score\",\n",
    "            \"relevance_score\",\n",
    "            \"standalone_score\",\n",
    "        ]\n",
    "    ]\n",
    ")"
   ]
  },
  {
   "cell_type": "code",
   "execution_count": 50,
   "metadata": {},
   "outputs": [],
   "source": [
    "eval_dataset = datasets.Dataset.from_pandas(generated_questions, split=\"train\", preserve_index=False)"
   ]
  },
  {
   "cell_type": "code",
   "execution_count": 51,
   "metadata": {},
   "outputs": [
    {
     "data": {
      "text/plain": [
       "Dataset({\n",
       "    features: ['context', 'question', 'answer', 'source_doc', 'groundedness_score', 'groundedness_eval', 'relevance_score', 'relevance_eval', 'standalone_score', 'standalone_eval'],\n",
       "    num_rows: 2\n",
       "})"
      ]
     },
     "execution_count": 51,
     "metadata": {},
     "output_type": "execute_result"
    }
   ],
   "source": [
    "eval_dataset"
   ]
  },
  {
   "cell_type": "code",
   "execution_count": 38,
   "metadata": {},
   "outputs": [],
   "source": [
    "def split_documents(\n",
    "    chunk_size: int,\n",
    "    knowledge_base: List,\n",
    "    tokenizer_name: str,\n",
    ") -> List:\n",
    "    \"\"\"\n",
    "    Split documents into chunks of size `chunk_size` characters and return a list of documents.\n",
    "    \"\"\"\n",
    "    text_splitter = RecursiveCharacterTextSplitter.from_huggingface_tokenizer(\n",
    "        AutoTokenizer.from_pretrained(tokenizer_name),\n",
    "        chunk_size=chunk_size,\n",
    "        chunk_overlap=int(chunk_size / 10),\n",
    "        add_start_index=True,\n",
    "        strip_whitespace=True,\n",
    "        separators=[\"\\n\\n\", \"\\n\", \".\", \" \", \"\"],\n",
    "    )\n",
    "\n",
    "    docs_processed = []\n",
    "    for doc in knowledge_base:\n",
    "        docs_processed += text_splitter.split_documents([doc])\n",
    "\n",
    "    # Remove duplicates\n",
    "    unique_texts = {}\n",
    "    docs_processed_unique = []\n",
    "    for doc in docs_processed:\n",
    "        if doc.page_content not in unique_texts:\n",
    "            unique_texts[doc.page_content] = True\n",
    "            docs_processed_unique.append(doc)\n",
    " \n",
    "    return docs_processed_unique"
   ]
  },
  {
   "cell_type": "code",
   "execution_count": 39,
   "metadata": {},
   "outputs": [],
   "source": [
    "from langchain.vectorstores import FAISS\n",
    "from langchain_community.embeddings import HuggingFaceEmbeddings\n",
    "from langchain_community.vectorstores.utils import DistanceStrategy\n",
    "import os\n",
    "\n",
    "\n",
    "def load_embeddings(\n",
    "    langchain_docs: List[LangchainDocument],\n",
    "    chunk_size: int,\n",
    "    embedding_model_name: Optional[str] = \"thenlper/gte-small\",\n",
    ") -> FAISS:\n",
    "    \"\"\"\n",
    "    Creates a FAISS index from the given embedding model and documents. Loads the index directly if it already exists.\n",
    "\n",
    "    Args:\n",
    "        langchain_docs: list of documents\n",
    "        chunk_size: size of the chunks to split the documents into\n",
    "        embedding_model_name: name of the embedding model to use\n",
    "\n",
    "    Returns:\n",
    "        FAISS index\n",
    "    \"\"\"\n",
    "    # load embedding_model\n",
    "    embedding_model = HuggingFaceEmbeddings(\n",
    "        model_name=embedding_model_name,\n",
    "        multi_process=True,\n",
    "        model_kwargs={\"device\": \"cuda\"},\n",
    "        encode_kwargs={\"normalize_embeddings\": True},  # set True to compute cosine similarity\n",
    "    )\n",
    "\n",
    "    # Check if embeddings already exist on disk\n",
    "    index_name = f\"index_chunk:{chunk_size}_embeddings:{embedding_model_name.replace('/', '~')}\"\n",
    "    index_folder_path = f\"./data/indexes/{index_name}/\"\n",
    "    if os.path.isdir(index_folder_path):\n",
    "        return FAISS.load_local(\n",
    "            index_folder_path,\n",
    "            embedding_model,\n",
    "            distance_strategy=DistanceStrategy.COSINE,\n",
    "        )\n",
    "\n",
    "    else:\n",
    "        print(\"Index not found, generating it...\")\n",
    "        docs_processed = split_documents(\n",
    "            chunk_size,\n",
    "            langchain_docs,\n",
    "            embedding_model_name,\n",
    "        )\n",
    "        knowledge_index = FAISS.from_documents(\n",
    "            docs_processed, embedding_model, distance_strategy=DistanceStrategy.COSINE\n",
    "        )\n",
    "        knowledge_index.save_local(index_folder_path)\n",
    "        return knowledge_index"
   ]
  },
  {
   "cell_type": "code",
   "execution_count": 40,
   "metadata": {},
   "outputs": [],
   "source": [
    "RAG_PROMPT_TEMPLATE = \"\"\"\n",
    "<|system|>\n",
    "Using the information contained in the context,\n",
    "give a comprehensive answer to the question.\n",
    "Respond only to the question asked, response should be concise and relevant to the question.\n",
    "Provide the number of the source document when relevant.\n",
    "If the answer cannot be deduced from the context, do not give an answer.</s>\n",
    "<|user|>\n",
    "Context:\n",
    "{context}\n",
    "---\n",
    "Now here is the question you need to answer.\n",
    "\n",
    "Question: {question}\n",
    "</s>\n",
    "<|assistant|>\n",
    "\"\"\""
   ]
  },
  {
   "cell_type": "code",
   "execution_count": 41,
   "metadata": {},
   "outputs": [
    {
     "name": "stderr",
     "output_type": "stream",
     "text": [
      "/Users/priyanshutuli/Desktop/RAG_pipeline_testing/.venv/lib/python3.10/site-packages/langchain_core/_api/deprecation.py:117: LangChainDeprecationWarning: The class `langchain_community.llms.huggingface_hub.HuggingFaceHub` was deprecated in langchain-community 0.0.21 and will be removed in 0.2.0. Use HuggingFaceEndpoint instead.\n",
      "  warn_deprecated(\n"
     ]
    }
   ],
   "source": [
    "from langchain_community.llms import HuggingFaceHub\n",
    "\n",
    "repo_id = \"HuggingFaceH4/zephyr-7b-beta\"\n",
    "READER_MODEL_NAME = \"zephyr-7b-beta\"\n",
    "\n",
    "READER_LLM = HuggingFaceHub(\n",
    "    repo_id=repo_id,\n",
    "    task=\"text-generation\",\n",
    "    model_kwargs={\n",
    "        \"max_new_tokens\": 512,\n",
    "        \"top_k\": 30,\n",
    "        \"temperature\": 0.1,\n",
    "        \"repetition_penalty\": 1.03,\n",
    "    },\n",
    ")"
   ]
  },
  {
   "cell_type": "code",
   "execution_count": 42,
   "metadata": {},
   "outputs": [],
   "source": [
    "from ragatouille import RAGPretrainedModel\n",
    "from langchain_core.vectorstores import VectorStore\n",
    "from langchain_core.language_models.llms import LLM\n",
    "\n",
    "\n",
    "def answer_with_rag(\n",
    "    question: str,\n",
    "    llm: LLM,\n",
    "    knowledge_index: VectorStore,\n",
    "    reranker: Optional[RAGPretrainedModel] = None,\n",
    "    num_retrieved_docs: int = 30,\n",
    "    num_docs_final: int = 7,\n",
    ") -> Tuple[str, List[LangchainDocument]]:\n",
    "    \"\"\"Answer a question using RAG with the given knowledge index.\"\"\"\n",
    "    # Gather documents with retriever\n",
    "    relevant_docs = knowledge_index.similarity_search(query=question, k=num_retrieved_docs)\n",
    "    relevant_docs = [doc.page_content for doc in relevant_docs]  # keep only the text\n",
    "\n",
    "    # Optionally rerank results\n",
    "    if reranker:\n",
    "        relevant_docs = reranker.rerank(question, relevant_docs, k=num_docs_final)\n",
    "        relevant_docs = [doc[\"content\"] for doc in relevant_docs]\n",
    "\n",
    "    relevant_docs = relevant_docs[:num_docs_final]\n",
    "\n",
    "    # Build the final prompt\n",
    "    context = \"\\nExtracted documents:\\n\"\n",
    "    context += \"\".join([f\"Document {str(i)}:::\\n\" + doc for i, doc in enumerate(relevant_docs)])\n",
    "\n",
    "    final_prompt = RAG_PROMPT_TEMPLATE.format(question=question, context=context)\n",
    "\n",
    "    # Redact an answer\n",
    "    answer = llm(final_prompt)\n",
    "\n",
    "    return answer, relevant_docs"
   ]
  },
  {
   "cell_type": "code",
   "execution_count": 44,
   "metadata": {},
   "outputs": [],
   "source": [
    "def run_rag_tests(\n",
    "    eval_dataset: datasets.Dataset,\n",
    "    llm,\n",
    "    knowledge_index: VectorStore,\n",
    "    output_file: str,\n",
    "    reranker: Optional[RAGPretrainedModel] = None,\n",
    "    verbose: Optional[bool] = True,\n",
    "    test_settings: Optional[str] = None,  # To document the test settings used\n",
    "):\n",
    "    \"\"\"Runs RAG tests on the given dataset and saves the results to the given output file.\"\"\"\n",
    "    try:  # load previous generations if they exist\n",
    "        with open(output_file, \"r\") as f:\n",
    "            outputs = json.load(f)\n",
    "    except:\n",
    "        outputs = []\n",
    "\n",
    "    for example in tqdm(eval_dataset):\n",
    "        question = example[\"question\"]\n",
    "        if question in [output[\"question\"] for output in outputs]:\n",
    "            continue\n",
    "\n",
    "        answer, relevant_docs = answer_with_rag(question, llm, knowledge_index, reranker=reranker)\n",
    "        if verbose:\n",
    "            print(\"=======================================================\")\n",
    "            print(f\"Question: {question}\")\n",
    "            print(f\"Answer: {answer}\")\n",
    "            print(f'True answer: {example[\"answer\"]}')\n",
    "        result = {\n",
    "            \"question\": question,\n",
    "            \"true_answer\": example[\"answer\"],\n",
    "            \"source_doc\": example[\"source_doc\"],\n",
    "            \"generated_answer\": answer,\n",
    "            \"retrieved_docs\": [doc for doc in relevant_docs],\n",
    "        }\n",
    "        if test_settings:\n",
    "            result[\"test_settings\"] = test_settings\n",
    "        outputs.append(result)\n",
    "\n",
    "        with open(output_file, \"w\") as f:\n",
    "            json.dump(outputs, f)"
   ]
  },
  {
   "cell_type": "code",
   "execution_count": 45,
   "metadata": {},
   "outputs": [],
   "source": [
    "EVALUATION_PROMPT = \"\"\"###Task Description:\n",
    "An instruction (might include an Input inside it), a response to evaluate, a reference answer that gets a score of 5, and a score rubric representing a evaluation criteria are given.\n",
    "1. Write a detailed feedback that assess the quality of the response strictly based on the given score rubric, not evaluating in general.\n",
    "2. After writing a feedback, write a score that is an integer between 1 and 5. You should refer to the score rubric.\n",
    "3. The output format should look as follows: \\\"Feedback: {{write a feedback for criteria}} [RESULT] {{an integer number between 1 and 5}}\\\"\n",
    "4. Please do not generate any other opening, closing, and explanations. Be sure to include [RESULT] in your output.\n",
    "\n",
    "###The instruction to evaluate:\n",
    "{instruction}\n",
    "\n",
    "###Response to evaluate:\n",
    "{response}\n",
    "\n",
    "###Reference Answer (Score 5):\n",
    "{reference_answer}\n",
    "\n",
    "###Score Rubrics:\n",
    "[Is the response correct, accurate, and factual based on the reference answer?]\n",
    "Score 1: The response is completely incorrect, inaccurate, and/or not factual.\n",
    "Score 2: The response is mostly incorrect, inaccurate, and/or not factual.\n",
    "Score 3: The response is somewhat correct, accurate, and/or factual.\n",
    "Score 4: The response is mostly correct, accurate, and factual.\n",
    "Score 5: The response is completely correct, accurate, and factual.\n",
    "\n",
    "###Feedback:\"\"\"\n",
    "\n",
    "from langchain.prompts.chat import (\n",
    "    ChatPromptTemplate,\n",
    "    HumanMessagePromptTemplate,\n",
    ")\n",
    "from langchain.schema import SystemMessage\n",
    "\n",
    "\n",
    "evaluation_prompt_template = ChatPromptTemplate.from_messages(\n",
    "    [\n",
    "        SystemMessage(content=\"You are a fair evaluator language model.\"),\n",
    "        HumanMessagePromptTemplate.from_template(EVALUATION_PROMPT),\n",
    "    ]\n",
    ")"
   ]
  },
  {
   "cell_type": "code",
   "execution_count": 48,
   "metadata": {},
   "outputs": [],
   "source": [
    "from langchain.chat_models import ChatOllama\n",
    "\n",
    "eval_chat_model = ChatOllama(model=\"llama2\", temperature=0)\n",
    "evaluator_name = \"llama2\"\n",
    "\n",
    "\n",
    "def evaluate_answers(\n",
    "    answer_path: str,\n",
    "    eval_chat_model,\n",
    "    evaluator_name: str,\n",
    "    evaluation_prompt_template: ChatPromptTemplate,\n",
    ") -> None:\n",
    "    \"\"\"Evaluates generated answers. Modifies the given answer file in place for better checkpointing.\"\"\"\n",
    "    answers = []\n",
    "    if os.path.isfile(answer_path):  # load previous generations if they exist\n",
    "        answers = json.load(open(answer_path, \"r\"))\n",
    "\n",
    "    for experiment in tqdm(answers):\n",
    "        if f\"eval_score_{evaluator_name}\" in experiment:\n",
    "            continue\n",
    "\n",
    "        eval_prompt = evaluation_prompt_template.format_messages(\n",
    "            instruction=experiment[\"question\"],\n",
    "            response=experiment[\"generated_answer\"],\n",
    "            reference_answer=experiment[\"true_answer\"],\n",
    "        )\n",
    "        eval_result = eval_chat_model.invoke(eval_prompt)\n",
    "        feedback, score = [item.strip() for item in eval_result.content.split(\"[RESULT]\")]\n",
    "        experiment[f\"eval_score_{evaluator_name}\"] = score\n",
    "        experiment[f\"eval_feedback_{evaluator_name}\"] = feedback\n",
    "\n",
    "        with open(answer_path, \"w\") as f:\n",
    "            json.dump(answers, f)"
   ]
  },
  {
   "cell_type": "code",
   "execution_count": 52,
   "metadata": {},
   "outputs": [
    {
     "name": "stdout",
     "output_type": "stream",
     "text": [
      "Running evaluation for chunk:200_embeddings:thenlper~gte-small_rerank:True_reader-model:zephyr-7b-beta:\n",
      "Loading knowledge base embeddings...\n"
     ]
    },
    {
     "data": {
      "application/vnd.jupyter.widget-view+json": {
       "model_id": "f6314480e37743e49abe4d125d1fc15d",
       "version_major": 2,
       "version_minor": 0
      },
      "text/plain": [
       "modules.json:   0%|          | 0.00/385 [00:00<?, ?B/s]"
      ]
     },
     "metadata": {},
     "output_type": "display_data"
    },
    {
     "data": {
      "application/vnd.jupyter.widget-view+json": {
       "model_id": "2d131459fdb64026b83664ae5b55bb35",
       "version_major": 2,
       "version_minor": 0
      },
      "text/plain": [
       "README.md:   0%|          | 0.00/68.1k [00:00<?, ?B/s]"
      ]
     },
     "metadata": {},
     "output_type": "display_data"
    },
    {
     "data": {
      "application/vnd.jupyter.widget-view+json": {
       "model_id": "5de5346b778b448ca151b18be0b85e34",
       "version_major": 2,
       "version_minor": 0
      },
      "text/plain": [
       "sentence_bert_config.json:   0%|          | 0.00/57.0 [00:00<?, ?B/s]"
      ]
     },
     "metadata": {},
     "output_type": "display_data"
    },
    {
     "data": {
      "application/vnd.jupyter.widget-view+json": {
       "model_id": "fdd3f17fca974d539666344afa6cb6ea",
       "version_major": 2,
       "version_minor": 0
      },
      "text/plain": [
       "config.json:   0%|          | 0.00/583 [00:00<?, ?B/s]"
      ]
     },
     "metadata": {},
     "output_type": "display_data"
    },
    {
     "data": {
      "application/vnd.jupyter.widget-view+json": {
       "model_id": "be913564b67544338113d617e62f72ba",
       "version_major": 2,
       "version_minor": 0
      },
      "text/plain": [
       "model.safetensors:   0%|          | 0.00/66.7M [00:00<?, ?B/s]"
      ]
     },
     "metadata": {},
     "output_type": "display_data"
    },
    {
     "data": {
      "application/vnd.jupyter.widget-view+json": {
       "model_id": "11c1e9ffaa4c4053ac4a7debd75c688a",
       "version_major": 2,
       "version_minor": 0
      },
      "text/plain": [
       "tokenizer_config.json:   0%|          | 0.00/394 [00:00<?, ?B/s]"
      ]
     },
     "metadata": {},
     "output_type": "display_data"
    },
    {
     "data": {
      "application/vnd.jupyter.widget-view+json": {
       "model_id": "95f4787a31024c79b57894954f2e63e3",
       "version_major": 2,
       "version_minor": 0
      },
      "text/plain": [
       "vocab.txt:   0%|          | 0.00/232k [00:00<?, ?B/s]"
      ]
     },
     "metadata": {},
     "output_type": "display_data"
    },
    {
     "data": {
      "application/vnd.jupyter.widget-view+json": {
       "model_id": "1cbaae207f314f20ad9e80160d827d12",
       "version_major": 2,
       "version_minor": 0
      },
      "text/plain": [
       "tokenizer.json:   0%|          | 0.00/712k [00:00<?, ?B/s]"
      ]
     },
     "metadata": {},
     "output_type": "display_data"
    },
    {
     "data": {
      "application/vnd.jupyter.widget-view+json": {
       "model_id": "0cadfb8be180409a93ba83519c953faa",
       "version_major": 2,
       "version_minor": 0
      },
      "text/plain": [
       "special_tokens_map.json:   0%|          | 0.00/125 [00:00<?, ?B/s]"
      ]
     },
     "metadata": {},
     "output_type": "display_data"
    },
    {
     "data": {
      "application/vnd.jupyter.widget-view+json": {
       "model_id": "9dd4b4d2a2a24428ad22251f72f9c94d",
       "version_major": 2,
       "version_minor": 0
      },
      "text/plain": [
       "1_Pooling/config.json:   0%|          | 0.00/190 [00:00<?, ?B/s]"
      ]
     },
     "metadata": {},
     "output_type": "display_data"
    },
    {
     "ename": "AssertionError",
     "evalue": "Torch not compiled with CUDA enabled",
     "output_type": "error",
     "traceback": [
      "\u001b[0;31m---------------------------------------------------------------------------\u001b[0m",
      "\u001b[0;31mAssertionError\u001b[0m                            Traceback (most recent call last)",
      "Cell \u001b[0;32mIn[52], line 13\u001b[0m\n\u001b[1;32m     10\u001b[0m \u001b[38;5;28mprint\u001b[39m(\u001b[38;5;124mf\u001b[39m\u001b[38;5;124m\"\u001b[39m\u001b[38;5;124mRunning evaluation for \u001b[39m\u001b[38;5;132;01m{\u001b[39;00msettings_name\u001b[38;5;132;01m}\u001b[39;00m\u001b[38;5;124m:\u001b[39m\u001b[38;5;124m\"\u001b[39m)\n\u001b[1;32m     12\u001b[0m \u001b[38;5;28mprint\u001b[39m(\u001b[38;5;124m\"\u001b[39m\u001b[38;5;124mLoading knowledge base embeddings...\u001b[39m\u001b[38;5;124m\"\u001b[39m)\n\u001b[0;32m---> 13\u001b[0m knowledge_index \u001b[38;5;241m=\u001b[39m \u001b[43mload_embeddings\u001b[49m\u001b[43m(\u001b[49m\n\u001b[1;32m     14\u001b[0m \u001b[43m    \u001b[49m\u001b[43mRAW_KNOWLEDGE_BASE\u001b[49m\u001b[43m,\u001b[49m\n\u001b[1;32m     15\u001b[0m \u001b[43m    \u001b[49m\u001b[43mchunk_size\u001b[49m\u001b[38;5;241;43m=\u001b[39;49m\u001b[43mchunk_size\u001b[49m\u001b[43m,\u001b[49m\n\u001b[1;32m     16\u001b[0m \u001b[43m    \u001b[49m\u001b[43membedding_model_name\u001b[49m\u001b[38;5;241;43m=\u001b[39;49m\u001b[43membeddings\u001b[49m\u001b[43m,\u001b[49m\n\u001b[1;32m     17\u001b[0m \u001b[43m\u001b[49m\u001b[43m)\u001b[49m\n\u001b[1;32m     19\u001b[0m \u001b[38;5;28mprint\u001b[39m(\u001b[38;5;124m\"\u001b[39m\u001b[38;5;124mRunning RAG...\u001b[39m\u001b[38;5;124m\"\u001b[39m)\n\u001b[1;32m     20\u001b[0m reranker \u001b[38;5;241m=\u001b[39m RAGPretrainedModel\u001b[38;5;241m.\u001b[39mfrom_pretrained(\u001b[38;5;124m\"\u001b[39m\u001b[38;5;124mcolbert-ir/colbertv2.0\u001b[39m\u001b[38;5;124m\"\u001b[39m) \u001b[38;5;28;01mif\u001b[39;00m rerank \u001b[38;5;28;01melse\u001b[39;00m \u001b[38;5;28;01mNone\u001b[39;00m\n",
      "Cell \u001b[0;32mIn[39], line 24\u001b[0m, in \u001b[0;36mload_embeddings\u001b[0;34m(langchain_docs, chunk_size, embedding_model_name)\u001b[0m\n\u001b[1;32m     12\u001b[0m \u001b[38;5;250m\u001b[39m\u001b[38;5;124;03m\"\"\"\u001b[39;00m\n\u001b[1;32m     13\u001b[0m \u001b[38;5;124;03mCreates a FAISS index from the given embedding model and documents. Loads the index directly if it already exists.\u001b[39;00m\n\u001b[1;32m     14\u001b[0m \n\u001b[0;32m   (...)\u001b[0m\n\u001b[1;32m     21\u001b[0m \u001b[38;5;124;03m    FAISS index\u001b[39;00m\n\u001b[1;32m     22\u001b[0m \u001b[38;5;124;03m\"\"\"\u001b[39;00m\n\u001b[1;32m     23\u001b[0m \u001b[38;5;66;03m# load embedding_model\u001b[39;00m\n\u001b[0;32m---> 24\u001b[0m embedding_model \u001b[38;5;241m=\u001b[39m \u001b[43mHuggingFaceEmbeddings\u001b[49m\u001b[43m(\u001b[49m\n\u001b[1;32m     25\u001b[0m \u001b[43m    \u001b[49m\u001b[43mmodel_name\u001b[49m\u001b[38;5;241;43m=\u001b[39;49m\u001b[43membedding_model_name\u001b[49m\u001b[43m,\u001b[49m\n\u001b[1;32m     26\u001b[0m \u001b[43m    \u001b[49m\u001b[43mmulti_process\u001b[49m\u001b[38;5;241;43m=\u001b[39;49m\u001b[38;5;28;43;01mTrue\u001b[39;49;00m\u001b[43m,\u001b[49m\n\u001b[1;32m     27\u001b[0m \u001b[43m    \u001b[49m\u001b[43mmodel_kwargs\u001b[49m\u001b[38;5;241;43m=\u001b[39;49m\u001b[43m{\u001b[49m\u001b[38;5;124;43m\"\u001b[39;49m\u001b[38;5;124;43mdevice\u001b[39;49m\u001b[38;5;124;43m\"\u001b[39;49m\u001b[43m:\u001b[49m\u001b[43m \u001b[49m\u001b[38;5;124;43m\"\u001b[39;49m\u001b[38;5;124;43mcuda\u001b[39;49m\u001b[38;5;124;43m\"\u001b[39;49m\u001b[43m}\u001b[49m\u001b[43m,\u001b[49m\n\u001b[1;32m     28\u001b[0m \u001b[43m    \u001b[49m\u001b[43mencode_kwargs\u001b[49m\u001b[38;5;241;43m=\u001b[39;49m\u001b[43m{\u001b[49m\u001b[38;5;124;43m\"\u001b[39;49m\u001b[38;5;124;43mnormalize_embeddings\u001b[39;49m\u001b[38;5;124;43m\"\u001b[39;49m\u001b[43m:\u001b[49m\u001b[43m \u001b[49m\u001b[38;5;28;43;01mTrue\u001b[39;49;00m\u001b[43m}\u001b[49m\u001b[43m,\u001b[49m\u001b[43m  \u001b[49m\u001b[38;5;66;43;03m# set True to compute cosine similarity\u001b[39;49;00m\n\u001b[1;32m     29\u001b[0m \u001b[43m\u001b[49m\u001b[43m)\u001b[49m\n\u001b[1;32m     31\u001b[0m \u001b[38;5;66;03m# Check if embeddings already exist on disk\u001b[39;00m\n\u001b[1;32m     32\u001b[0m index_name \u001b[38;5;241m=\u001b[39m \u001b[38;5;124mf\u001b[39m\u001b[38;5;124m\"\u001b[39m\u001b[38;5;124mindex_chunk:\u001b[39m\u001b[38;5;132;01m{\u001b[39;00mchunk_size\u001b[38;5;132;01m}\u001b[39;00m\u001b[38;5;124m_embeddings:\u001b[39m\u001b[38;5;132;01m{\u001b[39;00membedding_model_name\u001b[38;5;241m.\u001b[39mreplace(\u001b[38;5;124m'\u001b[39m\u001b[38;5;124m/\u001b[39m\u001b[38;5;124m'\u001b[39m,\u001b[38;5;250m \u001b[39m\u001b[38;5;124m'\u001b[39m\u001b[38;5;124m~\u001b[39m\u001b[38;5;124m'\u001b[39m)\u001b[38;5;132;01m}\u001b[39;00m\u001b[38;5;124m\"\u001b[39m\n",
      "File \u001b[0;32m~/Desktop/RAG_pipeline_testing/.venv/lib/python3.10/site-packages/langchain_community/embeddings/huggingface.py:72\u001b[0m, in \u001b[0;36mHuggingFaceEmbeddings.__init__\u001b[0;34m(self, **kwargs)\u001b[0m\n\u001b[1;32m     66\u001b[0m \u001b[38;5;28;01mexcept\u001b[39;00m \u001b[38;5;167;01mImportError\u001b[39;00m \u001b[38;5;28;01mas\u001b[39;00m exc:\n\u001b[1;32m     67\u001b[0m     \u001b[38;5;28;01mraise\u001b[39;00m \u001b[38;5;167;01mImportError\u001b[39;00m(\n\u001b[1;32m     68\u001b[0m         \u001b[38;5;124m\"\u001b[39m\u001b[38;5;124mCould not import sentence_transformers python package. \u001b[39m\u001b[38;5;124m\"\u001b[39m\n\u001b[1;32m     69\u001b[0m         \u001b[38;5;124m\"\u001b[39m\u001b[38;5;124mPlease install it with `pip install sentence-transformers`.\u001b[39m\u001b[38;5;124m\"\u001b[39m\n\u001b[1;32m     70\u001b[0m     ) \u001b[38;5;28;01mfrom\u001b[39;00m \u001b[38;5;21;01mexc\u001b[39;00m\n\u001b[0;32m---> 72\u001b[0m \u001b[38;5;28mself\u001b[39m\u001b[38;5;241m.\u001b[39mclient \u001b[38;5;241m=\u001b[39m \u001b[43msentence_transformers\u001b[49m\u001b[38;5;241;43m.\u001b[39;49m\u001b[43mSentenceTransformer\u001b[49m\u001b[43m(\u001b[49m\n\u001b[1;32m     73\u001b[0m \u001b[43m    \u001b[49m\u001b[38;5;28;43mself\u001b[39;49m\u001b[38;5;241;43m.\u001b[39;49m\u001b[43mmodel_name\u001b[49m\u001b[43m,\u001b[49m\u001b[43m \u001b[49m\u001b[43mcache_folder\u001b[49m\u001b[38;5;241;43m=\u001b[39;49m\u001b[38;5;28;43mself\u001b[39;49m\u001b[38;5;241;43m.\u001b[39;49m\u001b[43mcache_folder\u001b[49m\u001b[43m,\u001b[49m\u001b[43m \u001b[49m\u001b[38;5;241;43m*\u001b[39;49m\u001b[38;5;241;43m*\u001b[39;49m\u001b[38;5;28;43mself\u001b[39;49m\u001b[38;5;241;43m.\u001b[39;49m\u001b[43mmodel_kwargs\u001b[49m\n\u001b[1;32m     74\u001b[0m \u001b[43m\u001b[49m\u001b[43m)\u001b[49m\n",
      "File \u001b[0;32m~/Desktop/RAG_pipeline_testing/.venv/lib/python3.10/site-packages/sentence_transformers/SentenceTransformer.py:215\u001b[0m, in \u001b[0;36mSentenceTransformer.__init__\u001b[0;34m(self, model_name_or_path, modules, device, prompts, default_prompt_name, cache_folder, trust_remote_code, revision, token, use_auth_token)\u001b[0m\n\u001b[1;32m    212\u001b[0m     device \u001b[38;5;241m=\u001b[39m get_device_name()\n\u001b[1;32m    213\u001b[0m     logger\u001b[38;5;241m.\u001b[39minfo(\u001b[38;5;124m\"\u001b[39m\u001b[38;5;124mUse pytorch device_name: \u001b[39m\u001b[38;5;132;01m{}\u001b[39;00m\u001b[38;5;124m\"\u001b[39m\u001b[38;5;241m.\u001b[39mformat(device))\n\u001b[0;32m--> 215\u001b[0m \u001b[38;5;28;43mself\u001b[39;49m\u001b[38;5;241;43m.\u001b[39;49m\u001b[43mto\u001b[49m\u001b[43m(\u001b[49m\u001b[43mdevice\u001b[49m\u001b[43m)\u001b[49m\n\u001b[1;32m    217\u001b[0m \u001b[38;5;28;01mif\u001b[39;00m \u001b[38;5;28mself\u001b[39m\u001b[38;5;241m.\u001b[39mdefault_prompt_name \u001b[38;5;129;01mis\u001b[39;00m \u001b[38;5;129;01mnot\u001b[39;00m \u001b[38;5;28;01mNone\u001b[39;00m \u001b[38;5;129;01mand\u001b[39;00m \u001b[38;5;28mself\u001b[39m\u001b[38;5;241m.\u001b[39mdefault_prompt_name \u001b[38;5;129;01mnot\u001b[39;00m \u001b[38;5;129;01min\u001b[39;00m \u001b[38;5;28mself\u001b[39m\u001b[38;5;241m.\u001b[39mprompts:\n\u001b[1;32m    218\u001b[0m     \u001b[38;5;28;01mraise\u001b[39;00m \u001b[38;5;167;01mValueError\u001b[39;00m(\n\u001b[1;32m    219\u001b[0m         \u001b[38;5;124mf\u001b[39m\u001b[38;5;124m\"\u001b[39m\u001b[38;5;124mDefault prompt name \u001b[39m\u001b[38;5;124m'\u001b[39m\u001b[38;5;132;01m{\u001b[39;00m\u001b[38;5;28mself\u001b[39m\u001b[38;5;241m.\u001b[39mdefault_prompt_name\u001b[38;5;132;01m}\u001b[39;00m\u001b[38;5;124m'\u001b[39m\u001b[38;5;124m not found in the configured prompts \u001b[39m\u001b[38;5;124m\"\u001b[39m\n\u001b[1;32m    220\u001b[0m         \u001b[38;5;124mf\u001b[39m\u001b[38;5;124m\"\u001b[39m\u001b[38;5;124mdictionary with keys \u001b[39m\u001b[38;5;132;01m{\u001b[39;00m\u001b[38;5;28mlist\u001b[39m(\u001b[38;5;28mself\u001b[39m\u001b[38;5;241m.\u001b[39mprompts\u001b[38;5;241m.\u001b[39mkeys())\u001b[38;5;132;01m!r}\u001b[39;00m\u001b[38;5;124m.\u001b[39m\u001b[38;5;124m\"\u001b[39m\n\u001b[1;32m    221\u001b[0m     )\n",
      "File \u001b[0;32m~/Desktop/RAG_pipeline_testing/.venv/lib/python3.10/site-packages/torch/nn/modules/module.py:1152\u001b[0m, in \u001b[0;36mModule.to\u001b[0;34m(self, *args, **kwargs)\u001b[0m\n\u001b[1;32m   1148\u001b[0m         \u001b[38;5;28;01mreturn\u001b[39;00m t\u001b[38;5;241m.\u001b[39mto(device, dtype \u001b[38;5;28;01mif\u001b[39;00m t\u001b[38;5;241m.\u001b[39mis_floating_point() \u001b[38;5;129;01mor\u001b[39;00m t\u001b[38;5;241m.\u001b[39mis_complex() \u001b[38;5;28;01melse\u001b[39;00m \u001b[38;5;28;01mNone\u001b[39;00m,\n\u001b[1;32m   1149\u001b[0m                     non_blocking, memory_format\u001b[38;5;241m=\u001b[39mconvert_to_format)\n\u001b[1;32m   1150\u001b[0m     \u001b[38;5;28;01mreturn\u001b[39;00m t\u001b[38;5;241m.\u001b[39mto(device, dtype \u001b[38;5;28;01mif\u001b[39;00m t\u001b[38;5;241m.\u001b[39mis_floating_point() \u001b[38;5;129;01mor\u001b[39;00m t\u001b[38;5;241m.\u001b[39mis_complex() \u001b[38;5;28;01melse\u001b[39;00m \u001b[38;5;28;01mNone\u001b[39;00m, non_blocking)\n\u001b[0;32m-> 1152\u001b[0m \u001b[38;5;28;01mreturn\u001b[39;00m \u001b[38;5;28;43mself\u001b[39;49m\u001b[38;5;241;43m.\u001b[39;49m\u001b[43m_apply\u001b[49m\u001b[43m(\u001b[49m\u001b[43mconvert\u001b[49m\u001b[43m)\u001b[49m\n",
      "File \u001b[0;32m~/Desktop/RAG_pipeline_testing/.venv/lib/python3.10/site-packages/torch/nn/modules/module.py:802\u001b[0m, in \u001b[0;36mModule._apply\u001b[0;34m(self, fn, recurse)\u001b[0m\n\u001b[1;32m    800\u001b[0m \u001b[38;5;28;01mif\u001b[39;00m recurse:\n\u001b[1;32m    801\u001b[0m     \u001b[38;5;28;01mfor\u001b[39;00m module \u001b[38;5;129;01min\u001b[39;00m \u001b[38;5;28mself\u001b[39m\u001b[38;5;241m.\u001b[39mchildren():\n\u001b[0;32m--> 802\u001b[0m         \u001b[43mmodule\u001b[49m\u001b[38;5;241;43m.\u001b[39;49m\u001b[43m_apply\u001b[49m\u001b[43m(\u001b[49m\u001b[43mfn\u001b[49m\u001b[43m)\u001b[49m\n\u001b[1;32m    804\u001b[0m \u001b[38;5;28;01mdef\u001b[39;00m \u001b[38;5;21mcompute_should_use_set_data\u001b[39m(tensor, tensor_applied):\n\u001b[1;32m    805\u001b[0m     \u001b[38;5;28;01mif\u001b[39;00m torch\u001b[38;5;241m.\u001b[39m_has_compatible_shallow_copy_type(tensor, tensor_applied):\n\u001b[1;32m    806\u001b[0m         \u001b[38;5;66;03m# If the new tensor has compatible tensor type as the existing tensor,\u001b[39;00m\n\u001b[1;32m    807\u001b[0m         \u001b[38;5;66;03m# the current behavior is to change the tensor in-place using `.data =`,\u001b[39;00m\n\u001b[0;32m   (...)\u001b[0m\n\u001b[1;32m    812\u001b[0m         \u001b[38;5;66;03m# global flag to let the user control whether they want the future\u001b[39;00m\n\u001b[1;32m    813\u001b[0m         \u001b[38;5;66;03m# behavior of overwriting the existing tensor or not.\u001b[39;00m\n",
      "File \u001b[0;32m~/Desktop/RAG_pipeline_testing/.venv/lib/python3.10/site-packages/torch/nn/modules/module.py:802\u001b[0m, in \u001b[0;36mModule._apply\u001b[0;34m(self, fn, recurse)\u001b[0m\n\u001b[1;32m    800\u001b[0m \u001b[38;5;28;01mif\u001b[39;00m recurse:\n\u001b[1;32m    801\u001b[0m     \u001b[38;5;28;01mfor\u001b[39;00m module \u001b[38;5;129;01min\u001b[39;00m \u001b[38;5;28mself\u001b[39m\u001b[38;5;241m.\u001b[39mchildren():\n\u001b[0;32m--> 802\u001b[0m         \u001b[43mmodule\u001b[49m\u001b[38;5;241;43m.\u001b[39;49m\u001b[43m_apply\u001b[49m\u001b[43m(\u001b[49m\u001b[43mfn\u001b[49m\u001b[43m)\u001b[49m\n\u001b[1;32m    804\u001b[0m \u001b[38;5;28;01mdef\u001b[39;00m \u001b[38;5;21mcompute_should_use_set_data\u001b[39m(tensor, tensor_applied):\n\u001b[1;32m    805\u001b[0m     \u001b[38;5;28;01mif\u001b[39;00m torch\u001b[38;5;241m.\u001b[39m_has_compatible_shallow_copy_type(tensor, tensor_applied):\n\u001b[1;32m    806\u001b[0m         \u001b[38;5;66;03m# If the new tensor has compatible tensor type as the existing tensor,\u001b[39;00m\n\u001b[1;32m    807\u001b[0m         \u001b[38;5;66;03m# the current behavior is to change the tensor in-place using `.data =`,\u001b[39;00m\n\u001b[0;32m   (...)\u001b[0m\n\u001b[1;32m    812\u001b[0m         \u001b[38;5;66;03m# global flag to let the user control whether they want the future\u001b[39;00m\n\u001b[1;32m    813\u001b[0m         \u001b[38;5;66;03m# behavior of overwriting the existing tensor or not.\u001b[39;00m\n",
      "    \u001b[0;31m[... skipping similar frames: Module._apply at line 802 (1 times)]\u001b[0m\n",
      "File \u001b[0;32m~/Desktop/RAG_pipeline_testing/.venv/lib/python3.10/site-packages/torch/nn/modules/module.py:802\u001b[0m, in \u001b[0;36mModule._apply\u001b[0;34m(self, fn, recurse)\u001b[0m\n\u001b[1;32m    800\u001b[0m \u001b[38;5;28;01mif\u001b[39;00m recurse:\n\u001b[1;32m    801\u001b[0m     \u001b[38;5;28;01mfor\u001b[39;00m module \u001b[38;5;129;01min\u001b[39;00m \u001b[38;5;28mself\u001b[39m\u001b[38;5;241m.\u001b[39mchildren():\n\u001b[0;32m--> 802\u001b[0m         \u001b[43mmodule\u001b[49m\u001b[38;5;241;43m.\u001b[39;49m\u001b[43m_apply\u001b[49m\u001b[43m(\u001b[49m\u001b[43mfn\u001b[49m\u001b[43m)\u001b[49m\n\u001b[1;32m    804\u001b[0m \u001b[38;5;28;01mdef\u001b[39;00m \u001b[38;5;21mcompute_should_use_set_data\u001b[39m(tensor, tensor_applied):\n\u001b[1;32m    805\u001b[0m     \u001b[38;5;28;01mif\u001b[39;00m torch\u001b[38;5;241m.\u001b[39m_has_compatible_shallow_copy_type(tensor, tensor_applied):\n\u001b[1;32m    806\u001b[0m         \u001b[38;5;66;03m# If the new tensor has compatible tensor type as the existing tensor,\u001b[39;00m\n\u001b[1;32m    807\u001b[0m         \u001b[38;5;66;03m# the current behavior is to change the tensor in-place using `.data =`,\u001b[39;00m\n\u001b[0;32m   (...)\u001b[0m\n\u001b[1;32m    812\u001b[0m         \u001b[38;5;66;03m# global flag to let the user control whether they want the future\u001b[39;00m\n\u001b[1;32m    813\u001b[0m         \u001b[38;5;66;03m# behavior of overwriting the existing tensor or not.\u001b[39;00m\n",
      "File \u001b[0;32m~/Desktop/RAG_pipeline_testing/.venv/lib/python3.10/site-packages/torch/nn/modules/module.py:825\u001b[0m, in \u001b[0;36mModule._apply\u001b[0;34m(self, fn, recurse)\u001b[0m\n\u001b[1;32m    821\u001b[0m \u001b[38;5;66;03m# Tensors stored in modules are graph leaves, and we don't want to\u001b[39;00m\n\u001b[1;32m    822\u001b[0m \u001b[38;5;66;03m# track autograd history of `param_applied`, so we have to use\u001b[39;00m\n\u001b[1;32m    823\u001b[0m \u001b[38;5;66;03m# `with torch.no_grad():`\u001b[39;00m\n\u001b[1;32m    824\u001b[0m \u001b[38;5;28;01mwith\u001b[39;00m torch\u001b[38;5;241m.\u001b[39mno_grad():\n\u001b[0;32m--> 825\u001b[0m     param_applied \u001b[38;5;241m=\u001b[39m \u001b[43mfn\u001b[49m\u001b[43m(\u001b[49m\u001b[43mparam\u001b[49m\u001b[43m)\u001b[49m\n\u001b[1;32m    826\u001b[0m should_use_set_data \u001b[38;5;241m=\u001b[39m compute_should_use_set_data(param, param_applied)\n\u001b[1;32m    827\u001b[0m \u001b[38;5;28;01mif\u001b[39;00m should_use_set_data:\n",
      "File \u001b[0;32m~/Desktop/RAG_pipeline_testing/.venv/lib/python3.10/site-packages/torch/nn/modules/module.py:1150\u001b[0m, in \u001b[0;36mModule.to.<locals>.convert\u001b[0;34m(t)\u001b[0m\n\u001b[1;32m   1147\u001b[0m \u001b[38;5;28;01mif\u001b[39;00m convert_to_format \u001b[38;5;129;01mis\u001b[39;00m \u001b[38;5;129;01mnot\u001b[39;00m \u001b[38;5;28;01mNone\u001b[39;00m \u001b[38;5;129;01mand\u001b[39;00m t\u001b[38;5;241m.\u001b[39mdim() \u001b[38;5;129;01min\u001b[39;00m (\u001b[38;5;241m4\u001b[39m, \u001b[38;5;241m5\u001b[39m):\n\u001b[1;32m   1148\u001b[0m     \u001b[38;5;28;01mreturn\u001b[39;00m t\u001b[38;5;241m.\u001b[39mto(device, dtype \u001b[38;5;28;01mif\u001b[39;00m t\u001b[38;5;241m.\u001b[39mis_floating_point() \u001b[38;5;129;01mor\u001b[39;00m t\u001b[38;5;241m.\u001b[39mis_complex() \u001b[38;5;28;01melse\u001b[39;00m \u001b[38;5;28;01mNone\u001b[39;00m,\n\u001b[1;32m   1149\u001b[0m                 non_blocking, memory_format\u001b[38;5;241m=\u001b[39mconvert_to_format)\n\u001b[0;32m-> 1150\u001b[0m \u001b[38;5;28;01mreturn\u001b[39;00m \u001b[43mt\u001b[49m\u001b[38;5;241;43m.\u001b[39;49m\u001b[43mto\u001b[49m\u001b[43m(\u001b[49m\u001b[43mdevice\u001b[49m\u001b[43m,\u001b[49m\u001b[43m \u001b[49m\u001b[43mdtype\u001b[49m\u001b[43m \u001b[49m\u001b[38;5;28;43;01mif\u001b[39;49;00m\u001b[43m \u001b[49m\u001b[43mt\u001b[49m\u001b[38;5;241;43m.\u001b[39;49m\u001b[43mis_floating_point\u001b[49m\u001b[43m(\u001b[49m\u001b[43m)\u001b[49m\u001b[43m \u001b[49m\u001b[38;5;129;43;01mor\u001b[39;49;00m\u001b[43m \u001b[49m\u001b[43mt\u001b[49m\u001b[38;5;241;43m.\u001b[39;49m\u001b[43mis_complex\u001b[49m\u001b[43m(\u001b[49m\u001b[43m)\u001b[49m\u001b[43m \u001b[49m\u001b[38;5;28;43;01melse\u001b[39;49;00m\u001b[43m \u001b[49m\u001b[38;5;28;43;01mNone\u001b[39;49;00m\u001b[43m,\u001b[49m\u001b[43m \u001b[49m\u001b[43mnon_blocking\u001b[49m\u001b[43m)\u001b[49m\n",
      "File \u001b[0;32m~/Desktop/RAG_pipeline_testing/.venv/lib/python3.10/site-packages/torch/cuda/__init__.py:293\u001b[0m, in \u001b[0;36m_lazy_init\u001b[0;34m()\u001b[0m\n\u001b[1;32m    288\u001b[0m     \u001b[38;5;28;01mraise\u001b[39;00m \u001b[38;5;167;01mRuntimeError\u001b[39;00m(\n\u001b[1;32m    289\u001b[0m         \u001b[38;5;124m\"\u001b[39m\u001b[38;5;124mCannot re-initialize CUDA in forked subprocess. To use CUDA with \u001b[39m\u001b[38;5;124m\"\u001b[39m\n\u001b[1;32m    290\u001b[0m         \u001b[38;5;124m\"\u001b[39m\u001b[38;5;124mmultiprocessing, you must use the \u001b[39m\u001b[38;5;124m'\u001b[39m\u001b[38;5;124mspawn\u001b[39m\u001b[38;5;124m'\u001b[39m\u001b[38;5;124m start method\u001b[39m\u001b[38;5;124m\"\u001b[39m\n\u001b[1;32m    291\u001b[0m     )\n\u001b[1;32m    292\u001b[0m \u001b[38;5;28;01mif\u001b[39;00m \u001b[38;5;129;01mnot\u001b[39;00m \u001b[38;5;28mhasattr\u001b[39m(torch\u001b[38;5;241m.\u001b[39m_C, \u001b[38;5;124m\"\u001b[39m\u001b[38;5;124m_cuda_getDeviceCount\u001b[39m\u001b[38;5;124m\"\u001b[39m):\n\u001b[0;32m--> 293\u001b[0m     \u001b[38;5;28;01mraise\u001b[39;00m \u001b[38;5;167;01mAssertionError\u001b[39;00m(\u001b[38;5;124m\"\u001b[39m\u001b[38;5;124mTorch not compiled with CUDA enabled\u001b[39m\u001b[38;5;124m\"\u001b[39m)\n\u001b[1;32m    294\u001b[0m \u001b[38;5;28;01mif\u001b[39;00m _cudart \u001b[38;5;129;01mis\u001b[39;00m \u001b[38;5;28;01mNone\u001b[39;00m:\n\u001b[1;32m    295\u001b[0m     \u001b[38;5;28;01mraise\u001b[39;00m \u001b[38;5;167;01mAssertionError\u001b[39;00m(\n\u001b[1;32m    296\u001b[0m         \u001b[38;5;124m\"\u001b[39m\u001b[38;5;124mlibcudart functions unavailable. It looks like you have a broken build?\u001b[39m\u001b[38;5;124m\"\u001b[39m\n\u001b[1;32m    297\u001b[0m     )\n",
      "\u001b[0;31mAssertionError\u001b[0m: Torch not compiled with CUDA enabled"
     ]
    }
   ],
   "source": [
    "if not os.path.exists(\"./output\"):\n",
    "    os.mkdir(\"./output\")\n",
    "\n",
    "for chunk_size in [200]:  # Add other chunk sizes (in tokens) as needed\n",
    "    for embeddings in [\"thenlper/gte-small\"]:  # Add other embeddings as needed\n",
    "        for rerank in [True, False]:\n",
    "            settings_name = f\"chunk:{chunk_size}_embeddings:{embeddings.replace('/', '~')}_rerank:{rerank}_reader-model:{READER_MODEL_NAME}\"\n",
    "            output_file_name = f\"./output/rag_{settings_name}.json\"\n",
    "\n",
    "            print(f\"Running evaluation for {settings_name}:\")\n",
    "\n",
    "            print(\"Loading knowledge base embeddings...\")\n",
    "            knowledge_index = load_embeddings(\n",
    "                RAW_KNOWLEDGE_BASE,\n",
    "                chunk_size=chunk_size,\n",
    "                embedding_model_name=embeddings,\n",
    "            )\n",
    "\n",
    "            print(\"Running RAG...\")\n",
    "            reranker = RAGPretrainedModel.from_pretrained(\"colbert-ir/colbertv2.0\") if rerank else None\n",
    "            run_rag_tests(\n",
    "                eval_dataset=eval_dataset,\n",
    "                llm=READER_LLM,\n",
    "                knowledge_index=knowledge_index,\n",
    "                output_file=output_file_name,\n",
    "                reranker=reranker,\n",
    "                verbose=False,\n",
    "                test_settings=settings_name,\n",
    "            )\n",
    "\n",
    "            print(\"Running evaluation...\")\n",
    "            evaluate_answers(\n",
    "                output_file_name,\n",
    "                eval_chat_model,\n",
    "                evaluator_name,\n",
    "                evaluation_prompt_template,\n",
    "            )"
   ]
  },
  {
   "cell_type": "code",
   "execution_count": null,
   "metadata": {},
   "outputs": [],
   "source": []
  }
 ],
 "metadata": {
  "kernelspec": {
   "display_name": ".venv",
   "language": "python",
   "name": "python3"
  },
  "language_info": {
   "codemirror_mode": {
    "name": "ipython",
    "version": 3
   },
   "file_extension": ".py",
   "mimetype": "text/x-python",
   "name": "python",
   "nbconvert_exporter": "python",
   "pygments_lexer": "ipython3",
   "version": "3.10.11"
  }
 },
 "nbformat": 4,
 "nbformat_minor": 2
}
