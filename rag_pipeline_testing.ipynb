{
 "cells": [
  {
   "cell_type": "code",
   "execution_count": 9,
   "metadata": {},
   "outputs": [],
   "source": [
    "import os\n",
    "import numpy as np\n",
    "import litellm\n",
    "import pandas as pd"
   ]
  },
  {
   "cell_type": "code",
   "execution_count": 178,
   "metadata": {},
   "outputs": [],
   "source": [
    "from langchain.schema import StrOutputParser\n",
    "from langchain_core.runnables import RunnablePassthrough, RunnableParallel\n",
    "from langchain.vectorstores import FAISS\n",
    "from langchain_community.embeddings import HuggingFaceEmbeddings\n",
    "from langchain_community.vectorstores.utils import DistanceStrategy\n",
    "from langchain import hub\n",
    "from langchain_core.output_parsers import JsonOutputParser"
   ]
  },
  {
   "cell_type": "code",
   "execution_count": 174,
   "metadata": {},
   "outputs": [],
   "source": [
    "from trulens_eval.feedback.provider.hugs import Huggingface\n",
    "from trulens_eval.feedback.provider import Langchain, litellm\n",
    "from trulens_eval import Feedback\n",
    "from trulens_eval import TruChain, Tru\n",
    "from trulens_eval.feedback import Groundedness, GroundTruthAgreement"
   ]
  },
  {
   "cell_type": "code",
   "execution_count": 12,
   "metadata": {},
   "outputs": [],
   "source": [
    "from ragas import evaluate\n",
    "from ragas.metrics import faithfulness, answer_correctness, context_recall, context_relevancy, context_precision, answer_similarity, answer_correctness, AspectCritique"
   ]
  },
  {
   "cell_type": "code",
   "execution_count": 13,
   "metadata": {},
   "outputs": [],
   "source": [
    "from trulens_eval.app import App"
   ]
  },
  {
   "cell_type": "code",
   "execution_count": 14,
   "metadata": {},
   "outputs": [],
   "source": [
    "os.environ[\"TOKENIZERS_PARALLELISM\"] = \"false\"\n",
    "os.environ['HUGGINGFACEHUB_API_TOKEN'] = os.getenv(\"HUGGINGFACEHUB_API_TOKEN\")"
   ]
  },
  {
   "cell_type": "code",
   "execution_count": 242,
   "metadata": {},
   "outputs": [],
   "source": [
    "class RAG_testing():\n",
    "\n",
    "    def __init__(self, embedding_model_name, chunk_size, llm, qa_dataset_path):\n",
    "        self.embedding_model_name = embedding_model_name\n",
    "        self.chunk_size = chunk_size\n",
    "        self.index_name = f\"index_chunk:{self.chunk_size}_embeddings:{self.embedding_model_name.replace('/', '~')}\"\n",
    "        self.index_folder_path = f\"./data/indexes/{self.index_name}/\"\n",
    "        self.embedding_model = self.load_embedding_model()\n",
    "        self.knowledge_vector_database = self.load_knowledge_vector_database()\n",
    "        self.prompt = hub.pull(\"rlm/rag-prompt\")\n",
    "        self.llm = llm\n",
    "        self.qa_dataset = pd.read_csv(qa_dataset_path)\n",
    "        self.rag_chain = self.create_rag_chain()\n",
    "        self.golden_set, self.golden_df = self.create_golden_set()\n",
    "        \n",
    "\n",
    "    def format_docs(self, docs):\n",
    "        return \"\\n\\n\".join(doc.page_content for doc in docs)\n",
    "    \n",
    "    def load_embedding_model(self):\n",
    "        embedding_model = HuggingFaceEmbeddings(\n",
    "            model_name=self.embedding_model_name,\n",
    "            multi_process=True,\n",
    "            model_kwargs={\"device\": \"cpu\"},\n",
    "            encode_kwargs={\"normalize_embeddings\": True},  # set True to compute cosine similarity\n",
    "        )\n",
    "        return embedding_model\n",
    "\n",
    "    def create_rag_chain(self):\n",
    "        return (\n",
    "            RunnableParallel({\"context\": self.knowledge_vector_database.as_retriever() | self.format_docs, \"question\": RunnablePassthrough()})\n",
    "            | self.prompt\n",
    "            | self.llm\n",
    "            | StrOutputParser()\n",
    "        )\n",
    "\n",
    "    def create_golden_set(self):\n",
    "        questions = self.qa_dataset[\"question\"].to_list()\n",
    "        answers = self.qa_dataset[\"answer\"].to_list()\n",
    "        golden_set = []\n",
    "        datapoint_list = []\n",
    "        for question, answer in zip(questions, answers):\n",
    "            datapoint = {}\n",
    "            datapoint[\"query\"] = question\n",
    "            datapoint[\"response\"] = answer\n",
    "            golden_set.append(datapoint)\n",
    "            datapoint_list.append({\"question\": question, \"groundtruth_answer\": answer, \"llm_anaswer\": self.rag_chain.invoke(question)})\n",
    "        golden_df = pd.DataFrame()\n",
    "        return golden_set, golden_df\n",
    "\n",
    "    def load_knowledge_vector_database(self):\n",
    "        if os.path.isdir(self.index_folder_path):\n",
    "            knowledge_vector_database = FAISS.load_local(\n",
    "                self.index_folder_path,\n",
    "                self.embedding_model,\n",
    "                distance_strategy=DistanceStrategy.COSINE,\n",
    "                allow_dangerous_deserialization=True\n",
    "            )\n",
    "            return knowledge_vector_database\n",
    "        else:\n",
    "            raise Exception(\"Vector Database path does not exist\")\n",
    "    \n",
    "    def load_context(self):\n",
    "        self.context = App.select_context(self.rag_chain)\n",
    "\n",
    "    def trulens_metrics(self, llm_provider, huggingface_provider):\n",
    "        self.load_context()\n",
    "        grounded = Groundedness(groundedness_provider=llm_provider)\n",
    "        # Define a groundedness feedback function\n",
    "        f_groundedness = (\n",
    "            Feedback(grounded.groundedness_measure_with_cot_reasons)\n",
    "            .on(self.context.collect()) # collect context chunks into a list\n",
    "            .on_output()\n",
    "            .aggregate(grounded.grounded_statements_aggregator)\n",
    "        )\n",
    "\n",
    "        # Question/answer relevance between overall question and answer.\n",
    "        f_answer_relevance = (\n",
    "            Feedback(llm_provider.relevance)\n",
    "            .on_input_output()\n",
    "        )\n",
    "\n",
    "        # Question/statement relevance between question and each context chunk.\n",
    "        f_context_relevance = (\n",
    "            Feedback(llm_provider.context_relevance_with_cot_reasons)\n",
    "            .on_input()\n",
    "            .on(self.context)\n",
    "            .aggregate(np.mean)\n",
    "        )\n",
    "\n",
    "        # f_groundtruth = Feedback(GroundTruthAgreement(self.golden_set).agreement_measure, name = \"Ground Truth\").on_input_output()\n",
    "\n",
    "        f_pii_detection = Feedback(huggingface_provider.pii_detection_with_cot_reasons, name= \"PII score\").on_input()\n",
    "\n",
    "        f_coherence = Feedback(llm_provider.coherence_with_cot_reasons).on_output()\n",
    "\n",
    "        f_comprehensiveness = Feedback(llm_provider.comprehensiveness_with_cot_reasons).on_input_output()\n",
    "\n",
    "        f_conciseness = Feedback(llm_provider.conciseness_with_cot_reasons).on_output()\n",
    "\n",
    "        f_correctness = Feedback(llm_provider.correctness_with_cot_reasons).on_output()\n",
    "\n",
    "        f_criminality = Feedback(llm_provider.criminality_with_cot_reasons).on_output()\n",
    "\n",
    "        f_harmfulness = Feedback(llm_provider.harmfulness_with_cot_reasons).on_output()\n",
    "\n",
    "        f_helpfulness = Feedback(llm_provider.helpfulness_with_cot_reasons).on_output()\n",
    "\n",
    "        f_maliciousness = Feedback(llm_provider.maliciousness_with_cot_reasons).on_output()\n",
    "\n",
    "        self.trulens_feedback = [f_groundedness, f_answer_relevance, f_context_relevance, f_pii_detection,\n",
    "                                 f_coherence, f_comprehensiveness,\n",
    "                f_conciseness, f_correctness, f_criminality, f_harmfulness, f_helpfulness, f_maliciousness]\n",
    "    \n",
    "    def create_tru_recorder(self, name):\n",
    "        self.tru = Tru()\n",
    "        self.tru.reset_database()\n",
    "        self.tru_chain = TruChain(self.rag_chain,\n",
    "                app_id=name,\n",
    "                feedbacks=self.trulens_feedback,\n",
    "                metadata = {})\n",
    "    \n",
    "    def get_trulens_metrics(self, name=\"RAG_Triad_Testing\"):\n",
    "        self.create_tru_recorder(name)\n",
    "        with self.tru_chain as recording:\n",
    "            for qa in self.golden_set[:1]:\n",
    "                llm_response = self.rag_chain.invoke(qa[\"query\"])\n",
    "        records, feedback = self.tru.get_records_and_feedback(app_ids=[name])\n",
    "        return records, feedback\n",
    "\n",
    "    \n",
    "    def ragas_metrics(self):\n",
    "        pass"
   ]
  },
  {
   "cell_type": "code",
   "execution_count": 243,
   "metadata": {},
   "outputs": [],
   "source": [
    "from langchain_community.llms import HuggingFaceHub\n",
    "\n",
    "repo_id = \"HuggingFaceH4/zephyr-7b-beta\"\n",
    "READER_MODEL_NAME = \"zephyr-7b-beta\"\n",
    "\n",
    "READER_LLM = HuggingFaceHub(\n",
    "    repo_id=repo_id,\n",
    "    task=\"text-generation\",\n",
    "    model_kwargs={\n",
    "        \"max_new_tokens\": 512,\n",
    "        \"top_k\": 30,\n",
    "        \"Temperature\": 0.1,\n",
    "        \"repetition_penalty\": 1.03,\n",
    "    },\n",
    ")"
   ]
  },
  {
   "cell_type": "code",
   "execution_count": 244,
   "metadata": {},
   "outputs": [],
   "source": [
    "rag_testing = RAG_testing(\"thenlper/gte-small\", 512, READER_LLM, \"/Users/priyanshutuli/Desktop/RAG_pipeline_testing/Synthetic_QA_Dataset/mistral_qa_dataset.csv\")"
   ]
  },
  {
   "cell_type": "code",
   "execution_count": 245,
   "metadata": {},
   "outputs": [],
   "source": [
    "from trulens_eval.feedback.provider import OpenAI\n",
    "provider = OpenAI(model_engine=\"gpt-4-turbo\")"
   ]
  },
  {
   "cell_type": "code",
   "execution_count": 246,
   "metadata": {},
   "outputs": [],
   "source": [
    "from trulens_eval.feedback.provider.litellm import LiteLLM\n",
    "litellm_provider = LiteLLM(model_engine=\"mistral/mistral-tiny\", info=True)"
   ]
  },
  {
   "cell_type": "code",
   "execution_count": 247,
   "metadata": {},
   "outputs": [],
   "source": [
    "litellm.set_verbose=True"
   ]
  },
  {
   "cell_type": "code",
   "execution_count": 250,
   "metadata": {},
   "outputs": [
    {
     "name": "stdout",
     "output_type": "stream",
     "text": [
      "✅ In groundedness_measure_with_cot_reasons, input source will be set to __record__.app.first.steps.context.first.get_relevant_documents.rets.collect() .\n",
      "✅ In groundedness_measure_with_cot_reasons, input statement will be set to __record__.main_output or `Select.RecordOutput` .\n",
      "✅ In relevance, input prompt will be set to __record__.main_input or `Select.RecordInput` .\n",
      "✅ In relevance, input response will be set to __record__.main_output or `Select.RecordOutput` .\n",
      "✅ In context_relevance_with_cot_reasons, input question will be set to __record__.main_input or `Select.RecordInput` .\n",
      "✅ In context_relevance_with_cot_reasons, input context will be set to __record__.app.first.steps.context.first.get_relevant_documents.rets .\n",
      "✅ In PII score, input text will be set to __record__.main_input or `Select.RecordInput` .\n"
     ]
    },
    {
     "name": "stderr",
     "output_type": "stream",
     "text": [
      "[nltk_data] Error loading punkt: <urlopen error [SSL:\n",
      "[nltk_data]     CERTIFICATE_VERIFY_FAILED] certificate verify failed:\n",
      "[nltk_data]     unable to get local issuer certificate (_ssl.c:1007)>\n"
     ]
    }
   ],
   "source": [
    "rag_testing.trulens_metrics(provider, huggingface_provider=Huggingface(\"mistralai/Mistral-7B-Instruct-v0.1\"))"
   ]
  },
  {
   "cell_type": "code",
   "execution_count": 251,
   "metadata": {},
   "outputs": [
    {
     "data": {
      "application/vnd.jupyter.widget-view+json": {
       "model_id": "295f5c8375d14d15ad75e0aac5a9b4c5",
       "version_major": 2,
       "version_minor": 0
      },
      "text/plain": [
       "Groundedness per statement in source:   0%|          | 0/15 [00:00<?, ?it/s]"
      ]
     },
     "metadata": {},
     "output_type": "display_data"
    }
   ],
   "source": [
    "records, feedback = rag_testing.get_trulens_metrics(name=\"Test4\")"
   ]
  },
  {
   "cell_type": "code",
   "execution_count": 252,
   "metadata": {},
   "outputs": [
    {
     "data": {
      "text/html": [
       "<div>\n",
       "<style scoped>\n",
       "    .dataframe tbody tr th:only-of-type {\n",
       "        vertical-align: middle;\n",
       "    }\n",
       "\n",
       "    .dataframe tbody tr th {\n",
       "        vertical-align: top;\n",
       "    }\n",
       "\n",
       "    .dataframe thead th {\n",
       "        text-align: right;\n",
       "    }\n",
       "</style>\n",
       "<table border=\"1\" class=\"dataframe\">\n",
       "  <thead>\n",
       "    <tr style=\"text-align: right;\">\n",
       "      <th></th>\n",
       "      <th>app_id</th>\n",
       "      <th>app_json</th>\n",
       "      <th>type</th>\n",
       "      <th>record_id</th>\n",
       "      <th>input</th>\n",
       "      <th>output</th>\n",
       "      <th>tags</th>\n",
       "      <th>record_json</th>\n",
       "      <th>cost_json</th>\n",
       "      <th>perf_json</th>\n",
       "      <th>ts</th>\n",
       "      <th>latency</th>\n",
       "      <th>total_tokens</th>\n",
       "      <th>total_cost</th>\n",
       "    </tr>\n",
       "  </thead>\n",
       "  <tbody>\n",
       "    <tr>\n",
       "      <th>0</th>\n",
       "      <td>Test4</td>\n",
       "      <td>{\"tru_class_info\": {\"name\": \"TruChain\", \"modul...</td>\n",
       "      <td>RunnableSequence(langchain_core.runnables.base)</td>\n",
       "      <td>record_hash_e5603a89b63c7e5b22fcdb5a28175e0c</td>\n",
       "      <td>\"Why did total deposits decrease?\\n\"</td>\n",
       "      <td>\"Human: You are an assistant for question-answ...</td>\n",
       "      <td>-</td>\n",
       "      <td>{\"record_id\": \"record_hash_e5603a89b63c7e5b22f...</td>\n",
       "      <td>{\"n_requests\": 0, \"n_successful_requests\": 0, ...</td>\n",
       "      <td>{\"start_time\": \"2024-04-18T13:03:15.163947\", \"...</td>\n",
       "      <td>2024-04-18T13:03:28.036055</td>\n",
       "      <td>12</td>\n",
       "      <td>0</td>\n",
       "      <td>0.0</td>\n",
       "    </tr>\n",
       "  </tbody>\n",
       "</table>\n",
       "</div>"
      ],
      "text/plain": [
       "  app_id                                           app_json  \\\n",
       "0  Test4  {\"tru_class_info\": {\"name\": \"TruChain\", \"modul...   \n",
       "\n",
       "                                              type  \\\n",
       "0  RunnableSequence(langchain_core.runnables.base)   \n",
       "\n",
       "                                      record_id  \\\n",
       "0  record_hash_e5603a89b63c7e5b22fcdb5a28175e0c   \n",
       "\n",
       "                                  input  \\\n",
       "0  \"Why did total deposits decrease?\\n\"   \n",
       "\n",
       "                                              output tags  \\\n",
       "0  \"Human: You are an assistant for question-answ...    -   \n",
       "\n",
       "                                         record_json  \\\n",
       "0  {\"record_id\": \"record_hash_e5603a89b63c7e5b22f...   \n",
       "\n",
       "                                           cost_json  \\\n",
       "0  {\"n_requests\": 0, \"n_successful_requests\": 0, ...   \n",
       "\n",
       "                                           perf_json  \\\n",
       "0  {\"start_time\": \"2024-04-18T13:03:15.163947\", \"...   \n",
       "\n",
       "                           ts  latency  total_tokens  total_cost  \n",
       "0  2024-04-18T13:03:28.036055       12             0         0.0  "
      ]
     },
     "execution_count": 252,
     "metadata": {},
     "output_type": "execute_result"
    }
   ],
   "source": [
    "records.head()"
   ]
  },
  {
   "cell_type": "code",
   "execution_count": 253,
   "metadata": {},
   "outputs": [
    {
     "data": {
      "text/plain": [
       "[]"
      ]
     },
     "execution_count": 253,
     "metadata": {},
     "output_type": "execute_result"
    }
   ],
   "source": [
    "feedback"
   ]
  },
  {
   "cell_type": "code",
   "execution_count": 206,
   "metadata": {},
   "outputs": [
    {
     "name": "stdout",
     "output_type": "stream",
     "text": [
      "Human: You are an assistant for question-answering tasks. Use the following pieces of retrieved context to answer the question. If you don't know the answer, just say that you don't know. Use three sentences maximum and keep the answer concise.\n",
      "Question: Why did total deposits decrease?\n",
      " \n",
      "Context: origination volumes reflecting credit tightening actions and \n",
      "rising interest rates; and \n",
      "• a decline in Paycheck Protection Program loans in Consumer \n",
      "and Small Business Banking. \n",
      "Total deposits (average) decreased due to consumer deposit \n",
      "outflows on consumer spending, as well as customer migration \n",
      "to higher yielding alternatives. \n",
      "Wells Fargo & Company 3 \n",
      "16\n",
      "\n",
      "Total assets \n",
      "Total deposits $ \n",
      "borrowed \n",
      "$ 130,008 \n",
      "59,020 17,804 \n",
      "206,832 \n",
      "559,520 \n",
      "158,770 109,634 \n",
      "42,696 24,540 \n",
      "176,870 \n",
      "567,733 \n",
      "162,439 20,374 16,324 \n",
      "(6,736) \n",
      "29,962 \n",
      "(8,213) (3,669) 19 38 \n",
      "(27) \n",
      "17 \n",
      "(1) (2) $ \n",
      "$ 130,008 \n",
      "59,020 \n",
      "17,804 \n",
      "206,832 \n",
      "559,520 \n",
      "158,770 109,634 \n",
      "42,696 24,540 \n",
      "176,870 \n",
      "567,733 \n",
      "162,439 20,374 16,324 \n",
      "(6,736) \n",
      "29,962 \n",
      "(8,213) (3,669) 19 38 \n",
      "(27) \n",
      "17 \n",
      "(1) (2) \n",
      "Second quarter 2023 vs. second quarter 2022 \n",
      "Total assets (average and period-end) decreased reflecting: \n",
      "• lower loan balances driven by lower originations; and \n",
      "• lower trading-related derivative assets due to declines in \n",
      "derivative balances for commodities and equities; \n",
      "partially offset by: \n",
      "• increased volume of reverse repurchase agreements; and • higher trading account securities driven by higher mortgage-\n",
      "backed securities, equity, and bond trading balances. \n",
      "Total deposits (average and period-end) decreased due to \n",
      "customer migration to higher yielding alternatives, partially \n",
      "offset by additions of deposits from new and existing customers. \n",
      "Wells Fargo & Company 20\n",
      "\n",
      "customer growth and higher line utilization. \n",
      "Total deposits (average and period-end) decreased as \n",
      "customers continued to reallocate cash into higher yielding \n",
      "alternatives. \n",
      "Wells Fargo & Company 16\n",
      "\n",
      "and Small Business Banking. \n",
      "Total deposits (average and period-end) decreased due to \n",
      "consumer deposit outflows on consumer spending, as well as \n",
      "customer migration to higher yielding alternatives. First half of 2023 vs. first half of 2022 \n",
      "Total loans (average) increased driven by: \n",
      "• higher point of sale volume and the impact of new product \n",
      "launches in our Credit Card business; \n",
      "• higher loan balances in Home Lending; and \n",
      "• higher loan balances in our Personal Lending business due to \n",
      "higher origination volumes and slower payment rates; \n",
      "partially offset by: \n",
      "• a decline in loan balances in our Auto business due to lower \n",
      "origination volumes reflecting credit tightening actions and \n",
      "rising interest rates; and \n",
      "• a decline in Paycheck Protection Program loans in Consumer \n",
      "and Small Business Banking. \n",
      "Answer: Total deposits decreased due to consumer deposit outflows on consumer spending and customer migration to higher yielding alternatives. This can be seen in both the first quarter and the first half of 2023 compared to the same periods in the previous year. Additionally, total deposits decreased due to customer migration to higher yielding alternatives in the second quarter of 2023 compared to the second quarter of 2022.\n"
     ]
    }
   ],
   "source": [
    "with tru_recorder as recording:\n",
    "    for question in rag_testing.qa_dataset[\"question\"].to_list()[:1]:\n",
    "        llm_response = rag_testing.rag_chain.invoke(question)\n",
    "        print(llm_response)"
   ]
  },
  {
   "cell_type": "code",
   "execution_count": 207,
   "metadata": {},
   "outputs": [
    {
     "data": {
      "text/plain": [
       "Record(record_id='record_hash_d468d579f561fc86968ffc5d8575ef65', app_id='TruLens_Testing', cost=Cost(n_requests=0, n_successful_requests=0, n_classes=0, n_tokens=0, n_stream_chunks=0, n_prompt_tokens=0, n_completion_tokens=0, cost=0.0), perf=Perf(start_time=datetime.datetime(2024, 4, 18, 0, 46, 39, 234998), end_time=datetime.datetime(2024, 4, 18, 0, 46, 50, 416210)), ts=datetime.datetime(2024, 4, 18, 0, 46, 50, 416314), tags='-', meta=None, main_input='Why did total deposits decrease?\\n', main_output=\"Human: You are an assistant for question-answering tasks. Use the following pieces of retrieved context to answer the question. If you don't know the answer, just say that you don't know. Use three sentences maximum and keep the answer concise.\\nQuestion: Why did total deposits decrease?\\n \\nContext: origination volumes reflecting credit tightening actions and \\nrising interest rates; and \\n• a decline in Paycheck Protection Program loans in Consumer \\nand Small Business Banking. \\nTotal deposits (average) decreased due to consumer deposit \\noutflows on consumer spending, as well as customer migration \\nto higher yielding alternatives. \\nWells Fargo & Company 3 \\n16\\n\\nTotal assets \\nTotal deposits $ \\nborrowed \\n$ 130,008 \\n59,020 17,804 \\n206,832 \\n559,520 \\n158,770 109,634 \\n42,696 24,540 \\n176,870 \\n567,733 \\n162,439 20,374 16,324 \\n(6,736) \\n29,962 \\n(8,213) (3,669) 19 38 \\n(27) \\n17 \\n(1) (2) $ \\n$ 130,008 \\n59,020 \\n17,804 \\n206,832 \\n559,520 \\n158,770 109,634 \\n42,696 24,540 \\n176,870 \\n567,733 \\n162,439 20,374 16,324 \\n(6,736) \\n29,962 \\n(8,213) (3,669) 19 38 \\n(27) \\n17 \\n(1) (2) \\nSecond quarter 2023 vs. second quarter 2022 \\nTotal assets (average and period-end) decreased reflecting: \\n• lower loan balances driven by lower originations; and \\n• lower trading-related derivative assets due to declines in \\nderivative balances for commodities and equities; \\npartially offset by: \\n• increased volume of reverse repurchase agreements; and • higher trading account securities driven by higher mortgage-\\nbacked securities, equity, and bond trading balances. \\nTotal deposits (average and period-end) decreased due to \\ncustomer migration to higher yielding alternatives, partially \\noffset by additions of deposits from new and existing customers. \\nWells Fargo & Company 20\\n\\ncustomer growth and higher line utilization. \\nTotal deposits (average and period-end) decreased as \\ncustomers continued to reallocate cash into higher yielding \\nalternatives. \\nWells Fargo & Company 16\\n\\nand Small Business Banking. \\nTotal deposits (average and period-end) decreased due to \\nconsumer deposit outflows on consumer spending, as well as \\ncustomer migration to higher yielding alternatives. First half of 2023 vs. first half of 2022 \\nTotal loans (average) increased driven by: \\n• higher point of sale volume and the impact of new product \\nlaunches in our Credit Card business; \\n• higher loan balances in Home Lending; and \\n• higher loan balances in our Personal Lending business due to \\nhigher origination volumes and slower payment rates; \\npartially offset by: \\n• a decline in loan balances in our Auto business due to lower \\norigination volumes reflecting credit tightening actions and \\nrising interest rates; and \\n• a decline in Paycheck Protection Program loans in Consumer \\nand Small Business Banking. \\nAnswer: Total deposits decreased due to consumer deposit outflows on consumer spending and customer migration to higher yielding alternatives. This can be seen in both the first quarter and the first half of 2023 compared to the same periods in the previous year. Additionally, total deposits decreased due to customer migration to higher yielding alternatives in the second quarter of 2023 compared to the second quarter of 2022.\", main_error=None, calls=[RecordAppCall(stack=[RecordAppCallMethod(path=Lens().app, method=Method(obj=Obj(cls=langchain_core.runnables.base.RunnableSequence, id=13733092224, init_bindings=None), name='invoke')), RecordAppCallMethod(path=Lens().app.first, method=Method(obj=Obj(cls=langchain_core.runnables.base.RunnableParallel, id=6280529856, init_bindings=None), name='invoke')), RecordAppCallMethod(path=Lens().app.first.steps.question, method=Method(obj=Obj(cls=langchain_core.runnables.passthrough.RunnablePassthrough, id=13341731008, init_bindings=None), name='invoke'))], args={'input': 'Why did total deposits decrease?\\n', 'config': {'tags': [], 'metadata': {}, 'callbacks': {'__tru_non_serialized_object': {'cls': {'name': 'CallbackManager', 'module': {'package_name': 'langchain_core.callbacks', 'module_name': 'langchain_core.callbacks.manager'}, 'bases': None}, 'id': 15389651824, 'init_bindings': None}}, 'recursion_limit': 25, 'configurable': {}}}, rets='Why did total deposits decrease?\\n', error=None, perf=Perf(start_time=datetime.datetime(2024, 4, 18, 0, 46, 39, 407217), end_time=datetime.datetime(2024, 4, 18, 0, 46, 39, 414815)), pid=42658, tid=1255564), RecordAppCall(stack=[RecordAppCallMethod(path=Lens().app, method=Method(obj=Obj(cls=langchain_core.runnables.base.RunnableSequence, id=13733092224, init_bindings=None), name='invoke')), RecordAppCallMethod(path=Lens().app.first, method=Method(obj=Obj(cls=langchain_core.runnables.base.RunnableParallel, id=6280529856, init_bindings=None), name='invoke')), RecordAppCallMethod(path=Lens().app.first.steps.context, method=Method(obj=Obj(cls=langchain_core.runnables.base.RunnableSequence, id=13733092224, init_bindings=None), name='invoke')), RecordAppCallMethod(path=Lens().app.first.steps.context.first, method=Method(obj=Obj(cls=langchain_core.vectorstores.VectorStoreRetriever, id=13341700480, init_bindings=None), name='invoke')), RecordAppCallMethod(path=Lens().app.first.steps.context.first, method=Method(obj=Obj(cls=langchain_core.vectorstores.VectorStoreRetriever, id=13341700480, init_bindings=None), name='get_relevant_documents')), RecordAppCallMethod(path=Lens().app.first.steps.context.first, method=Method(obj=Obj(cls=langchain_core.vectorstores.VectorStoreRetriever, id=13341700480, init_bindings=None), name='_get_relevant_documents'))], args={'query': 'Why did total deposits decrease?\\n', 'run_manager': {'__tru_non_serialized_object': {'cls': {'name': 'CallbackManagerForRetrieverRun', 'module': {'package_name': 'langchain_core.callbacks', 'module_name': 'langchain_core.callbacks.manager'}, 'bases': None}, 'id': 15389387184, 'init_bindings': None}}}, rets=[{'page_content': 'origination volumes reflecting credit tightening actions and \\nrising interest rates; and \\n• a decline in Paycheck Protection Program loans in Consumer \\nand Small Business Banking. \\nTotal deposits (average) decreased due to consumer deposit \\noutflows on consumer spending, as well as customer migration \\nto higher yielding alternatives. \\nWells Fargo & Company 3 \\n16', 'metadata': {'source': './data/q2_2023.pdf', 'page': 16, 'start_index': 0}, 'type': 'Document'}, {'page_content': 'Total assets \\nTotal deposits $ \\nborrowed \\n$ 130,008 \\n59,020 17,804 \\n206,832 \\n559,520 \\n158,770 109,634 \\n42,696 24,540 \\n176,870 \\n567,733 \\n162,439 20,374 16,324 \\n(6,736) \\n29,962 \\n(8,213) (3,669) 19 38 \\n(27) \\n17 \\n(1) (2) $ \\n$ 130,008 \\n59,020 \\n17,804 \\n206,832 \\n559,520 \\n158,770 109,634 \\n42,696 24,540 \\n176,870 \\n567,733 \\n162,439 20,374 16,324 \\n(6,736) \\n29,962 \\n(8,213) (3,669) 19 38 \\n(27) \\n17 \\n(1) (2) \\nSecond quarter 2023 vs. second quarter 2022 \\nTotal assets (average and period-end) decreased reflecting: \\n• lower loan balances driven by lower originations; and \\n• lower trading-related derivative assets due to declines in \\nderivative balances for commodities and equities; \\npartially offset by: \\n• increased volume of reverse repurchase agreements; and • higher trading account securities driven by higher mortgage-\\nbacked securities, equity, and bond trading balances. \\nTotal deposits (average and period-end) decreased due to \\ncustomer migration to higher yielding alternatives, partially \\noffset by additions of deposits from new and existing customers. \\nWells Fargo & Company 20', 'metadata': {'source': './data/q2_2023.pdf', 'page': 20, 'start_index': 0}, 'type': 'Document'}, {'page_content': 'customer growth and higher line utilization. \\nTotal deposits (average and period-end) decreased as \\ncustomers continued to reallocate cash into higher yielding \\nalternatives. \\nWells Fargo & Company 16', 'metadata': {'source': './data/q1_2023.pdf', 'page': 16, 'start_index': -1}, 'type': 'Document'}, {'page_content': 'and Small Business Banking. \\nTotal deposits (average and period-end) decreased due to \\nconsumer deposit outflows on consumer spending, as well as \\ncustomer migration to higher yielding alternatives. First half of 2023 vs. first half of 2022 \\nTotal loans (average) increased driven by: \\n• higher point of sale volume and the impact of new product \\nlaunches in our Credit Card business; \\n• higher loan balances in Home Lending; and \\n• higher loan balances in our Personal Lending business due to \\nhigher origination volumes and slower payment rates; \\npartially offset by: \\n• a decline in loan balances in our Auto business due to lower \\norigination volumes reflecting credit tightening actions and \\nrising interest rates; and \\n• a decline in Paycheck Protection Program loans in Consumer \\nand Small Business Banking.', 'metadata': {'source': './data/q2_2023.pdf', 'page': 16, 'start_index': 2494}, 'type': 'Document'}], error=None, perf=Perf(start_time=datetime.datetime(2024, 4, 18, 0, 46, 39, 425920), end_time=datetime.datetime(2024, 4, 18, 0, 46, 49, 908228)), pid=42658, tid=1255563), RecordAppCall(stack=[RecordAppCallMethod(path=Lens().app, method=Method(obj=Obj(cls=langchain_core.runnables.base.RunnableSequence, id=13733092224, init_bindings=None), name='invoke')), RecordAppCallMethod(path=Lens().app.first, method=Method(obj=Obj(cls=langchain_core.runnables.base.RunnableParallel, id=6280529856, init_bindings=None), name='invoke')), RecordAppCallMethod(path=Lens().app.first.steps.context, method=Method(obj=Obj(cls=langchain_core.runnables.base.RunnableSequence, id=13733092224, init_bindings=None), name='invoke')), RecordAppCallMethod(path=Lens().app.first.steps.context.first, method=Method(obj=Obj(cls=langchain_core.vectorstores.VectorStoreRetriever, id=13341700480, init_bindings=None), name='invoke')), RecordAppCallMethod(path=Lens().app.first.steps.context.first, method=Method(obj=Obj(cls=langchain_core.vectorstores.VectorStoreRetriever, id=13341700480, init_bindings=None), name='get_relevant_documents'))], args={'query': 'Why did total deposits decrease?\\n', 'callbacks': {'__tru_non_serialized_object': {'cls': {'name': 'CallbackManager', 'module': {'package_name': 'langchain_core.callbacks', 'module_name': 'langchain_core.callbacks.manager'}, 'bases': None}, 'id': 15389643808, 'init_bindings': None}}, 'tags': [], 'metadata': {}, 'run_name': None}, rets=[{'page_content': 'origination volumes reflecting credit tightening actions and \\nrising interest rates; and \\n• a decline in Paycheck Protection Program loans in Consumer \\nand Small Business Banking. \\nTotal deposits (average) decreased due to consumer deposit \\noutflows on consumer spending, as well as customer migration \\nto higher yielding alternatives. \\nWells Fargo & Company 3 \\n16', 'metadata': {'source': './data/q2_2023.pdf', 'page': 16, 'start_index': 0}, 'type': 'Document'}, {'page_content': 'Total assets \\nTotal deposits $ \\nborrowed \\n$ 130,008 \\n59,020 17,804 \\n206,832 \\n559,520 \\n158,770 109,634 \\n42,696 24,540 \\n176,870 \\n567,733 \\n162,439 20,374 16,324 \\n(6,736) \\n29,962 \\n(8,213) (3,669) 19 38 \\n(27) \\n17 \\n(1) (2) $ \\n$ 130,008 \\n59,020 \\n17,804 \\n206,832 \\n559,520 \\n158,770 109,634 \\n42,696 24,540 \\n176,870 \\n567,733 \\n162,439 20,374 16,324 \\n(6,736) \\n29,962 \\n(8,213) (3,669) 19 38 \\n(27) \\n17 \\n(1) (2) \\nSecond quarter 2023 vs. second quarter 2022 \\nTotal assets (average and period-end) decreased reflecting: \\n• lower loan balances driven by lower originations; and \\n• lower trading-related derivative assets due to declines in \\nderivative balances for commodities and equities; \\npartially offset by: \\n• increased volume of reverse repurchase agreements; and • higher trading account securities driven by higher mortgage-\\nbacked securities, equity, and bond trading balances. \\nTotal deposits (average and period-end) decreased due to \\ncustomer migration to higher yielding alternatives, partially \\noffset by additions of deposits from new and existing customers. \\nWells Fargo & Company 20', 'metadata': {'source': './data/q2_2023.pdf', 'page': 20, 'start_index': 0}, 'type': 'Document'}, {'page_content': 'customer growth and higher line utilization. \\nTotal deposits (average and period-end) decreased as \\ncustomers continued to reallocate cash into higher yielding \\nalternatives. \\nWells Fargo & Company 16', 'metadata': {'source': './data/q1_2023.pdf', 'page': 16, 'start_index': -1}, 'type': 'Document'}, {'page_content': 'and Small Business Banking. \\nTotal deposits (average and period-end) decreased due to \\nconsumer deposit outflows on consumer spending, as well as \\ncustomer migration to higher yielding alternatives. First half of 2023 vs. first half of 2022 \\nTotal loans (average) increased driven by: \\n• higher point of sale volume and the impact of new product \\nlaunches in our Credit Card business; \\n• higher loan balances in Home Lending; and \\n• higher loan balances in our Personal Lending business due to \\nhigher origination volumes and slower payment rates; \\npartially offset by: \\n• a decline in loan balances in our Auto business due to lower \\norigination volumes reflecting credit tightening actions and \\nrising interest rates; and \\n• a decline in Paycheck Protection Program loans in Consumer \\nand Small Business Banking.', 'metadata': {'source': './data/q2_2023.pdf', 'page': 16, 'start_index': 2494}, 'type': 'Document'}], error=None, perf=Perf(start_time=datetime.datetime(2024, 4, 18, 0, 46, 39, 416386), end_time=datetime.datetime(2024, 4, 18, 0, 46, 49, 909846)), pid=42658, tid=1255563), RecordAppCall(stack=[RecordAppCallMethod(path=Lens().app, method=Method(obj=Obj(cls=langchain_core.runnables.base.RunnableSequence, id=13733092224, init_bindings=None), name='invoke')), RecordAppCallMethod(path=Lens().app.first, method=Method(obj=Obj(cls=langchain_core.runnables.base.RunnableParallel, id=6280529856, init_bindings=None), name='invoke')), RecordAppCallMethod(path=Lens().app.first.steps.context, method=Method(obj=Obj(cls=langchain_core.runnables.base.RunnableSequence, id=13733092224, init_bindings=None), name='invoke')), RecordAppCallMethod(path=Lens().app.first.steps.context.first, method=Method(obj=Obj(cls=langchain_core.vectorstores.VectorStoreRetriever, id=13341700480, init_bindings=None), name='invoke'))], args={'input': 'Why did total deposits decrease?\\n', 'config': {'tags': [], 'metadata': {}, 'callbacks': {'__tru_non_serialized_object': {'cls': {'name': 'CallbackManager', 'module': {'package_name': 'langchain_core.callbacks', 'module_name': 'langchain_core.callbacks.manager'}, 'bases': None}, 'id': 15389643808, 'init_bindings': None}}, 'recursion_limit': 25, 'configurable': {}}}, rets=[{'page_content': 'origination volumes reflecting credit tightening actions and \\nrising interest rates; and \\n• a decline in Paycheck Protection Program loans in Consumer \\nand Small Business Banking. \\nTotal deposits (average) decreased due to consumer deposit \\noutflows on consumer spending, as well as customer migration \\nto higher yielding alternatives. \\nWells Fargo & Company 3 \\n16', 'metadata': {'source': './data/q2_2023.pdf', 'page': 16, 'start_index': 0}, 'type': 'Document'}, {'page_content': 'Total assets \\nTotal deposits $ \\nborrowed \\n$ 130,008 \\n59,020 17,804 \\n206,832 \\n559,520 \\n158,770 109,634 \\n42,696 24,540 \\n176,870 \\n567,733 \\n162,439 20,374 16,324 \\n(6,736) \\n29,962 \\n(8,213) (3,669) 19 38 \\n(27) \\n17 \\n(1) (2) $ \\n$ 130,008 \\n59,020 \\n17,804 \\n206,832 \\n559,520 \\n158,770 109,634 \\n42,696 24,540 \\n176,870 \\n567,733 \\n162,439 20,374 16,324 \\n(6,736) \\n29,962 \\n(8,213) (3,669) 19 38 \\n(27) \\n17 \\n(1) (2) \\nSecond quarter 2023 vs. second quarter 2022 \\nTotal assets (average and period-end) decreased reflecting: \\n• lower loan balances driven by lower originations; and \\n• lower trading-related derivative assets due to declines in \\nderivative balances for commodities and equities; \\npartially offset by: \\n• increased volume of reverse repurchase agreements; and • higher trading account securities driven by higher mortgage-\\nbacked securities, equity, and bond trading balances. \\nTotal deposits (average and period-end) decreased due to \\ncustomer migration to higher yielding alternatives, partially \\noffset by additions of deposits from new and existing customers. \\nWells Fargo & Company 20', 'metadata': {'source': './data/q2_2023.pdf', 'page': 20, 'start_index': 0}, 'type': 'Document'}, {'page_content': 'customer growth and higher line utilization. \\nTotal deposits (average and period-end) decreased as \\ncustomers continued to reallocate cash into higher yielding \\nalternatives. \\nWells Fargo & Company 16', 'metadata': {'source': './data/q1_2023.pdf', 'page': 16, 'start_index': -1}, 'type': 'Document'}, {'page_content': 'and Small Business Banking. \\nTotal deposits (average and period-end) decreased due to \\nconsumer deposit outflows on consumer spending, as well as \\ncustomer migration to higher yielding alternatives. First half of 2023 vs. first half of 2022 \\nTotal loans (average) increased driven by: \\n• higher point of sale volume and the impact of new product \\nlaunches in our Credit Card business; \\n• higher loan balances in Home Lending; and \\n• higher loan balances in our Personal Lending business due to \\nhigher origination volumes and slower payment rates; \\npartially offset by: \\n• a decline in loan balances in our Auto business due to lower \\norigination volumes reflecting credit tightening actions and \\nrising interest rates; and \\n• a decline in Paycheck Protection Program loans in Consumer \\nand Small Business Banking.', 'metadata': {'source': './data/q2_2023.pdf', 'page': 16, 'start_index': 2494}, 'type': 'Document'}], error=None, perf=Perf(start_time=datetime.datetime(2024, 4, 18, 0, 46, 39, 408372), end_time=datetime.datetime(2024, 4, 18, 0, 46, 49, 910543)), pid=42658, tid=1255563), RecordAppCall(stack=[RecordAppCallMethod(path=Lens().app, method=Method(obj=Obj(cls=langchain_core.runnables.base.RunnableSequence, id=13733092224, init_bindings=None), name='invoke')), RecordAppCallMethod(path=Lens().app.first, method=Method(obj=Obj(cls=langchain_core.runnables.base.RunnableParallel, id=6280529856, init_bindings=None), name='invoke')), RecordAppCallMethod(path=Lens().app.first.steps.context, method=Method(obj=Obj(cls=langchain_core.runnables.base.RunnableSequence, id=13733092224, init_bindings=None), name='invoke'))], args={'input': 'Why did total deposits decrease?\\n', 'config': {'tags': [], 'metadata': {}, 'callbacks': {'__tru_non_serialized_object': {'cls': {'name': 'CallbackManager', 'module': {'package_name': 'langchain_core.callbacks', 'module_name': 'langchain_core.callbacks.manager'}, 'bases': None}, 'id': 15389646784, 'init_bindings': None}}, 'recursion_limit': 25, 'configurable': {}}}, rets='origination volumes reflecting credit tightening actions and \\nrising interest rates; and \\n• a decline in Paycheck Protection Program loans in Consumer \\nand Small Business Banking. \\nTotal deposits (average) decreased due to consumer deposit \\noutflows on consumer spending, as well as customer migration \\nto higher yielding alternatives. \\nWells Fargo & Company 3 \\n16\\n\\nTotal assets \\nTotal deposits $ \\nborrowed \\n$ 130,008 \\n59,020 17,804 \\n206,832 \\n559,520 \\n158,770 109,634 \\n42,696 24,540 \\n176,870 \\n567,733 \\n162,439 20,374 16,324 \\n(6,736) \\n29,962 \\n(8,213) (3,669) 19 38 \\n(27) \\n17 \\n(1) (2) $ \\n$ 130,008 \\n59,020 \\n17,804 \\n206,832 \\n559,520 \\n158,770 109,634 \\n42,696 24,540 \\n176,870 \\n567,733 \\n162,439 20,374 16,324 \\n(6,736) \\n29,962 \\n(8,213) (3,669) 19 38 \\n(27) \\n17 \\n(1) (2) \\nSecond quarter 2023 vs. second quarter 2022 \\nTotal assets (average and period-end) decreased reflecting: \\n• lower loan balances driven by lower originations; and \\n• lower trading-related derivative assets due to declines in \\nderivative balances for commodities and equities; \\npartially offset by: \\n• increased volume of reverse repurchase agreements; and • higher trading account securities driven by higher mortgage-\\nbacked securities, equity, and bond trading balances. \\nTotal deposits (average and period-end) decreased due to \\ncustomer migration to higher yielding alternatives, partially \\noffset by additions of deposits from new and existing customers. \\nWells Fargo & Company 20\\n\\ncustomer growth and higher line utilization. \\nTotal deposits (average and period-end) decreased as \\ncustomers continued to reallocate cash into higher yielding \\nalternatives. \\nWells Fargo & Company 16\\n\\nand Small Business Banking. \\nTotal deposits (average and period-end) decreased due to \\nconsumer deposit outflows on consumer spending, as well as \\ncustomer migration to higher yielding alternatives. First half of 2023 vs. first half of 2022 \\nTotal loans (average) increased driven by: \\n• higher point of sale volume and the impact of new product \\nlaunches in our Credit Card business; \\n• higher loan balances in Home Lending; and \\n• higher loan balances in our Personal Lending business due to \\nhigher origination volumes and slower payment rates; \\npartially offset by: \\n• a decline in loan balances in our Auto business due to lower \\norigination volumes reflecting credit tightening actions and \\nrising interest rates; and \\n• a decline in Paycheck Protection Program loans in Consumer \\nand Small Business Banking.', error=None, perf=Perf(start_time=datetime.datetime(2024, 4, 18, 0, 46, 39, 385136), end_time=datetime.datetime(2024, 4, 18, 0, 46, 49, 912304)), pid=42658, tid=1255563), RecordAppCall(stack=[RecordAppCallMethod(path=Lens().app, method=Method(obj=Obj(cls=langchain_core.runnables.base.RunnableSequence, id=13733092224, init_bindings=None), name='invoke')), RecordAppCallMethod(path=Lens().app.first, method=Method(obj=Obj(cls=langchain_core.runnables.base.RunnableParallel, id=6280529856, init_bindings=None), name='invoke'))], args={'input': 'Why did total deposits decrease?\\n', 'config': {'tags': [], 'metadata': {}, 'callbacks': {'__tru_non_serialized_object': {'cls': {'name': 'CallbackManager', 'module': {'package_name': 'langchain_core.callbacks', 'module_name': 'langchain_core.callbacks.manager'}, 'bases': None}, 'id': 15389644864, 'init_bindings': None}}, 'recursion_limit': 25, 'configurable': {}}}, rets={'context': 'origination volumes reflecting credit tightening actions and \\nrising interest rates; and \\n• a decline in Paycheck Protection Program loans in Consumer \\nand Small Business Banking. \\nTotal deposits (average) decreased due to consumer deposit \\noutflows on consumer spending, as well as customer migration \\nto higher yielding alternatives. \\nWells Fargo & Company 3 \\n16\\n\\nTotal assets \\nTotal deposits $ \\nborrowed \\n$ 130,008 \\n59,020 17,804 \\n206,832 \\n559,520 \\n158,770 109,634 \\n42,696 24,540 \\n176,870 \\n567,733 \\n162,439 20,374 16,324 \\n(6,736) \\n29,962 \\n(8,213) (3,669) 19 38 \\n(27) \\n17 \\n(1) (2) $ \\n$ 130,008 \\n59,020 \\n17,804 \\n206,832 \\n559,520 \\n158,770 109,634 \\n42,696 24,540 \\n176,870 \\n567,733 \\n162,439 20,374 16,324 \\n(6,736) \\n29,962 \\n(8,213) (3,669) 19 38 \\n(27) \\n17 \\n(1) (2) \\nSecond quarter 2023 vs. second quarter 2022 \\nTotal assets (average and period-end) decreased reflecting: \\n• lower loan balances driven by lower originations; and \\n• lower trading-related derivative assets due to declines in \\nderivative balances for commodities and equities; \\npartially offset by: \\n• increased volume of reverse repurchase agreements; and • higher trading account securities driven by higher mortgage-\\nbacked securities, equity, and bond trading balances. \\nTotal deposits (average and period-end) decreased due to \\ncustomer migration to higher yielding alternatives, partially \\noffset by additions of deposits from new and existing customers. \\nWells Fargo & Company 20\\n\\ncustomer growth and higher line utilization. \\nTotal deposits (average and period-end) decreased as \\ncustomers continued to reallocate cash into higher yielding \\nalternatives. \\nWells Fargo & Company 16\\n\\nand Small Business Banking. \\nTotal deposits (average and period-end) decreased due to \\nconsumer deposit outflows on consumer spending, as well as \\ncustomer migration to higher yielding alternatives. First half of 2023 vs. first half of 2022 \\nTotal loans (average) increased driven by: \\n• higher point of sale volume and the impact of new product \\nlaunches in our Credit Card business; \\n• higher loan balances in Home Lending; and \\n• higher loan balances in our Personal Lending business due to \\nhigher origination volumes and slower payment rates; \\npartially offset by: \\n• a decline in loan balances in our Auto business due to lower \\norigination volumes reflecting credit tightening actions and \\nrising interest rates; and \\n• a decline in Paycheck Protection Program loans in Consumer \\nand Small Business Banking.', 'question': 'Why did total deposits decrease?\\n'}, error=None, perf=Perf(start_time=datetime.datetime(2024, 4, 18, 0, 46, 39, 317207), end_time=datetime.datetime(2024, 4, 18, 0, 46, 49, 912879)), pid=42658, tid=1044604), RecordAppCall(stack=[RecordAppCallMethod(path=Lens().app, method=Method(obj=Obj(cls=langchain_core.runnables.base.RunnableSequence, id=13733092224, init_bindings=None), name='invoke')), RecordAppCallMethod(path=Lens().app.middle[0], method=Method(obj=Obj(cls=langchain_core.prompts.chat.ChatPromptTemplate, id=13341699136, init_bindings=None), name='invoke'))], args={'input': {'context': 'origination volumes reflecting credit tightening actions and \\nrising interest rates; and \\n• a decline in Paycheck Protection Program loans in Consumer \\nand Small Business Banking. \\nTotal deposits (average) decreased due to consumer deposit \\noutflows on consumer spending, as well as customer migration \\nto higher yielding alternatives. \\nWells Fargo & Company 3 \\n16\\n\\nTotal assets \\nTotal deposits $ \\nborrowed \\n$ 130,008 \\n59,020 17,804 \\n206,832 \\n559,520 \\n158,770 109,634 \\n42,696 24,540 \\n176,870 \\n567,733 \\n162,439 20,374 16,324 \\n(6,736) \\n29,962 \\n(8,213) (3,669) 19 38 \\n(27) \\n17 \\n(1) (2) $ \\n$ 130,008 \\n59,020 \\n17,804 \\n206,832 \\n559,520 \\n158,770 109,634 \\n42,696 24,540 \\n176,870 \\n567,733 \\n162,439 20,374 16,324 \\n(6,736) \\n29,962 \\n(8,213) (3,669) 19 38 \\n(27) \\n17 \\n(1) (2) \\nSecond quarter 2023 vs. second quarter 2022 \\nTotal assets (average and period-end) decreased reflecting: \\n• lower loan balances driven by lower originations; and \\n• lower trading-related derivative assets due to declines in \\nderivative balances for commodities and equities; \\npartially offset by: \\n• increased volume of reverse repurchase agreements; and • higher trading account securities driven by higher mortgage-\\nbacked securities, equity, and bond trading balances. \\nTotal deposits (average and period-end) decreased due to \\ncustomer migration to higher yielding alternatives, partially \\noffset by additions of deposits from new and existing customers. \\nWells Fargo & Company 20\\n\\ncustomer growth and higher line utilization. \\nTotal deposits (average and period-end) decreased as \\ncustomers continued to reallocate cash into higher yielding \\nalternatives. \\nWells Fargo & Company 16\\n\\nand Small Business Banking. \\nTotal deposits (average and period-end) decreased due to \\nconsumer deposit outflows on consumer spending, as well as \\ncustomer migration to higher yielding alternatives. First half of 2023 vs. first half of 2022 \\nTotal loans (average) increased driven by: \\n• higher point of sale volume and the impact of new product \\nlaunches in our Credit Card business; \\n• higher loan balances in Home Lending; and \\n• higher loan balances in our Personal Lending business due to \\nhigher origination volumes and slower payment rates; \\npartially offset by: \\n• a decline in loan balances in our Auto business due to lower \\norigination volumes reflecting credit tightening actions and \\nrising interest rates; and \\n• a decline in Paycheck Protection Program loans in Consumer \\nand Small Business Banking.', 'question': 'Why did total deposits decrease?\\n'}, 'config': {'tags': [], 'metadata': {}, 'callbacks': {'__tru_non_serialized_object': {'cls': {'name': 'CallbackManager', 'module': {'package_name': 'langchain_core.callbacks', 'module_name': 'langchain_core.callbacks.manager'}, 'bases': None}, 'id': 15389760032, 'init_bindings': None}}, 'recursion_limit': 25, 'configurable': {}}}, rets={'messages': [{'content': \"You are an assistant for question-answering tasks. Use the following pieces of retrieved context to answer the question. If you don't know the answer, just say that you don't know. Use three sentences maximum and keep the answer concise.\\nQuestion: Why did total deposits decrease?\\n \\nContext: origination volumes reflecting credit tightening actions and \\nrising interest rates; and \\n• a decline in Paycheck Protection Program loans in Consumer \\nand Small Business Banking. \\nTotal deposits (average) decreased due to consumer deposit \\noutflows on consumer spending, as well as customer migration \\nto higher yielding alternatives. \\nWells Fargo & Company 3 \\n16\\n\\nTotal assets \\nTotal deposits $ \\nborrowed \\n$ 130,008 \\n59,020 17,804 \\n206,832 \\n559,520 \\n158,770 109,634 \\n42,696 24,540 \\n176,870 \\n567,733 \\n162,439 20,374 16,324 \\n(6,736) \\n29,962 \\n(8,213) (3,669) 19 38 \\n(27) \\n17 \\n(1) (2) $ \\n$ 130,008 \\n59,020 \\n17,804 \\n206,832 \\n559,520 \\n158,770 109,634 \\n42,696 24,540 \\n176,870 \\n567,733 \\n162,439 20,374 16,324 \\n(6,736) \\n29,962 \\n(8,213) (3,669) 19 38 \\n(27) \\n17 \\n(1) (2) \\nSecond quarter 2023 vs. second quarter 2022 \\nTotal assets (average and period-end) decreased reflecting: \\n• lower loan balances driven by lower originations; and \\n• lower trading-related derivative assets due to declines in \\nderivative balances for commodities and equities; \\npartially offset by: \\n• increased volume of reverse repurchase agreements; and • higher trading account securities driven by higher mortgage-\\nbacked securities, equity, and bond trading balances. \\nTotal deposits (average and period-end) decreased due to \\ncustomer migration to higher yielding alternatives, partially \\noffset by additions of deposits from new and existing customers. \\nWells Fargo & Company 20\\n\\ncustomer growth and higher line utilization. \\nTotal deposits (average and period-end) decreased as \\ncustomers continued to reallocate cash into higher yielding \\nalternatives. \\nWells Fargo & Company 16\\n\\nand Small Business Banking. \\nTotal deposits (average and period-end) decreased due to \\nconsumer deposit outflows on consumer spending, as well as \\ncustomer migration to higher yielding alternatives. First half of 2023 vs. first half of 2022 \\nTotal loans (average) increased driven by: \\n• higher point of sale volume and the impact of new product \\nlaunches in our Credit Card business; \\n• higher loan balances in Home Lending; and \\n• higher loan balances in our Personal Lending business due to \\nhigher origination volumes and slower payment rates; \\npartially offset by: \\n• a decline in loan balances in our Auto business due to lower \\norigination volumes reflecting credit tightening actions and \\nrising interest rates; and \\n• a decline in Paycheck Protection Program loans in Consumer \\nand Small Business Banking. \\nAnswer:\", 'additional_kwargs': {}, 'response_metadata': {}, 'type': 'human', 'name': None, 'id': None, 'example': False}]}, error=None, perf=Perf(start_time=datetime.datetime(2024, 4, 18, 0, 46, 49, 978893), end_time=datetime.datetime(2024, 4, 18, 0, 46, 50, 1873)), pid=42658, tid=1044604), RecordAppCall(stack=[RecordAppCallMethod(path=Lens().app, method=Method(obj=Obj(cls=langchain_core.runnables.base.RunnableSequence, id=13733092224, init_bindings=None), name='invoke')), RecordAppCallMethod(path=Lens().app.middle[1], method=Method(obj=Obj(cls=langchain_community.llms.huggingface_hub.HuggingFaceHub, id=13675300480, init_bindings=None), name='invoke'))], args={'input': {'messages': [{'content': \"You are an assistant for question-answering tasks. Use the following pieces of retrieved context to answer the question. If you don't know the answer, just say that you don't know. Use three sentences maximum and keep the answer concise.\\nQuestion: Why did total deposits decrease?\\n \\nContext: origination volumes reflecting credit tightening actions and \\nrising interest rates; and \\n• a decline in Paycheck Protection Program loans in Consumer \\nand Small Business Banking. \\nTotal deposits (average) decreased due to consumer deposit \\noutflows on consumer spending, as well as customer migration \\nto higher yielding alternatives. \\nWells Fargo & Company 3 \\n16\\n\\nTotal assets \\nTotal deposits $ \\nborrowed \\n$ 130,008 \\n59,020 17,804 \\n206,832 \\n559,520 \\n158,770 109,634 \\n42,696 24,540 \\n176,870 \\n567,733 \\n162,439 20,374 16,324 \\n(6,736) \\n29,962 \\n(8,213) (3,669) 19 38 \\n(27) \\n17 \\n(1) (2) $ \\n$ 130,008 \\n59,020 \\n17,804 \\n206,832 \\n559,520 \\n158,770 109,634 \\n42,696 24,540 \\n176,870 \\n567,733 \\n162,439 20,374 16,324 \\n(6,736) \\n29,962 \\n(8,213) (3,669) 19 38 \\n(27) \\n17 \\n(1) (2) \\nSecond quarter 2023 vs. second quarter 2022 \\nTotal assets (average and period-end) decreased reflecting: \\n• lower loan balances driven by lower originations; and \\n• lower trading-related derivative assets due to declines in \\nderivative balances for commodities and equities; \\npartially offset by: \\n• increased volume of reverse repurchase agreements; and • higher trading account securities driven by higher mortgage-\\nbacked securities, equity, and bond trading balances. \\nTotal deposits (average and period-end) decreased due to \\ncustomer migration to higher yielding alternatives, partially \\noffset by additions of deposits from new and existing customers. \\nWells Fargo & Company 20\\n\\ncustomer growth and higher line utilization. \\nTotal deposits (average and period-end) decreased as \\ncustomers continued to reallocate cash into higher yielding \\nalternatives. \\nWells Fargo & Company 16\\n\\nand Small Business Banking. \\nTotal deposits (average and period-end) decreased due to \\nconsumer deposit outflows on consumer spending, as well as \\ncustomer migration to higher yielding alternatives. First half of 2023 vs. first half of 2022 \\nTotal loans (average) increased driven by: \\n• higher point of sale volume and the impact of new product \\nlaunches in our Credit Card business; \\n• higher loan balances in Home Lending; and \\n• higher loan balances in our Personal Lending business due to \\nhigher origination volumes and slower payment rates; \\npartially offset by: \\n• a decline in loan balances in our Auto business due to lower \\norigination volumes reflecting credit tightening actions and \\nrising interest rates; and \\n• a decline in Paycheck Protection Program loans in Consumer \\nand Small Business Banking. \\nAnswer:\", 'additional_kwargs': {}, 'response_metadata': {}, 'type': 'human', 'name': None, 'id': None, 'example': False}]}, 'config': {'tags': [], 'metadata': {}, 'callbacks': {'__tru_non_serialized_object': {'cls': {'name': 'CallbackManager', 'module': {'package_name': 'langchain_core.callbacks', 'module_name': 'langchain_core.callbacks.manager'}, 'bases': None}, 'id': 15389390976, 'init_bindings': None}}, 'recursion_limit': 25, 'configurable': {}}}, rets=\"Human: You are an assistant for question-answering tasks. Use the following pieces of retrieved context to answer the question. If you don't know the answer, just say that you don't know. Use three sentences maximum and keep the answer concise.\\nQuestion: Why did total deposits decrease?\\n \\nContext: origination volumes reflecting credit tightening actions and \\nrising interest rates; and \\n• a decline in Paycheck Protection Program loans in Consumer \\nand Small Business Banking. \\nTotal deposits (average) decreased due to consumer deposit \\noutflows on consumer spending, as well as customer migration \\nto higher yielding alternatives. \\nWells Fargo & Company 3 \\n16\\n\\nTotal assets \\nTotal deposits $ \\nborrowed \\n$ 130,008 \\n59,020 17,804 \\n206,832 \\n559,520 \\n158,770 109,634 \\n42,696 24,540 \\n176,870 \\n567,733 \\n162,439 20,374 16,324 \\n(6,736) \\n29,962 \\n(8,213) (3,669) 19 38 \\n(27) \\n17 \\n(1) (2) $ \\n$ 130,008 \\n59,020 \\n17,804 \\n206,832 \\n559,520 \\n158,770 109,634 \\n42,696 24,540 \\n176,870 \\n567,733 \\n162,439 20,374 16,324 \\n(6,736) \\n29,962 \\n(8,213) (3,669) 19 38 \\n(27) \\n17 \\n(1) (2) \\nSecond quarter 2023 vs. second quarter 2022 \\nTotal assets (average and period-end) decreased reflecting: \\n• lower loan balances driven by lower originations; and \\n• lower trading-related derivative assets due to declines in \\nderivative balances for commodities and equities; \\npartially offset by: \\n• increased volume of reverse repurchase agreements; and • higher trading account securities driven by higher mortgage-\\nbacked securities, equity, and bond trading balances. \\nTotal deposits (average and period-end) decreased due to \\ncustomer migration to higher yielding alternatives, partially \\noffset by additions of deposits from new and existing customers. \\nWells Fargo & Company 20\\n\\ncustomer growth and higher line utilization. \\nTotal deposits (average and period-end) decreased as \\ncustomers continued to reallocate cash into higher yielding \\nalternatives. \\nWells Fargo & Company 16\\n\\nand Small Business Banking. \\nTotal deposits (average and period-end) decreased due to \\nconsumer deposit outflows on consumer spending, as well as \\ncustomer migration to higher yielding alternatives. First half of 2023 vs. first half of 2022 \\nTotal loans (average) increased driven by: \\n• higher point of sale volume and the impact of new product \\nlaunches in our Credit Card business; \\n• higher loan balances in Home Lending; and \\n• higher loan balances in our Personal Lending business due to \\nhigher origination volumes and slower payment rates; \\npartially offset by: \\n• a decline in loan balances in our Auto business due to lower \\norigination volumes reflecting credit tightening actions and \\nrising interest rates; and \\n• a decline in Paycheck Protection Program loans in Consumer \\nand Small Business Banking. \\nAnswer: Total deposits decreased due to consumer deposit outflows on consumer spending and customer migration to higher yielding alternatives. This can be seen in both the first quarter and the first half of 2023 compared to the same periods in the previous year. Additionally, total deposits decreased due to customer migration to higher yielding alternatives in the second quarter of 2023 compared to the second quarter of 2022.\", error=None, perf=Perf(start_time=datetime.datetime(2024, 4, 18, 0, 46, 50, 57389), end_time=datetime.datetime(2024, 4, 18, 0, 46, 50, 311941)), pid=42658, tid=1044604), RecordAppCall(stack=[RecordAppCallMethod(path=Lens().app, method=Method(obj=Obj(cls=langchain_core.runnables.base.RunnableSequence, id=13733092224, init_bindings=None), name='invoke')), RecordAppCallMethod(path=Lens().app.last, method=Method(obj=Obj(cls=langchain_core.output_parsers.string.StrOutputParser, id=13773523392, init_bindings=None), name='invoke'))], args={'input': \"Human: You are an assistant for question-answering tasks. Use the following pieces of retrieved context to answer the question. If you don't know the answer, just say that you don't know. Use three sentences maximum and keep the answer concise.\\nQuestion: Why did total deposits decrease?\\n \\nContext: origination volumes reflecting credit tightening actions and \\nrising interest rates; and \\n• a decline in Paycheck Protection Program loans in Consumer \\nand Small Business Banking. \\nTotal deposits (average) decreased due to consumer deposit \\noutflows on consumer spending, as well as customer migration \\nto higher yielding alternatives. \\nWells Fargo & Company 3 \\n16\\n\\nTotal assets \\nTotal deposits $ \\nborrowed \\n$ 130,008 \\n59,020 17,804 \\n206,832 \\n559,520 \\n158,770 109,634 \\n42,696 24,540 \\n176,870 \\n567,733 \\n162,439 20,374 16,324 \\n(6,736) \\n29,962 \\n(8,213) (3,669) 19 38 \\n(27) \\n17 \\n(1) (2) $ \\n$ 130,008 \\n59,020 \\n17,804 \\n206,832 \\n559,520 \\n158,770 109,634 \\n42,696 24,540 \\n176,870 \\n567,733 \\n162,439 20,374 16,324 \\n(6,736) \\n29,962 \\n(8,213) (3,669) 19 38 \\n(27) \\n17 \\n(1) (2) \\nSecond quarter 2023 vs. second quarter 2022 \\nTotal assets (average and period-end) decreased reflecting: \\n• lower loan balances driven by lower originations; and \\n• lower trading-related derivative assets due to declines in \\nderivative balances for commodities and equities; \\npartially offset by: \\n• increased volume of reverse repurchase agreements; and • higher trading account securities driven by higher mortgage-\\nbacked securities, equity, and bond trading balances. \\nTotal deposits (average and period-end) decreased due to \\ncustomer migration to higher yielding alternatives, partially \\noffset by additions of deposits from new and existing customers. \\nWells Fargo & Company 20\\n\\ncustomer growth and higher line utilization. \\nTotal deposits (average and period-end) decreased as \\ncustomers continued to reallocate cash into higher yielding \\nalternatives. \\nWells Fargo & Company 16\\n\\nand Small Business Banking. \\nTotal deposits (average and period-end) decreased due to \\nconsumer deposit outflows on consumer spending, as well as \\ncustomer migration to higher yielding alternatives. First half of 2023 vs. first half of 2022 \\nTotal loans (average) increased driven by: \\n• higher point of sale volume and the impact of new product \\nlaunches in our Credit Card business; \\n• higher loan balances in Home Lending; and \\n• higher loan balances in our Personal Lending business due to \\nhigher origination volumes and slower payment rates; \\npartially offset by: \\n• a decline in loan balances in our Auto business due to lower \\norigination volumes reflecting credit tightening actions and \\nrising interest rates; and \\n• a decline in Paycheck Protection Program loans in Consumer \\nand Small Business Banking. \\nAnswer: Total deposits decreased due to consumer deposit outflows on consumer spending and customer migration to higher yielding alternatives. This can be seen in both the first quarter and the first half of 2023 compared to the same periods in the previous year. Additionally, total deposits decreased due to customer migration to higher yielding alternatives in the second quarter of 2023 compared to the second quarter of 2022.\", 'config': {'tags': [], 'metadata': {}, 'callbacks': {'__tru_non_serialized_object': {'cls': {'name': 'CallbackManager', 'module': {'package_name': 'langchain_core.callbacks', 'module_name': 'langchain_core.callbacks.manager'}, 'bases': None}, 'id': 15389379408, 'init_bindings': None}}, 'recursion_limit': 25, 'configurable': {}}}, rets=\"Human: You are an assistant for question-answering tasks. Use the following pieces of retrieved context to answer the question. If you don't know the answer, just say that you don't know. Use three sentences maximum and keep the answer concise.\\nQuestion: Why did total deposits decrease?\\n \\nContext: origination volumes reflecting credit tightening actions and \\nrising interest rates; and \\n• a decline in Paycheck Protection Program loans in Consumer \\nand Small Business Banking. \\nTotal deposits (average) decreased due to consumer deposit \\noutflows on consumer spending, as well as customer migration \\nto higher yielding alternatives. \\nWells Fargo & Company 3 \\n16\\n\\nTotal assets \\nTotal deposits $ \\nborrowed \\n$ 130,008 \\n59,020 17,804 \\n206,832 \\n559,520 \\n158,770 109,634 \\n42,696 24,540 \\n176,870 \\n567,733 \\n162,439 20,374 16,324 \\n(6,736) \\n29,962 \\n(8,213) (3,669) 19 38 \\n(27) \\n17 \\n(1) (2) $ \\n$ 130,008 \\n59,020 \\n17,804 \\n206,832 \\n559,520 \\n158,770 109,634 \\n42,696 24,540 \\n176,870 \\n567,733 \\n162,439 20,374 16,324 \\n(6,736) \\n29,962 \\n(8,213) (3,669) 19 38 \\n(27) \\n17 \\n(1) (2) \\nSecond quarter 2023 vs. second quarter 2022 \\nTotal assets (average and period-end) decreased reflecting: \\n• lower loan balances driven by lower originations; and \\n• lower trading-related derivative assets due to declines in \\nderivative balances for commodities and equities; \\npartially offset by: \\n• increased volume of reverse repurchase agreements; and • higher trading account securities driven by higher mortgage-\\nbacked securities, equity, and bond trading balances. \\nTotal deposits (average and period-end) decreased due to \\ncustomer migration to higher yielding alternatives, partially \\noffset by additions of deposits from new and existing customers. \\nWells Fargo & Company 20\\n\\ncustomer growth and higher line utilization. \\nTotal deposits (average and period-end) decreased as \\ncustomers continued to reallocate cash into higher yielding \\nalternatives. \\nWells Fargo & Company 16\\n\\nand Small Business Banking. \\nTotal deposits (average and period-end) decreased due to \\nconsumer deposit outflows on consumer spending, as well as \\ncustomer migration to higher yielding alternatives. First half of 2023 vs. first half of 2022 \\nTotal loans (average) increased driven by: \\n• higher point of sale volume and the impact of new product \\nlaunches in our Credit Card business; \\n• higher loan balances in Home Lending; and \\n• higher loan balances in our Personal Lending business due to \\nhigher origination volumes and slower payment rates; \\npartially offset by: \\n• a decline in loan balances in our Auto business due to lower \\norigination volumes reflecting credit tightening actions and \\nrising interest rates; and \\n• a decline in Paycheck Protection Program loans in Consumer \\nand Small Business Banking. \\nAnswer: Total deposits decreased due to consumer deposit outflows on consumer spending and customer migration to higher yielding alternatives. This can be seen in both the first quarter and the first half of 2023 compared to the same periods in the previous year. Additionally, total deposits decreased due to customer migration to higher yielding alternatives in the second quarter of 2023 compared to the second quarter of 2022.\", error=None, perf=Perf(start_time=datetime.datetime(2024, 4, 18, 0, 46, 50, 396550), end_time=datetime.datetime(2024, 4, 18, 0, 46, 50, 415913)), pid=42658, tid=1044604), RecordAppCall(stack=[RecordAppCallMethod(path=Lens().app, method=Method(obj=Obj(cls=langchain_core.runnables.base.RunnableSequence, id=13733092224, init_bindings=None), name='invoke'))], args={'input': 'Why did total deposits decrease?\\n'}, rets=\"Human: You are an assistant for question-answering tasks. Use the following pieces of retrieved context to answer the question. If you don't know the answer, just say that you don't know. Use three sentences maximum and keep the answer concise.\\nQuestion: Why did total deposits decrease?\\n \\nContext: origination volumes reflecting credit tightening actions and \\nrising interest rates; and \\n• a decline in Paycheck Protection Program loans in Consumer \\nand Small Business Banking. \\nTotal deposits (average) decreased due to consumer deposit \\noutflows on consumer spending, as well as customer migration \\nto higher yielding alternatives. \\nWells Fargo & Company 3 \\n16\\n\\nTotal assets \\nTotal deposits $ \\nborrowed \\n$ 130,008 \\n59,020 17,804 \\n206,832 \\n559,520 \\n158,770 109,634 \\n42,696 24,540 \\n176,870 \\n567,733 \\n162,439 20,374 16,324 \\n(6,736) \\n29,962 \\n(8,213) (3,669) 19 38 \\n(27) \\n17 \\n(1) (2) $ \\n$ 130,008 \\n59,020 \\n17,804 \\n206,832 \\n559,520 \\n158,770 109,634 \\n42,696 24,540 \\n176,870 \\n567,733 \\n162,439 20,374 16,324 \\n(6,736) \\n29,962 \\n(8,213) (3,669) 19 38 \\n(27) \\n17 \\n(1) (2) \\nSecond quarter 2023 vs. second quarter 2022 \\nTotal assets (average and period-end) decreased reflecting: \\n• lower loan balances driven by lower originations; and \\n• lower trading-related derivative assets due to declines in \\nderivative balances for commodities and equities; \\npartially offset by: \\n• increased volume of reverse repurchase agreements; and • higher trading account securities driven by higher mortgage-\\nbacked securities, equity, and bond trading balances. \\nTotal deposits (average and period-end) decreased due to \\ncustomer migration to higher yielding alternatives, partially \\noffset by additions of deposits from new and existing customers. \\nWells Fargo & Company 20\\n\\ncustomer growth and higher line utilization. \\nTotal deposits (average and period-end) decreased as \\ncustomers continued to reallocate cash into higher yielding \\nalternatives. \\nWells Fargo & Company 16\\n\\nand Small Business Banking. \\nTotal deposits (average and period-end) decreased due to \\nconsumer deposit outflows on consumer spending, as well as \\ncustomer migration to higher yielding alternatives. First half of 2023 vs. first half of 2022 \\nTotal loans (average) increased driven by: \\n• higher point of sale volume and the impact of new product \\nlaunches in our Credit Card business; \\n• higher loan balances in Home Lending; and \\n• higher loan balances in our Personal Lending business due to \\nhigher origination volumes and slower payment rates; \\npartially offset by: \\n• a decline in loan balances in our Auto business due to lower \\norigination volumes reflecting credit tightening actions and \\nrising interest rates; and \\n• a decline in Paycheck Protection Program loans in Consumer \\nand Small Business Banking. \\nAnswer: Total deposits decreased due to consumer deposit outflows on consumer spending and customer migration to higher yielding alternatives. This can be seen in both the first quarter and the first half of 2023 compared to the same periods in the previous year. Additionally, total deposits decreased due to customer migration to higher yielding alternatives in the second quarter of 2023 compared to the second quarter of 2022.\", error=None, perf=Perf(start_time=datetime.datetime(2024, 4, 18, 0, 46, 39, 234998), end_time=datetime.datetime(2024, 4, 18, 0, 46, 50, 416210)), pid=42658, tid=1044604)], feedback_and_future_results=[(FeedbackDefinition(PII score,\n",
       "\tselectors={'text': Lens().__record__.main_input},\n",
       "\tif_exists=None\n",
       "), <Future at 0x3954634f0 state=finished returned FeedbackResult>), (FeedbackDefinition(Positive Sentiment Score,\n",
       "\tselectors={'text': Lens().__record__.main_output},\n",
       "\tif_exists=None\n",
       "), <Future at 0x3954bdde0 state=finished returned FeedbackResult>), (FeedbackDefinition(Language Match Score,\n",
       "\tselectors={'text1': Lens().__record__.main_input, 'text2': Lens().__record__.main_output},\n",
       "\tif_exists=None\n",
       "), <Future at 0x3954bca00 state=finished returned FeedbackResult>), (FeedbackDefinition(Hallucination Score,\n",
       "\tselectors={'model_output': Lens().__record__.main_input, 'retrieved_text_chunks': Lens().__record__.main_output},\n",
       "\tif_exists=None\n",
       "), <Future at 0x3954bdcf0 state=finished returned FeedbackResult>)], feedback_results=[<Future at 0x3954634f0 state=finished returned FeedbackResult>, <Future at 0x3954bdde0 state=finished returned FeedbackResult>, <Future at 0x3954bca00 state=finished returned FeedbackResult>, <Future at 0x3954bdcf0 state=finished returned FeedbackResult>])"
      ]
     },
     "metadata": {},
     "output_type": "display_data"
    }
   ],
   "source": [
    "recs = recording.get() # use .get if only one record\n",
    "# recs = recording.records # use .records if multiple\n",
    "display(recs)"
   ]
  },
  {
   "cell_type": "code",
   "execution_count": 208,
   "metadata": {},
   "outputs": [
    {
     "name": "stdout",
     "output_type": "stream",
     "text": [
      "PII score 1.0\n",
      "Positive Sentiment Score None\n",
      "Language Match Score None\n",
      "Hallucination Score None\n"
     ]
    }
   ],
   "source": [
    "for feedback, feedback_result in recs.wait_for_feedback_results().items():\n",
    "    print(feedback.name, feedback_result.result)"
   ]
  },
  {
   "cell_type": "code",
   "execution_count": 177,
   "metadata": {},
   "outputs": [
    {
     "data": {
      "text/html": [
       "<div>\n",
       "<style scoped>\n",
       "    .dataframe tbody tr th:only-of-type {\n",
       "        vertical-align: middle;\n",
       "    }\n",
       "\n",
       "    .dataframe tbody tr th {\n",
       "        vertical-align: top;\n",
       "    }\n",
       "\n",
       "    .dataframe thead th {\n",
       "        text-align: right;\n",
       "    }\n",
       "</style>\n",
       "<table border=\"1\" class=\"dataframe\">\n",
       "  <thead>\n",
       "    <tr style=\"text-align: right;\">\n",
       "      <th></th>\n",
       "      <th>app_id</th>\n",
       "      <th>app_json</th>\n",
       "      <th>type</th>\n",
       "      <th>record_id</th>\n",
       "      <th>input</th>\n",
       "      <th>output</th>\n",
       "      <th>tags</th>\n",
       "      <th>record_json</th>\n",
       "      <th>cost_json</th>\n",
       "      <th>perf_json</th>\n",
       "      <th>ts</th>\n",
       "      <th>latency</th>\n",
       "      <th>total_tokens</th>\n",
       "      <th>total_cost</th>\n",
       "    </tr>\n",
       "  </thead>\n",
       "  <tbody>\n",
       "  </tbody>\n",
       "</table>\n",
       "</div>"
      ],
      "text/plain": [
       "Empty DataFrame\n",
       "Columns: [app_id, app_json, type, record_id, input, output, tags, record_json, cost_json, perf_json, ts, latency, total_tokens, total_cost]\n",
       "Index: []"
      ]
     },
     "execution_count": 177,
     "metadata": {},
     "output_type": "execute_result"
    }
   ],
   "source": [
    "records, feedback = tru.get_records_and_feedback(app_ids=[\"RAG-Testing\"])\n",
    "\n",
    "records.head()"
   ]
  },
  {
   "cell_type": "code",
   "execution_count": null,
   "metadata": {},
   "outputs": [],
   "source": []
  }
 ],
 "metadata": {
  "kernelspec": {
   "display_name": ".venv",
   "language": "python",
   "name": "python3"
  },
  "language_info": {
   "codemirror_mode": {
    "name": "ipython",
    "version": 3
   },
   "file_extension": ".py",
   "mimetype": "text/x-python",
   "name": "python",
   "nbconvert_exporter": "python",
   "pygments_lexer": "ipython3",
   "version": "3.10.11"
  }
 },
 "nbformat": 4,
 "nbformat_minor": 2
}
