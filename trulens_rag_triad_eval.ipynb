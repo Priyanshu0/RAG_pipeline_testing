{
  "cells": [
    {
      "cell_type": "code",
      "execution_count": 1,
      "metadata": {
        "id": "38fSW3-l6pf5"
      },
      "outputs": [],
      "source": [
        "!pip install -q trulens_eval llama_index llama-index-llms-openai llama_hub llmsherpa llama-cpp-python"
      ]
    },
    {
      "cell_type": "code",
      "execution_count": 2,
      "metadata": {
        "id": "8h75L5jQ6pf5"
      },
      "outputs": [],
      "source": [
        "# Import the os module to interact with the operating system\n",
        "import os\n",
        "\n",
        "# Import the load_dotenv function from the dotenv module\n",
        "from dotenv import load_dotenv\n",
        "\n",
        "# Call the load_dotenv function to load environment variables from a .env file\n",
        "load_dotenv()\n",
        "\n",
        "import warnings\n",
        "warnings.filterwarnings('ignore')"
      ]
    },
    {
      "cell_type": "code",
      "execution_count": 3,
      "metadata": {},
      "outputs": [],
      "source": [
        "os.environ['HUGGINGFACEHUB_API_TOKEN'] = os.getenv(\"HUGGINGFACEHUB_API_TOKEN\")"
      ]
    },
    {
      "cell_type": "code",
      "execution_count": 4,
      "metadata": {},
      "outputs": [],
      "source": [
        "# os.environ[\"OPENAI_API_KEY\"] = os.getenv(\"OPENAI_API_KEY\")"
      ]
    },
    {
      "cell_type": "code",
      "execution_count": 5,
      "metadata": {},
      "outputs": [],
      "source": [
        "qa_dataset_path = \"/Users/priyanshutuli/Desktop/RAG_pipeline_testing/Synthetic_QA_Dataset/mistral_qa_dataset.csv\""
      ]
    },
    {
      "cell_type": "code",
      "execution_count": 6,
      "metadata": {},
      "outputs": [],
      "source": [
        "import pandas as pd"
      ]
    },
    {
      "cell_type": "code",
      "execution_count": 7,
      "metadata": {},
      "outputs": [],
      "source": [
        "qa_dataset = pd.read_csv(qa_dataset_path)"
      ]
    },
    {
      "cell_type": "code",
      "execution_count": 8,
      "metadata": {},
      "outputs": [
        {
          "data": {
            "text/html": [
              "<div>\n",
              "<style scoped>\n",
              "    .dataframe tbody tr th:only-of-type {\n",
              "        vertical-align: middle;\n",
              "    }\n",
              "\n",
              "    .dataframe tbody tr th {\n",
              "        vertical-align: top;\n",
              "    }\n",
              "\n",
              "    .dataframe thead th {\n",
              "        text-align: right;\n",
              "    }\n",
              "</style>\n",
              "<table border=\"1\" class=\"dataframe\">\n",
              "  <thead>\n",
              "    <tr style=\"text-align: right;\">\n",
              "      <th></th>\n",
              "      <th>context</th>\n",
              "      <th>question</th>\n",
              "      <th>answer</th>\n",
              "      <th>source_doc</th>\n",
              "      <th>groundedness_score</th>\n",
              "      <th>groundedness_eval</th>\n",
              "      <th>relevance_score</th>\n",
              "      <th>relevance_eval</th>\n",
              "      <th>standalone_score</th>\n",
              "      <th>standalone_eval</th>\n",
              "    </tr>\n",
              "  </thead>\n",
              "  <tbody>\n",
              "    <tr>\n",
              "      <th>0</th>\n",
              "      <td>Total loans (average)  increased  driven by ne...</td>\n",
              "      <td>Why did total deposits decrease?\\n</td>\n",
              "      <td>Total deposits decreased due to customer migra...</td>\n",
              "      <td>{'source': '/content/docs/q3_2023.pdf', 'page'...</td>\n",
              "      <td>5</td>\n",
              "      <td>The context clearly states that total deposits...</td>\n",
              "      <td>4</td>\n",
              "      <td>This question is useful for investors because ...</td>\n",
              "      <td>5</td>\n",
              "      <td>The question is context-independant, as it doe...</td>\n",
              "    </tr>\n",
              "    <tr>\n",
              "      <th>1</th>\n",
              "      <td>Quarter ended June 30, 2022 \\nNet interest inc...</td>\n",
              "      <td>What is the net income for the quarter ended J...</td>\n",
              "      <td>1,393</td>\n",
              "      <td>{'source': '/content/docs/q2_2023.pdf', 'page'...</td>\n",
              "      <td>5</td>\n",
              "      <td>The context provides the net income for the qu...</td>\n",
              "      <td>5</td>\n",
              "      <td>This question is extremely useful for investor...</td>\n",
              "      <td>5</td>\n",
              "      <td>The question is context-independant, as it ask...</td>\n",
              "    </tr>\n",
              "    <tr>\n",
              "      <th>2</th>\n",
              "      <td>TROUBLED DEBT RESTRUCTURINGS (TDRs) In January...</td>\n",
              "      <td>What was the amount of TDRs at December 31, 20...</td>\n",
              "      <td>TDRs totaled $9.2 billion at December 31, 2022.</td>\n",
              "      <td>{'source': '/content/docs/q2_2023.pdf', 'page'...</td>\n",
              "      <td>5</td>\n",
              "      <td>The context provides the amount of TDRs at Dec...</td>\n",
              "      <td>4</td>\n",
              "      <td>This question is useful for investors as it re...</td>\n",
              "      <td>5</td>\n",
              "      <td>The question is context-independant, as it ref...</td>\n",
              "    </tr>\n",
              "    <tr>\n",
              "      <th>3</th>\n",
              "      <td>STATEMENT SCHEDULES \\n1. FINANCIAL STATEMENTS ...</td>\n",
              "      <td>What is the location of the Company's consolid...</td>\n",
              "      <td>The Company's consolidated financial statement...</td>\n",
              "      <td>{'source': '/content/docs/q4_2023.pdf', 'page'...</td>\n",
              "      <td>5</td>\n",
              "      <td>The context provides information about the loc...</td>\n",
              "      <td>4</td>\n",
              "      <td>This question is useful for investors as it he...</td>\n",
              "      <td>5</td>\n",
              "      <td>The question is asking for a specific piece of...</td>\n",
              "    </tr>\n",
              "    <tr>\n",
              "      <th>4</th>\n",
              "      <td>Noninterest Income\\nTable 2:   Noninterest Inc...</td>\n",
              "      <td>How much did investment banking fees increase ...</td>\n",
              "      <td>Investment banking fees increased by 117 milli...</td>\n",
              "      <td>{'source': '/content/docs/q3_2023.pdf', 'page'...</td>\n",
              "      <td>5</td>\n",
              "      <td>The context provides the change in investment ...</td>\n",
              "      <td>4</td>\n",
              "      <td>This question is useful for investors interest...</td>\n",
              "      <td>5</td>\n",
              "      <td>The question is context-independent and self-c...</td>\n",
              "    </tr>\n",
              "  </tbody>\n",
              "</table>\n",
              "</div>"
            ],
            "text/plain": [
              "                                             context  \\\n",
              "0  Total loans (average)  increased  driven by ne...   \n",
              "1  Quarter ended June 30, 2022 \\nNet interest inc...   \n",
              "2  TROUBLED DEBT RESTRUCTURINGS (TDRs) In January...   \n",
              "3  STATEMENT SCHEDULES \\n1. FINANCIAL STATEMENTS ...   \n",
              "4  Noninterest Income\\nTable 2:   Noninterest Inc...   \n",
              "\n",
              "                                            question  \\\n",
              "0                 Why did total deposits decrease?\\n   \n",
              "1  What is the net income for the quarter ended J...   \n",
              "2  What was the amount of TDRs at December 31, 20...   \n",
              "3  What is the location of the Company's consolid...   \n",
              "4  How much did investment banking fees increase ...   \n",
              "\n",
              "                                              answer  \\\n",
              "0  Total deposits decreased due to customer migra...   \n",
              "1                                              1,393   \n",
              "2    TDRs totaled $9.2 billion at December 31, 2022.   \n",
              "3  The Company's consolidated financial statement...   \n",
              "4  Investment banking fees increased by 117 milli...   \n",
              "\n",
              "                                          source_doc  groundedness_score  \\\n",
              "0  {'source': '/content/docs/q3_2023.pdf', 'page'...                   5   \n",
              "1  {'source': '/content/docs/q2_2023.pdf', 'page'...                   5   \n",
              "2  {'source': '/content/docs/q2_2023.pdf', 'page'...                   5   \n",
              "3  {'source': '/content/docs/q4_2023.pdf', 'page'...                   5   \n",
              "4  {'source': '/content/docs/q3_2023.pdf', 'page'...                   5   \n",
              "\n",
              "                                   groundedness_eval  relevance_score  \\\n",
              "0  The context clearly states that total deposits...                4   \n",
              "1  The context provides the net income for the qu...                5   \n",
              "2  The context provides the amount of TDRs at Dec...                4   \n",
              "3  The context provides information about the loc...                4   \n",
              "4  The context provides the change in investment ...                4   \n",
              "\n",
              "                                      relevance_eval  standalone_score  \\\n",
              "0  This question is useful for investors because ...                 5   \n",
              "1  This question is extremely useful for investor...                 5   \n",
              "2  This question is useful for investors as it re...                 5   \n",
              "3  This question is useful for investors as it he...                 5   \n",
              "4  This question is useful for investors interest...                 5   \n",
              "\n",
              "                                     standalone_eval  \n",
              "0  The question is context-independant, as it doe...  \n",
              "1  The question is context-independant, as it ask...  \n",
              "2  The question is context-independant, as it ref...  \n",
              "3  The question is asking for a specific piece of...  \n",
              "4  The question is context-independent and self-c...  "
            ]
          },
          "execution_count": 8,
          "metadata": {},
          "output_type": "execute_result"
        }
      ],
      "source": [
        "qa_dataset.head()"
      ]
    },
    {
      "cell_type": "code",
      "execution_count": 9,
      "metadata": {},
      "outputs": [],
      "source": [
        "questions = qa_dataset[\"question\"].to_list()"
      ]
    },
    {
      "cell_type": "code",
      "execution_count": 10,
      "metadata": {},
      "outputs": [
        {
          "data": {
            "text/plain": [
              "['Why did total deposits decrease?\\n',\n",
              " 'What is the net income for the quarter ended June 30, 2022?\\n',\n",
              " 'What was the amount of TDRs at December 31, 2022?\\n',\n",
              " \"What is the location of the Company's consolidated financial statements?\\n\",\n",
              " 'How much did investment banking fees increase in the third quarter of 2023 compared to the third quarter of 2022?\\n',\n",
              " 'Which court is the interchange litigation consolidated in?\\n',\n",
              " 'What is the net interest income for the quarter ended March 31, 2022?\\n',\n",
              " 'What is the outstanding balance of auto loans with a FICO score of 740 or higher as of September 30, 2023?\\n',\n",
              " 'What is the stress capital buffer for the period October 1, 2022, through September 30, 2023?\\n',\n",
              " 'What is the average age of the rail cars?\\n',\n",
              " 'What is the earliest authorized redemption date for Series Q Preferred Stock?\\n',\n",
              " 'What was the net income before noncontrolling interests for Wells Fargo in the first quarter of 2023?\\n',\n",
              " 'What is the carrying value of loans to tax credit VIEs at September 30, 2023?\\n',\n",
              " \"Has there been any material change in the company's internal control over financial reporting in Q1 2023?\\n\",\n",
              " 'What is the Liquidity Coverage Ratio of Wells Fargo as of March 31, 2023?\\n',\n",
              " 'What are the four reportable operating segments of the company?\\n',\n",
              " 'What was the balance of accumulated other comprehensive income (AOCI) at the end of March 31, 2023?\\n',\n",
              " 'What was the dividend declared per common share by Wells Fargo & Company for the nine months ended September 30, 2023?\\n',\n",
              " 'What is the net interest income for the quarter ended Sep 30, 2023 in Commercial Banking?\\n',\n",
              " 'Who has primary oversight responsibility for credit risk at Wells Fargo?\\n',\n",
              " 'What is the net interest income for the six months ended June 30, 2023?\\n',\n",
              " 'What is the name of the financial measure used by management to assess a reportable operating segment’s use of capital?\\n',\n",
              " 'What is the total amount of loans for the quarter ended June 30, 2023?\\n',\n",
              " 'What is the total notional amount of credit derivatives sold by the company as of June 30, 2023?\\n',\n",
              " 'Who is the President and Chief Executive Officer of Wells Fargo & Company?\\n',\n",
              " 'What type of financial products and services does Commercial Banking provide?\\n',\n",
              " 'What is the purpose of the capital conservation buffer for certain institutions under the Advanced Approach?\\n',\n",
              " \"What was Wells Fargo's net income for first quarter 2023?\\n\",\n",
              " 'What is the net loan charge-offs as a % of average consumer loans for the six months ended June 30, 2023?\\n',\n",
              " 'What is the name of the long-term incentive plan of Wells Fargo & Company?\\n',\n",
              " 'How many shares of common stock, $1-2/3 par value, were outstanding for the registrant as of July 21, 2023?\\n',\n",
              " 'What is the total outstanding balance of other consumer loans with a FICO score of 740 or higher as of June 30, 2023?\\n',\n",
              " 'What is the name of the rule that establishes capital planning and other requirements for certain BHCs?\\n',\n",
              " \"What is the Company's Tier 1 capital at March 31, 2023?\\n\",\n",
              " 'What is the amount of unrealized losses recorded to other comprehensive income in connection with the reclassification of debt securities from held-to-maturity to AFS classification?\\n',\n",
              " 'What is the method used to estimate the value of high value properties?\\n',\n",
              " 'How much common stock did the company issue in the first nine months of 2023?\\n',\n",
              " 'What is the total nonaccrual loans as of September 30, 2023?\\n',\n",
              " 'What is the purpose of changing floating-rate payments to fixed-rate payments in instruments/portfolios?\\n',\n",
              " \"What is the FDIC's designated reserve ratio?\\n\",\n",
              " 'What is the stress capital buffer for Wells Fargo for the period October 1, 2023, through September 30, 2024?\\n',\n",
              " 'What is the net interest income for the quarter ended Mar 31, 2023?\\n',\n",
              " 'What is the net income of the company in 2020?\\n',\n",
              " 'What is the section in the 2022 Form 10-K where the risk factors are discussed?\\n',\n",
              " 'What is the name of the resolution regime created by the Dodd-Frank Act?\\n',\n",
              " 'What is the impact on fair value from a 10% adverse change in cost to service assumption?\\n']"
            ]
          },
          "execution_count": 10,
          "metadata": {},
          "output_type": "execute_result"
        }
      ],
      "source": [
        "questions"
      ]
    },
    {
      "cell_type": "code",
      "execution_count": 11,
      "metadata": {},
      "outputs": [],
      "source": [
        "groundtruth_answers = qa_dataset[\"answer\"].to_list()"
      ]
    },
    {
      "cell_type": "code",
      "execution_count": 12,
      "metadata": {},
      "outputs": [],
      "source": [
        "from langchain.schema import StrOutputParser\n",
        "from langchain_core.runnables import RunnablePassthrough"
      ]
    },
    {
      "cell_type": "code",
      "execution_count": 13,
      "metadata": {},
      "outputs": [],
      "source": [
        "from langchain.schema import StrOutputParser\n",
        "from langchain_core.runnables import RunnablePassthrough"
      ]
    },
    {
      "cell_type": "code",
      "execution_count": 14,
      "metadata": {},
      "outputs": [
        {
          "name": "stderr",
          "output_type": "stream",
          "text": [
            "[nltk_data] Error loading stopwords: <urlopen error [SSL:\n",
            "[nltk_data]     CERTIFICATE_VERIFY_FAILED] certificate verify failed:\n",
            "[nltk_data]     unable to get local issuer certificate (_ssl.c:1007)>\n",
            "[nltk_data] Error loading punkt: <urlopen error [SSL:\n",
            "[nltk_data]     CERTIFICATE_VERIFY_FAILED] certificate verify failed:\n",
            "[nltk_data]     unable to get local issuer certificate (_ssl.c:1007)>\n"
          ]
        },
        {
          "name": "stdout",
          "output_type": "stream",
          "text": [
            "🦑 Tru initialized with db url sqlite:///default.sqlite .\n",
            "🛑 Secret keys may be written to the database. See the `database_redact_keys` option of Tru` to prevent this.\n"
          ]
        }
      ],
      "source": [
        "from trulens_eval import TruChain, Tru\n",
        "tru = Tru()\n",
        "tru.reset_database()\n",
        "from trulens_eval.feedback.provider import Langchain\n",
        "from trulens_eval import Feedback"
      ]
    },
    {
      "cell_type": "code",
      "execution_count": 15,
      "metadata": {},
      "outputs": [],
      "source": [
        "def format_docs(docs):\n",
        "    return \"\\n\\n\".join(doc.page_content for doc in docs)"
      ]
    },
    {
      "cell_type": "code",
      "execution_count": 16,
      "metadata": {},
      "outputs": [],
      "source": [
        "from langchain.vectorstores import FAISS\n",
        "from langchain_community.embeddings import HuggingFaceEmbeddings\n",
        "from langchain_community.vectorstores.utils import DistanceStrategy"
      ]
    },
    {
      "cell_type": "code",
      "execution_count": 17,
      "metadata": {},
      "outputs": [],
      "source": [
        "embedding_model_name = \"thenlper/gte-small\""
      ]
    },
    {
      "cell_type": "code",
      "execution_count": 18,
      "metadata": {},
      "outputs": [],
      "source": [
        "embedding_model = HuggingFaceEmbeddings(\n",
        "            model_name=embedding_model_name,\n",
        "            multi_process=True,\n",
        "            model_kwargs={\"device\": \"cpu\"},\n",
        "            encode_kwargs={\"normalize_embeddings\": True},  # set True to compute cosine similarity\n",
        "        )"
      ]
    },
    {
      "cell_type": "code",
      "execution_count": 19,
      "metadata": {},
      "outputs": [],
      "source": [
        "index_name = f\"index_chunk:512_embeddings:{embedding_model_name.replace('/', '~')}\"\n",
        "index_folder_path = f\"./data/indexes/{index_name}/\"\n",
        "if os.path.isdir(index_folder_path):\n",
        "    knowledge_vector_database = FAISS.load_local(\n",
        "        index_folder_path,\n",
        "        embedding_model,\n",
        "        distance_strategy=DistanceStrategy.COSINE,\n",
        "        allow_dangerous_deserialization=True\n",
        "    )"
      ]
    },
    {
      "cell_type": "code",
      "execution_count": 20,
      "metadata": {},
      "outputs": [],
      "source": [
        "retriever = knowledge_vector_database.as_retriever()"
      ]
    },
    {
      "cell_type": "code",
      "execution_count": 21,
      "metadata": {},
      "outputs": [],
      "source": [
        "from langchain import hub"
      ]
    },
    {
      "cell_type": "code",
      "execution_count": 22,
      "metadata": {},
      "outputs": [],
      "source": [
        "prompt = hub.pull(\"rlm/rag-prompt\")"
      ]
    },
    {
      "cell_type": "code",
      "execution_count": 23,
      "metadata": {},
      "outputs": [
        {
          "data": {
            "text/plain": [
              "ChatPromptTemplate(input_variables=['context', 'question'], metadata={'lc_hub_owner': 'rlm', 'lc_hub_repo': 'rag-prompt', 'lc_hub_commit_hash': '50442af133e61576e74536c6556cefe1fac147cad032f4377b60c436e6cdcb6e'}, messages=[HumanMessagePromptTemplate(prompt=PromptTemplate(input_variables=['context', 'question'], template=\"You are an assistant for question-answering tasks. Use the following pieces of retrieved context to answer the question. If you don't know the answer, just say that you don't know. Use three sentences maximum and keep the answer concise.\\nQuestion: {question} \\nContext: {context} \\nAnswer:\"))])"
            ]
          },
          "execution_count": 23,
          "metadata": {},
          "output_type": "execute_result"
        }
      ],
      "source": [
        "prompt"
      ]
    },
    {
      "cell_type": "code",
      "execution_count": 24,
      "metadata": {},
      "outputs": [
        {
          "name": "stderr",
          "output_type": "stream",
          "text": [
            "/Users/priyanshutuli/Desktop/RAG_pipeline_testing/.venv/lib/python3.10/site-packages/langchain_core/_api/deprecation.py:117: LangChainDeprecationWarning: The class `langchain_community.llms.huggingface_hub.HuggingFaceHub` was deprecated in langchain-community 0.0.21 and will be removed in 0.2.0. Use HuggingFaceEndpoint instead.\n",
            "  warn_deprecated(\n"
          ]
        }
      ],
      "source": [
        "from langchain_community.llms import HuggingFaceHub\n",
        "\n",
        "repo_id = \"HuggingFaceH4/zephyr-7b-beta\"\n",
        "READER_MODEL_NAME = \"zephyr-7b-beta\"\n",
        "\n",
        "READER_LLM = HuggingFaceHub(\n",
        "    repo_id=repo_id,\n",
        "    task=\"text-generation\",\n",
        "    model_kwargs={\n",
        "        \"max_new_tokens\": 512,\n",
        "        \"top_k\": 30,\n",
        "        \"Temperature\": 0.1,\n",
        "        \"repetition_penalty\": 1.03,\n",
        "    },\n",
        ")"
      ]
    },
    {
      "cell_type": "code",
      "execution_count": 25,
      "metadata": {},
      "outputs": [],
      "source": [
        "rag_chain = (\n",
        "    {\"context\": retriever | format_docs, \"question\": RunnablePassthrough()}\n",
        "    | prompt\n",
        "    | READER_LLM\n",
        "    | StrOutputParser()\n",
        ")"
      ]
    },
    {
      "cell_type": "code",
      "execution_count": 26,
      "metadata": {},
      "outputs": [],
      "source": [
        "from trulens_eval.feedback.provider.hugs import Huggingface\n",
        "huggingface_provider = Huggingface()"
      ]
    },
    {
      "cell_type": "code",
      "execution_count": 27,
      "metadata": {},
      "outputs": [],
      "source": [
        "from trulens_eval.feedback.provider import Langchain"
      ]
    },
    {
      "cell_type": "code",
      "execution_count": 28,
      "metadata": {},
      "outputs": [],
      "source": [
        "from llama_cpp import Llama"
      ]
    },
    {
      "cell_type": "code",
      "execution_count": 33,
      "metadata": {},
      "outputs": [],
      "source": [
        "# llm = Llama.from_pretrained(\n",
        "#     repo_id=\"Qwen/Qwen1.5-0.5B-Chat-GGUF\",\n",
        "#     filename=\"*q8_0.gguf\",\n",
        "#     verbose=True,\n",
        "#     local_dir=\"./models\"\n",
        "# )"
      ]
    },
    {
      "cell_type": "code",
      "execution_count": 44,
      "metadata": {},
      "outputs": [
        {
          "name": "stderr",
          "output_type": "stream",
          "text": [
            "llama_model_loader: loaded meta data with 21 key-value pairs and 291 tensors from /Users/priyanshutuli/Desktop/RAG_pipeline_testing/models/qwen1_5-0_5b-chat-q8_0.gguf (version GGUF V3 (latest))\n",
            "llama_model_loader: Dumping metadata keys/values. Note: KV overrides do not apply in this output.\n",
            "llama_model_loader: - kv   0:                       general.architecture str              = qwen2\n",
            "llama_model_loader: - kv   1:                               general.name str              = Qwen1.5-0.5B-Chat-AWQ-fp16\n",
            "llama_model_loader: - kv   2:                          qwen2.block_count u32              = 24\n",
            "llama_model_loader: - kv   3:                       qwen2.context_length u32              = 32768\n",
            "llama_model_loader: - kv   4:                     qwen2.embedding_length u32              = 1024\n",
            "llama_model_loader: - kv   5:                  qwen2.feed_forward_length u32              = 2816\n",
            "llama_model_loader: - kv   6:                 qwen2.attention.head_count u32              = 16\n",
            "llama_model_loader: - kv   7:              qwen2.attention.head_count_kv u32              = 16\n",
            "llama_model_loader: - kv   8:     qwen2.attention.layer_norm_rms_epsilon f32              = 0.000001\n",
            "llama_model_loader: - kv   9:                       qwen2.rope.freq_base f32              = 1000000.000000\n",
            "llama_model_loader: - kv  10:                qwen2.use_parallel_residual bool             = true\n",
            "llama_model_loader: - kv  11:                       tokenizer.ggml.model str              = gpt2\n",
            "llama_model_loader: - kv  12:                      tokenizer.ggml.tokens arr[str,151936]  = [\"!\", \"\\\"\", \"#\", \"$\", \"%\", \"&\", \"'\", ...\n",
            "llama_model_loader: - kv  13:                  tokenizer.ggml.token_type arr[i32,151936]  = [1, 1, 1, 1, 1, 1, 1, 1, 1, 1, 1, 1, ...\n",
            "llama_model_loader: - kv  14:                      tokenizer.ggml.merges arr[str,151387]  = [\"Ġ Ġ\", \"ĠĠ ĠĠ\", \"i n\", \"Ġ t\",...\n",
            "llama_model_loader: - kv  15:                tokenizer.ggml.eos_token_id u32              = 151645\n",
            "llama_model_loader: - kv  16:            tokenizer.ggml.padding_token_id u32              = 151643\n",
            "llama_model_loader: - kv  17:                tokenizer.ggml.bos_token_id u32              = 151643\n",
            "llama_model_loader: - kv  18:                    tokenizer.chat_template str              = {% for message in messages %}{{'<|im_...\n",
            "llama_model_loader: - kv  19:               general.quantization_version u32              = 2\n",
            "llama_model_loader: - kv  20:                          general.file_type u32              = 7\n",
            "llama_model_loader: - type  f32:  121 tensors\n",
            "llama_model_loader: - type q8_0:  170 tensors\n",
            "llm_load_vocab: special tokens definition check successful ( 293/151936 ).\n",
            "llm_load_print_meta: format           = GGUF V3 (latest)\n",
            "llm_load_print_meta: arch             = qwen2\n",
            "llm_load_print_meta: vocab type       = BPE\n",
            "llm_load_print_meta: n_vocab          = 151936\n",
            "llm_load_print_meta: n_merges         = 151387\n",
            "llm_load_print_meta: n_ctx_train      = 32768\n",
            "llm_load_print_meta: n_embd           = 1024\n",
            "llm_load_print_meta: n_head           = 16\n",
            "llm_load_print_meta: n_head_kv        = 16\n",
            "llm_load_print_meta: n_layer          = 24\n",
            "llm_load_print_meta: n_rot            = 64\n",
            "llm_load_print_meta: n_embd_head_k    = 64\n",
            "llm_load_print_meta: n_embd_head_v    = 64\n",
            "llm_load_print_meta: n_gqa            = 1\n",
            "llm_load_print_meta: n_embd_k_gqa     = 1024\n",
            "llm_load_print_meta: n_embd_v_gqa     = 1024\n",
            "llm_load_print_meta: f_norm_eps       = 0.0e+00\n",
            "llm_load_print_meta: f_norm_rms_eps   = 1.0e-06\n",
            "llm_load_print_meta: f_clamp_kqv      = 0.0e+00\n",
            "llm_load_print_meta: f_max_alibi_bias = 0.0e+00\n",
            "llm_load_print_meta: f_logit_scale    = 0.0e+00\n",
            "llm_load_print_meta: n_ff             = 2816\n",
            "llm_load_print_meta: n_expert         = 0\n",
            "llm_load_print_meta: n_expert_used    = 0\n",
            "llm_load_print_meta: causal attn      = 1\n",
            "llm_load_print_meta: pooling type     = 0\n",
            "llm_load_print_meta: rope type        = 2\n",
            "llm_load_print_meta: rope scaling     = linear\n",
            "llm_load_print_meta: freq_base_train  = 1000000.0\n",
            "llm_load_print_meta: freq_scale_train = 1\n",
            "llm_load_print_meta: n_yarn_orig_ctx  = 32768\n",
            "llm_load_print_meta: rope_finetuned   = unknown\n",
            "llm_load_print_meta: ssm_d_conv       = 0\n",
            "llm_load_print_meta: ssm_d_inner      = 0\n",
            "llm_load_print_meta: ssm_d_state      = 0\n",
            "llm_load_print_meta: ssm_dt_rank      = 0\n",
            "llm_load_print_meta: model type       = 0.5B\n",
            "llm_load_print_meta: model ftype      = Q8_0\n",
            "llm_load_print_meta: model params     = 619.57 M\n",
            "llm_load_print_meta: model size       = 628.14 MiB (8.50 BPW) \n",
            "llm_load_print_meta: general.name     = Qwen1.5-0.5B-Chat-AWQ-fp16\n",
            "llm_load_print_meta: BOS token        = 151643 '<|endoftext|>'\n",
            "llm_load_print_meta: EOS token        = 151645 '<|im_end|>'\n",
            "llm_load_print_meta: PAD token        = 151643 '<|endoftext|>'\n",
            "llm_load_print_meta: LF token         = 148848 'ÄĬ'\n",
            "llm_load_tensors: ggml ctx size =    0.11 MiB\n",
            "llm_load_tensors: offloading 0 repeating layers to GPU\n",
            "llm_load_tensors: offloaded 0/25 layers to GPU\n",
            "llm_load_tensors:        CPU buffer size =   628.14 MiB\n",
            "....................................................\n",
            "llama_new_context_with_model: n_ctx      = 512\n",
            "llama_new_context_with_model: n_batch    = 8\n",
            "llama_new_context_with_model: n_ubatch   = 8\n",
            "llama_new_context_with_model: freq_base  = 10000.0\n",
            "llama_new_context_with_model: freq_scale = 1\n",
            "llama_kv_cache_init:        CPU KV buffer size =    48.00 MiB\n",
            "llama_new_context_with_model: KV self size  =   48.00 MiB, K (f16):   24.00 MiB, V (f16):   24.00 MiB\n",
            "llama_new_context_with_model:        CPU  output buffer size =     0.58 MiB\n",
            "llama_new_context_with_model:        CPU compute buffer size =     4.67 MiB\n",
            "llama_new_context_with_model: graph nodes  = 846\n",
            "llama_new_context_with_model: graph splits = 1\n",
            "AVX = 0 | AVX_VNNI = 0 | AVX2 = 0 | AVX512 = 0 | AVX512_VBMI = 0 | AVX512_VNNI = 0 | FMA = 0 | NEON = 1 | ARM_FMA = 1 | F16C = 0 | FP16_VA = 1 | WASM_SIMD = 0 | BLAS = 1 | SSE3 = 0 | SSSE3 = 0 | VSX = 0 | MATMUL_INT8 = 0 | \n",
            "Model metadata: {'general.file_type': '7', 'general.quantization_version': '2', 'tokenizer.chat_template': \"{% for message in messages %}{{'<|im_start|>' + message['role'] + '\\n' + message['content'] + '<|im_end|>' + '\\n'}}{% endfor %}{% if add_generation_prompt %}{{ '<|im_start|>assistant\\n' }}{% endif %}\", 'tokenizer.ggml.bos_token_id': '151643', 'tokenizer.ggml.padding_token_id': '151643', 'tokenizer.ggml.eos_token_id': '151645', 'tokenizer.ggml.model': 'gpt2', 'qwen2.use_parallel_residual': 'true', 'qwen2.rope.freq_base': '1000000.000000', 'qwen2.attention.layer_norm_rms_epsilon': '0.000001', 'qwen2.embedding_length': '1024', 'qwen2.attention.head_count_kv': '16', 'qwen2.context_length': '32768', 'qwen2.attention.head_count': '16', 'general.architecture': 'qwen2', 'qwen2.block_count': '24', 'qwen2.feed_forward_length': '2816', 'general.name': 'Qwen1.5-0.5B-Chat-AWQ-fp16'}\n",
            "Guessed chat format: chatml\n"
          ]
        }
      ],
      "source": [
        "from langchain_community.llms import LlamaCpp\n",
        "\n",
        "llama = LlamaCpp(model_path = \"/Users/priyanshutuli/Desktop/RAG_pipeline_testing/models/qwen1_5-0_5b-chat-q8_0.gguf\",\n",
        "                 )\n",
        "llama.model_kwargs = {\n",
        "    \"max_tokens\": 1000\n",
        "}"
      ]
    },
    {
      "cell_type": "code",
      "execution_count": 32,
      "metadata": {},
      "outputs": [],
      "source": [
        "# from trulens_eval.feedback.provider.langchain import Langchain\n",
        "# from langchain_community.llms import OpenAI\n",
        "\n",
        "# gpt3_llm = OpenAI(model=\"gpt-3.5-turbo-instruct\")\n",
        "# langchain_provider = Langchain(chain = gpt3_llm)"
      ]
    },
    {
      "cell_type": "code",
      "execution_count": 63,
      "metadata": {},
      "outputs": [],
      "source": [
        "lc = Langchain(chain=READER_LLM)"
      ]
    },
    {
      "cell_type": "code",
      "execution_count": 75,
      "metadata": {},
      "outputs": [],
      "source": [
        "from trulens_eval import LiteLLM"
      ]
    },
    {
      "cell_type": "code",
      "execution_count": 77,
      "metadata": {},
      "outputs": [],
      "source": [
        "import litellm"
      ]
    },
    {
      "cell_type": "code",
      "execution_count": 78,
      "metadata": {},
      "outputs": [
        {
          "ename": "ModuleNotFoundError",
          "evalue": "\nlitellm package is required for using LiteLLM models.\nYou should be able to install it with pip:\n\n    ```bash\n    pip install \"litellm>=1.25.2\"\n    ```\n",
          "output_type": "error",
          "traceback": [
            "\u001b[0;31m---------------------------------------------------------------------------\u001b[0m",
            "\u001b[0;31mModuleNotFoundError\u001b[0m                       Traceback (most recent call last)",
            "Cell \u001b[0;32mIn[78], line 2\u001b[0m\n\u001b[1;32m      1\u001b[0m \u001b[38;5;28;01mfrom\u001b[39;00m \u001b[38;5;21;01mtrulens_eval\u001b[39;00m\u001b[38;5;21;01m.\u001b[39;00m\u001b[38;5;21;01mfeedback\u001b[39;00m\u001b[38;5;21;01m.\u001b[39;00m\u001b[38;5;21;01mprovider\u001b[39;00m\u001b[38;5;21;01m.\u001b[39;00m\u001b[38;5;21;01mlitellm\u001b[39;00m \u001b[38;5;28;01mimport\u001b[39;00m LiteLLM\n\u001b[0;32m----> 2\u001b[0m litellm_provider \u001b[38;5;241m=\u001b[39m \u001b[43mLiteLLM\u001b[49m\u001b[43m(\u001b[49m\u001b[43m)\u001b[49m\n",
            "File \u001b[0;32m~/Desktop/RAG_pipeline_testing/.venv/lib/python3.10/site-packages/trulens_eval/feedback/provider/litellm.py:89\u001b[0m, in \u001b[0;36mLiteLLM.__init__\u001b[0;34m(self, model_engine, completion_kwargs, endpoint, **kwargs)\u001b[0m\n\u001b[1;32m     87\u001b[0m self_kwargs[\u001b[38;5;124m'\u001b[39m\u001b[38;5;124mlitellm_provider\u001b[39m\u001b[38;5;124m'\u001b[39m] \u001b[38;5;241m=\u001b[39m litellm_provider\n\u001b[1;32m     88\u001b[0m self_kwargs[\u001b[38;5;124m'\u001b[39m\u001b[38;5;124mcompletion_args\u001b[39m\u001b[38;5;124m'\u001b[39m] \u001b[38;5;241m=\u001b[39m completion_kwargs\n\u001b[0;32m---> 89\u001b[0m self_kwargs[\u001b[38;5;124m'\u001b[39m\u001b[38;5;124mendpoint\u001b[39m\u001b[38;5;124m'\u001b[39m] \u001b[38;5;241m=\u001b[39m \u001b[43mLiteLLMEndpoint\u001b[49m\u001b[43m(\u001b[49m\n\u001b[1;32m     90\u001b[0m \u001b[43m    \u001b[49m\u001b[43mlitellm_provider\u001b[49m\u001b[38;5;241;43m=\u001b[39;49m\u001b[43mlitellm_provider\u001b[49m\u001b[43m,\u001b[49m\u001b[43m \u001b[49m\u001b[38;5;241;43m*\u001b[39;49m\u001b[38;5;241;43m*\u001b[39;49m\u001b[43mkwargs\u001b[49m\n\u001b[1;32m     91\u001b[0m \u001b[43m\u001b[49m\u001b[43m)\u001b[49m\n\u001b[1;32m     93\u001b[0m \u001b[38;5;28msuper\u001b[39m()\u001b[38;5;241m.\u001b[39m\u001b[38;5;21m__init__\u001b[39m(\n\u001b[1;32m     94\u001b[0m     \u001b[38;5;241m*\u001b[39m\u001b[38;5;241m*\u001b[39mself_kwargs\n\u001b[1;32m     95\u001b[0m )\n",
            "File \u001b[0;32m~/Desktop/RAG_pipeline_testing/.venv/lib/python3.10/site-packages/trulens_eval/utils/imports.py:449\u001b[0m, in \u001b[0;36mDummy.__call__\u001b[0;34m(self, *args, **kwargs)\u001b[0m\n\u001b[1;32m    448\u001b[0m \u001b[38;5;28;01mdef\u001b[39;00m \u001b[38;5;21m__call__\u001b[39m(\u001b[38;5;28mself\u001b[39m, \u001b[38;5;241m*\u001b[39margs, \u001b[38;5;241m*\u001b[39m\u001b[38;5;241m*\u001b[39mkwargs):\n\u001b[0;32m--> 449\u001b[0m     \u001b[38;5;28;01mraise\u001b[39;00m \u001b[38;5;28mself\u001b[39m\u001b[38;5;241m.\u001b[39mexception_class(\u001b[38;5;28mself\u001b[39m\u001b[38;5;241m.\u001b[39mmessage)\n",
            "\u001b[0;31mModuleNotFoundError\u001b[0m: \nlitellm package is required for using LiteLLM models.\nYou should be able to install it with pip:\n\n    ```bash\n    pip install \"litellm>=1.25.2\"\n    ```\n"
          ]
        }
      ],
      "source": [
        "from trulens_eval.feedback.provider.litellm import LiteLLM\n",
        "litellm_provider = LiteLLM()"
      ]
    },
    {
      "cell_type": "code",
      "execution_count": 51,
      "metadata": {},
      "outputs": [],
      "source": [
        "from trulens_eval.app import App\n",
        "context = App.select_context(rag_chain)"
      ]
    },
    {
      "cell_type": "code",
      "execution_count": 64,
      "metadata": {},
      "outputs": [
        {
          "name": "stdout",
          "output_type": "stream",
          "text": [
            "✅ In groundedness_measure_with_cot_reasons, input source will be set to __record__.app.first.steps.context.first.get_relevant_documents.rets.collect() .\n",
            "✅ In groundedness_measure_with_cot_reasons, input statement will be set to __record__.main_output or `Select.RecordOutput` .\n",
            "✅ In relevance, input prompt will be set to __record__.main_input or `Select.RecordInput` .\n",
            "✅ In relevance, input response will be set to __record__.main_output or `Select.RecordOutput` .\n",
            "✅ In context_relevance_with_cot_reasons, input question will be set to __record__.main_input or `Select.RecordInput` .\n",
            "✅ In context_relevance_with_cot_reasons, input context will be set to __record__.app.first.steps.context.first.get_relevant_documents.rets .\n"
          ]
        },
        {
          "name": "stderr",
          "output_type": "stream",
          "text": [
            "[nltk_data] Error loading punkt: <urlopen error [SSL:\n",
            "[nltk_data]     CERTIFICATE_VERIFY_FAILED] certificate verify failed:\n",
            "[nltk_data]     unable to get local issuer certificate (_ssl.c:1007)>\n"
          ]
        }
      ],
      "source": [
        "from trulens_eval.feedback import Groundedness\n",
        "import numpy as np\n",
        "grounded = Groundedness(groundedness_provider=huggingface_provider)\n",
        "# Define a groundedness feedback function\n",
        "f_groundedness = (\n",
        "    Feedback(grounded.groundedness_measure_with_cot_reasons)\n",
        "    .on(context.collect()) # collect context chunks into a list\n",
        "    .on_output()\n",
        "    .aggregate(grounded.grounded_statements_aggregator)\n",
        ")\n",
        "\n",
        "# Question/answer relevance between overall question and answer.\n",
        "f_answer_relevance = (\n",
        "    Feedback(lc.relevance)\n",
        "    .on_input_output()\n",
        ")\n",
        "# Question/statement relevance between question and each context chunk.\n",
        "f_context_relevance = (\n",
        "    Feedback(lc.context_relevance_with_cot_reasons)\n",
        "    .on_input()\n",
        "    .on(context)\n",
        "    .aggregate(np.mean)\n",
        ")"
      ]
    },
    {
      "cell_type": "code",
      "execution_count": 65,
      "metadata": {},
      "outputs": [],
      "source": [
        "from trulens_eval.feedback import GroundTruthAgreement"
      ]
    },
    {
      "cell_type": "code",
      "execution_count": 66,
      "metadata": {},
      "outputs": [],
      "source": [
        "golden_set = []\n",
        "for question, answer in zip(questions, groundtruth_answers):\n",
        "    datapoint = {}\n",
        "    datapoint[\"query\"] = question\n",
        "    datapoint[\"response\"] = answer\n",
        "    golden_set.append(datapoint)"
      ]
    },
    {
      "cell_type": "code",
      "execution_count": 67,
      "metadata": {},
      "outputs": [
        {
          "name": "stdout",
          "output_type": "stream",
          "text": [
            "✅ In Ground Truth, input prompt will be set to __record__.main_input or `Select.RecordInput` .\n",
            "✅ In Ground Truth, input response will be set to __record__.main_output or `Select.RecordOutput` .\n"
          ]
        }
      ],
      "source": [
        "# from trulens_eval.feedback.provider import OpenAI\n",
        "# from trulens_eval import Feedback\n",
        "# import numpy as np\n",
        "\n",
        "# # Initialize provider class\n",
        "# provider = OpenAI()\n",
        "\n",
        "# # select context to be used in feedback. the location of context is app specific.\n",
        "# from trulens_eval.app import App\n",
        "# context = App.select_context(rag_chain)\n",
        "\n",
        "# from trulens_eval.feedback import Groundedness\n",
        "# grounded = Groundedness(groundedness_provider=huggingface_provider)\n",
        "# # Define a groundedness feedback function\n",
        "# f_groundedness = (\n",
        "#     Feedback(grounded.groundedness_measure_with_cot_reasons)\n",
        "#     .on(context.collect()) # collect context chunks into a list\n",
        "#     .on_output()\n",
        "#     .aggregate(grounded.grounded_statements_aggregator)\n",
        "# )\n",
        "\n",
        "# # Question/answer relevance between overall question and answer.\n",
        "# f_answer_relevance = (\n",
        "#     Feedback(provider.relevance)\n",
        "#     .on_input_output()\n",
        "# )\n",
        "# # Question/statement relevance between question and each context chunk.\n",
        "# f_context_relevance = (\n",
        "#     Feedback(provider.context_relevance_with_cot_reasons)\n",
        "#     .on_input()\n",
        "#     .on(context)\n",
        "#     .aggregate(np.mean)\n",
        "# )\n",
        "\n",
        "f_groundtruth = Feedback(GroundTruthAgreement(golden_set).agreement_measure, name = \"Ground Truth\").on_input_output()"
      ]
    },
    {
      "cell_type": "code",
      "execution_count": 68,
      "metadata": {},
      "outputs": [],
      "source": [
        "tru_recorder = TruChain(rag_chain,\n",
        "    app_id='TruLens_Testing',\n",
        "    feedbacks=[f_answer_relevance, f_context_relevance, f_groundedness])"
      ]
    },
    {
      "cell_type": "code",
      "execution_count": 69,
      "metadata": {},
      "outputs": [],
      "source": [
        "os.environ[\"TOKENIZERS_PARALLELISM\"] = \"false\""
      ]
    },
    {
      "cell_type": "code",
      "execution_count": 70,
      "metadata": {},
      "outputs": [],
      "source": [
        "from time import sleep"
      ]
    },
    {
      "cell_type": "code",
      "execution_count": 71,
      "metadata": {},
      "outputs": [],
      "source": [
        "with tru_recorder as recording:\n",
        "    for question in questions[:1]:\n",
        "        llm_response = rag_chain.invoke(question)\n"
      ]
    },
    {
      "cell_type": "code",
      "execution_count": 72,
      "metadata": {},
      "outputs": [
        {
          "data": {
            "text/plain": [
              "Record(record_id='record_hash_965bd039ece6628fc1de3986b661c747', app_id='TruLens_Testing', cost=Cost(n_requests=0, n_successful_requests=0, n_classes=0, n_tokens=0, n_stream_chunks=0, n_prompt_tokens=0, n_completion_tokens=0, cost=0.0), perf=Perf(start_time=datetime.datetime(2024, 4, 16, 17, 36, 34, 321194), end_time=datetime.datetime(2024, 4, 16, 17, 36, 44, 415281)), ts=datetime.datetime(2024, 4, 16, 17, 36, 44, 415346), tags='-', meta=None, main_input='Why did total deposits decrease?\\n', main_output=\"Human: You are an assistant for question-answering tasks. Use the following pieces of retrieved context to answer the question. If you don't know the answer, just say that you don't know. Use three sentences maximum and keep the answer concise.\\nQuestion: Why did total deposits decrease?\\n \\nContext: origination volumes reflecting credit tightening actions and \\nrising interest rates; and \\n• a decline in Paycheck Protection Program loans in Consumer \\nand Small Business Banking. \\nTotal deposits (average) decreased due to consumer deposit \\noutflows on consumer spending, as well as customer migration \\nto higher yielding alternatives. \\nWells Fargo & Company 3 \\n16\\n\\nTotal assets \\nTotal deposits $ \\nborrowed \\n$ 130,008 \\n59,020 17,804 \\n206,832 \\n559,520 \\n158,770 109,634 \\n42,696 24,540 \\n176,870 \\n567,733 \\n162,439 20,374 16,324 \\n(6,736) \\n29,962 \\n(8,213) (3,669) 19 38 \\n(27) \\n17 \\n(1) (2) $ \\n$ 130,008 \\n59,020 \\n17,804 \\n206,832 \\n559,520 \\n158,770 109,634 \\n42,696 24,540 \\n176,870 \\n567,733 \\n162,439 20,374 16,324 \\n(6,736) \\n29,962 \\n(8,213) (3,669) 19 38 \\n(27) \\n17 \\n(1) (2) \\nSecond quarter 2023 vs. second quarter 2022 \\nTotal assets (average and period-end) decreased reflecting: \\n• lower loan balances driven by lower originations; and \\n• lower trading-related derivative assets due to declines in \\nderivative balances for commodities and equities; \\npartially offset by: \\n• increased volume of reverse repurchase agreements; and • higher trading account securities driven by higher mortgage-\\nbacked securities, equity, and bond trading balances. \\nTotal deposits (average and period-end) decreased due to \\ncustomer migration to higher yielding alternatives, partially \\noffset by additions of deposits from new and existing customers. \\nWells Fargo & Company 20\\n\\ncustomer growth and higher line utilization. \\nTotal deposits (average and period-end) decreased as \\ncustomers continued to reallocate cash into higher yielding \\nalternatives. \\nWells Fargo & Company 16\\n\\nand Small Business Banking. \\nTotal deposits (average and period-end) decreased due to \\nconsumer deposit outflows on consumer spending, as well as \\ncustomer migration to higher yielding alternatives. First half of 2023 vs. first half of 2022 \\nTotal loans (average) increased driven by: \\n• higher point of sale volume and the impact of new product \\nlaunches in our Credit Card business; \\n• higher loan balances in Home Lending; and \\n• higher loan balances in our Personal Lending business due to \\nhigher origination volumes and slower payment rates; \\npartially offset by: \\n• a decline in loan balances in our Auto business due to lower \\norigination volumes reflecting credit tightening actions and \\nrising interest rates; and \\n• a decline in Paycheck Protection Program loans in Consumer \\nand Small Business Banking. \\nAnswer: Total deposits decreased due to consumer deposit outflows on consumer spending and customer migration to higher yielding alternatives.\", main_error=None, calls=[RecordAppCall(stack=[RecordAppCallMethod(path=Lens().app, method=Method(obj=Obj(cls=langchain_core.runnables.base.RunnableSequence, id=6202187776, init_bindings=None), name='invoke')), RecordAppCallMethod(path=Lens().app.first, method=Method(obj=Obj(cls=langchain_core.runnables.base.RunnableParallel, id=6202021440, init_bindings=None), name='invoke')), RecordAppCallMethod(path=Lens().app.first.steps.question, method=Method(obj=Obj(cls=langchain_core.runnables.passthrough.RunnablePassthrough, id=6201906560, init_bindings=None), name='invoke'))], args={'input': 'Why did total deposits decrease?\\n', 'config': {'tags': [], 'metadata': {}, 'callbacks': {'__tru_non_serialized_object': {'cls': {'name': 'CallbackManager', 'module': {'package_name': 'langchain_core.callbacks', 'module_name': 'langchain_core.callbacks.manager'}, 'bases': None}, 'id': 16504361632, 'init_bindings': None}}, 'recursion_limit': 25, 'configurable': {}}}, rets='Why did total deposits decrease?\\n', error=None, perf=Perf(start_time=datetime.datetime(2024, 4, 16, 17, 36, 34, 459233), end_time=datetime.datetime(2024, 4, 16, 17, 36, 34, 468689)), pid=53443, tid=584077), RecordAppCall(stack=[RecordAppCallMethod(path=Lens().app, method=Method(obj=Obj(cls=langchain_core.runnables.base.RunnableSequence, id=6202187776, init_bindings=None), name='invoke')), RecordAppCallMethod(path=Lens().app.first, method=Method(obj=Obj(cls=langchain_core.runnables.base.RunnableParallel, id=6202021440, init_bindings=None), name='invoke')), RecordAppCallMethod(path=Lens().app.first.steps.context, method=Method(obj=Obj(cls=langchain_core.runnables.base.RunnableSequence, id=6202187776, init_bindings=None), name='invoke')), RecordAppCallMethod(path=Lens().app.first.steps.context.first, method=Method(obj=Obj(cls=langchain_core.vectorstores.VectorStoreRetriever, id=13292237440, init_bindings=None), name='invoke')), RecordAppCallMethod(path=Lens().app.first.steps.context.first, method=Method(obj=Obj(cls=langchain_core.vectorstores.VectorStoreRetriever, id=13292237440, init_bindings=None), name='get_relevant_documents')), RecordAppCallMethod(path=Lens().app.first.steps.context.first, method=Method(obj=Obj(cls=langchain_core.vectorstores.VectorStoreRetriever, id=13292237440, init_bindings=None), name='_get_relevant_documents'))], args={'query': 'Why did total deposits decrease?\\n', 'run_manager': {'__tru_non_serialized_object': {'cls': {'name': 'CallbackManagerForRetrieverRun', 'module': {'package_name': 'langchain_core.callbacks', 'module_name': 'langchain_core.callbacks.manager'}, 'bases': None}, 'id': 16504265344, 'init_bindings': None}}}, rets=[{'page_content': 'origination volumes reflecting credit tightening actions and \\nrising interest rates; and \\n• a decline in Paycheck Protection Program loans in Consumer \\nand Small Business Banking. \\nTotal deposits (average) decreased due to consumer deposit \\noutflows on consumer spending, as well as customer migration \\nto higher yielding alternatives. \\nWells Fargo & Company 3 \\n16', 'metadata': {'source': './data/q2_2023.pdf', 'page': 16, 'start_index': 0}, 'type': 'Document'}, {'page_content': 'Total assets \\nTotal deposits $ \\nborrowed \\n$ 130,008 \\n59,020 17,804 \\n206,832 \\n559,520 \\n158,770 109,634 \\n42,696 24,540 \\n176,870 \\n567,733 \\n162,439 20,374 16,324 \\n(6,736) \\n29,962 \\n(8,213) (3,669) 19 38 \\n(27) \\n17 \\n(1) (2) $ \\n$ 130,008 \\n59,020 \\n17,804 \\n206,832 \\n559,520 \\n158,770 109,634 \\n42,696 24,540 \\n176,870 \\n567,733 \\n162,439 20,374 16,324 \\n(6,736) \\n29,962 \\n(8,213) (3,669) 19 38 \\n(27) \\n17 \\n(1) (2) \\nSecond quarter 2023 vs. second quarter 2022 \\nTotal assets (average and period-end) decreased reflecting: \\n• lower loan balances driven by lower originations; and \\n• lower trading-related derivative assets due to declines in \\nderivative balances for commodities and equities; \\npartially offset by: \\n• increased volume of reverse repurchase agreements; and • higher trading account securities driven by higher mortgage-\\nbacked securities, equity, and bond trading balances. \\nTotal deposits (average and period-end) decreased due to \\ncustomer migration to higher yielding alternatives, partially \\noffset by additions of deposits from new and existing customers. \\nWells Fargo & Company 20', 'metadata': {'source': './data/q2_2023.pdf', 'page': 20, 'start_index': 0}, 'type': 'Document'}, {'page_content': 'customer growth and higher line utilization. \\nTotal deposits (average and period-end) decreased as \\ncustomers continued to reallocate cash into higher yielding \\nalternatives. \\nWells Fargo & Company 16', 'metadata': {'source': './data/q1_2023.pdf', 'page': 16, 'start_index': -1}, 'type': 'Document'}, {'page_content': 'and Small Business Banking. \\nTotal deposits (average and period-end) decreased due to \\nconsumer deposit outflows on consumer spending, as well as \\ncustomer migration to higher yielding alternatives. First half of 2023 vs. first half of 2022 \\nTotal loans (average) increased driven by: \\n• higher point of sale volume and the impact of new product \\nlaunches in our Credit Card business; \\n• higher loan balances in Home Lending; and \\n• higher loan balances in our Personal Lending business due to \\nhigher origination volumes and slower payment rates; \\npartially offset by: \\n• a decline in loan balances in our Auto business due to lower \\norigination volumes reflecting credit tightening actions and \\nrising interest rates; and \\n• a decline in Paycheck Protection Program loans in Consumer \\nand Small Business Banking.', 'metadata': {'source': './data/q2_2023.pdf', 'page': 16, 'start_index': 2494}, 'type': 'Document'}], error=None, perf=Perf(start_time=datetime.datetime(2024, 4, 16, 17, 36, 34, 485842), end_time=datetime.datetime(2024, 4, 16, 17, 36, 43, 447012)), pid=53443, tid=584076), RecordAppCall(stack=[RecordAppCallMethod(path=Lens().app, method=Method(obj=Obj(cls=langchain_core.runnables.base.RunnableSequence, id=6202187776, init_bindings=None), name='invoke')), RecordAppCallMethod(path=Lens().app.first, method=Method(obj=Obj(cls=langchain_core.runnables.base.RunnableParallel, id=6202021440, init_bindings=None), name='invoke')), RecordAppCallMethod(path=Lens().app.first.steps.context, method=Method(obj=Obj(cls=langchain_core.runnables.base.RunnableSequence, id=6202187776, init_bindings=None), name='invoke')), RecordAppCallMethod(path=Lens().app.first.steps.context.first, method=Method(obj=Obj(cls=langchain_core.vectorstores.VectorStoreRetriever, id=13292237440, init_bindings=None), name='invoke')), RecordAppCallMethod(path=Lens().app.first.steps.context.first, method=Method(obj=Obj(cls=langchain_core.vectorstores.VectorStoreRetriever, id=13292237440, init_bindings=None), name='get_relevant_documents'))], args={'query': 'Why did total deposits decrease?\\n', 'callbacks': {'__tru_non_serialized_object': {'cls': {'name': 'CallbackManager', 'module': {'package_name': 'langchain_core.callbacks', 'module_name': 'langchain_core.callbacks.manager'}, 'bases': None}, 'id': 16193915536, 'init_bindings': None}}, 'tags': [], 'metadata': {}, 'run_name': None}, rets=[{'page_content': 'origination volumes reflecting credit tightening actions and \\nrising interest rates; and \\n• a decline in Paycheck Protection Program loans in Consumer \\nand Small Business Banking. \\nTotal deposits (average) decreased due to consumer deposit \\noutflows on consumer spending, as well as customer migration \\nto higher yielding alternatives. \\nWells Fargo & Company 3 \\n16', 'metadata': {'source': './data/q2_2023.pdf', 'page': 16, 'start_index': 0}, 'type': 'Document'}, {'page_content': 'Total assets \\nTotal deposits $ \\nborrowed \\n$ 130,008 \\n59,020 17,804 \\n206,832 \\n559,520 \\n158,770 109,634 \\n42,696 24,540 \\n176,870 \\n567,733 \\n162,439 20,374 16,324 \\n(6,736) \\n29,962 \\n(8,213) (3,669) 19 38 \\n(27) \\n17 \\n(1) (2) $ \\n$ 130,008 \\n59,020 \\n17,804 \\n206,832 \\n559,520 \\n158,770 109,634 \\n42,696 24,540 \\n176,870 \\n567,733 \\n162,439 20,374 16,324 \\n(6,736) \\n29,962 \\n(8,213) (3,669) 19 38 \\n(27) \\n17 \\n(1) (2) \\nSecond quarter 2023 vs. second quarter 2022 \\nTotal assets (average and period-end) decreased reflecting: \\n• lower loan balances driven by lower originations; and \\n• lower trading-related derivative assets due to declines in \\nderivative balances for commodities and equities; \\npartially offset by: \\n• increased volume of reverse repurchase agreements; and • higher trading account securities driven by higher mortgage-\\nbacked securities, equity, and bond trading balances. \\nTotal deposits (average and period-end) decreased due to \\ncustomer migration to higher yielding alternatives, partially \\noffset by additions of deposits from new and existing customers. \\nWells Fargo & Company 20', 'metadata': {'source': './data/q2_2023.pdf', 'page': 20, 'start_index': 0}, 'type': 'Document'}, {'page_content': 'customer growth and higher line utilization. \\nTotal deposits (average and period-end) decreased as \\ncustomers continued to reallocate cash into higher yielding \\nalternatives. \\nWells Fargo & Company 16', 'metadata': {'source': './data/q1_2023.pdf', 'page': 16, 'start_index': -1}, 'type': 'Document'}, {'page_content': 'and Small Business Banking. \\nTotal deposits (average and period-end) decreased due to \\nconsumer deposit outflows on consumer spending, as well as \\ncustomer migration to higher yielding alternatives. First half of 2023 vs. first half of 2022 \\nTotal loans (average) increased driven by: \\n• higher point of sale volume and the impact of new product \\nlaunches in our Credit Card business; \\n• higher loan balances in Home Lending; and \\n• higher loan balances in our Personal Lending business due to \\nhigher origination volumes and slower payment rates; \\npartially offset by: \\n• a decline in loan balances in our Auto business due to lower \\norigination volumes reflecting credit tightening actions and \\nrising interest rates; and \\n• a decline in Paycheck Protection Program loans in Consumer \\nand Small Business Banking.', 'metadata': {'source': './data/q2_2023.pdf', 'page': 16, 'start_index': 2494}, 'type': 'Document'}], error=None, perf=Perf(start_time=datetime.datetime(2024, 4, 16, 17, 36, 34, 476216), end_time=datetime.datetime(2024, 4, 16, 17, 36, 43, 447925)), pid=53443, tid=584076), RecordAppCall(stack=[RecordAppCallMethod(path=Lens().app, method=Method(obj=Obj(cls=langchain_core.runnables.base.RunnableSequence, id=6202187776, init_bindings=None), name='invoke')), RecordAppCallMethod(path=Lens().app.first, method=Method(obj=Obj(cls=langchain_core.runnables.base.RunnableParallel, id=6202021440, init_bindings=None), name='invoke')), RecordAppCallMethod(path=Lens().app.first.steps.context, method=Method(obj=Obj(cls=langchain_core.runnables.base.RunnableSequence, id=6202187776, init_bindings=None), name='invoke')), RecordAppCallMethod(path=Lens().app.first.steps.context.first, method=Method(obj=Obj(cls=langchain_core.vectorstores.VectorStoreRetriever, id=13292237440, init_bindings=None), name='invoke'))], args={'input': 'Why did total deposits decrease?\\n', 'config': {'tags': [], 'metadata': {}, 'callbacks': {'__tru_non_serialized_object': {'cls': {'name': 'CallbackManager', 'module': {'package_name': 'langchain_core.callbacks', 'module_name': 'langchain_core.callbacks.manager'}, 'bases': None}, 'id': 16193915536, 'init_bindings': None}}, 'recursion_limit': 25, 'configurable': {}}}, rets=[{'page_content': 'origination volumes reflecting credit tightening actions and \\nrising interest rates; and \\n• a decline in Paycheck Protection Program loans in Consumer \\nand Small Business Banking. \\nTotal deposits (average) decreased due to consumer deposit \\noutflows on consumer spending, as well as customer migration \\nto higher yielding alternatives. \\nWells Fargo & Company 3 \\n16', 'metadata': {'source': './data/q2_2023.pdf', 'page': 16, 'start_index': 0}, 'type': 'Document'}, {'page_content': 'Total assets \\nTotal deposits $ \\nborrowed \\n$ 130,008 \\n59,020 17,804 \\n206,832 \\n559,520 \\n158,770 109,634 \\n42,696 24,540 \\n176,870 \\n567,733 \\n162,439 20,374 16,324 \\n(6,736) \\n29,962 \\n(8,213) (3,669) 19 38 \\n(27) \\n17 \\n(1) (2) $ \\n$ 130,008 \\n59,020 \\n17,804 \\n206,832 \\n559,520 \\n158,770 109,634 \\n42,696 24,540 \\n176,870 \\n567,733 \\n162,439 20,374 16,324 \\n(6,736) \\n29,962 \\n(8,213) (3,669) 19 38 \\n(27) \\n17 \\n(1) (2) \\nSecond quarter 2023 vs. second quarter 2022 \\nTotal assets (average and period-end) decreased reflecting: \\n• lower loan balances driven by lower originations; and \\n• lower trading-related derivative assets due to declines in \\nderivative balances for commodities and equities; \\npartially offset by: \\n• increased volume of reverse repurchase agreements; and • higher trading account securities driven by higher mortgage-\\nbacked securities, equity, and bond trading balances. \\nTotal deposits (average and period-end) decreased due to \\ncustomer migration to higher yielding alternatives, partially \\noffset by additions of deposits from new and existing customers. \\nWells Fargo & Company 20', 'metadata': {'source': './data/q2_2023.pdf', 'page': 20, 'start_index': 0}, 'type': 'Document'}, {'page_content': 'customer growth and higher line utilization. \\nTotal deposits (average and period-end) decreased as \\ncustomers continued to reallocate cash into higher yielding \\nalternatives. \\nWells Fargo & Company 16', 'metadata': {'source': './data/q1_2023.pdf', 'page': 16, 'start_index': -1}, 'type': 'Document'}, {'page_content': 'and Small Business Banking. \\nTotal deposits (average and period-end) decreased due to \\nconsumer deposit outflows on consumer spending, as well as \\ncustomer migration to higher yielding alternatives. First half of 2023 vs. first half of 2022 \\nTotal loans (average) increased driven by: \\n• higher point of sale volume and the impact of new product \\nlaunches in our Credit Card business; \\n• higher loan balances in Home Lending; and \\n• higher loan balances in our Personal Lending business due to \\nhigher origination volumes and slower payment rates; \\npartially offset by: \\n• a decline in loan balances in our Auto business due to lower \\norigination volumes reflecting credit tightening actions and \\nrising interest rates; and \\n• a decline in Paycheck Protection Program loans in Consumer \\nand Small Business Banking.', 'metadata': {'source': './data/q2_2023.pdf', 'page': 16, 'start_index': 2494}, 'type': 'Document'}], error=None, perf=Perf(start_time=datetime.datetime(2024, 4, 16, 17, 36, 34, 469173), end_time=datetime.datetime(2024, 4, 16, 17, 36, 43, 448352)), pid=53443, tid=584076), RecordAppCall(stack=[RecordAppCallMethod(path=Lens().app, method=Method(obj=Obj(cls=langchain_core.runnables.base.RunnableSequence, id=6202187776, init_bindings=None), name='invoke')), RecordAppCallMethod(path=Lens().app.first, method=Method(obj=Obj(cls=langchain_core.runnables.base.RunnableParallel, id=6202021440, init_bindings=None), name='invoke')), RecordAppCallMethod(path=Lens().app.first.steps.context, method=Method(obj=Obj(cls=langchain_core.runnables.base.RunnableSequence, id=6202187776, init_bindings=None), name='invoke'))], args={'input': 'Why did total deposits decrease?\\n', 'config': {'tags': [], 'metadata': {}, 'callbacks': {'__tru_non_serialized_object': {'cls': {'name': 'CallbackManager', 'module': {'package_name': 'langchain_core.callbacks', 'module_name': 'langchain_core.callbacks.manager'}, 'bases': None}, 'id': 16502307040, 'init_bindings': None}}, 'recursion_limit': 25, 'configurable': {}}}, rets='origination volumes reflecting credit tightening actions and \\nrising interest rates; and \\n• a decline in Paycheck Protection Program loans in Consumer \\nand Small Business Banking. \\nTotal deposits (average) decreased due to consumer deposit \\noutflows on consumer spending, as well as customer migration \\nto higher yielding alternatives. \\nWells Fargo & Company 3 \\n16\\n\\nTotal assets \\nTotal deposits $ \\nborrowed \\n$ 130,008 \\n59,020 17,804 \\n206,832 \\n559,520 \\n158,770 109,634 \\n42,696 24,540 \\n176,870 \\n567,733 \\n162,439 20,374 16,324 \\n(6,736) \\n29,962 \\n(8,213) (3,669) 19 38 \\n(27) \\n17 \\n(1) (2) $ \\n$ 130,008 \\n59,020 \\n17,804 \\n206,832 \\n559,520 \\n158,770 109,634 \\n42,696 24,540 \\n176,870 \\n567,733 \\n162,439 20,374 16,324 \\n(6,736) \\n29,962 \\n(8,213) (3,669) 19 38 \\n(27) \\n17 \\n(1) (2) \\nSecond quarter 2023 vs. second quarter 2022 \\nTotal assets (average and period-end) decreased reflecting: \\n• lower loan balances driven by lower originations; and \\n• lower trading-related derivative assets due to declines in \\nderivative balances for commodities and equities; \\npartially offset by: \\n• increased volume of reverse repurchase agreements; and • higher trading account securities driven by higher mortgage-\\nbacked securities, equity, and bond trading balances. \\nTotal deposits (average and period-end) decreased due to \\ncustomer migration to higher yielding alternatives, partially \\noffset by additions of deposits from new and existing customers. \\nWells Fargo & Company 20\\n\\ncustomer growth and higher line utilization. \\nTotal deposits (average and period-end) decreased as \\ncustomers continued to reallocate cash into higher yielding \\nalternatives. \\nWells Fargo & Company 16\\n\\nand Small Business Banking. \\nTotal deposits (average and period-end) decreased due to \\nconsumer deposit outflows on consumer spending, as well as \\ncustomer migration to higher yielding alternatives. First half of 2023 vs. first half of 2022 \\nTotal loans (average) increased driven by: \\n• higher point of sale volume and the impact of new product \\nlaunches in our Credit Card business; \\n• higher loan balances in Home Lending; and \\n• higher loan balances in our Personal Lending business due to \\nhigher origination volumes and slower payment rates; \\npartially offset by: \\n• a decline in loan balances in our Auto business due to lower \\norigination volumes reflecting credit tightening actions and \\nrising interest rates; and \\n• a decline in Paycheck Protection Program loans in Consumer \\nand Small Business Banking.', error=None, perf=Perf(start_time=datetime.datetime(2024, 4, 16, 17, 36, 34, 451685), end_time=datetime.datetime(2024, 4, 16, 17, 36, 43, 449551)), pid=53443, tid=584076), RecordAppCall(stack=[RecordAppCallMethod(path=Lens().app, method=Method(obj=Obj(cls=langchain_core.runnables.base.RunnableSequence, id=6202187776, init_bindings=None), name='invoke')), RecordAppCallMethod(path=Lens().app.first, method=Method(obj=Obj(cls=langchain_core.runnables.base.RunnableParallel, id=6202021440, init_bindings=None), name='invoke'))], args={'input': 'Why did total deposits decrease?\\n', 'config': {'tags': [], 'metadata': {}, 'callbacks': {'__tru_non_serialized_object': {'cls': {'name': 'CallbackManager', 'module': {'package_name': 'langchain_core.callbacks', 'module_name': 'langchain_core.callbacks.manager'}, 'bases': None}, 'id': 16504359856, 'init_bindings': None}}, 'recursion_limit': 25, 'configurable': {}}}, rets={'context': 'origination volumes reflecting credit tightening actions and \\nrising interest rates; and \\n• a decline in Paycheck Protection Program loans in Consumer \\nand Small Business Banking. \\nTotal deposits (average) decreased due to consumer deposit \\noutflows on consumer spending, as well as customer migration \\nto higher yielding alternatives. \\nWells Fargo & Company 3 \\n16\\n\\nTotal assets \\nTotal deposits $ \\nborrowed \\n$ 130,008 \\n59,020 17,804 \\n206,832 \\n559,520 \\n158,770 109,634 \\n42,696 24,540 \\n176,870 \\n567,733 \\n162,439 20,374 16,324 \\n(6,736) \\n29,962 \\n(8,213) (3,669) 19 38 \\n(27) \\n17 \\n(1) (2) $ \\n$ 130,008 \\n59,020 \\n17,804 \\n206,832 \\n559,520 \\n158,770 109,634 \\n42,696 24,540 \\n176,870 \\n567,733 \\n162,439 20,374 16,324 \\n(6,736) \\n29,962 \\n(8,213) (3,669) 19 38 \\n(27) \\n17 \\n(1) (2) \\nSecond quarter 2023 vs. second quarter 2022 \\nTotal assets (average and period-end) decreased reflecting: \\n• lower loan balances driven by lower originations; and \\n• lower trading-related derivative assets due to declines in \\nderivative balances for commodities and equities; \\npartially offset by: \\n• increased volume of reverse repurchase agreements; and • higher trading account securities driven by higher mortgage-\\nbacked securities, equity, and bond trading balances. \\nTotal deposits (average and period-end) decreased due to \\ncustomer migration to higher yielding alternatives, partially \\noffset by additions of deposits from new and existing customers. \\nWells Fargo & Company 20\\n\\ncustomer growth and higher line utilization. \\nTotal deposits (average and period-end) decreased as \\ncustomers continued to reallocate cash into higher yielding \\nalternatives. \\nWells Fargo & Company 16\\n\\nand Small Business Banking. \\nTotal deposits (average and period-end) decreased due to \\nconsumer deposit outflows on consumer spending, as well as \\ncustomer migration to higher yielding alternatives. First half of 2023 vs. first half of 2022 \\nTotal loans (average) increased driven by: \\n• higher point of sale volume and the impact of new product \\nlaunches in our Credit Card business; \\n• higher loan balances in Home Lending; and \\n• higher loan balances in our Personal Lending business due to \\nhigher origination volumes and slower payment rates; \\npartially offset by: \\n• a decline in loan balances in our Auto business due to lower \\norigination volumes reflecting credit tightening actions and \\nrising interest rates; and \\n• a decline in Paycheck Protection Program loans in Consumer \\nand Small Business Banking.', 'question': 'Why did total deposits decrease?\\n'}, error=None, perf=Perf(start_time=datetime.datetime(2024, 4, 16, 17, 36, 34, 390183), end_time=datetime.datetime(2024, 4, 16, 17, 36, 43, 450007)), pid=53443, tid=568600), RecordAppCall(stack=[RecordAppCallMethod(path=Lens().app, method=Method(obj=Obj(cls=langchain_core.runnables.base.RunnableSequence, id=6202187776, init_bindings=None), name='invoke')), RecordAppCallMethod(path=Lens().app.middle[0], method=Method(obj=Obj(cls=langchain_core.prompts.chat.ChatPromptTemplate, id=13317215808, init_bindings=None), name='invoke'))], args={'input': {'context': 'origination volumes reflecting credit tightening actions and \\nrising interest rates; and \\n• a decline in Paycheck Protection Program loans in Consumer \\nand Small Business Banking. \\nTotal deposits (average) decreased due to consumer deposit \\noutflows on consumer spending, as well as customer migration \\nto higher yielding alternatives. \\nWells Fargo & Company 3 \\n16\\n\\nTotal assets \\nTotal deposits $ \\nborrowed \\n$ 130,008 \\n59,020 17,804 \\n206,832 \\n559,520 \\n158,770 109,634 \\n42,696 24,540 \\n176,870 \\n567,733 \\n162,439 20,374 16,324 \\n(6,736) \\n29,962 \\n(8,213) (3,669) 19 38 \\n(27) \\n17 \\n(1) (2) $ \\n$ 130,008 \\n59,020 \\n17,804 \\n206,832 \\n559,520 \\n158,770 109,634 \\n42,696 24,540 \\n176,870 \\n567,733 \\n162,439 20,374 16,324 \\n(6,736) \\n29,962 \\n(8,213) (3,669) 19 38 \\n(27) \\n17 \\n(1) (2) \\nSecond quarter 2023 vs. second quarter 2022 \\nTotal assets (average and period-end) decreased reflecting: \\n• lower loan balances driven by lower originations; and \\n• lower trading-related derivative assets due to declines in \\nderivative balances for commodities and equities; \\npartially offset by: \\n• increased volume of reverse repurchase agreements; and • higher trading account securities driven by higher mortgage-\\nbacked securities, equity, and bond trading balances. \\nTotal deposits (average and period-end) decreased due to \\ncustomer migration to higher yielding alternatives, partially \\noffset by additions of deposits from new and existing customers. \\nWells Fargo & Company 20\\n\\ncustomer growth and higher line utilization. \\nTotal deposits (average and period-end) decreased as \\ncustomers continued to reallocate cash into higher yielding \\nalternatives. \\nWells Fargo & Company 16\\n\\nand Small Business Banking. \\nTotal deposits (average and period-end) decreased due to \\nconsumer deposit outflows on consumer spending, as well as \\ncustomer migration to higher yielding alternatives. First half of 2023 vs. first half of 2022 \\nTotal loans (average) increased driven by: \\n• higher point of sale volume and the impact of new product \\nlaunches in our Credit Card business; \\n• higher loan balances in Home Lending; and \\n• higher loan balances in our Personal Lending business due to \\nhigher origination volumes and slower payment rates; \\npartially offset by: \\n• a decline in loan balances in our Auto business due to lower \\norigination volumes reflecting credit tightening actions and \\nrising interest rates; and \\n• a decline in Paycheck Protection Program loans in Consumer \\nand Small Business Banking.', 'question': 'Why did total deposits decrease?\\n'}, 'config': {'tags': [], 'metadata': {}, 'callbacks': {'__tru_non_serialized_object': {'cls': {'name': 'CallbackManager', 'module': {'package_name': 'langchain_core.callbacks', 'module_name': 'langchain_core.callbacks.manager'}, 'bases': None}, 'id': 16504269856, 'init_bindings': None}}, 'recursion_limit': 25, 'configurable': {}}}, rets={'messages': [{'content': \"You are an assistant for question-answering tasks. Use the following pieces of retrieved context to answer the question. If you don't know the answer, just say that you don't know. Use three sentences maximum and keep the answer concise.\\nQuestion: Why did total deposits decrease?\\n \\nContext: origination volumes reflecting credit tightening actions and \\nrising interest rates; and \\n• a decline in Paycheck Protection Program loans in Consumer \\nand Small Business Banking. \\nTotal deposits (average) decreased due to consumer deposit \\noutflows on consumer spending, as well as customer migration \\nto higher yielding alternatives. \\nWells Fargo & Company 3 \\n16\\n\\nTotal assets \\nTotal deposits $ \\nborrowed \\n$ 130,008 \\n59,020 17,804 \\n206,832 \\n559,520 \\n158,770 109,634 \\n42,696 24,540 \\n176,870 \\n567,733 \\n162,439 20,374 16,324 \\n(6,736) \\n29,962 \\n(8,213) (3,669) 19 38 \\n(27) \\n17 \\n(1) (2) $ \\n$ 130,008 \\n59,020 \\n17,804 \\n206,832 \\n559,520 \\n158,770 109,634 \\n42,696 24,540 \\n176,870 \\n567,733 \\n162,439 20,374 16,324 \\n(6,736) \\n29,962 \\n(8,213) (3,669) 19 38 \\n(27) \\n17 \\n(1) (2) \\nSecond quarter 2023 vs. second quarter 2022 \\nTotal assets (average and period-end) decreased reflecting: \\n• lower loan balances driven by lower originations; and \\n• lower trading-related derivative assets due to declines in \\nderivative balances for commodities and equities; \\npartially offset by: \\n• increased volume of reverse repurchase agreements; and • higher trading account securities driven by higher mortgage-\\nbacked securities, equity, and bond trading balances. \\nTotal deposits (average and period-end) decreased due to \\ncustomer migration to higher yielding alternatives, partially \\noffset by additions of deposits from new and existing customers. \\nWells Fargo & Company 20\\n\\ncustomer growth and higher line utilization. \\nTotal deposits (average and period-end) decreased as \\ncustomers continued to reallocate cash into higher yielding \\nalternatives. \\nWells Fargo & Company 16\\n\\nand Small Business Banking. \\nTotal deposits (average and period-end) decreased due to \\nconsumer deposit outflows on consumer spending, as well as \\ncustomer migration to higher yielding alternatives. First half of 2023 vs. first half of 2022 \\nTotal loans (average) increased driven by: \\n• higher point of sale volume and the impact of new product \\nlaunches in our Credit Card business; \\n• higher loan balances in Home Lending; and \\n• higher loan balances in our Personal Lending business due to \\nhigher origination volumes and slower payment rates; \\npartially offset by: \\n• a decline in loan balances in our Auto business due to lower \\norigination volumes reflecting credit tightening actions and \\nrising interest rates; and \\n• a decline in Paycheck Protection Program loans in Consumer \\nand Small Business Banking. \\nAnswer:\", 'additional_kwargs': {}, 'response_metadata': {}, 'type': 'human', 'name': None, 'id': None, 'example': False}]}, error=None, perf=Perf(start_time=datetime.datetime(2024, 4, 16, 17, 36, 43, 493707), end_time=datetime.datetime(2024, 4, 16, 17, 36, 43, 512415)), pid=53443, tid=568600), RecordAppCall(stack=[RecordAppCallMethod(path=Lens().app, method=Method(obj=Obj(cls=langchain_core.runnables.base.RunnableSequence, id=6202187776, init_bindings=None), name='invoke')), RecordAppCallMethod(path=Lens().app.middle[1], method=Method(obj=Obj(cls=langchain_community.llms.huggingface_hub.HuggingFaceHub, id=13318833664, init_bindings=None), name='invoke'))], args={'input': {'messages': [{'content': \"You are an assistant for question-answering tasks. Use the following pieces of retrieved context to answer the question. If you don't know the answer, just say that you don't know. Use three sentences maximum and keep the answer concise.\\nQuestion: Why did total deposits decrease?\\n \\nContext: origination volumes reflecting credit tightening actions and \\nrising interest rates; and \\n• a decline in Paycheck Protection Program loans in Consumer \\nand Small Business Banking. \\nTotal deposits (average) decreased due to consumer deposit \\noutflows on consumer spending, as well as customer migration \\nto higher yielding alternatives. \\nWells Fargo & Company 3 \\n16\\n\\nTotal assets \\nTotal deposits $ \\nborrowed \\n$ 130,008 \\n59,020 17,804 \\n206,832 \\n559,520 \\n158,770 109,634 \\n42,696 24,540 \\n176,870 \\n567,733 \\n162,439 20,374 16,324 \\n(6,736) \\n29,962 \\n(8,213) (3,669) 19 38 \\n(27) \\n17 \\n(1) (2) $ \\n$ 130,008 \\n59,020 \\n17,804 \\n206,832 \\n559,520 \\n158,770 109,634 \\n42,696 24,540 \\n176,870 \\n567,733 \\n162,439 20,374 16,324 \\n(6,736) \\n29,962 \\n(8,213) (3,669) 19 38 \\n(27) \\n17 \\n(1) (2) \\nSecond quarter 2023 vs. second quarter 2022 \\nTotal assets (average and period-end) decreased reflecting: \\n• lower loan balances driven by lower originations; and \\n• lower trading-related derivative assets due to declines in \\nderivative balances for commodities and equities; \\npartially offset by: \\n• increased volume of reverse repurchase agreements; and • higher trading account securities driven by higher mortgage-\\nbacked securities, equity, and bond trading balances. \\nTotal deposits (average and period-end) decreased due to \\ncustomer migration to higher yielding alternatives, partially \\noffset by additions of deposits from new and existing customers. \\nWells Fargo & Company 20\\n\\ncustomer growth and higher line utilization. \\nTotal deposits (average and period-end) decreased as \\ncustomers continued to reallocate cash into higher yielding \\nalternatives. \\nWells Fargo & Company 16\\n\\nand Small Business Banking. \\nTotal deposits (average and period-end) decreased due to \\nconsumer deposit outflows on consumer spending, as well as \\ncustomer migration to higher yielding alternatives. First half of 2023 vs. first half of 2022 \\nTotal loans (average) increased driven by: \\n• higher point of sale volume and the impact of new product \\nlaunches in our Credit Card business; \\n• higher loan balances in Home Lending; and \\n• higher loan balances in our Personal Lending business due to \\nhigher origination volumes and slower payment rates; \\npartially offset by: \\n• a decline in loan balances in our Auto business due to lower \\norigination volumes reflecting credit tightening actions and \\nrising interest rates; and \\n• a decline in Paycheck Protection Program loans in Consumer \\nand Small Business Banking. \\nAnswer:\", 'additional_kwargs': {}, 'response_metadata': {}, 'type': 'human', 'name': None, 'id': None, 'example': False}]}, 'config': {'tags': [], 'metadata': {}, 'callbacks': {'__tru_non_serialized_object': {'cls': {'name': 'CallbackManager', 'module': {'package_name': 'langchain_core.callbacks', 'module_name': 'langchain_core.callbacks.manager'}, 'bases': None}, 'id': 16503925360, 'init_bindings': None}}, 'recursion_limit': 25, 'configurable': {}}}, rets=\"Human: You are an assistant for question-answering tasks. Use the following pieces of retrieved context to answer the question. If you don't know the answer, just say that you don't know. Use three sentences maximum and keep the answer concise.\\nQuestion: Why did total deposits decrease?\\n \\nContext: origination volumes reflecting credit tightening actions and \\nrising interest rates; and \\n• a decline in Paycheck Protection Program loans in Consumer \\nand Small Business Banking. \\nTotal deposits (average) decreased due to consumer deposit \\noutflows on consumer spending, as well as customer migration \\nto higher yielding alternatives. \\nWells Fargo & Company 3 \\n16\\n\\nTotal assets \\nTotal deposits $ \\nborrowed \\n$ 130,008 \\n59,020 17,804 \\n206,832 \\n559,520 \\n158,770 109,634 \\n42,696 24,540 \\n176,870 \\n567,733 \\n162,439 20,374 16,324 \\n(6,736) \\n29,962 \\n(8,213) (3,669) 19 38 \\n(27) \\n17 \\n(1) (2) $ \\n$ 130,008 \\n59,020 \\n17,804 \\n206,832 \\n559,520 \\n158,770 109,634 \\n42,696 24,540 \\n176,870 \\n567,733 \\n162,439 20,374 16,324 \\n(6,736) \\n29,962 \\n(8,213) (3,669) 19 38 \\n(27) \\n17 \\n(1) (2) \\nSecond quarter 2023 vs. second quarter 2022 \\nTotal assets (average and period-end) decreased reflecting: \\n• lower loan balances driven by lower originations; and \\n• lower trading-related derivative assets due to declines in \\nderivative balances for commodities and equities; \\npartially offset by: \\n• increased volume of reverse repurchase agreements; and • higher trading account securities driven by higher mortgage-\\nbacked securities, equity, and bond trading balances. \\nTotal deposits (average and period-end) decreased due to \\ncustomer migration to higher yielding alternatives, partially \\noffset by additions of deposits from new and existing customers. \\nWells Fargo & Company 20\\n\\ncustomer growth and higher line utilization. \\nTotal deposits (average and period-end) decreased as \\ncustomers continued to reallocate cash into higher yielding \\nalternatives. \\nWells Fargo & Company 16\\n\\nand Small Business Banking. \\nTotal deposits (average and period-end) decreased due to \\nconsumer deposit outflows on consumer spending, as well as \\ncustomer migration to higher yielding alternatives. First half of 2023 vs. first half of 2022 \\nTotal loans (average) increased driven by: \\n• higher point of sale volume and the impact of new product \\nlaunches in our Credit Card business; \\n• higher loan balances in Home Lending; and \\n• higher loan balances in our Personal Lending business due to \\nhigher origination volumes and slower payment rates; \\npartially offset by: \\n• a decline in loan balances in our Auto business due to lower \\norigination volumes reflecting credit tightening actions and \\nrising interest rates; and \\n• a decline in Paycheck Protection Program loans in Consumer \\nand Small Business Banking. \\nAnswer: Total deposits decreased due to consumer deposit outflows on consumer spending and customer migration to higher yielding alternatives.\", error=None, perf=Perf(start_time=datetime.datetime(2024, 4, 16, 17, 36, 43, 550216), end_time=datetime.datetime(2024, 4, 16, 17, 36, 44, 323162)), pid=53443, tid=568600), RecordAppCall(stack=[RecordAppCallMethod(path=Lens().app, method=Method(obj=Obj(cls=langchain_core.runnables.base.RunnableSequence, id=6202187776, init_bindings=None), name='invoke')), RecordAppCallMethod(path=Lens().app.last, method=Method(obj=Obj(cls=langchain_core.output_parsers.string.StrOutputParser, id=6201968448, init_bindings=None), name='invoke'))], args={'input': \"Human: You are an assistant for question-answering tasks. Use the following pieces of retrieved context to answer the question. If you don't know the answer, just say that you don't know. Use three sentences maximum and keep the answer concise.\\nQuestion: Why did total deposits decrease?\\n \\nContext: origination volumes reflecting credit tightening actions and \\nrising interest rates; and \\n• a decline in Paycheck Protection Program loans in Consumer \\nand Small Business Banking. \\nTotal deposits (average) decreased due to consumer deposit \\noutflows on consumer spending, as well as customer migration \\nto higher yielding alternatives. \\nWells Fargo & Company 3 \\n16\\n\\nTotal assets \\nTotal deposits $ \\nborrowed \\n$ 130,008 \\n59,020 17,804 \\n206,832 \\n559,520 \\n158,770 109,634 \\n42,696 24,540 \\n176,870 \\n567,733 \\n162,439 20,374 16,324 \\n(6,736) \\n29,962 \\n(8,213) (3,669) 19 38 \\n(27) \\n17 \\n(1) (2) $ \\n$ 130,008 \\n59,020 \\n17,804 \\n206,832 \\n559,520 \\n158,770 109,634 \\n42,696 24,540 \\n176,870 \\n567,733 \\n162,439 20,374 16,324 \\n(6,736) \\n29,962 \\n(8,213) (3,669) 19 38 \\n(27) \\n17 \\n(1) (2) \\nSecond quarter 2023 vs. second quarter 2022 \\nTotal assets (average and period-end) decreased reflecting: \\n• lower loan balances driven by lower originations; and \\n• lower trading-related derivative assets due to declines in \\nderivative balances for commodities and equities; \\npartially offset by: \\n• increased volume of reverse repurchase agreements; and • higher trading account securities driven by higher mortgage-\\nbacked securities, equity, and bond trading balances. \\nTotal deposits (average and period-end) decreased due to \\ncustomer migration to higher yielding alternatives, partially \\noffset by additions of deposits from new and existing customers. \\nWells Fargo & Company 20\\n\\ncustomer growth and higher line utilization. \\nTotal deposits (average and period-end) decreased as \\ncustomers continued to reallocate cash into higher yielding \\nalternatives. \\nWells Fargo & Company 16\\n\\nand Small Business Banking. \\nTotal deposits (average and period-end) decreased due to \\nconsumer deposit outflows on consumer spending, as well as \\ncustomer migration to higher yielding alternatives. First half of 2023 vs. first half of 2022 \\nTotal loans (average) increased driven by: \\n• higher point of sale volume and the impact of new product \\nlaunches in our Credit Card business; \\n• higher loan balances in Home Lending; and \\n• higher loan balances in our Personal Lending business due to \\nhigher origination volumes and slower payment rates; \\npartially offset by: \\n• a decline in loan balances in our Auto business due to lower \\norigination volumes reflecting credit tightening actions and \\nrising interest rates; and \\n• a decline in Paycheck Protection Program loans in Consumer \\nand Small Business Banking. \\nAnswer: Total deposits decreased due to consumer deposit outflows on consumer spending and customer migration to higher yielding alternatives.\", 'config': {'tags': [], 'metadata': {}, 'callbacks': {'__tru_non_serialized_object': {'cls': {'name': 'CallbackManager', 'module': {'package_name': 'langchain_core.callbacks', 'module_name': 'langchain_core.callbacks.manager'}, 'bases': None}, 'id': 16504269856, 'init_bindings': None}}, 'recursion_limit': 25, 'configurable': {}}}, rets=\"Human: You are an assistant for question-answering tasks. Use the following pieces of retrieved context to answer the question. If you don't know the answer, just say that you don't know. Use three sentences maximum and keep the answer concise.\\nQuestion: Why did total deposits decrease?\\n \\nContext: origination volumes reflecting credit tightening actions and \\nrising interest rates; and \\n• a decline in Paycheck Protection Program loans in Consumer \\nand Small Business Banking. \\nTotal deposits (average) decreased due to consumer deposit \\noutflows on consumer spending, as well as customer migration \\nto higher yielding alternatives. \\nWells Fargo & Company 3 \\n16\\n\\nTotal assets \\nTotal deposits $ \\nborrowed \\n$ 130,008 \\n59,020 17,804 \\n206,832 \\n559,520 \\n158,770 109,634 \\n42,696 24,540 \\n176,870 \\n567,733 \\n162,439 20,374 16,324 \\n(6,736) \\n29,962 \\n(8,213) (3,669) 19 38 \\n(27) \\n17 \\n(1) (2) $ \\n$ 130,008 \\n59,020 \\n17,804 \\n206,832 \\n559,520 \\n158,770 109,634 \\n42,696 24,540 \\n176,870 \\n567,733 \\n162,439 20,374 16,324 \\n(6,736) \\n29,962 \\n(8,213) (3,669) 19 38 \\n(27) \\n17 \\n(1) (2) \\nSecond quarter 2023 vs. second quarter 2022 \\nTotal assets (average and period-end) decreased reflecting: \\n• lower loan balances driven by lower originations; and \\n• lower trading-related derivative assets due to declines in \\nderivative balances for commodities and equities; \\npartially offset by: \\n• increased volume of reverse repurchase agreements; and • higher trading account securities driven by higher mortgage-\\nbacked securities, equity, and bond trading balances. \\nTotal deposits (average and period-end) decreased due to \\ncustomer migration to higher yielding alternatives, partially \\noffset by additions of deposits from new and existing customers. \\nWells Fargo & Company 20\\n\\ncustomer growth and higher line utilization. \\nTotal deposits (average and period-end) decreased as \\ncustomers continued to reallocate cash into higher yielding \\nalternatives. \\nWells Fargo & Company 16\\n\\nand Small Business Banking. \\nTotal deposits (average and period-end) decreased due to \\nconsumer deposit outflows on consumer spending, as well as \\ncustomer migration to higher yielding alternatives. First half of 2023 vs. first half of 2022 \\nTotal loans (average) increased driven by: \\n• higher point of sale volume and the impact of new product \\nlaunches in our Credit Card business; \\n• higher loan balances in Home Lending; and \\n• higher loan balances in our Personal Lending business due to \\nhigher origination volumes and slower payment rates; \\npartially offset by: \\n• a decline in loan balances in our Auto business due to lower \\norigination volumes reflecting credit tightening actions and \\nrising interest rates; and \\n• a decline in Paycheck Protection Program loans in Consumer \\nand Small Business Banking. \\nAnswer: Total deposits decreased due to consumer deposit outflows on consumer spending and customer migration to higher yielding alternatives.\", error=None, perf=Perf(start_time=datetime.datetime(2024, 4, 16, 17, 36, 44, 395171), end_time=datetime.datetime(2024, 4, 16, 17, 36, 44, 414042)), pid=53443, tid=568600), RecordAppCall(stack=[RecordAppCallMethod(path=Lens().app, method=Method(obj=Obj(cls=langchain_core.runnables.base.RunnableSequence, id=6202187776, init_bindings=None), name='invoke'))], args={'input': 'Why did total deposits decrease?\\n'}, rets=\"Human: You are an assistant for question-answering tasks. Use the following pieces of retrieved context to answer the question. If you don't know the answer, just say that you don't know. Use three sentences maximum and keep the answer concise.\\nQuestion: Why did total deposits decrease?\\n \\nContext: origination volumes reflecting credit tightening actions and \\nrising interest rates; and \\n• a decline in Paycheck Protection Program loans in Consumer \\nand Small Business Banking. \\nTotal deposits (average) decreased due to consumer deposit \\noutflows on consumer spending, as well as customer migration \\nto higher yielding alternatives. \\nWells Fargo & Company 3 \\n16\\n\\nTotal assets \\nTotal deposits $ \\nborrowed \\n$ 130,008 \\n59,020 17,804 \\n206,832 \\n559,520 \\n158,770 109,634 \\n42,696 24,540 \\n176,870 \\n567,733 \\n162,439 20,374 16,324 \\n(6,736) \\n29,962 \\n(8,213) (3,669) 19 38 \\n(27) \\n17 \\n(1) (2) $ \\n$ 130,008 \\n59,020 \\n17,804 \\n206,832 \\n559,520 \\n158,770 109,634 \\n42,696 24,540 \\n176,870 \\n567,733 \\n162,439 20,374 16,324 \\n(6,736) \\n29,962 \\n(8,213) (3,669) 19 38 \\n(27) \\n17 \\n(1) (2) \\nSecond quarter 2023 vs. second quarter 2022 \\nTotal assets (average and period-end) decreased reflecting: \\n• lower loan balances driven by lower originations; and \\n• lower trading-related derivative assets due to declines in \\nderivative balances for commodities and equities; \\npartially offset by: \\n• increased volume of reverse repurchase agreements; and • higher trading account securities driven by higher mortgage-\\nbacked securities, equity, and bond trading balances. \\nTotal deposits (average and period-end) decreased due to \\ncustomer migration to higher yielding alternatives, partially \\noffset by additions of deposits from new and existing customers. \\nWells Fargo & Company 20\\n\\ncustomer growth and higher line utilization. \\nTotal deposits (average and period-end) decreased as \\ncustomers continued to reallocate cash into higher yielding \\nalternatives. \\nWells Fargo & Company 16\\n\\nand Small Business Banking. \\nTotal deposits (average and period-end) decreased due to \\nconsumer deposit outflows on consumer spending, as well as \\ncustomer migration to higher yielding alternatives. First half of 2023 vs. first half of 2022 \\nTotal loans (average) increased driven by: \\n• higher point of sale volume and the impact of new product \\nlaunches in our Credit Card business; \\n• higher loan balances in Home Lending; and \\n• higher loan balances in our Personal Lending business due to \\nhigher origination volumes and slower payment rates; \\npartially offset by: \\n• a decline in loan balances in our Auto business due to lower \\norigination volumes reflecting credit tightening actions and \\nrising interest rates; and \\n• a decline in Paycheck Protection Program loans in Consumer \\nand Small Business Banking. \\nAnswer: Total deposits decreased due to consumer deposit outflows on consumer spending and customer migration to higher yielding alternatives.\", error=None, perf=Perf(start_time=datetime.datetime(2024, 4, 16, 17, 36, 34, 321194), end_time=datetime.datetime(2024, 4, 16, 17, 36, 44, 415281)), pid=53443, tid=568600)], feedback_and_future_results=[(FeedbackDefinition(relevance,\n",
              "\tselectors={'prompt': Lens().__record__.main_input, 'response': Lens().__record__.main_output},\n",
              "\tif_exists=None\n",
              "), <Future at 0x3d79c5c30 state=running>), (FeedbackDefinition(context_relevance_with_cot_reasons,\n",
              "\tselectors={'question': Lens().__record__.main_input, 'context': Lens().__record__.app.first.steps.context.first.get_relevant_documents.rets},\n",
              "\tif_exists=None\n",
              "), <Future at 0x3d7b5c8e0 state=running>), (FeedbackDefinition(groundedness_measure_with_cot_reasons,\n",
              "\tselectors={'source': Lens().__record__.app.first.steps.context.first.get_relevant_documents.rets.collect(), 'statement': Lens().__record__.main_output},\n",
              "\tif_exists=None\n",
              "), <Future at 0x3d79c7a00 state=finished returned FeedbackResult>)], feedback_results=[<Future at 0x3d79c5c30 state=running>, <Future at 0x3d7b5c8e0 state=running>, <Future at 0x3d79c7a00 state=finished returned FeedbackResult>])"
            ]
          },
          "metadata": {},
          "output_type": "display_data"
        }
      ],
      "source": [
        "# The record of the app invocation can be retrieved from the `recording`:\n",
        "\n",
        "recs = recording.get() # use .get if only one record\n",
        "# recs = recording.records # use .records if multiple\n",
        "display(recs)"
      ]
    },
    {
      "cell_type": "code",
      "execution_count": 73,
      "metadata": {},
      "outputs": [
        {
          "data": {
            "text/plain": [
              "Record(record_id='record_hash_965bd039ece6628fc1de3986b661c747', app_id='TruLens_Testing', cost=Cost(n_requests=0, n_successful_requests=0, n_classes=0, n_tokens=0, n_stream_chunks=0, n_prompt_tokens=0, n_completion_tokens=0, cost=0.0), perf=Perf(start_time=datetime.datetime(2024, 4, 16, 17, 36, 34, 321194), end_time=datetime.datetime(2024, 4, 16, 17, 36, 44, 415281)), ts=datetime.datetime(2024, 4, 16, 17, 36, 44, 415346), tags='-', meta=None, main_input='Why did total deposits decrease?\\n', main_output=\"Human: You are an assistant for question-answering tasks. Use the following pieces of retrieved context to answer the question. If you don't know the answer, just say that you don't know. Use three sentences maximum and keep the answer concise.\\nQuestion: Why did total deposits decrease?\\n \\nContext: origination volumes reflecting credit tightening actions and \\nrising interest rates; and \\n• a decline in Paycheck Protection Program loans in Consumer \\nand Small Business Banking. \\nTotal deposits (average) decreased due to consumer deposit \\noutflows on consumer spending, as well as customer migration \\nto higher yielding alternatives. \\nWells Fargo & Company 3 \\n16\\n\\nTotal assets \\nTotal deposits $ \\nborrowed \\n$ 130,008 \\n59,020 17,804 \\n206,832 \\n559,520 \\n158,770 109,634 \\n42,696 24,540 \\n176,870 \\n567,733 \\n162,439 20,374 16,324 \\n(6,736) \\n29,962 \\n(8,213) (3,669) 19 38 \\n(27) \\n17 \\n(1) (2) $ \\n$ 130,008 \\n59,020 \\n17,804 \\n206,832 \\n559,520 \\n158,770 109,634 \\n42,696 24,540 \\n176,870 \\n567,733 \\n162,439 20,374 16,324 \\n(6,736) \\n29,962 \\n(8,213) (3,669) 19 38 \\n(27) \\n17 \\n(1) (2) \\nSecond quarter 2023 vs. second quarter 2022 \\nTotal assets (average and period-end) decreased reflecting: \\n• lower loan balances driven by lower originations; and \\n• lower trading-related derivative assets due to declines in \\nderivative balances for commodities and equities; \\npartially offset by: \\n• increased volume of reverse repurchase agreements; and • higher trading account securities driven by higher mortgage-\\nbacked securities, equity, and bond trading balances. \\nTotal deposits (average and period-end) decreased due to \\ncustomer migration to higher yielding alternatives, partially \\noffset by additions of deposits from new and existing customers. \\nWells Fargo & Company 20\\n\\ncustomer growth and higher line utilization. \\nTotal deposits (average and period-end) decreased as \\ncustomers continued to reallocate cash into higher yielding \\nalternatives. \\nWells Fargo & Company 16\\n\\nand Small Business Banking. \\nTotal deposits (average and period-end) decreased due to \\nconsumer deposit outflows on consumer spending, as well as \\ncustomer migration to higher yielding alternatives. First half of 2023 vs. first half of 2022 \\nTotal loans (average) increased driven by: \\n• higher point of sale volume and the impact of new product \\nlaunches in our Credit Card business; \\n• higher loan balances in Home Lending; and \\n• higher loan balances in our Personal Lending business due to \\nhigher origination volumes and slower payment rates; \\npartially offset by: \\n• a decline in loan balances in our Auto business due to lower \\norigination volumes reflecting credit tightening actions and \\nrising interest rates; and \\n• a decline in Paycheck Protection Program loans in Consumer \\nand Small Business Banking. \\nAnswer: Total deposits decreased due to consumer deposit outflows on consumer spending and customer migration to higher yielding alternatives.\", main_error=None, calls=[RecordAppCall(stack=[RecordAppCallMethod(path=Lens().app, method=Method(obj=Obj(cls=langchain_core.runnables.base.RunnableSequence, id=6202187776, init_bindings=None), name='invoke')), RecordAppCallMethod(path=Lens().app.first, method=Method(obj=Obj(cls=langchain_core.runnables.base.RunnableParallel, id=6202021440, init_bindings=None), name='invoke')), RecordAppCallMethod(path=Lens().app.first.steps.question, method=Method(obj=Obj(cls=langchain_core.runnables.passthrough.RunnablePassthrough, id=6201906560, init_bindings=None), name='invoke'))], args={'input': 'Why did total deposits decrease?\\n', 'config': {'tags': [], 'metadata': {}, 'callbacks': {'__tru_non_serialized_object': {'cls': {'name': 'CallbackManager', 'module': {'package_name': 'langchain_core.callbacks', 'module_name': 'langchain_core.callbacks.manager'}, 'bases': None}, 'id': 16504361632, 'init_bindings': None}}, 'recursion_limit': 25, 'configurable': {}}}, rets='Why did total deposits decrease?\\n', error=None, perf=Perf(start_time=datetime.datetime(2024, 4, 16, 17, 36, 34, 459233), end_time=datetime.datetime(2024, 4, 16, 17, 36, 34, 468689)), pid=53443, tid=584077), RecordAppCall(stack=[RecordAppCallMethod(path=Lens().app, method=Method(obj=Obj(cls=langchain_core.runnables.base.RunnableSequence, id=6202187776, init_bindings=None), name='invoke')), RecordAppCallMethod(path=Lens().app.first, method=Method(obj=Obj(cls=langchain_core.runnables.base.RunnableParallel, id=6202021440, init_bindings=None), name='invoke')), RecordAppCallMethod(path=Lens().app.first.steps.context, method=Method(obj=Obj(cls=langchain_core.runnables.base.RunnableSequence, id=6202187776, init_bindings=None), name='invoke')), RecordAppCallMethod(path=Lens().app.first.steps.context.first, method=Method(obj=Obj(cls=langchain_core.vectorstores.VectorStoreRetriever, id=13292237440, init_bindings=None), name='invoke')), RecordAppCallMethod(path=Lens().app.first.steps.context.first, method=Method(obj=Obj(cls=langchain_core.vectorstores.VectorStoreRetriever, id=13292237440, init_bindings=None), name='get_relevant_documents')), RecordAppCallMethod(path=Lens().app.first.steps.context.first, method=Method(obj=Obj(cls=langchain_core.vectorstores.VectorStoreRetriever, id=13292237440, init_bindings=None), name='_get_relevant_documents'))], args={'query': 'Why did total deposits decrease?\\n', 'run_manager': {'__tru_non_serialized_object': {'cls': {'name': 'CallbackManagerForRetrieverRun', 'module': {'package_name': 'langchain_core.callbacks', 'module_name': 'langchain_core.callbacks.manager'}, 'bases': None}, 'id': 16504265344, 'init_bindings': None}}}, rets=[{'page_content': 'origination volumes reflecting credit tightening actions and \\nrising interest rates; and \\n• a decline in Paycheck Protection Program loans in Consumer \\nand Small Business Banking. \\nTotal deposits (average) decreased due to consumer deposit \\noutflows on consumer spending, as well as customer migration \\nto higher yielding alternatives. \\nWells Fargo & Company 3 \\n16', 'metadata': {'source': './data/q2_2023.pdf', 'page': 16, 'start_index': 0}, 'type': 'Document'}, {'page_content': 'Total assets \\nTotal deposits $ \\nborrowed \\n$ 130,008 \\n59,020 17,804 \\n206,832 \\n559,520 \\n158,770 109,634 \\n42,696 24,540 \\n176,870 \\n567,733 \\n162,439 20,374 16,324 \\n(6,736) \\n29,962 \\n(8,213) (3,669) 19 38 \\n(27) \\n17 \\n(1) (2) $ \\n$ 130,008 \\n59,020 \\n17,804 \\n206,832 \\n559,520 \\n158,770 109,634 \\n42,696 24,540 \\n176,870 \\n567,733 \\n162,439 20,374 16,324 \\n(6,736) \\n29,962 \\n(8,213) (3,669) 19 38 \\n(27) \\n17 \\n(1) (2) \\nSecond quarter 2023 vs. second quarter 2022 \\nTotal assets (average and period-end) decreased reflecting: \\n• lower loan balances driven by lower originations; and \\n• lower trading-related derivative assets due to declines in \\nderivative balances for commodities and equities; \\npartially offset by: \\n• increased volume of reverse repurchase agreements; and • higher trading account securities driven by higher mortgage-\\nbacked securities, equity, and bond trading balances. \\nTotal deposits (average and period-end) decreased due to \\ncustomer migration to higher yielding alternatives, partially \\noffset by additions of deposits from new and existing customers. \\nWells Fargo & Company 20', 'metadata': {'source': './data/q2_2023.pdf', 'page': 20, 'start_index': 0}, 'type': 'Document'}, {'page_content': 'customer growth and higher line utilization. \\nTotal deposits (average and period-end) decreased as \\ncustomers continued to reallocate cash into higher yielding \\nalternatives. \\nWells Fargo & Company 16', 'metadata': {'source': './data/q1_2023.pdf', 'page': 16, 'start_index': -1}, 'type': 'Document'}, {'page_content': 'and Small Business Banking. \\nTotal deposits (average and period-end) decreased due to \\nconsumer deposit outflows on consumer spending, as well as \\ncustomer migration to higher yielding alternatives. First half of 2023 vs. first half of 2022 \\nTotal loans (average) increased driven by: \\n• higher point of sale volume and the impact of new product \\nlaunches in our Credit Card business; \\n• higher loan balances in Home Lending; and \\n• higher loan balances in our Personal Lending business due to \\nhigher origination volumes and slower payment rates; \\npartially offset by: \\n• a decline in loan balances in our Auto business due to lower \\norigination volumes reflecting credit tightening actions and \\nrising interest rates; and \\n• a decline in Paycheck Protection Program loans in Consumer \\nand Small Business Banking.', 'metadata': {'source': './data/q2_2023.pdf', 'page': 16, 'start_index': 2494}, 'type': 'Document'}], error=None, perf=Perf(start_time=datetime.datetime(2024, 4, 16, 17, 36, 34, 485842), end_time=datetime.datetime(2024, 4, 16, 17, 36, 43, 447012)), pid=53443, tid=584076), RecordAppCall(stack=[RecordAppCallMethod(path=Lens().app, method=Method(obj=Obj(cls=langchain_core.runnables.base.RunnableSequence, id=6202187776, init_bindings=None), name='invoke')), RecordAppCallMethod(path=Lens().app.first, method=Method(obj=Obj(cls=langchain_core.runnables.base.RunnableParallel, id=6202021440, init_bindings=None), name='invoke')), RecordAppCallMethod(path=Lens().app.first.steps.context, method=Method(obj=Obj(cls=langchain_core.runnables.base.RunnableSequence, id=6202187776, init_bindings=None), name='invoke')), RecordAppCallMethod(path=Lens().app.first.steps.context.first, method=Method(obj=Obj(cls=langchain_core.vectorstores.VectorStoreRetriever, id=13292237440, init_bindings=None), name='invoke')), RecordAppCallMethod(path=Lens().app.first.steps.context.first, method=Method(obj=Obj(cls=langchain_core.vectorstores.VectorStoreRetriever, id=13292237440, init_bindings=None), name='get_relevant_documents'))], args={'query': 'Why did total deposits decrease?\\n', 'callbacks': {'__tru_non_serialized_object': {'cls': {'name': 'CallbackManager', 'module': {'package_name': 'langchain_core.callbacks', 'module_name': 'langchain_core.callbacks.manager'}, 'bases': None}, 'id': 16193915536, 'init_bindings': None}}, 'tags': [], 'metadata': {}, 'run_name': None}, rets=[{'page_content': 'origination volumes reflecting credit tightening actions and \\nrising interest rates; and \\n• a decline in Paycheck Protection Program loans in Consumer \\nand Small Business Banking. \\nTotal deposits (average) decreased due to consumer deposit \\noutflows on consumer spending, as well as customer migration \\nto higher yielding alternatives. \\nWells Fargo & Company 3 \\n16', 'metadata': {'source': './data/q2_2023.pdf', 'page': 16, 'start_index': 0}, 'type': 'Document'}, {'page_content': 'Total assets \\nTotal deposits $ \\nborrowed \\n$ 130,008 \\n59,020 17,804 \\n206,832 \\n559,520 \\n158,770 109,634 \\n42,696 24,540 \\n176,870 \\n567,733 \\n162,439 20,374 16,324 \\n(6,736) \\n29,962 \\n(8,213) (3,669) 19 38 \\n(27) \\n17 \\n(1) (2) $ \\n$ 130,008 \\n59,020 \\n17,804 \\n206,832 \\n559,520 \\n158,770 109,634 \\n42,696 24,540 \\n176,870 \\n567,733 \\n162,439 20,374 16,324 \\n(6,736) \\n29,962 \\n(8,213) (3,669) 19 38 \\n(27) \\n17 \\n(1) (2) \\nSecond quarter 2023 vs. second quarter 2022 \\nTotal assets (average and period-end) decreased reflecting: \\n• lower loan balances driven by lower originations; and \\n• lower trading-related derivative assets due to declines in \\nderivative balances for commodities and equities; \\npartially offset by: \\n• increased volume of reverse repurchase agreements; and • higher trading account securities driven by higher mortgage-\\nbacked securities, equity, and bond trading balances. \\nTotal deposits (average and period-end) decreased due to \\ncustomer migration to higher yielding alternatives, partially \\noffset by additions of deposits from new and existing customers. \\nWells Fargo & Company 20', 'metadata': {'source': './data/q2_2023.pdf', 'page': 20, 'start_index': 0}, 'type': 'Document'}, {'page_content': 'customer growth and higher line utilization. \\nTotal deposits (average and period-end) decreased as \\ncustomers continued to reallocate cash into higher yielding \\nalternatives. \\nWells Fargo & Company 16', 'metadata': {'source': './data/q1_2023.pdf', 'page': 16, 'start_index': -1}, 'type': 'Document'}, {'page_content': 'and Small Business Banking. \\nTotal deposits (average and period-end) decreased due to \\nconsumer deposit outflows on consumer spending, as well as \\ncustomer migration to higher yielding alternatives. First half of 2023 vs. first half of 2022 \\nTotal loans (average) increased driven by: \\n• higher point of sale volume and the impact of new product \\nlaunches in our Credit Card business; \\n• higher loan balances in Home Lending; and \\n• higher loan balances in our Personal Lending business due to \\nhigher origination volumes and slower payment rates; \\npartially offset by: \\n• a decline in loan balances in our Auto business due to lower \\norigination volumes reflecting credit tightening actions and \\nrising interest rates; and \\n• a decline in Paycheck Protection Program loans in Consumer \\nand Small Business Banking.', 'metadata': {'source': './data/q2_2023.pdf', 'page': 16, 'start_index': 2494}, 'type': 'Document'}], error=None, perf=Perf(start_time=datetime.datetime(2024, 4, 16, 17, 36, 34, 476216), end_time=datetime.datetime(2024, 4, 16, 17, 36, 43, 447925)), pid=53443, tid=584076), RecordAppCall(stack=[RecordAppCallMethod(path=Lens().app, method=Method(obj=Obj(cls=langchain_core.runnables.base.RunnableSequence, id=6202187776, init_bindings=None), name='invoke')), RecordAppCallMethod(path=Lens().app.first, method=Method(obj=Obj(cls=langchain_core.runnables.base.RunnableParallel, id=6202021440, init_bindings=None), name='invoke')), RecordAppCallMethod(path=Lens().app.first.steps.context, method=Method(obj=Obj(cls=langchain_core.runnables.base.RunnableSequence, id=6202187776, init_bindings=None), name='invoke')), RecordAppCallMethod(path=Lens().app.first.steps.context.first, method=Method(obj=Obj(cls=langchain_core.vectorstores.VectorStoreRetriever, id=13292237440, init_bindings=None), name='invoke'))], args={'input': 'Why did total deposits decrease?\\n', 'config': {'tags': [], 'metadata': {}, 'callbacks': {'__tru_non_serialized_object': {'cls': {'name': 'CallbackManager', 'module': {'package_name': 'langchain_core.callbacks', 'module_name': 'langchain_core.callbacks.manager'}, 'bases': None}, 'id': 16193915536, 'init_bindings': None}}, 'recursion_limit': 25, 'configurable': {}}}, rets=[{'page_content': 'origination volumes reflecting credit tightening actions and \\nrising interest rates; and \\n• a decline in Paycheck Protection Program loans in Consumer \\nand Small Business Banking. \\nTotal deposits (average) decreased due to consumer deposit \\noutflows on consumer spending, as well as customer migration \\nto higher yielding alternatives. \\nWells Fargo & Company 3 \\n16', 'metadata': {'source': './data/q2_2023.pdf', 'page': 16, 'start_index': 0}, 'type': 'Document'}, {'page_content': 'Total assets \\nTotal deposits $ \\nborrowed \\n$ 130,008 \\n59,020 17,804 \\n206,832 \\n559,520 \\n158,770 109,634 \\n42,696 24,540 \\n176,870 \\n567,733 \\n162,439 20,374 16,324 \\n(6,736) \\n29,962 \\n(8,213) (3,669) 19 38 \\n(27) \\n17 \\n(1) (2) $ \\n$ 130,008 \\n59,020 \\n17,804 \\n206,832 \\n559,520 \\n158,770 109,634 \\n42,696 24,540 \\n176,870 \\n567,733 \\n162,439 20,374 16,324 \\n(6,736) \\n29,962 \\n(8,213) (3,669) 19 38 \\n(27) \\n17 \\n(1) (2) \\nSecond quarter 2023 vs. second quarter 2022 \\nTotal assets (average and period-end) decreased reflecting: \\n• lower loan balances driven by lower originations; and \\n• lower trading-related derivative assets due to declines in \\nderivative balances for commodities and equities; \\npartially offset by: \\n• increased volume of reverse repurchase agreements; and • higher trading account securities driven by higher mortgage-\\nbacked securities, equity, and bond trading balances. \\nTotal deposits (average and period-end) decreased due to \\ncustomer migration to higher yielding alternatives, partially \\noffset by additions of deposits from new and existing customers. \\nWells Fargo & Company 20', 'metadata': {'source': './data/q2_2023.pdf', 'page': 20, 'start_index': 0}, 'type': 'Document'}, {'page_content': 'customer growth and higher line utilization. \\nTotal deposits (average and period-end) decreased as \\ncustomers continued to reallocate cash into higher yielding \\nalternatives. \\nWells Fargo & Company 16', 'metadata': {'source': './data/q1_2023.pdf', 'page': 16, 'start_index': -1}, 'type': 'Document'}, {'page_content': 'and Small Business Banking. \\nTotal deposits (average and period-end) decreased due to \\nconsumer deposit outflows on consumer spending, as well as \\ncustomer migration to higher yielding alternatives. First half of 2023 vs. first half of 2022 \\nTotal loans (average) increased driven by: \\n• higher point of sale volume and the impact of new product \\nlaunches in our Credit Card business; \\n• higher loan balances in Home Lending; and \\n• higher loan balances in our Personal Lending business due to \\nhigher origination volumes and slower payment rates; \\npartially offset by: \\n• a decline in loan balances in our Auto business due to lower \\norigination volumes reflecting credit tightening actions and \\nrising interest rates; and \\n• a decline in Paycheck Protection Program loans in Consumer \\nand Small Business Banking.', 'metadata': {'source': './data/q2_2023.pdf', 'page': 16, 'start_index': 2494}, 'type': 'Document'}], error=None, perf=Perf(start_time=datetime.datetime(2024, 4, 16, 17, 36, 34, 469173), end_time=datetime.datetime(2024, 4, 16, 17, 36, 43, 448352)), pid=53443, tid=584076), RecordAppCall(stack=[RecordAppCallMethod(path=Lens().app, method=Method(obj=Obj(cls=langchain_core.runnables.base.RunnableSequence, id=6202187776, init_bindings=None), name='invoke')), RecordAppCallMethod(path=Lens().app.first, method=Method(obj=Obj(cls=langchain_core.runnables.base.RunnableParallel, id=6202021440, init_bindings=None), name='invoke')), RecordAppCallMethod(path=Lens().app.first.steps.context, method=Method(obj=Obj(cls=langchain_core.runnables.base.RunnableSequence, id=6202187776, init_bindings=None), name='invoke'))], args={'input': 'Why did total deposits decrease?\\n', 'config': {'tags': [], 'metadata': {}, 'callbacks': {'__tru_non_serialized_object': {'cls': {'name': 'CallbackManager', 'module': {'package_name': 'langchain_core.callbacks', 'module_name': 'langchain_core.callbacks.manager'}, 'bases': None}, 'id': 16502307040, 'init_bindings': None}}, 'recursion_limit': 25, 'configurable': {}}}, rets='origination volumes reflecting credit tightening actions and \\nrising interest rates; and \\n• a decline in Paycheck Protection Program loans in Consumer \\nand Small Business Banking. \\nTotal deposits (average) decreased due to consumer deposit \\noutflows on consumer spending, as well as customer migration \\nto higher yielding alternatives. \\nWells Fargo & Company 3 \\n16\\n\\nTotal assets \\nTotal deposits $ \\nborrowed \\n$ 130,008 \\n59,020 17,804 \\n206,832 \\n559,520 \\n158,770 109,634 \\n42,696 24,540 \\n176,870 \\n567,733 \\n162,439 20,374 16,324 \\n(6,736) \\n29,962 \\n(8,213) (3,669) 19 38 \\n(27) \\n17 \\n(1) (2) $ \\n$ 130,008 \\n59,020 \\n17,804 \\n206,832 \\n559,520 \\n158,770 109,634 \\n42,696 24,540 \\n176,870 \\n567,733 \\n162,439 20,374 16,324 \\n(6,736) \\n29,962 \\n(8,213) (3,669) 19 38 \\n(27) \\n17 \\n(1) (2) \\nSecond quarter 2023 vs. second quarter 2022 \\nTotal assets (average and period-end) decreased reflecting: \\n• lower loan balances driven by lower originations; and \\n• lower trading-related derivative assets due to declines in \\nderivative balances for commodities and equities; \\npartially offset by: \\n• increased volume of reverse repurchase agreements; and • higher trading account securities driven by higher mortgage-\\nbacked securities, equity, and bond trading balances. \\nTotal deposits (average and period-end) decreased due to \\ncustomer migration to higher yielding alternatives, partially \\noffset by additions of deposits from new and existing customers. \\nWells Fargo & Company 20\\n\\ncustomer growth and higher line utilization. \\nTotal deposits (average and period-end) decreased as \\ncustomers continued to reallocate cash into higher yielding \\nalternatives. \\nWells Fargo & Company 16\\n\\nand Small Business Banking. \\nTotal deposits (average and period-end) decreased due to \\nconsumer deposit outflows on consumer spending, as well as \\ncustomer migration to higher yielding alternatives. First half of 2023 vs. first half of 2022 \\nTotal loans (average) increased driven by: \\n• higher point of sale volume and the impact of new product \\nlaunches in our Credit Card business; \\n• higher loan balances in Home Lending; and \\n• higher loan balances in our Personal Lending business due to \\nhigher origination volumes and slower payment rates; \\npartially offset by: \\n• a decline in loan balances in our Auto business due to lower \\norigination volumes reflecting credit tightening actions and \\nrising interest rates; and \\n• a decline in Paycheck Protection Program loans in Consumer \\nand Small Business Banking.', error=None, perf=Perf(start_time=datetime.datetime(2024, 4, 16, 17, 36, 34, 451685), end_time=datetime.datetime(2024, 4, 16, 17, 36, 43, 449551)), pid=53443, tid=584076), RecordAppCall(stack=[RecordAppCallMethod(path=Lens().app, method=Method(obj=Obj(cls=langchain_core.runnables.base.RunnableSequence, id=6202187776, init_bindings=None), name='invoke')), RecordAppCallMethod(path=Lens().app.first, method=Method(obj=Obj(cls=langchain_core.runnables.base.RunnableParallel, id=6202021440, init_bindings=None), name='invoke'))], args={'input': 'Why did total deposits decrease?\\n', 'config': {'tags': [], 'metadata': {}, 'callbacks': {'__tru_non_serialized_object': {'cls': {'name': 'CallbackManager', 'module': {'package_name': 'langchain_core.callbacks', 'module_name': 'langchain_core.callbacks.manager'}, 'bases': None}, 'id': 16504359856, 'init_bindings': None}}, 'recursion_limit': 25, 'configurable': {}}}, rets={'context': 'origination volumes reflecting credit tightening actions and \\nrising interest rates; and \\n• a decline in Paycheck Protection Program loans in Consumer \\nand Small Business Banking. \\nTotal deposits (average) decreased due to consumer deposit \\noutflows on consumer spending, as well as customer migration \\nto higher yielding alternatives. \\nWells Fargo & Company 3 \\n16\\n\\nTotal assets \\nTotal deposits $ \\nborrowed \\n$ 130,008 \\n59,020 17,804 \\n206,832 \\n559,520 \\n158,770 109,634 \\n42,696 24,540 \\n176,870 \\n567,733 \\n162,439 20,374 16,324 \\n(6,736) \\n29,962 \\n(8,213) (3,669) 19 38 \\n(27) \\n17 \\n(1) (2) $ \\n$ 130,008 \\n59,020 \\n17,804 \\n206,832 \\n559,520 \\n158,770 109,634 \\n42,696 24,540 \\n176,870 \\n567,733 \\n162,439 20,374 16,324 \\n(6,736) \\n29,962 \\n(8,213) (3,669) 19 38 \\n(27) \\n17 \\n(1) (2) \\nSecond quarter 2023 vs. second quarter 2022 \\nTotal assets (average and period-end) decreased reflecting: \\n• lower loan balances driven by lower originations; and \\n• lower trading-related derivative assets due to declines in \\nderivative balances for commodities and equities; \\npartially offset by: \\n• increased volume of reverse repurchase agreements; and • higher trading account securities driven by higher mortgage-\\nbacked securities, equity, and bond trading balances. \\nTotal deposits (average and period-end) decreased due to \\ncustomer migration to higher yielding alternatives, partially \\noffset by additions of deposits from new and existing customers. \\nWells Fargo & Company 20\\n\\ncustomer growth and higher line utilization. \\nTotal deposits (average and period-end) decreased as \\ncustomers continued to reallocate cash into higher yielding \\nalternatives. \\nWells Fargo & Company 16\\n\\nand Small Business Banking. \\nTotal deposits (average and period-end) decreased due to \\nconsumer deposit outflows on consumer spending, as well as \\ncustomer migration to higher yielding alternatives. First half of 2023 vs. first half of 2022 \\nTotal loans (average) increased driven by: \\n• higher point of sale volume and the impact of new product \\nlaunches in our Credit Card business; \\n• higher loan balances in Home Lending; and \\n• higher loan balances in our Personal Lending business due to \\nhigher origination volumes and slower payment rates; \\npartially offset by: \\n• a decline in loan balances in our Auto business due to lower \\norigination volumes reflecting credit tightening actions and \\nrising interest rates; and \\n• a decline in Paycheck Protection Program loans in Consumer \\nand Small Business Banking.', 'question': 'Why did total deposits decrease?\\n'}, error=None, perf=Perf(start_time=datetime.datetime(2024, 4, 16, 17, 36, 34, 390183), end_time=datetime.datetime(2024, 4, 16, 17, 36, 43, 450007)), pid=53443, tid=568600), RecordAppCall(stack=[RecordAppCallMethod(path=Lens().app, method=Method(obj=Obj(cls=langchain_core.runnables.base.RunnableSequence, id=6202187776, init_bindings=None), name='invoke')), RecordAppCallMethod(path=Lens().app.middle[0], method=Method(obj=Obj(cls=langchain_core.prompts.chat.ChatPromptTemplate, id=13317215808, init_bindings=None), name='invoke'))], args={'input': {'context': 'origination volumes reflecting credit tightening actions and \\nrising interest rates; and \\n• a decline in Paycheck Protection Program loans in Consumer \\nand Small Business Banking. \\nTotal deposits (average) decreased due to consumer deposit \\noutflows on consumer spending, as well as customer migration \\nto higher yielding alternatives. \\nWells Fargo & Company 3 \\n16\\n\\nTotal assets \\nTotal deposits $ \\nborrowed \\n$ 130,008 \\n59,020 17,804 \\n206,832 \\n559,520 \\n158,770 109,634 \\n42,696 24,540 \\n176,870 \\n567,733 \\n162,439 20,374 16,324 \\n(6,736) \\n29,962 \\n(8,213) (3,669) 19 38 \\n(27) \\n17 \\n(1) (2) $ \\n$ 130,008 \\n59,020 \\n17,804 \\n206,832 \\n559,520 \\n158,770 109,634 \\n42,696 24,540 \\n176,870 \\n567,733 \\n162,439 20,374 16,324 \\n(6,736) \\n29,962 \\n(8,213) (3,669) 19 38 \\n(27) \\n17 \\n(1) (2) \\nSecond quarter 2023 vs. second quarter 2022 \\nTotal assets (average and period-end) decreased reflecting: \\n• lower loan balances driven by lower originations; and \\n• lower trading-related derivative assets due to declines in \\nderivative balances for commodities and equities; \\npartially offset by: \\n• increased volume of reverse repurchase agreements; and • higher trading account securities driven by higher mortgage-\\nbacked securities, equity, and bond trading balances. \\nTotal deposits (average and period-end) decreased due to \\ncustomer migration to higher yielding alternatives, partially \\noffset by additions of deposits from new and existing customers. \\nWells Fargo & Company 20\\n\\ncustomer growth and higher line utilization. \\nTotal deposits (average and period-end) decreased as \\ncustomers continued to reallocate cash into higher yielding \\nalternatives. \\nWells Fargo & Company 16\\n\\nand Small Business Banking. \\nTotal deposits (average and period-end) decreased due to \\nconsumer deposit outflows on consumer spending, as well as \\ncustomer migration to higher yielding alternatives. First half of 2023 vs. first half of 2022 \\nTotal loans (average) increased driven by: \\n• higher point of sale volume and the impact of new product \\nlaunches in our Credit Card business; \\n• higher loan balances in Home Lending; and \\n• higher loan balances in our Personal Lending business due to \\nhigher origination volumes and slower payment rates; \\npartially offset by: \\n• a decline in loan balances in our Auto business due to lower \\norigination volumes reflecting credit tightening actions and \\nrising interest rates; and \\n• a decline in Paycheck Protection Program loans in Consumer \\nand Small Business Banking.', 'question': 'Why did total deposits decrease?\\n'}, 'config': {'tags': [], 'metadata': {}, 'callbacks': {'__tru_non_serialized_object': {'cls': {'name': 'CallbackManager', 'module': {'package_name': 'langchain_core.callbacks', 'module_name': 'langchain_core.callbacks.manager'}, 'bases': None}, 'id': 16504269856, 'init_bindings': None}}, 'recursion_limit': 25, 'configurable': {}}}, rets={'messages': [{'content': \"You are an assistant for question-answering tasks. Use the following pieces of retrieved context to answer the question. If you don't know the answer, just say that you don't know. Use three sentences maximum and keep the answer concise.\\nQuestion: Why did total deposits decrease?\\n \\nContext: origination volumes reflecting credit tightening actions and \\nrising interest rates; and \\n• a decline in Paycheck Protection Program loans in Consumer \\nand Small Business Banking. \\nTotal deposits (average) decreased due to consumer deposit \\noutflows on consumer spending, as well as customer migration \\nto higher yielding alternatives. \\nWells Fargo & Company 3 \\n16\\n\\nTotal assets \\nTotal deposits $ \\nborrowed \\n$ 130,008 \\n59,020 17,804 \\n206,832 \\n559,520 \\n158,770 109,634 \\n42,696 24,540 \\n176,870 \\n567,733 \\n162,439 20,374 16,324 \\n(6,736) \\n29,962 \\n(8,213) (3,669) 19 38 \\n(27) \\n17 \\n(1) (2) $ \\n$ 130,008 \\n59,020 \\n17,804 \\n206,832 \\n559,520 \\n158,770 109,634 \\n42,696 24,540 \\n176,870 \\n567,733 \\n162,439 20,374 16,324 \\n(6,736) \\n29,962 \\n(8,213) (3,669) 19 38 \\n(27) \\n17 \\n(1) (2) \\nSecond quarter 2023 vs. second quarter 2022 \\nTotal assets (average and period-end) decreased reflecting: \\n• lower loan balances driven by lower originations; and \\n• lower trading-related derivative assets due to declines in \\nderivative balances for commodities and equities; \\npartially offset by: \\n• increased volume of reverse repurchase agreements; and • higher trading account securities driven by higher mortgage-\\nbacked securities, equity, and bond trading balances. \\nTotal deposits (average and period-end) decreased due to \\ncustomer migration to higher yielding alternatives, partially \\noffset by additions of deposits from new and existing customers. \\nWells Fargo & Company 20\\n\\ncustomer growth and higher line utilization. \\nTotal deposits (average and period-end) decreased as \\ncustomers continued to reallocate cash into higher yielding \\nalternatives. \\nWells Fargo & Company 16\\n\\nand Small Business Banking. \\nTotal deposits (average and period-end) decreased due to \\nconsumer deposit outflows on consumer spending, as well as \\ncustomer migration to higher yielding alternatives. First half of 2023 vs. first half of 2022 \\nTotal loans (average) increased driven by: \\n• higher point of sale volume and the impact of new product \\nlaunches in our Credit Card business; \\n• higher loan balances in Home Lending; and \\n• higher loan balances in our Personal Lending business due to \\nhigher origination volumes and slower payment rates; \\npartially offset by: \\n• a decline in loan balances in our Auto business due to lower \\norigination volumes reflecting credit tightening actions and \\nrising interest rates; and \\n• a decline in Paycheck Protection Program loans in Consumer \\nand Small Business Banking. \\nAnswer:\", 'additional_kwargs': {}, 'response_metadata': {}, 'type': 'human', 'name': None, 'id': None, 'example': False}]}, error=None, perf=Perf(start_time=datetime.datetime(2024, 4, 16, 17, 36, 43, 493707), end_time=datetime.datetime(2024, 4, 16, 17, 36, 43, 512415)), pid=53443, tid=568600), RecordAppCall(stack=[RecordAppCallMethod(path=Lens().app, method=Method(obj=Obj(cls=langchain_core.runnables.base.RunnableSequence, id=6202187776, init_bindings=None), name='invoke')), RecordAppCallMethod(path=Lens().app.middle[1], method=Method(obj=Obj(cls=langchain_community.llms.huggingface_hub.HuggingFaceHub, id=13318833664, init_bindings=None), name='invoke'))], args={'input': {'messages': [{'content': \"You are an assistant for question-answering tasks. Use the following pieces of retrieved context to answer the question. If you don't know the answer, just say that you don't know. Use three sentences maximum and keep the answer concise.\\nQuestion: Why did total deposits decrease?\\n \\nContext: origination volumes reflecting credit tightening actions and \\nrising interest rates; and \\n• a decline in Paycheck Protection Program loans in Consumer \\nand Small Business Banking. \\nTotal deposits (average) decreased due to consumer deposit \\noutflows on consumer spending, as well as customer migration \\nto higher yielding alternatives. \\nWells Fargo & Company 3 \\n16\\n\\nTotal assets \\nTotal deposits $ \\nborrowed \\n$ 130,008 \\n59,020 17,804 \\n206,832 \\n559,520 \\n158,770 109,634 \\n42,696 24,540 \\n176,870 \\n567,733 \\n162,439 20,374 16,324 \\n(6,736) \\n29,962 \\n(8,213) (3,669) 19 38 \\n(27) \\n17 \\n(1) (2) $ \\n$ 130,008 \\n59,020 \\n17,804 \\n206,832 \\n559,520 \\n158,770 109,634 \\n42,696 24,540 \\n176,870 \\n567,733 \\n162,439 20,374 16,324 \\n(6,736) \\n29,962 \\n(8,213) (3,669) 19 38 \\n(27) \\n17 \\n(1) (2) \\nSecond quarter 2023 vs. second quarter 2022 \\nTotal assets (average and period-end) decreased reflecting: \\n• lower loan balances driven by lower originations; and \\n• lower trading-related derivative assets due to declines in \\nderivative balances for commodities and equities; \\npartially offset by: \\n• increased volume of reverse repurchase agreements; and • higher trading account securities driven by higher mortgage-\\nbacked securities, equity, and bond trading balances. \\nTotal deposits (average and period-end) decreased due to \\ncustomer migration to higher yielding alternatives, partially \\noffset by additions of deposits from new and existing customers. \\nWells Fargo & Company 20\\n\\ncustomer growth and higher line utilization. \\nTotal deposits (average and period-end) decreased as \\ncustomers continued to reallocate cash into higher yielding \\nalternatives. \\nWells Fargo & Company 16\\n\\nand Small Business Banking. \\nTotal deposits (average and period-end) decreased due to \\nconsumer deposit outflows on consumer spending, as well as \\ncustomer migration to higher yielding alternatives. First half of 2023 vs. first half of 2022 \\nTotal loans (average) increased driven by: \\n• higher point of sale volume and the impact of new product \\nlaunches in our Credit Card business; \\n• higher loan balances in Home Lending; and \\n• higher loan balances in our Personal Lending business due to \\nhigher origination volumes and slower payment rates; \\npartially offset by: \\n• a decline in loan balances in our Auto business due to lower \\norigination volumes reflecting credit tightening actions and \\nrising interest rates; and \\n• a decline in Paycheck Protection Program loans in Consumer \\nand Small Business Banking. \\nAnswer:\", 'additional_kwargs': {}, 'response_metadata': {}, 'type': 'human', 'name': None, 'id': None, 'example': False}]}, 'config': {'tags': [], 'metadata': {}, 'callbacks': {'__tru_non_serialized_object': {'cls': {'name': 'CallbackManager', 'module': {'package_name': 'langchain_core.callbacks', 'module_name': 'langchain_core.callbacks.manager'}, 'bases': None}, 'id': 16503925360, 'init_bindings': None}}, 'recursion_limit': 25, 'configurable': {}}}, rets=\"Human: You are an assistant for question-answering tasks. Use the following pieces of retrieved context to answer the question. If you don't know the answer, just say that you don't know. Use three sentences maximum and keep the answer concise.\\nQuestion: Why did total deposits decrease?\\n \\nContext: origination volumes reflecting credit tightening actions and \\nrising interest rates; and \\n• a decline in Paycheck Protection Program loans in Consumer \\nand Small Business Banking. \\nTotal deposits (average) decreased due to consumer deposit \\noutflows on consumer spending, as well as customer migration \\nto higher yielding alternatives. \\nWells Fargo & Company 3 \\n16\\n\\nTotal assets \\nTotal deposits $ \\nborrowed \\n$ 130,008 \\n59,020 17,804 \\n206,832 \\n559,520 \\n158,770 109,634 \\n42,696 24,540 \\n176,870 \\n567,733 \\n162,439 20,374 16,324 \\n(6,736) \\n29,962 \\n(8,213) (3,669) 19 38 \\n(27) \\n17 \\n(1) (2) $ \\n$ 130,008 \\n59,020 \\n17,804 \\n206,832 \\n559,520 \\n158,770 109,634 \\n42,696 24,540 \\n176,870 \\n567,733 \\n162,439 20,374 16,324 \\n(6,736) \\n29,962 \\n(8,213) (3,669) 19 38 \\n(27) \\n17 \\n(1) (2) \\nSecond quarter 2023 vs. second quarter 2022 \\nTotal assets (average and period-end) decreased reflecting: \\n• lower loan balances driven by lower originations; and \\n• lower trading-related derivative assets due to declines in \\nderivative balances for commodities and equities; \\npartially offset by: \\n• increased volume of reverse repurchase agreements; and • higher trading account securities driven by higher mortgage-\\nbacked securities, equity, and bond trading balances. \\nTotal deposits (average and period-end) decreased due to \\ncustomer migration to higher yielding alternatives, partially \\noffset by additions of deposits from new and existing customers. \\nWells Fargo & Company 20\\n\\ncustomer growth and higher line utilization. \\nTotal deposits (average and period-end) decreased as \\ncustomers continued to reallocate cash into higher yielding \\nalternatives. \\nWells Fargo & Company 16\\n\\nand Small Business Banking. \\nTotal deposits (average and period-end) decreased due to \\nconsumer deposit outflows on consumer spending, as well as \\ncustomer migration to higher yielding alternatives. First half of 2023 vs. first half of 2022 \\nTotal loans (average) increased driven by: \\n• higher point of sale volume and the impact of new product \\nlaunches in our Credit Card business; \\n• higher loan balances in Home Lending; and \\n• higher loan balances in our Personal Lending business due to \\nhigher origination volumes and slower payment rates; \\npartially offset by: \\n• a decline in loan balances in our Auto business due to lower \\norigination volumes reflecting credit tightening actions and \\nrising interest rates; and \\n• a decline in Paycheck Protection Program loans in Consumer \\nand Small Business Banking. \\nAnswer: Total deposits decreased due to consumer deposit outflows on consumer spending and customer migration to higher yielding alternatives.\", error=None, perf=Perf(start_time=datetime.datetime(2024, 4, 16, 17, 36, 43, 550216), end_time=datetime.datetime(2024, 4, 16, 17, 36, 44, 323162)), pid=53443, tid=568600), RecordAppCall(stack=[RecordAppCallMethod(path=Lens().app, method=Method(obj=Obj(cls=langchain_core.runnables.base.RunnableSequence, id=6202187776, init_bindings=None), name='invoke')), RecordAppCallMethod(path=Lens().app.last, method=Method(obj=Obj(cls=langchain_core.output_parsers.string.StrOutputParser, id=6201968448, init_bindings=None), name='invoke'))], args={'input': \"Human: You are an assistant for question-answering tasks. Use the following pieces of retrieved context to answer the question. If you don't know the answer, just say that you don't know. Use three sentences maximum and keep the answer concise.\\nQuestion: Why did total deposits decrease?\\n \\nContext: origination volumes reflecting credit tightening actions and \\nrising interest rates; and \\n• a decline in Paycheck Protection Program loans in Consumer \\nand Small Business Banking. \\nTotal deposits (average) decreased due to consumer deposit \\noutflows on consumer spending, as well as customer migration \\nto higher yielding alternatives. \\nWells Fargo & Company 3 \\n16\\n\\nTotal assets \\nTotal deposits $ \\nborrowed \\n$ 130,008 \\n59,020 17,804 \\n206,832 \\n559,520 \\n158,770 109,634 \\n42,696 24,540 \\n176,870 \\n567,733 \\n162,439 20,374 16,324 \\n(6,736) \\n29,962 \\n(8,213) (3,669) 19 38 \\n(27) \\n17 \\n(1) (2) $ \\n$ 130,008 \\n59,020 \\n17,804 \\n206,832 \\n559,520 \\n158,770 109,634 \\n42,696 24,540 \\n176,870 \\n567,733 \\n162,439 20,374 16,324 \\n(6,736) \\n29,962 \\n(8,213) (3,669) 19 38 \\n(27) \\n17 \\n(1) (2) \\nSecond quarter 2023 vs. second quarter 2022 \\nTotal assets (average and period-end) decreased reflecting: \\n• lower loan balances driven by lower originations; and \\n• lower trading-related derivative assets due to declines in \\nderivative balances for commodities and equities; \\npartially offset by: \\n• increased volume of reverse repurchase agreements; and • higher trading account securities driven by higher mortgage-\\nbacked securities, equity, and bond trading balances. \\nTotal deposits (average and period-end) decreased due to \\ncustomer migration to higher yielding alternatives, partially \\noffset by additions of deposits from new and existing customers. \\nWells Fargo & Company 20\\n\\ncustomer growth and higher line utilization. \\nTotal deposits (average and period-end) decreased as \\ncustomers continued to reallocate cash into higher yielding \\nalternatives. \\nWells Fargo & Company 16\\n\\nand Small Business Banking. \\nTotal deposits (average and period-end) decreased due to \\nconsumer deposit outflows on consumer spending, as well as \\ncustomer migration to higher yielding alternatives. First half of 2023 vs. first half of 2022 \\nTotal loans (average) increased driven by: \\n• higher point of sale volume and the impact of new product \\nlaunches in our Credit Card business; \\n• higher loan balances in Home Lending; and \\n• higher loan balances in our Personal Lending business due to \\nhigher origination volumes and slower payment rates; \\npartially offset by: \\n• a decline in loan balances in our Auto business due to lower \\norigination volumes reflecting credit tightening actions and \\nrising interest rates; and \\n• a decline in Paycheck Protection Program loans in Consumer \\nand Small Business Banking. \\nAnswer: Total deposits decreased due to consumer deposit outflows on consumer spending and customer migration to higher yielding alternatives.\", 'config': {'tags': [], 'metadata': {}, 'callbacks': {'__tru_non_serialized_object': {'cls': {'name': 'CallbackManager', 'module': {'package_name': 'langchain_core.callbacks', 'module_name': 'langchain_core.callbacks.manager'}, 'bases': None}, 'id': 16504269856, 'init_bindings': None}}, 'recursion_limit': 25, 'configurable': {}}}, rets=\"Human: You are an assistant for question-answering tasks. Use the following pieces of retrieved context to answer the question. If you don't know the answer, just say that you don't know. Use three sentences maximum and keep the answer concise.\\nQuestion: Why did total deposits decrease?\\n \\nContext: origination volumes reflecting credit tightening actions and \\nrising interest rates; and \\n• a decline in Paycheck Protection Program loans in Consumer \\nand Small Business Banking. \\nTotal deposits (average) decreased due to consumer deposit \\noutflows on consumer spending, as well as customer migration \\nto higher yielding alternatives. \\nWells Fargo & Company 3 \\n16\\n\\nTotal assets \\nTotal deposits $ \\nborrowed \\n$ 130,008 \\n59,020 17,804 \\n206,832 \\n559,520 \\n158,770 109,634 \\n42,696 24,540 \\n176,870 \\n567,733 \\n162,439 20,374 16,324 \\n(6,736) \\n29,962 \\n(8,213) (3,669) 19 38 \\n(27) \\n17 \\n(1) (2) $ \\n$ 130,008 \\n59,020 \\n17,804 \\n206,832 \\n559,520 \\n158,770 109,634 \\n42,696 24,540 \\n176,870 \\n567,733 \\n162,439 20,374 16,324 \\n(6,736) \\n29,962 \\n(8,213) (3,669) 19 38 \\n(27) \\n17 \\n(1) (2) \\nSecond quarter 2023 vs. second quarter 2022 \\nTotal assets (average and period-end) decreased reflecting: \\n• lower loan balances driven by lower originations; and \\n• lower trading-related derivative assets due to declines in \\nderivative balances for commodities and equities; \\npartially offset by: \\n• increased volume of reverse repurchase agreements; and • higher trading account securities driven by higher mortgage-\\nbacked securities, equity, and bond trading balances. \\nTotal deposits (average and period-end) decreased due to \\ncustomer migration to higher yielding alternatives, partially \\noffset by additions of deposits from new and existing customers. \\nWells Fargo & Company 20\\n\\ncustomer growth and higher line utilization. \\nTotal deposits (average and period-end) decreased as \\ncustomers continued to reallocate cash into higher yielding \\nalternatives. \\nWells Fargo & Company 16\\n\\nand Small Business Banking. \\nTotal deposits (average and period-end) decreased due to \\nconsumer deposit outflows on consumer spending, as well as \\ncustomer migration to higher yielding alternatives. First half of 2023 vs. first half of 2022 \\nTotal loans (average) increased driven by: \\n• higher point of sale volume and the impact of new product \\nlaunches in our Credit Card business; \\n• higher loan balances in Home Lending; and \\n• higher loan balances in our Personal Lending business due to \\nhigher origination volumes and slower payment rates; \\npartially offset by: \\n• a decline in loan balances in our Auto business due to lower \\norigination volumes reflecting credit tightening actions and \\nrising interest rates; and \\n• a decline in Paycheck Protection Program loans in Consumer \\nand Small Business Banking. \\nAnswer: Total deposits decreased due to consumer deposit outflows on consumer spending and customer migration to higher yielding alternatives.\", error=None, perf=Perf(start_time=datetime.datetime(2024, 4, 16, 17, 36, 44, 395171), end_time=datetime.datetime(2024, 4, 16, 17, 36, 44, 414042)), pid=53443, tid=568600), RecordAppCall(stack=[RecordAppCallMethod(path=Lens().app, method=Method(obj=Obj(cls=langchain_core.runnables.base.RunnableSequence, id=6202187776, init_bindings=None), name='invoke'))], args={'input': 'Why did total deposits decrease?\\n'}, rets=\"Human: You are an assistant for question-answering tasks. Use the following pieces of retrieved context to answer the question. If you don't know the answer, just say that you don't know. Use three sentences maximum and keep the answer concise.\\nQuestion: Why did total deposits decrease?\\n \\nContext: origination volumes reflecting credit tightening actions and \\nrising interest rates; and \\n• a decline in Paycheck Protection Program loans in Consumer \\nand Small Business Banking. \\nTotal deposits (average) decreased due to consumer deposit \\noutflows on consumer spending, as well as customer migration \\nto higher yielding alternatives. \\nWells Fargo & Company 3 \\n16\\n\\nTotal assets \\nTotal deposits $ \\nborrowed \\n$ 130,008 \\n59,020 17,804 \\n206,832 \\n559,520 \\n158,770 109,634 \\n42,696 24,540 \\n176,870 \\n567,733 \\n162,439 20,374 16,324 \\n(6,736) \\n29,962 \\n(8,213) (3,669) 19 38 \\n(27) \\n17 \\n(1) (2) $ \\n$ 130,008 \\n59,020 \\n17,804 \\n206,832 \\n559,520 \\n158,770 109,634 \\n42,696 24,540 \\n176,870 \\n567,733 \\n162,439 20,374 16,324 \\n(6,736) \\n29,962 \\n(8,213) (3,669) 19 38 \\n(27) \\n17 \\n(1) (2) \\nSecond quarter 2023 vs. second quarter 2022 \\nTotal assets (average and period-end) decreased reflecting: \\n• lower loan balances driven by lower originations; and \\n• lower trading-related derivative assets due to declines in \\nderivative balances for commodities and equities; \\npartially offset by: \\n• increased volume of reverse repurchase agreements; and • higher trading account securities driven by higher mortgage-\\nbacked securities, equity, and bond trading balances. \\nTotal deposits (average and period-end) decreased due to \\ncustomer migration to higher yielding alternatives, partially \\noffset by additions of deposits from new and existing customers. \\nWells Fargo & Company 20\\n\\ncustomer growth and higher line utilization. \\nTotal deposits (average and period-end) decreased as \\ncustomers continued to reallocate cash into higher yielding \\nalternatives. \\nWells Fargo & Company 16\\n\\nand Small Business Banking. \\nTotal deposits (average and period-end) decreased due to \\nconsumer deposit outflows on consumer spending, as well as \\ncustomer migration to higher yielding alternatives. First half of 2023 vs. first half of 2022 \\nTotal loans (average) increased driven by: \\n• higher point of sale volume and the impact of new product \\nlaunches in our Credit Card business; \\n• higher loan balances in Home Lending; and \\n• higher loan balances in our Personal Lending business due to \\nhigher origination volumes and slower payment rates; \\npartially offset by: \\n• a decline in loan balances in our Auto business due to lower \\norigination volumes reflecting credit tightening actions and \\nrising interest rates; and \\n• a decline in Paycheck Protection Program loans in Consumer \\nand Small Business Banking. \\nAnswer: Total deposits decreased due to consumer deposit outflows on consumer spending and customer migration to higher yielding alternatives.\", error=None, perf=Perf(start_time=datetime.datetime(2024, 4, 16, 17, 36, 34, 321194), end_time=datetime.datetime(2024, 4, 16, 17, 36, 44, 415281)), pid=53443, tid=568600)], feedback_and_future_results=[(FeedbackDefinition(relevance,\n",
              "\tselectors={'prompt': Lens().__record__.main_input, 'response': Lens().__record__.main_output},\n",
              "\tif_exists=None\n",
              "), <Future at 0x3d79c5c30 state=running>), (FeedbackDefinition(context_relevance_with_cot_reasons,\n",
              "\tselectors={'question': Lens().__record__.main_input, 'context': Lens().__record__.app.first.steps.context.first.get_relevant_documents.rets},\n",
              "\tif_exists=None\n",
              "), <Future at 0x3d7b5c8e0 state=running>), (FeedbackDefinition(groundedness_measure_with_cot_reasons,\n",
              "\tselectors={'source': Lens().__record__.app.first.steps.context.first.get_relevant_documents.rets.collect(), 'statement': Lens().__record__.main_output},\n",
              "\tif_exists=None\n",
              "), <Future at 0x3d79c7a00 state=finished returned FeedbackResult>)], feedback_results=[<Future at 0x3d79c5c30 state=running>, <Future at 0x3d7b5c8e0 state=running>, <Future at 0x3d79c7a00 state=finished returned FeedbackResult>])"
            ]
          },
          "execution_count": 73,
          "metadata": {},
          "output_type": "execute_result"
        }
      ],
      "source": [
        "recs"
      ]
    },
    {
      "cell_type": "code",
      "execution_count": 74,
      "metadata": {},
      "outputs": [
        {
          "name": "stdout",
          "output_type": "stream",
          "text": [
            "relevance None\n",
            "context_relevance_with_cot_reasons None\n",
            "groundedness_measure_with_cot_reasons None\n"
          ]
        }
      ],
      "source": [
        "# The results of the feedback functions can be rertireved from\n",
        "# `Record.feedback_results` or using the `wait_for_feedback_result` method. The\n",
        "# results if retrieved directly are `Future` instances (see\n",
        "# `concurrent.futures`). You can use `as_completed` to wait until they have\n",
        "# finished evaluating or use the utility method:\n",
        "# for rec in recs:\n",
        "for feedback, feedback_result in recs.wait_for_feedback_results().items():\n",
        "    print(feedback.name, feedback_result.result)\n",
        "\n",
        "# See more about wait_for_feedback_results:\n",
        "# help(rec.wait_for_feedback_results)"
      ]
    },
    {
      "cell_type": "code",
      "execution_count": 151,
      "metadata": {},
      "outputs": [
        {
          "data": {
            "text/html": [
              "<div>\n",
              "<style scoped>\n",
              "    .dataframe tbody tr th:only-of-type {\n",
              "        vertical-align: middle;\n",
              "    }\n",
              "\n",
              "    .dataframe tbody tr th {\n",
              "        vertical-align: top;\n",
              "    }\n",
              "\n",
              "    .dataframe thead th {\n",
              "        text-align: right;\n",
              "    }\n",
              "</style>\n",
              "<table border=\"1\" class=\"dataframe\">\n",
              "  <thead>\n",
              "    <tr style=\"text-align: right;\">\n",
              "      <th></th>\n",
              "      <th>app_id</th>\n",
              "      <th>app_json</th>\n",
              "      <th>type</th>\n",
              "      <th>record_id</th>\n",
              "      <th>input</th>\n",
              "      <th>output</th>\n",
              "      <th>tags</th>\n",
              "      <th>record_json</th>\n",
              "      <th>cost_json</th>\n",
              "      <th>perf_json</th>\n",
              "      <th>...</th>\n",
              "      <th>relevance</th>\n",
              "      <th>Ground Truth</th>\n",
              "      <th>context_relevance_with_cot_reasons</th>\n",
              "      <th>groundedness_measure_with_cot_reasons_calls</th>\n",
              "      <th>relevance_calls</th>\n",
              "      <th>Ground Truth_calls</th>\n",
              "      <th>context_relevance_with_cot_reasons_calls</th>\n",
              "      <th>latency</th>\n",
              "      <th>total_tokens</th>\n",
              "      <th>total_cost</th>\n",
              "    </tr>\n",
              "  </thead>\n",
              "  <tbody>\n",
              "    <tr>\n",
              "      <th>0</th>\n",
              "      <td>Chain2_ChatApplication</td>\n",
              "      <td>{\"tru_class_info\": {\"name\": \"TruChain\", \"modul...</td>\n",
              "      <td>RunnableSequence(langchain_core.runnables.base)</td>\n",
              "      <td>record_hash_2111616e1b9903034af95f18aeffb2dd</td>\n",
              "      <td>\"Why did total deposits decrease?\\n\"</td>\n",
              "      <td>\"Human: You are an assistant for question-answ...</td>\n",
              "      <td>-</td>\n",
              "      <td>{\"record_id\": \"record_hash_2111616e1b9903034af...</td>\n",
              "      <td>{\"n_requests\": 0, \"n_successful_requests\": 0, ...</td>\n",
              "      <td>{\"start_time\": \"2024-04-16T14:26:01.498515\", \"...</td>\n",
              "      <td>...</td>\n",
              "      <td>0.8</td>\n",
              "      <td>0.9</td>\n",
              "      <td>1.0</td>\n",
              "      <td>[]</td>\n",
              "      <td>[{'args': {'prompt': 'Why did total deposits d...</td>\n",
              "      <td>[{'args': {'prompt': 'Why did total deposits d...</td>\n",
              "      <td>[{'args': {'question': 'Why did total deposits...</td>\n",
              "      <td>13</td>\n",
              "      <td>0</td>\n",
              "      <td>0.0</td>\n",
              "    </tr>\n",
              "    <tr>\n",
              "      <th>1</th>\n",
              "      <td>Chain2_ChatApplication</td>\n",
              "      <td>{\"tru_class_info\": {\"name\": \"TruChain\", \"modul...</td>\n",
              "      <td>RunnableSequence(langchain_core.runnables.base)</td>\n",
              "      <td>record_hash_1a6bd6ef9430d61fd59087862905dcf5</td>\n",
              "      <td>\"What is the net income for the quarter ended ...</td>\n",
              "      <td>\"Human: You are an assistant for question-answ...</td>\n",
              "      <td>-</td>\n",
              "      <td>{\"record_id\": \"record_hash_1a6bd6ef9430d61fd59...</td>\n",
              "      <td>{\"n_requests\": 0, \"n_successful_requests\": 0, ...</td>\n",
              "      <td>{\"start_time\": \"2024-04-16T14:26:14.869361\", \"...</td>\n",
              "      <td>...</td>\n",
              "      <td>0.2</td>\n",
              "      <td>1.0</td>\n",
              "      <td>0.8</td>\n",
              "      <td>[]</td>\n",
              "      <td>[{'args': {'prompt': 'What is the net income f...</td>\n",
              "      <td>[{'args': {'prompt': 'What is the net income f...</td>\n",
              "      <td>[{'args': {'question': 'What is the net income...</td>\n",
              "      <td>13</td>\n",
              "      <td>0</td>\n",
              "      <td>0.0</td>\n",
              "    </tr>\n",
              "    <tr>\n",
              "      <th>2</th>\n",
              "      <td>Chain2_ChatApplication</td>\n",
              "      <td>{\"tru_class_info\": {\"name\": \"TruChain\", \"modul...</td>\n",
              "      <td>RunnableSequence(langchain_core.runnables.base)</td>\n",
              "      <td>record_hash_8078a0cdd7b65a509d2dcb064d6553f8</td>\n",
              "      <td>\"What was the amount of TDRs at December 31, 2...</td>\n",
              "      <td>\"Human: You are an assistant for question-answ...</td>\n",
              "      <td>-</td>\n",
              "      <td>{\"record_id\": \"record_hash_8078a0cdd7b65a509d2...</td>\n",
              "      <td>{\"n_requests\": 0, \"n_successful_requests\": 0, ...</td>\n",
              "      <td>{\"start_time\": \"2024-04-16T14:26:28.599618\", \"...</td>\n",
              "      <td>...</td>\n",
              "      <td>1.0</td>\n",
              "      <td>1.0</td>\n",
              "      <td>1.0</td>\n",
              "      <td>[]</td>\n",
              "      <td>[{'args': {'prompt': 'What was the amount of T...</td>\n",
              "      <td>[{'args': {'prompt': 'What was the amount of T...</td>\n",
              "      <td>[{'args': {'question': 'What was the amount of...</td>\n",
              "      <td>11</td>\n",
              "      <td>0</td>\n",
              "      <td>0.0</td>\n",
              "    </tr>\n",
              "    <tr>\n",
              "      <th>3</th>\n",
              "      <td>Chain2_ChatApplication</td>\n",
              "      <td>{\"tru_class_info\": {\"name\": \"TruChain\", \"modul...</td>\n",
              "      <td>RunnableSequence(langchain_core.runnables.base)</td>\n",
              "      <td>record_hash_32cd84ac65980a60daa8bb0008a5e268</td>\n",
              "      <td>\"What is the location of the Company's consoli...</td>\n",
              "      <td>\"Human: You are an assistant for question-answ...</td>\n",
              "      <td>-</td>\n",
              "      <td>{\"record_id\": \"record_hash_32cd84ac65980a60daa...</td>\n",
              "      <td>{\"n_requests\": 0, \"n_successful_requests\": 0, ...</td>\n",
              "      <td>{\"start_time\": \"2024-04-16T14:26:40.257104\", \"...</td>\n",
              "      <td>...</td>\n",
              "      <td>0.8</td>\n",
              "      <td>1.0</td>\n",
              "      <td>0.9</td>\n",
              "      <td>[]</td>\n",
              "      <td>[{'args': {'prompt': 'What is the location of ...</td>\n",
              "      <td>[{'args': {'prompt': 'What is the location of ...</td>\n",
              "      <td>[{'args': {'question': 'What is the location o...</td>\n",
              "      <td>15</td>\n",
              "      <td>0</td>\n",
              "      <td>0.0</td>\n",
              "    </tr>\n",
              "    <tr>\n",
              "      <th>4</th>\n",
              "      <td>Chain2_ChatApplication</td>\n",
              "      <td>{\"tru_class_info\": {\"name\": \"TruChain\", \"modul...</td>\n",
              "      <td>RunnableSequence(langchain_core.runnables.base)</td>\n",
              "      <td>record_hash_4320153cd69924086336cd3a1265ad73</td>\n",
              "      <td>\"How much did investment banking fees increase...</td>\n",
              "      <td>\"Human: You are an assistant for question-answ...</td>\n",
              "      <td>-</td>\n",
              "      <td>{\"record_id\": \"record_hash_4320153cd6992408633...</td>\n",
              "      <td>{\"n_requests\": 0, \"n_successful_requests\": 0, ...</td>\n",
              "      <td>{\"start_time\": \"2024-04-16T14:26:55.919818\", \"...</td>\n",
              "      <td>...</td>\n",
              "      <td>0.8</td>\n",
              "      <td>0.8</td>\n",
              "      <td>0.8</td>\n",
              "      <td>[]</td>\n",
              "      <td>[{'args': {'prompt': 'How much did investment ...</td>\n",
              "      <td>[{'args': {'prompt': 'How much did investment ...</td>\n",
              "      <td>[{'args': {'question': 'How much did investmen...</td>\n",
              "      <td>9</td>\n",
              "      <td>0</td>\n",
              "      <td>0.0</td>\n",
              "    </tr>\n",
              "  </tbody>\n",
              "</table>\n",
              "<p>5 rows × 21 columns</p>\n",
              "</div>"
            ],
            "text/plain": [
              "                   app_id                                           app_json  \\\n",
              "0  Chain2_ChatApplication  {\"tru_class_info\": {\"name\": \"TruChain\", \"modul...   \n",
              "1  Chain2_ChatApplication  {\"tru_class_info\": {\"name\": \"TruChain\", \"modul...   \n",
              "2  Chain2_ChatApplication  {\"tru_class_info\": {\"name\": \"TruChain\", \"modul...   \n",
              "3  Chain2_ChatApplication  {\"tru_class_info\": {\"name\": \"TruChain\", \"modul...   \n",
              "4  Chain2_ChatApplication  {\"tru_class_info\": {\"name\": \"TruChain\", \"modul...   \n",
              "\n",
              "                                              type  \\\n",
              "0  RunnableSequence(langchain_core.runnables.base)   \n",
              "1  RunnableSequence(langchain_core.runnables.base)   \n",
              "2  RunnableSequence(langchain_core.runnables.base)   \n",
              "3  RunnableSequence(langchain_core.runnables.base)   \n",
              "4  RunnableSequence(langchain_core.runnables.base)   \n",
              "\n",
              "                                      record_id  \\\n",
              "0  record_hash_2111616e1b9903034af95f18aeffb2dd   \n",
              "1  record_hash_1a6bd6ef9430d61fd59087862905dcf5   \n",
              "2  record_hash_8078a0cdd7b65a509d2dcb064d6553f8   \n",
              "3  record_hash_32cd84ac65980a60daa8bb0008a5e268   \n",
              "4  record_hash_4320153cd69924086336cd3a1265ad73   \n",
              "\n",
              "                                               input  \\\n",
              "0               \"Why did total deposits decrease?\\n\"   \n",
              "1  \"What is the net income for the quarter ended ...   \n",
              "2  \"What was the amount of TDRs at December 31, 2...   \n",
              "3  \"What is the location of the Company's consoli...   \n",
              "4  \"How much did investment banking fees increase...   \n",
              "\n",
              "                                              output tags  \\\n",
              "0  \"Human: You are an assistant for question-answ...    -   \n",
              "1  \"Human: You are an assistant for question-answ...    -   \n",
              "2  \"Human: You are an assistant for question-answ...    -   \n",
              "3  \"Human: You are an assistant for question-answ...    -   \n",
              "4  \"Human: You are an assistant for question-answ...    -   \n",
              "\n",
              "                                         record_json  \\\n",
              "0  {\"record_id\": \"record_hash_2111616e1b9903034af...   \n",
              "1  {\"record_id\": \"record_hash_1a6bd6ef9430d61fd59...   \n",
              "2  {\"record_id\": \"record_hash_8078a0cdd7b65a509d2...   \n",
              "3  {\"record_id\": \"record_hash_32cd84ac65980a60daa...   \n",
              "4  {\"record_id\": \"record_hash_4320153cd6992408633...   \n",
              "\n",
              "                                           cost_json  \\\n",
              "0  {\"n_requests\": 0, \"n_successful_requests\": 0, ...   \n",
              "1  {\"n_requests\": 0, \"n_successful_requests\": 0, ...   \n",
              "2  {\"n_requests\": 0, \"n_successful_requests\": 0, ...   \n",
              "3  {\"n_requests\": 0, \"n_successful_requests\": 0, ...   \n",
              "4  {\"n_requests\": 0, \"n_successful_requests\": 0, ...   \n",
              "\n",
              "                                           perf_json  ... relevance  \\\n",
              "0  {\"start_time\": \"2024-04-16T14:26:01.498515\", \"...  ...       0.8   \n",
              "1  {\"start_time\": \"2024-04-16T14:26:14.869361\", \"...  ...       0.2   \n",
              "2  {\"start_time\": \"2024-04-16T14:26:28.599618\", \"...  ...       1.0   \n",
              "3  {\"start_time\": \"2024-04-16T14:26:40.257104\", \"...  ...       0.8   \n",
              "4  {\"start_time\": \"2024-04-16T14:26:55.919818\", \"...  ...       0.8   \n",
              "\n",
              "   Ground Truth  context_relevance_with_cot_reasons  \\\n",
              "0           0.9                                 1.0   \n",
              "1           1.0                                 0.8   \n",
              "2           1.0                                 1.0   \n",
              "3           1.0                                 0.9   \n",
              "4           0.8                                 0.8   \n",
              "\n",
              "   groundedness_measure_with_cot_reasons_calls  \\\n",
              "0                                           []   \n",
              "1                                           []   \n",
              "2                                           []   \n",
              "3                                           []   \n",
              "4                                           []   \n",
              "\n",
              "                                     relevance_calls  \\\n",
              "0  [{'args': {'prompt': 'Why did total deposits d...   \n",
              "1  [{'args': {'prompt': 'What is the net income f...   \n",
              "2  [{'args': {'prompt': 'What was the amount of T...   \n",
              "3  [{'args': {'prompt': 'What is the location of ...   \n",
              "4  [{'args': {'prompt': 'How much did investment ...   \n",
              "\n",
              "                                  Ground Truth_calls  \\\n",
              "0  [{'args': {'prompt': 'Why did total deposits d...   \n",
              "1  [{'args': {'prompt': 'What is the net income f...   \n",
              "2  [{'args': {'prompt': 'What was the amount of T...   \n",
              "3  [{'args': {'prompt': 'What is the location of ...   \n",
              "4  [{'args': {'prompt': 'How much did investment ...   \n",
              "\n",
              "            context_relevance_with_cot_reasons_calls latency  total_tokens  \\\n",
              "0  [{'args': {'question': 'Why did total deposits...      13             0   \n",
              "1  [{'args': {'question': 'What is the net income...      13             0   \n",
              "2  [{'args': {'question': 'What was the amount of...      11             0   \n",
              "3  [{'args': {'question': 'What is the location o...      15             0   \n",
              "4  [{'args': {'question': 'How much did investmen...       9             0   \n",
              "\n",
              "   total_cost  \n",
              "0         0.0  \n",
              "1         0.0  \n",
              "2         0.0  \n",
              "3         0.0  \n",
              "4         0.0  \n",
              "\n",
              "[5 rows x 21 columns]"
            ]
          },
          "execution_count": 151,
          "metadata": {},
          "output_type": "execute_result"
        }
      ],
      "source": [
        "records, feedback = tru.get_records_and_feedback(app_ids=[\"Chain2_ChatApplication\"])\n",
        "\n",
        "records.head()"
      ]
    },
    {
      "cell_type": "code",
      "execution_count": 152,
      "metadata": {},
      "outputs": [],
      "source": [
        "records.to_csv(\"Trulens_eval_synthetic_dataset.csv\", index=False)"
      ]
    },
    {
      "cell_type": "code",
      "execution_count": 154,
      "metadata": {},
      "outputs": [
        {
          "data": {
            "text/html": [
              "<div>\n",
              "<style scoped>\n",
              "    .dataframe tbody tr th:only-of-type {\n",
              "        vertical-align: middle;\n",
              "    }\n",
              "\n",
              "    .dataframe tbody tr th {\n",
              "        vertical-align: top;\n",
              "    }\n",
              "\n",
              "    .dataframe thead th {\n",
              "        text-align: right;\n",
              "    }\n",
              "</style>\n",
              "<table border=\"1\" class=\"dataframe\">\n",
              "  <thead>\n",
              "    <tr style=\"text-align: right;\">\n",
              "      <th></th>\n",
              "      <th>relevance</th>\n",
              "      <th>context_relevance_with_cot_reasons</th>\n",
              "      <th>Ground Truth</th>\n",
              "      <th>groundedness_measure_with_cot_reasons</th>\n",
              "      <th>latency</th>\n",
              "      <th>total_cost</th>\n",
              "    </tr>\n",
              "    <tr>\n",
              "      <th>app_id</th>\n",
              "      <th></th>\n",
              "      <th></th>\n",
              "      <th></th>\n",
              "      <th></th>\n",
              "      <th></th>\n",
              "      <th></th>\n",
              "    </tr>\n",
              "  </thead>\n",
              "  <tbody>\n",
              "    <tr>\n",
              "      <th>Chain1_ChatApplication</th>\n",
              "      <td>0.816304</td>\n",
              "      <td>0.905747</td>\n",
              "      <td>0.898969</td>\n",
              "      <td>0.376306</td>\n",
              "      <td>10.495327</td>\n",
              "      <td>0.0</td>\n",
              "    </tr>\n",
              "  </tbody>\n",
              "</table>\n",
              "</div>"
            ],
            "text/plain": [
              "                        relevance  context_relevance_with_cot_reasons  \\\n",
              "app_id                                                                  \n",
              "Chain1_ChatApplication   0.816304                            0.905747   \n",
              "\n",
              "                        Ground Truth  groundedness_measure_with_cot_reasons  \\\n",
              "app_id                                                                        \n",
              "Chain1_ChatApplication      0.898969                               0.376306   \n",
              "\n",
              "                          latency  total_cost  \n",
              "app_id                                         \n",
              "Chain1_ChatApplication  10.495327         0.0  "
            ]
          },
          "execution_count": 154,
          "metadata": {},
          "output_type": "execute_result"
        }
      ],
      "source": [
        "tru.get_leaderboard(app_ids=[\"Chain1_ChatApplication\"])"
      ]
    },
    {
      "cell_type": "code",
      "execution_count": 1,
      "metadata": {},
      "outputs": [
        {
          "ename": "NameError",
          "evalue": "name 'tru' is not defined",
          "output_type": "error",
          "traceback": [
            "\u001b[0;31m---------------------------------------------------------------------------\u001b[0m",
            "\u001b[0;31mNameError\u001b[0m                                 Traceback (most recent call last)",
            "Cell \u001b[0;32mIn[1], line 1\u001b[0m\n\u001b[0;32m----> 1\u001b[0m \u001b[43mtru\u001b[49m\u001b[38;5;241m.\u001b[39mstop_dashboard() \u001b[38;5;66;03m# stop if needed\u001b[39;00m\n",
            "\u001b[0;31mNameError\u001b[0m: name 'tru' is not defined"
          ]
        }
      ],
      "source": [
        "tru.stop_dashboard() # stop if needed"
      ]
    },
    {
      "cell_type": "code",
      "execution_count": 155,
      "metadata": {},
      "outputs": [
        {
          "name": "stdout",
          "output_type": "stream",
          "text": [
            "Starting dashboard ...\n",
            "Config file already exists. Skipping writing process.\n",
            "Credentials file already exists. Skipping writing process.\n"
          ]
        },
        {
          "data": {
            "application/vnd.jupyter.widget-view+json": {
              "model_id": "e1617d59cf7d47af9922c08a9702d7fc",
              "version_major": 2,
              "version_minor": 0
            },
            "text/plain": [
              "Accordion(children=(VBox(children=(VBox(children=(Label(value='STDOUT'), Output())), VBox(children=(Label(valu…"
            ]
          },
          "metadata": {},
          "output_type": "display_data"
        },
        {
          "name": "stdout",
          "output_type": "stream",
          "text": [
            "Dashboard started at http://192.168.29.83:8501 .\n"
          ]
        },
        {
          "data": {
            "text/plain": [
              "<Popen: returncode: None args: ['streamlit', 'run', '--server.headless=True'...>"
            ]
          },
          "execution_count": 155,
          "metadata": {},
          "output_type": "execute_result"
        }
      ],
      "source": [
        "tru.run_dashboard() # open a local streamlit app to explore\n",
        "\n",
        "# tru.stop_dashboard() # stop if needed"
      ]
    },
    {
      "cell_type": "code",
      "execution_count": 65,
      "metadata": {},
      "outputs": [],
      "source": [
        "from trulens_eval import TruChain, Tru\n",
        "tru = Tru()\n",
        "tru.reset_database()\n",
        "from trulens_eval.feedback.provider import Langchain\n",
        "from trulens_eval import Feedback"
      ]
    },
    {
      "cell_type": "code",
      "execution_count": null,
      "metadata": {},
      "outputs": [],
      "source": []
    }
  ],
  "metadata": {
    "colab": {
      "provenance": []
    },
    "kernelspec": {
      "display_name": "dlai",
      "language": "python",
      "name": "python3"
    },
    "language_info": {
      "codemirror_mode": {
        "name": "ipython",
        "version": 3
      },
      "file_extension": ".py",
      "mimetype": "text/x-python",
      "name": "python",
      "nbconvert_exporter": "python",
      "pygments_lexer": "ipython3",
      "version": "3.10.11"
    },
    "orig_nbformat": 4
  },
  "nbformat": 4,
  "nbformat_minor": 0
}
